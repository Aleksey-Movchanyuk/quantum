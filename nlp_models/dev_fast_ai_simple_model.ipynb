{
 "cells": [
  {
   "cell_type": "code",
   "execution_count": 134,
   "metadata": {
    "collapsed": false
   },
   "outputs": [],
   "source": [
    "import numpy as np\n",
    "import gensim\n",
    "from keras.models import Sequential, Model\n",
    "from keras.layers import Dense, LSTM, Input, Embedding, Flatten, merge\n",
    "from keras.optimizers import Adam\n",
    "from keras.utils import np_utils\n",
    "from IPython.display import SVG\n",
    "from keras.utils.visualize_util import plot\n",
    "from keras.utils.visualize_util import model_to_dot\n",
    "from keras.preprocessing.sequence import pad_sequences\n",
    "from keras.callbacks import ModelCheckpoint\n",
    "import pickle"
   ]
  },
  {
   "cell_type": "code",
   "execution_count": 103,
   "metadata": {
    "collapsed": false
   },
   "outputs": [
    {
     "name": "stdout",
     "output_type": "stream",
     "text": [
      "Number of words in corpora: 25\n"
     ]
    }
   ],
   "source": [
    "corpora = gensim.corpora.Dictionary.load('./data/corpora.dat')\n",
    "vocab_size = len(corpora)\n",
    "print('Number of words in corpora: %d'%(vocab_size))"
   ]
  },
  {
   "cell_type": "code",
   "execution_count": 104,
   "metadata": {
    "collapsed": true
   },
   "outputs": [],
   "source": [
    "tmp = list(corpora.items())"
   ]
  },
  {
   "cell_type": "code",
   "execution_count": 105,
   "metadata": {
    "collapsed": true
   },
   "outputs": [],
   "source": [
    "#the_filename = './data/wonderland.txt.dat'\n",
    "the_filename = './data/test.txt.dat'\n",
    "with open(the_filename, 'rb') as f:\n",
    "    text = pickle.load(f)"
   ]
  },
  {
   "cell_type": "markdown",
   "metadata": {},
   "source": [
    "### Generate words patterns - 2 words model"
   ]
  },
  {
   "cell_type": "code",
   "execution_count": 106,
   "metadata": {
    "collapsed": false
   },
   "outputs": [],
   "source": [
    "cs = 2\n",
    "c1_dat = [text[i] for i in range(0, len(text)-cs, cs)]\n",
    "c2_dat = [text[i+1] for i in range(0, len(text)-cs, cs)]\n",
    "c3_dat = [text[i+2] for i in range(0, len(text)-cs, cs)]"
   ]
  },
  {
   "cell_type": "code",
   "execution_count": 107,
   "metadata": {
    "collapsed": false
   },
   "outputs": [],
   "source": [
    "tmp1 = [corpora.id2token[id] for id in c1_dat]\n",
    "tmp2 = [corpora.id2token[id] for id in c2_dat]\n",
    "tmp3 = [corpora.id2token[id] for id in c3_dat]\n",
    "#tmp1, tmp2, tmp3"
   ]
  },
  {
   "cell_type": "code",
   "execution_count": 108,
   "metadata": {
    "collapsed": false
   },
   "outputs": [],
   "source": [
    "# inputs\n",
    "x1 = np.stack(c1_dat[:])\n",
    "x2 = np.stack(c2_dat[:])\n",
    "# outputs\n",
    "y = np.stack(c3_dat[:])"
   ]
  },
  {
   "cell_type": "code",
   "execution_count": 109,
   "metadata": {
    "collapsed": false
   },
   "outputs": [
    {
     "data": {
      "text/plain": [
       "(array([ 1,  3,  8,  9,  5, 11, 12, 10, 16, 17, 21, 20, 23, 20]),\n",
       " array([ 0,  2,  4,  6,  7, 15, 18, 13, 14,  7, 22, 19, 22, 24]),\n",
       " array([ 3,  8,  9,  5, 11, 12, 10, 16, 17, 21, 20, 23, 20, 19]))"
      ]
     },
     "execution_count": 109,
     "metadata": {},
     "output_type": "execute_result"
    }
   ],
   "source": [
    "x1, x2, y"
   ]
  },
  {
   "cell_type": "code",
   "execution_count": 110,
   "metadata": {
    "collapsed": false
   },
   "outputs": [
    {
     "data": {
      "text/plain": [
       "((14,), (14,), (14,))"
      ]
     },
     "execution_count": 110,
     "metadata": {},
     "output_type": "execute_result"
    }
   ],
   "source": [
    "x1.shape, x2.shape, y.shape"
   ]
  },
  {
   "cell_type": "markdown",
   "metadata": {},
   "source": [
    "#### The number of latent factors to create (i.e. the size of the embedding matrix)"
   ]
  },
  {
   "cell_type": "code",
   "execution_count": 111,
   "metadata": {
    "collapsed": true
   },
   "outputs": [],
   "source": [
    "n_fac = 4"
   ]
  },
  {
   "cell_type": "markdown",
   "metadata": {},
   "source": [
    "#### Create inputs and embedding outputs for each of our 3 character inputs"
   ]
  },
  {
   "cell_type": "code",
   "execution_count": 112,
   "metadata": {
    "collapsed": true
   },
   "outputs": [],
   "source": [
    "def embedding_input(name, n_in, n_out):\n",
    "    inp = Input(shape=(1,), dtype='int64', name=name)\n",
    "    emb = Embedding(n_in, n_out, input_length=1)(inp)\n",
    "    return inp, Flatten()(emb)"
   ]
  },
  {
   "cell_type": "code",
   "execution_count": 113,
   "metadata": {
    "collapsed": false
   },
   "outputs": [],
   "source": [
    "c1_in, c1 = embedding_input('c1', vocab_size, n_fac)\n",
    "c2_in, c2 = embedding_input('c2', vocab_size, n_fac)"
   ]
  },
  {
   "cell_type": "code",
   "execution_count": 114,
   "metadata": {
    "collapsed": true
   },
   "outputs": [],
   "source": [
    "n_hidden = 256"
   ]
  },
  {
   "cell_type": "code",
   "execution_count": 115,
   "metadata": {
    "collapsed": true
   },
   "outputs": [],
   "source": [
    "dense_in = Dense(n_hidden, activation='relu')"
   ]
  },
  {
   "cell_type": "code",
   "execution_count": 116,
   "metadata": {
    "collapsed": true
   },
   "outputs": [],
   "source": [
    "c1_hidden = dense_in(c1)"
   ]
  },
  {
   "cell_type": "code",
   "execution_count": 117,
   "metadata": {
    "collapsed": true
   },
   "outputs": [],
   "source": [
    "dense_hidden = Dense(n_hidden, activation='tanh')"
   ]
  },
  {
   "cell_type": "code",
   "execution_count": 118,
   "metadata": {
    "collapsed": false
   },
   "outputs": [],
   "source": [
    "c2_dense = dense_in(c2)\n",
    "hidden_2 = dense_hidden(c1_hidden)\n",
    "c2_hidden = merge([c2_dense, hidden_2])"
   ]
  },
  {
   "cell_type": "code",
   "execution_count": 119,
   "metadata": {
    "collapsed": true
   },
   "outputs": [],
   "source": [
    "dense_out = Dense(vocab_size, activation='softmax')"
   ]
  },
  {
   "cell_type": "code",
   "execution_count": 120,
   "metadata": {
    "collapsed": false
   },
   "outputs": [],
   "source": [
    "c3_out = dense_out(c2_hidden)"
   ]
  },
  {
   "cell_type": "code",
   "execution_count": 121,
   "metadata": {
    "collapsed": false
   },
   "outputs": [],
   "source": [
    "model = Model([c1_in, c2_in], c3_out)"
   ]
  },
  {
   "cell_type": "code",
   "execution_count": 122,
   "metadata": {
    "collapsed": false
   },
   "outputs": [],
   "source": [
    "model.compile(loss='sparse_categorical_crossentropy', optimizer=Adam())"
   ]
  },
  {
   "cell_type": "code",
   "execution_count": 123,
   "metadata": {
    "collapsed": false
   },
   "outputs": [
    {
     "name": "stdout",
     "output_type": "stream",
     "text": [
      "____________________________________________________________________________________________________\n",
      "Layer (type)                     Output Shape          Param #     Connected to                     \n",
      "====================================================================================================\n",
      "c1 (InputLayer)                  (None, 1)             0                                            \n",
      "____________________________________________________________________________________________________\n",
      "c2 (InputLayer)                  (None, 1)             0                                            \n",
      "____________________________________________________________________________________________________\n",
      "embedding_6 (Embedding)          (None, 1, 4)          100         c1[0][0]                         \n",
      "____________________________________________________________________________________________________\n",
      "embedding_7 (Embedding)          (None, 1, 4)          100         c2[0][0]                         \n",
      "____________________________________________________________________________________________________\n",
      "flatten_5 (Flatten)              (None, 4)             0           embedding_6[0][0]                \n",
      "____________________________________________________________________________________________________\n",
      "dense_5 (Dense)                  (None, 256)           1280        flatten_5[0][0]                  \n",
      "                                                                   flatten_6[0][0]                  \n",
      "____________________________________________________________________________________________________\n",
      "flatten_6 (Flatten)              (None, 4)             0           embedding_7[0][0]                \n",
      "____________________________________________________________________________________________________\n",
      "dense_6 (Dense)                  (None, 256)           65792       dense_5[0][0]                    \n",
      "____________________________________________________________________________________________________\n",
      "merge_3 (Merge)                  (None, 256)           0           dense_5[1][0]                    \n",
      "                                                                   dense_6[0][0]                    \n",
      "____________________________________________________________________________________________________\n",
      "dense_7 (Dense)                  (None, 25)            6425        merge_3[0][0]                    \n",
      "====================================================================================================\n",
      "Total params: 73697\n",
      "____________________________________________________________________________________________________\n"
     ]
    }
   ],
   "source": [
    "model.summary()"
   ]
  },
  {
   "cell_type": "code",
   "execution_count": 124,
   "metadata": {
    "collapsed": false
   },
   "outputs": [
    {
     "data": {
      "image/svg+xml": [
       "<svg height=\"483pt\" viewBox=\"0.00 0.00 360.00 483.00\" width=\"360pt\" xmlns=\"http://www.w3.org/2000/svg\" xmlns:xlink=\"http://www.w3.org/1999/xlink\">\n",
       "<g class=\"graph\" id=\"graph0\" transform=\"scale(1 1) rotate(0) translate(4 479)\">\n",
       "<title>G</title>\n",
       "<polygon fill=\"white\" points=\"-4,4 -4,-479 356,-479 356,4 -4,4\" stroke=\"none\"/>\n",
       "<!-- 140154047585248 -->\n",
       "<g class=\"node\" id=\"node1\"><title>140154047585248</title>\n",
       "<polygon fill=\"none\" points=\"32.5,-438.5 32.5,-474.5 134.5,-474.5 134.5,-438.5 32.5,-438.5\" stroke=\"black\"/>\n",
       "<text font-family=\"Times,serif\" font-size=\"14.00\" text-anchor=\"middle\" x=\"83.5\" y=\"-452.8\">c1 (InputLayer)</text>\n",
       "</g>\n",
       "<!-- 140154047585192 -->\n",
       "<g class=\"node\" id=\"node3\"><title>140154047585192</title>\n",
       "<polygon fill=\"none\" points=\"0,-365.5 0,-401.5 167,-401.5 167,-365.5 0,-365.5\" stroke=\"black\"/>\n",
       "<text font-family=\"Times,serif\" font-size=\"14.00\" text-anchor=\"middle\" x=\"83.5\" y=\"-379.8\">embedding_6 (Embedding)</text>\n",
       "</g>\n",
       "<!-- 140154047585248&#45;&gt;140154047585192 -->\n",
       "<g class=\"edge\" id=\"edge1\"><title>140154047585248-&gt;140154047585192</title>\n",
       "<path d=\"M83.5,-438.313C83.5,-430.289 83.5,-420.547 83.5,-411.569\" fill=\"none\" stroke=\"black\"/>\n",
       "<polygon fill=\"black\" points=\"87.0001,-411.529 83.5,-401.529 80.0001,-411.529 87.0001,-411.529\" stroke=\"black\"/>\n",
       "</g>\n",
       "<!-- 140154047585024 -->\n",
       "<g class=\"node\" id=\"node2\"><title>140154047585024</title>\n",
       "<polygon fill=\"none\" points=\"217.5,-438.5 217.5,-474.5 319.5,-474.5 319.5,-438.5 217.5,-438.5\" stroke=\"black\"/>\n",
       "<text font-family=\"Times,serif\" font-size=\"14.00\" text-anchor=\"middle\" x=\"268.5\" y=\"-452.8\">c2 (InputLayer)</text>\n",
       "</g>\n",
       "<!-- 140154047571392 -->\n",
       "<g class=\"node\" id=\"node4\"><title>140154047571392</title>\n",
       "<polygon fill=\"none\" points=\"185,-365.5 185,-401.5 352,-401.5 352,-365.5 185,-365.5\" stroke=\"black\"/>\n",
       "<text font-family=\"Times,serif\" font-size=\"14.00\" text-anchor=\"middle\" x=\"268.5\" y=\"-379.8\">embedding_7 (Embedding)</text>\n",
       "</g>\n",
       "<!-- 140154047585024&#45;&gt;140154047571392 -->\n",
       "<g class=\"edge\" id=\"edge2\"><title>140154047585024-&gt;140154047571392</title>\n",
       "<path d=\"M268.5,-438.313C268.5,-430.289 268.5,-420.547 268.5,-411.569\" fill=\"none\" stroke=\"black\"/>\n",
       "<polygon fill=\"black\" points=\"272,-411.529 268.5,-401.529 265,-411.529 272,-411.529\" stroke=\"black\"/>\n",
       "</g>\n",
       "<!-- 140154036650504 -->\n",
       "<g class=\"node\" id=\"node5\"><title>140154036650504</title>\n",
       "<polygon fill=\"none\" points=\"52,-292.5 52,-328.5 167,-328.5 167,-292.5 52,-292.5\" stroke=\"black\"/>\n",
       "<text font-family=\"Times,serif\" font-size=\"14.00\" text-anchor=\"middle\" x=\"109.5\" y=\"-306.8\">flatten_5 (Flatten)</text>\n",
       "</g>\n",
       "<!-- 140154047585192&#45;&gt;140154036650504 -->\n",
       "<g class=\"edge\" id=\"edge3\"><title>140154047585192-&gt;140154036650504</title>\n",
       "<path d=\"M89.7939,-365.313C92.7959,-357.115 96.4549,-347.123 99.8014,-337.985\" fill=\"none\" stroke=\"black\"/>\n",
       "<polygon fill=\"black\" points=\"103.112,-339.123 103.264,-328.529 96.5388,-336.715 103.112,-339.123\" stroke=\"black\"/>\n",
       "</g>\n",
       "<!-- 140154036693872 -->\n",
       "<g class=\"node\" id=\"node7\"><title>140154036693872</title>\n",
       "<polygon fill=\"none\" points=\"198,-292.5 198,-328.5 313,-328.5 313,-292.5 198,-292.5\" stroke=\"black\"/>\n",
       "<text font-family=\"Times,serif\" font-size=\"14.00\" text-anchor=\"middle\" x=\"255.5\" y=\"-306.8\">flatten_6 (Flatten)</text>\n",
       "</g>\n",
       "<!-- 140154047571392&#45;&gt;140154036693872 -->\n",
       "<g class=\"edge\" id=\"edge6\"><title>140154047571392-&gt;140154036693872</title>\n",
       "<path d=\"M265.353,-365.313C263.884,-357.289 262.1,-347.547 260.456,-338.569\" fill=\"none\" stroke=\"black\"/>\n",
       "<polygon fill=\"black\" points=\"263.862,-337.735 258.618,-328.529 256.976,-338.996 263.862,-337.735\" stroke=\"black\"/>\n",
       "</g>\n",
       "<!-- 140154047583960 -->\n",
       "<g class=\"node\" id=\"node6\"><title>140154047583960</title>\n",
       "<polygon fill=\"none\" points=\"129,-219.5 129,-255.5 236,-255.5 236,-219.5 129,-219.5\" stroke=\"black\"/>\n",
       "<text font-family=\"Times,serif\" font-size=\"14.00\" text-anchor=\"middle\" x=\"182.5\" y=\"-233.8\">dense_5 (Dense)</text>\n",
       "</g>\n",
       "<!-- 140154036650504&#45;&gt;140154047583960 -->\n",
       "<g class=\"edge\" id=\"edge4\"><title>140154036650504-&gt;140154047583960</title>\n",
       "<path d=\"M127.171,-292.313C136.317,-283.417 147.635,-272.409 157.647,-262.672\" fill=\"none\" stroke=\"black\"/>\n",
       "<polygon fill=\"black\" points=\"160.263,-265.01 164.991,-255.529 155.383,-259.992 160.263,-265.01\" stroke=\"black\"/>\n",
       "</g>\n",
       "<!-- 140154036757000 -->\n",
       "<g class=\"node\" id=\"node8\"><title>140154036757000</title>\n",
       "<polygon fill=\"none\" points=\"88,-146.5 88,-182.5 195,-182.5 195,-146.5 88,-146.5\" stroke=\"black\"/>\n",
       "<text font-family=\"Times,serif\" font-size=\"14.00\" text-anchor=\"middle\" x=\"141.5\" y=\"-160.8\">dense_6 (Dense)</text>\n",
       "</g>\n",
       "<!-- 140154047583960&#45;&gt;140154036757000 -->\n",
       "<g class=\"edge\" id=\"edge7\"><title>140154047583960-&gt;140154036757000</title>\n",
       "<path d=\"M172.575,-219.313C167.74,-210.941 161.825,-200.697 156.458,-191.403\" fill=\"none\" stroke=\"black\"/>\n",
       "<polygon fill=\"black\" points=\"159.365,-189.438 151.334,-182.529 153.303,-192.939 159.365,-189.438\" stroke=\"black\"/>\n",
       "</g>\n",
       "<!-- 140154036759464 -->\n",
       "<g class=\"node\" id=\"node9\"><title>140154036759464</title>\n",
       "<polygon fill=\"none\" points=\"126,-73.5 126,-109.5 239,-109.5 239,-73.5 126,-73.5\" stroke=\"black\"/>\n",
       "<text font-family=\"Times,serif\" font-size=\"14.00\" text-anchor=\"middle\" x=\"182.5\" y=\"-87.8\">merge_3 (Merge)</text>\n",
       "</g>\n",
       "<!-- 140154047583960&#45;&gt;140154036759464 -->\n",
       "<g class=\"edge\" id=\"edge8\"><title>140154047583960-&gt;140154036759464</title>\n",
       "<path d=\"M191.219,-219.162C195.875,-208.924 201.125,-195.549 203.5,-183 206.558,-166.842 206.558,-162.158 203.5,-146 201.793,-136.98 198.601,-127.534 195.211,-119.132\" fill=\"none\" stroke=\"black\"/>\n",
       "<polygon fill=\"black\" points=\"198.382,-117.645 191.219,-109.838 191.95,-120.408 198.382,-117.645\" stroke=\"black\"/>\n",
       "</g>\n",
       "<!-- 140154036693872&#45;&gt;140154047583960 -->\n",
       "<g class=\"edge\" id=\"edge5\"><title>140154036693872-&gt;140154047583960</title>\n",
       "<path d=\"M237.829,-292.313C228.683,-283.417 217.365,-272.409 207.353,-262.672\" fill=\"none\" stroke=\"black\"/>\n",
       "<polygon fill=\"black\" points=\"209.617,-259.992 200.009,-255.529 204.737,-265.01 209.617,-259.992\" stroke=\"black\"/>\n",
       "</g>\n",
       "<!-- 140154036757000&#45;&gt;140154036759464 -->\n",
       "<g class=\"edge\" id=\"edge9\"><title>140154036757000-&gt;140154036759464</title>\n",
       "<path d=\"M151.425,-146.313C156.26,-137.941 162.175,-127.697 167.542,-118.403\" fill=\"none\" stroke=\"black\"/>\n",
       "<polygon fill=\"black\" points=\"170.697,-119.939 172.666,-109.529 164.635,-116.438 170.697,-119.939\" stroke=\"black\"/>\n",
       "</g>\n",
       "<!-- 140154036757056 -->\n",
       "<g class=\"node\" id=\"node10\"><title>140154036757056</title>\n",
       "<polygon fill=\"none\" points=\"129,-0.5 129,-36.5 236,-36.5 236,-0.5 129,-0.5\" stroke=\"black\"/>\n",
       "<text font-family=\"Times,serif\" font-size=\"14.00\" text-anchor=\"middle\" x=\"182.5\" y=\"-14.8\">dense_7 (Dense)</text>\n",
       "</g>\n",
       "<!-- 140154036759464&#45;&gt;140154036757056 -->\n",
       "<g class=\"edge\" id=\"edge10\"><title>140154036759464-&gt;140154036757056</title>\n",
       "<path d=\"M182.5,-73.3129C182.5,-65.2895 182.5,-55.5475 182.5,-46.5691\" fill=\"none\" stroke=\"black\"/>\n",
       "<polygon fill=\"black\" points=\"186,-46.5288 182.5,-36.5288 179,-46.5289 186,-46.5288\" stroke=\"black\"/>\n",
       "</g>\n",
       "</g>\n",
       "</svg>"
      ],
      "text/plain": [
       "<IPython.core.display.SVG object>"
      ]
     },
     "execution_count": 124,
     "metadata": {},
     "output_type": "execute_result"
    }
   ],
   "source": [
    "SVG(model_to_dot(model).create(prog='dot', format='svg'))"
   ]
  },
  {
   "cell_type": "code",
   "execution_count": 125,
   "metadata": {
    "collapsed": false
   },
   "outputs": [
    {
     "name": "stdout",
     "output_type": "stream",
     "text": [
      "Epoch 1/10\n",
      "14/14 [==============================] - 0s - loss: 3.2179\n",
      "Epoch 2/10\n",
      "14/14 [==============================] - 0s - loss: 3.0755\n",
      "Epoch 3/10\n",
      "14/14 [==============================] - 0s - loss: 2.8325\n",
      "Epoch 4/10\n",
      "14/14 [==============================] - 0s - loss: 2.5290\n",
      "Epoch 5/10\n",
      "14/14 [==============================] - 0s - loss: 2.3040\n",
      "Epoch 6/10\n",
      "14/14 [==============================] - 0s - loss: 2.0910\n",
      "Epoch 7/10\n",
      "14/14 [==============================] - 0s - loss: 1.8940\n",
      "Epoch 8/10\n",
      "14/14 [==============================] - 0s - loss: 1.6797\n",
      "Epoch 9/10\n",
      "14/14 [==============================] - 0s - loss: 1.4372\n",
      "Epoch 10/10\n",
      "14/14 [==============================] - 0s - loss: 1.2264\n"
     ]
    },
    {
     "data": {
      "text/plain": [
       "<keras.callbacks.History at 0x7f782738f9e8>"
      ]
     },
     "execution_count": 125,
     "metadata": {},
     "output_type": "execute_result"
    }
   ],
   "source": [
    "model.optimizer.lr=0.01\n",
    "model.fit([x1, x2], y, batch_size=64, nb_epoch=10)"
   ]
  },
  {
   "cell_type": "code",
   "execution_count": 126,
   "metadata": {
    "collapsed": false
   },
   "outputs": [
    {
     "name": "stdout",
     "output_type": "stream",
     "text": [
      "Epoch 1/100\n",
      "14/14 [==============================] - 0s - loss: 3.3016     \n",
      "Epoch 2/100\n",
      "14/14 [==============================] - 0s - loss: 2.2917     \n",
      "Epoch 3/100\n",
      "14/14 [==============================] - 0s - loss: 1.0804     \n",
      "Epoch 4/100\n",
      "14/14 [==============================] - 0s - loss: 0.5592     \n",
      "Epoch 5/100\n",
      "14/14 [==============================] - 0s - loss: 0.3523     \n",
      "Epoch 6/100\n",
      "14/14 [==============================] - 0s - loss: 0.4259     \n",
      "Epoch 7/100\n",
      "14/14 [==============================] - 0s - loss: 0.4620     \n",
      "Epoch 8/100\n",
      "14/14 [==============================] - 0s - loss: 0.4209     \n",
      "Epoch 9/100\n",
      "14/14 [==============================] - 0s - loss: 0.2487     \n",
      "Epoch 10/100\n",
      "14/14 [==============================] - 0s - loss: 0.1134     \n",
      "Epoch 11/100\n",
      "14/14 [==============================] - 0s - loss: 0.0176     \n",
      "Epoch 12/100\n",
      "14/14 [==============================] - 0s - loss: 0.0167     \n",
      "Epoch 13/100\n",
      "14/14 [==============================] - 0s - loss: 0.0097     \n",
      "Epoch 14/100\n",
      "14/14 [==============================] - 0s - loss: 0.0072     \n",
      "Epoch 15/100\n",
      "14/14 [==============================] - 0s - loss: 0.0046     \n",
      "Epoch 16/100\n",
      "14/14 [==============================] - 0s - loss: 0.0038     \n",
      "Epoch 17/100\n",
      "14/14 [==============================] - 0s - loss: 0.0034     \n",
      "Epoch 18/100\n",
      "14/14 [==============================] - 0s - loss: 0.0034     \n",
      "Epoch 19/100\n",
      "14/14 [==============================] - 0s - loss: 0.0027     \n",
      "Epoch 20/100\n",
      "14/14 [==============================] - 0s - loss: 0.0023     \n",
      "Epoch 21/100\n",
      "14/14 [==============================] - 0s - loss: 0.0020     \n",
      "Epoch 22/100\n",
      "14/14 [==============================] - 0s - loss: 0.0019     \n",
      "Epoch 23/100\n",
      "14/14 [==============================] - 0s - loss: 0.0017     \n",
      "Epoch 24/100\n",
      "14/14 [==============================] - 0s - loss: 0.0015     \n",
      "Epoch 25/100\n",
      "14/14 [==============================] - 0s - loss: 0.0013     \n",
      "Epoch 26/100\n",
      "14/14 [==============================] - 0s - loss: 0.0012     \n",
      "Epoch 27/100\n",
      "14/14 [==============================] - 0s - loss: 0.0011     \n",
      "Epoch 28/100\n",
      "14/14 [==============================] - 0s - loss: 0.0010     \n",
      "Epoch 29/100\n",
      "14/14 [==============================] - 0s - loss: 9.4649e-04     \n",
      "Epoch 30/100\n",
      "14/14 [==============================] - 0s - loss: 8.5634e-04     \n",
      "Epoch 31/100\n",
      "14/14 [==============================] - 0s - loss: 8.3027e-04     \n",
      "Epoch 32/100\n",
      "14/14 [==============================] - 0s - loss: 7.7237e-04     \n",
      "Epoch 33/100\n",
      "14/14 [==============================] - 0s - loss: 7.0273e-04     \n",
      "Epoch 34/100\n",
      "14/14 [==============================] - 0s - loss: 6.4102e-04     \n",
      "Epoch 35/100\n",
      "14/14 [==============================] - 0s - loss: 5.9956e-04     \n",
      "Epoch 36/100\n",
      "14/14 [==============================] - 0s - loss: 5.7072e-04     \n",
      "Epoch 37/100\n",
      "14/14 [==============================] - 0s - loss: 5.2482e-04     \n",
      "Epoch 38/100\n",
      "14/14 [==============================] - 0s - loss: 4.9690e-04     \n",
      "Epoch 39/100\n",
      "14/14 [==============================] - 0s - loss: 4.6287e-04     \n",
      "Epoch 40/100\n",
      "14/14 [==============================] - 0s - loss: 4.3561e-04     \n",
      "Epoch 41/100\n",
      "14/14 [==============================] - 0s - loss: 4.1427e-04     \n",
      "Epoch 42/100\n",
      "14/14 [==============================] - 0s - loss: 3.9652e-04     \n",
      "Epoch 43/100\n",
      "14/14 [==============================] - 0s - loss: 3.7387e-04     \n",
      "Epoch 44/100\n",
      "14/14 [==============================] - 0s - loss: 3.5269e-04     \n",
      "Epoch 45/100\n",
      "14/14 [==============================] - 0s - loss: 3.3827e-04     \n",
      "Epoch 46/100\n",
      "14/14 [==============================] - 0s - loss: 3.2077e-04     \n",
      "Epoch 47/100\n",
      "14/14 [==============================] - 0s - loss: 3.0511e-04     \n",
      "Epoch 48/100\n",
      "14/14 [==============================] - 0s - loss: 2.9060e-04     \n",
      "Epoch 49/100\n",
      "14/14 [==============================] - 0s - loss: 2.7764e-04     \n",
      "Epoch 50/100\n",
      "14/14 [==============================] - 0s - loss: 2.7609e-04     \n",
      "Epoch 51/100\n",
      "14/14 [==============================] - 0s - loss: 2.5425e-04     \n",
      "Epoch 52/100\n",
      "14/14 [==============================] - 0s - loss: 2.5031e-04     \n",
      "Epoch 53/100\n",
      "14/14 [==============================] - 0s - loss: 2.3282e-04     \n",
      "Epoch 54/100\n",
      "14/14 [==============================] - 0s - loss: 2.2479e-04     \n",
      "Epoch 55/100\n",
      "14/14 [==============================] - 0s - loss: 2.1781e-04     \n",
      "Epoch 56/100\n",
      "14/14 [==============================] - 0s - loss: 2.0708e-04     \n",
      "Epoch 57/100\n",
      "14/14 [==============================] - 0s - loss: 2.0306e-04     \n",
      "Epoch 58/100\n",
      "14/14 [==============================] - 0s - loss: 1.9205e-04     \n",
      "Epoch 59/100\n",
      "14/14 [==============================] - 0s - loss: 1.8596e-04     \n",
      "Epoch 60/100\n",
      "14/14 [==============================] - 0s - loss: 1.7983e-04     \n",
      "Epoch 61/100\n",
      "14/14 [==============================] - 0s - loss: 1.7735e-04     \n",
      "Epoch 62/100\n",
      "14/14 [==============================] - 0s - loss: 1.6873e-04     \n",
      "Epoch 63/100\n",
      "14/14 [==============================] - 0s - loss: 1.6449e-04     \n",
      "Epoch 64/100\n",
      "14/14 [==============================] - 0s - loss: 1.5769e-04     \n",
      "Epoch 65/100\n",
      "14/14 [==============================] - 0s - loss: 1.5340e-04     \n",
      "Epoch 66/100\n",
      "14/14 [==============================] - 0s - loss: 1.4686e-04     \n",
      "Epoch 67/100\n",
      "14/14 [==============================] - 0s - loss: 1.4093e-04     \n",
      "Epoch 68/100\n",
      "14/14 [==============================] - 0s - loss: 1.3704e-04     \n",
      "Epoch 69/100\n",
      "14/14 [==============================] - 0s - loss: 1.3176e-04     \n",
      "Epoch 70/100\n",
      "14/14 [==============================] - 0s - loss: 1.2728e-04     \n",
      "Epoch 71/100\n",
      "14/14 [==============================] - 0s - loss: 1.2472e-04     \n",
      "Epoch 72/100\n",
      "14/14 [==============================] - 0s - loss: 1.2020e-04     \n",
      "Epoch 73/100\n",
      "14/14 [==============================] - 0s - loss: 1.1740e-04     \n",
      "Epoch 74/100\n",
      "14/14 [==============================] - 0s - loss: 1.1238e-04     \n",
      "Epoch 75/100\n",
      "14/14 [==============================] - 0s - loss: 1.1043e-04     \n",
      "Epoch 76/100\n",
      "14/14 [==============================] - 0s - loss: 1.0536e-04     \n",
      "Epoch 77/100\n",
      "14/14 [==============================] - 0s - loss: 1.0359e-04     \n",
      "Epoch 78/100\n",
      "14/14 [==============================] - 0s - loss: 9.9693e-05     \n",
      "Epoch 79/100\n",
      "14/14 [==============================] - 0s - loss: 9.8624e-05     \n",
      "Epoch 80/100\n",
      "14/14 [==============================] - 0s - loss: 9.6282e-05     \n",
      "Epoch 81/100\n",
      "14/14 [==============================] - 0s - loss: 9.3254e-05     \n",
      "Epoch 82/100\n",
      "14/14 [==============================] - 0s - loss: 8.9659e-05     \n",
      "Epoch 83/100\n",
      "14/14 [==============================] - 0s - loss: 8.7675e-05     \n",
      "Epoch 84/100\n",
      "14/14 [==============================] - 0s - loss: 8.5290e-05     \n",
      "Epoch 85/100\n",
      "14/14 [==============================] - 0s - loss: 8.2939e-05     \n",
      "Epoch 86/100\n",
      "14/14 [==============================] - 0s - loss: 8.0882e-05     \n",
      "Epoch 87/100\n",
      "14/14 [==============================] - 0s - loss: 7.8412e-05     \n",
      "Epoch 88/100\n",
      "14/14 [==============================] - 0s - loss: 7.6257e-05     \n",
      "Epoch 89/100\n",
      "14/14 [==============================] - 0s - loss: 7.4162e-05     \n",
      "Epoch 90/100\n",
      "14/14 [==============================] - 0s - loss: 7.3216e-05     \n",
      "Epoch 91/100\n",
      "14/14 [==============================] - 0s - loss: 7.1483e-05     \n",
      "Epoch 92/100\n",
      "14/14 [==============================] - 0s - loss: 6.9520e-05     \n",
      "Epoch 93/100\n",
      "14/14 [==============================] - 0s - loss: 6.7519e-05     \n",
      "Epoch 94/100\n",
      "14/14 [==============================] - 0s - loss: 6.5453e-05     \n",
      "Epoch 95/100\n",
      "14/14 [==============================] - 0s - loss: 6.4623e-05     \n",
      "Epoch 96/100\n",
      "14/14 [==============================] - 0s - loss: 6.2873e-05     \n",
      "Epoch 97/100\n",
      "14/14 [==============================] - 0s - loss: 6.2426e-05     \n",
      "Epoch 98/100\n",
      "14/14 [==============================] - 0s - loss: 5.9777e-05     \n",
      "Epoch 99/100\n",
      "14/14 [==============================] - 0s - loss: 5.8457e-05     \n",
      "Epoch 100/100\n",
      "14/14 [==============================] - 0s - loss: 5.7460e-05     \n"
     ]
    },
    {
     "data": {
      "text/plain": [
       "<keras.callbacks.History at 0x7f782738ffd0>"
      ]
     },
     "execution_count": 126,
     "metadata": {},
     "output_type": "execute_result"
    }
   ],
   "source": [
    "model.optimizer.lr = 0.000001\n",
    "model.fit([x1, x2], y, batch_size=1, nb_epoch=100)"
   ]
  },
  {
   "cell_type": "markdown",
   "metadata": {},
   "source": [
    "## Test model"
   ]
  },
  {
   "cell_type": "code",
   "execution_count": 157,
   "metadata": {
    "collapsed": false
   },
   "outputs": [],
   "source": [
    "def get_next(inp):\n",
    "    idxs = [corpora.token2id[c] for c in inp]\n",
    "    print(idxs)\n",
    "    arrs = [np.array(i)[np.newaxis] for i in idxs]\n",
    "    print(arrs)\n",
    "    \n",
    "    p = model.predict(arrs)\n",
    "    print(p.shape)\n",
    "    i_max1 = np.argmax(p)\n",
    "    p[0,i_max1] = 0\n",
    "    i_max2 = np.argmax(p)\n",
    "    p[0,i_max2] = 0\n",
    "    i_max3 = np.argmax(p)\n",
    "\n",
    "    \n",
    "    return corpora.id2token[i_max1], corpora.id2token[i_max2], corpora.id2token[i_max3]"
   ]
  },
  {
   "cell_type": "code",
   "execution_count": 158,
   "metadata": {
    "collapsed": false
   },
   "outputs": [
    {
     "name": "stdout",
     "output_type": "stream",
     "text": [
      "[1, 0]\n",
      "[array([1]), array([0])]\n",
      "(1, 25)\n"
     ]
    },
    {
     "data": {
      "text/plain": [
       "('three', 'The', 'seven')"
      ]
     },
     "execution_count": 158,
     "metadata": {},
     "output_type": "execute_result"
    }
   ],
   "source": [
    "get_next(['One', 'two'])"
   ]
  },
  {
   "cell_type": "code",
   "execution_count": null,
   "metadata": {
    "collapsed": true
   },
   "outputs": [],
   "source": []
  }
 ],
 "metadata": {
  "kernelspec": {
   "display_name": "Python 3",
   "language": "python",
   "name": "python3"
  },
  "language_info": {
   "codemirror_mode": {
    "name": "ipython",
    "version": 3
   },
   "file_extension": ".py",
   "mimetype": "text/x-python",
   "name": "python",
   "nbconvert_exporter": "python",
   "pygments_lexer": "ipython3",
   "version": "3.5.2"
  }
 },
 "nbformat": 4,
 "nbformat_minor": 1
}
