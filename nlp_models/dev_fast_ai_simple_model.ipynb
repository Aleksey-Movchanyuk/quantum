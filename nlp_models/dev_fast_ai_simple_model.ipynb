{
 "cells": [
  {
   "cell_type": "code",
   "execution_count": 107,
   "metadata": {
    "collapsed": false
   },
   "outputs": [],
   "source": [
    "import numpy as np\n",
    "import gensim\n",
    "from keras.models import Sequential, Model\n",
    "from keras.layers import Dense, LSTM, Input, Embedding, Flatten, merge\n",
    "from keras.optimizers import Adam\n",
    "from keras.utils import np_utils\n",
    "from IPython.display import SVG\n",
    "from keras.utils.visualize_util import plot\n",
    "from keras.utils.visualize_util import model_to_dot\n",
    "from keras.preprocessing.sequence import pad_sequences\n",
    "from keras.callbacks import ModelCheckpoint\n",
    "import pickle"
   ]
  },
  {
   "cell_type": "code",
   "execution_count": 108,
   "metadata": {
    "collapsed": false
   },
   "outputs": [
    {
     "name": "stdout",
     "output_type": "stream",
     "text": [
      "Number of words in corpora: 26\n"
     ]
    }
   ],
   "source": [
    "corpora = gensim.corpora.Dictionary.load('./data/corpora.dat')\n",
    "vocab_size = len(corpora)\n",
    "print('Number of words in corpora: %d'%(vocab_size))"
   ]
  },
  {
   "cell_type": "code",
   "execution_count": 109,
   "metadata": {
    "collapsed": true
   },
   "outputs": [],
   "source": [
    "tmp = list(corpora.items())"
   ]
  },
  {
   "cell_type": "code",
   "execution_count": 110,
   "metadata": {
    "collapsed": true
   },
   "outputs": [],
   "source": [
    "#the_filename = './data/wonderland.txt.dat'\n",
    "the_filename = './data/test.txt.dat'\n",
    "with open(the_filename, 'rb') as f:\n",
    "    text = pickle.load(f)"
   ]
  },
  {
   "cell_type": "markdown",
   "metadata": {},
   "source": [
    "### Generate words patterns - 2 words model"
   ]
  },
  {
   "cell_type": "code",
   "execution_count": 111,
   "metadata": {
    "collapsed": false
   },
   "outputs": [],
   "source": [
    "cs = 2\n",
    "c1_dat = [text[i] for i in range(0, len(text)-cs, cs)]\n",
    "c2_dat = [text[i+1] for i in range(0, len(text)-cs, cs)]\n",
    "c3_dat = [text[i+2] for i in range(0, len(text)-cs, cs)]"
   ]
  },
  {
   "cell_type": "code",
   "execution_count": 112,
   "metadata": {
    "collapsed": false
   },
   "outputs": [],
   "source": [
    "tmp1 = [corpora.id2token[id] for id in c1_dat]\n",
    "tmp2 = [corpora.id2token[id] for id in c2_dat]\n",
    "tmp3 = [corpora.id2token[id] for id in c3_dat]\n",
    "#tmp1, tmp2, tmp3"
   ]
  },
  {
   "cell_type": "code",
   "execution_count": 113,
   "metadata": {
    "collapsed": false
   },
   "outputs": [],
   "source": [
    "# inputs\n",
    "x1 = np.stack(c1_dat[:])\n",
    "x2 = np.stack(c2_dat[:])\n",
    "# outputs\n",
    "y = np.stack(c3_dat[:])"
   ]
  },
  {
   "cell_type": "code",
   "execution_count": 114,
   "metadata": {
    "collapsed": false
   },
   "outputs": [
    {
     "data": {
      "text/plain": [
       "(array([ 2,  4,  3,  5,  7, 10, 13, 15, 16, 18, 10, 21, 20, 21]),\n",
       " array([ 0,  8,  6,  9,  1, 12, 11, 17, 19, 14, 22, 23, 25, 23]),\n",
       " array([ 4,  3,  5,  7, 10, 13, 15, 16, 18, 10, 21, 20, 21, 24]))"
      ]
     },
     "execution_count": 114,
     "metadata": {},
     "output_type": "execute_result"
    }
   ],
   "source": [
    "x1, x2, y"
   ]
  },
  {
   "cell_type": "code",
   "execution_count": 115,
   "metadata": {
    "collapsed": false
   },
   "outputs": [
    {
     "data": {
      "text/plain": [
       "((14,), (14,), (14,))"
      ]
     },
     "execution_count": 115,
     "metadata": {},
     "output_type": "execute_result"
    }
   ],
   "source": [
    "x1.shape, x2.shape, y.shape"
   ]
  },
  {
   "cell_type": "markdown",
   "metadata": {},
   "source": [
    "#### The number of latent factors to create (i.e. the size of the embedding matrix)"
   ]
  },
  {
   "cell_type": "code",
   "execution_count": 116,
   "metadata": {
    "collapsed": true
   },
   "outputs": [],
   "source": [
    "n_fac = 4"
   ]
  },
  {
   "cell_type": "markdown",
   "metadata": {},
   "source": [
    "#### Create inputs and embedding outputs for each of our 3 character inputs"
   ]
  },
  {
   "cell_type": "code",
   "execution_count": 117,
   "metadata": {
    "collapsed": true
   },
   "outputs": [],
   "source": [
    "def embedding_input(name, n_in, n_out):\n",
    "    inp = Input(shape=(1,), dtype='int64', name=name)\n",
    "    emb = Embedding(n_in, n_out, input_length=1)(inp)\n",
    "    return inp, Flatten()(emb)"
   ]
  },
  {
   "cell_type": "code",
   "execution_count": 118,
   "metadata": {
    "collapsed": false
   },
   "outputs": [],
   "source": [
    "c1_in, c1 = embedding_input('c1', vocab_size, n_fac)\n",
    "c2_in, c2 = embedding_input('c2', vocab_size, n_fac)"
   ]
  },
  {
   "cell_type": "code",
   "execution_count": 119,
   "metadata": {
    "collapsed": true
   },
   "outputs": [],
   "source": [
    "n_hidden = 256"
   ]
  },
  {
   "cell_type": "code",
   "execution_count": 120,
   "metadata": {
    "collapsed": true
   },
   "outputs": [],
   "source": [
    "dense_in = Dense(n_hidden, activation='relu')"
   ]
  },
  {
   "cell_type": "code",
   "execution_count": 121,
   "metadata": {
    "collapsed": true
   },
   "outputs": [],
   "source": [
    "c1_hidden = dense_in(c1)"
   ]
  },
  {
   "cell_type": "code",
   "execution_count": 122,
   "metadata": {
    "collapsed": true
   },
   "outputs": [],
   "source": [
    "dense_hidden = Dense(n_hidden, activation='tanh')"
   ]
  },
  {
   "cell_type": "code",
   "execution_count": 123,
   "metadata": {
    "collapsed": false
   },
   "outputs": [],
   "source": [
    "c2_dense = dense_in(c2)\n",
    "hidden_2 = dense_hidden(c1_hidden)\n",
    "c2_hidden = merge([c2_dense, hidden_2])"
   ]
  },
  {
   "cell_type": "code",
   "execution_count": 124,
   "metadata": {
    "collapsed": true
   },
   "outputs": [],
   "source": [
    "dense_out = Dense(vocab_size, activation='softmax')"
   ]
  },
  {
   "cell_type": "code",
   "execution_count": 125,
   "metadata": {
    "collapsed": false
   },
   "outputs": [],
   "source": [
    "c3_out = dense_out(c2_hidden)"
   ]
  },
  {
   "cell_type": "code",
   "execution_count": 126,
   "metadata": {
    "collapsed": false
   },
   "outputs": [],
   "source": [
    "model = Model([c1_in, c2_in], c3_out)"
   ]
  },
  {
   "cell_type": "code",
   "execution_count": 127,
   "metadata": {
    "collapsed": false
   },
   "outputs": [],
   "source": [
    "model.compile(loss='sparse_categorical_crossentropy', optimizer=Adam())"
   ]
  },
  {
   "cell_type": "code",
   "execution_count": 128,
   "metadata": {
    "collapsed": false
   },
   "outputs": [
    {
     "name": "stdout",
     "output_type": "stream",
     "text": [
      "____________________________________________________________________________________________________\n",
      "Layer (type)                     Output Shape          Param #     Connected to                     \n",
      "====================================================================================================\n",
      "c1 (InputLayer)                  (None, 1)             0                                            \n",
      "____________________________________________________________________________________________________\n",
      "c2 (InputLayer)                  (None, 1)             0                                            \n",
      "____________________________________________________________________________________________________\n",
      "embedding_9 (Embedding)          (None, 1, 4)          104         c1[0][0]                         \n",
      "____________________________________________________________________________________________________\n",
      "embedding_10 (Embedding)         (None, 1, 4)          104         c2[0][0]                         \n",
      "____________________________________________________________________________________________________\n",
      "flatten_9 (Flatten)              (None, 4)             0           embedding_9[0][0]                \n",
      "____________________________________________________________________________________________________\n",
      "dense_13 (Dense)                 (None, 256)           1280        flatten_9[0][0]                  \n",
      "                                                                   flatten_10[0][0]                 \n",
      "____________________________________________________________________________________________________\n",
      "flatten_10 (Flatten)             (None, 4)             0           embedding_10[0][0]               \n",
      "____________________________________________________________________________________________________\n",
      "dense_14 (Dense)                 (None, 256)           65792       dense_13[0][0]                   \n",
      "____________________________________________________________________________________________________\n",
      "merge_5 (Merge)                  (None, 256)           0           dense_13[1][0]                   \n",
      "                                                                   dense_14[0][0]                   \n",
      "____________________________________________________________________________________________________\n",
      "dense_15 (Dense)                 (None, 26)            6682        merge_5[0][0]                    \n",
      "====================================================================================================\n",
      "Total params: 73962\n",
      "____________________________________________________________________________________________________\n"
     ]
    }
   ],
   "source": [
    "model.summary()"
   ]
  },
  {
   "cell_type": "code",
   "execution_count": 129,
   "metadata": {
    "collapsed": false
   },
   "outputs": [
    {
     "data": {
      "image/svg+xml": [
       "<svg height=\"483pt\" viewBox=\"0.00 0.00 366.00 483.00\" width=\"366pt\" xmlns=\"http://www.w3.org/2000/svg\" xmlns:xlink=\"http://www.w3.org/1999/xlink\">\n",
       "<g class=\"graph\" id=\"graph0\" transform=\"scale(1 1) rotate(0) translate(4 479)\">\n",
       "<title>G</title>\n",
       "<polygon fill=\"white\" points=\"-4,4 -4,-479 362,-479 362,4 -4,4\" stroke=\"none\"/>\n",
       "<!-- 139933714590128 -->\n",
       "<g class=\"node\" id=\"node1\"><title>139933714590128</title>\n",
       "<polygon fill=\"none\" points=\"32.5,-438.5 32.5,-474.5 134.5,-474.5 134.5,-438.5 32.5,-438.5\" stroke=\"black\"/>\n",
       "<text font-family=\"Times,serif\" font-size=\"14.00\" text-anchor=\"middle\" x=\"83.5\" y=\"-452.8\">c1 (InputLayer)</text>\n",
       "</g>\n",
       "<!-- 139933714589176 -->\n",
       "<g class=\"node\" id=\"node3\"><title>139933714589176</title>\n",
       "<polygon fill=\"none\" points=\"0,-365.5 0,-401.5 167,-401.5 167,-365.5 0,-365.5\" stroke=\"black\"/>\n",
       "<text font-family=\"Times,serif\" font-size=\"14.00\" text-anchor=\"middle\" x=\"83.5\" y=\"-379.8\">embedding_9 (Embedding)</text>\n",
       "</g>\n",
       "<!-- 139933714590128&#45;&gt;139933714589176 -->\n",
       "<g class=\"edge\" id=\"edge1\"><title>139933714590128-&gt;139933714589176</title>\n",
       "<path d=\"M83.5,-438.313C83.5,-430.289 83.5,-420.547 83.5,-411.569\" fill=\"none\" stroke=\"black\"/>\n",
       "<polygon fill=\"black\" points=\"87.0001,-411.529 83.5,-401.529 80.0001,-411.529 87.0001,-411.529\" stroke=\"black\"/>\n",
       "</g>\n",
       "<!-- 139933714591136 -->\n",
       "<g class=\"node\" id=\"node2\"><title>139933714591136</title>\n",
       "<polygon fill=\"none\" points=\"220.5,-438.5 220.5,-474.5 322.5,-474.5 322.5,-438.5 220.5,-438.5\" stroke=\"black\"/>\n",
       "<text font-family=\"Times,serif\" font-size=\"14.00\" text-anchor=\"middle\" x=\"271.5\" y=\"-452.8\">c2 (InputLayer)</text>\n",
       "</g>\n",
       "<!-- 139933720484608 -->\n",
       "<g class=\"node\" id=\"node4\"><title>139933720484608</title>\n",
       "<polygon fill=\"none\" points=\"185,-365.5 185,-401.5 358,-401.5 358,-365.5 185,-365.5\" stroke=\"black\"/>\n",
       "<text font-family=\"Times,serif\" font-size=\"14.00\" text-anchor=\"middle\" x=\"271.5\" y=\"-379.8\">embedding_10 (Embedding)</text>\n",
       "</g>\n",
       "<!-- 139933714591136&#45;&gt;139933720484608 -->\n",
       "<g class=\"edge\" id=\"edge2\"><title>139933714591136-&gt;139933720484608</title>\n",
       "<path d=\"M271.5,-438.313C271.5,-430.289 271.5,-420.547 271.5,-411.569\" fill=\"none\" stroke=\"black\"/>\n",
       "<polygon fill=\"black\" points=\"275,-411.529 271.5,-401.529 268,-411.529 275,-411.529\" stroke=\"black\"/>\n",
       "</g>\n",
       "<!-- 139933714556128 -->\n",
       "<g class=\"node\" id=\"node5\"><title>139933714556128</title>\n",
       "<polygon fill=\"none\" points=\"51,-292.5 51,-328.5 166,-328.5 166,-292.5 51,-292.5\" stroke=\"black\"/>\n",
       "<text font-family=\"Times,serif\" font-size=\"14.00\" text-anchor=\"middle\" x=\"108.5\" y=\"-306.8\">flatten_9 (Flatten)</text>\n",
       "</g>\n",
       "<!-- 139933714589176&#45;&gt;139933714556128 -->\n",
       "<g class=\"edge\" id=\"edge3\"><title>139933714589176-&gt;139933714556128</title>\n",
       "<path d=\"M89.5518,-365.313C92.4384,-357.115 95.9566,-347.123 99.1744,-337.985\" fill=\"none\" stroke=\"black\"/>\n",
       "<polygon fill=\"black\" points=\"102.484,-339.124 102.504,-328.529 95.8813,-336.799 102.484,-339.124\" stroke=\"black\"/>\n",
       "</g>\n",
       "<!-- 139933709277280 -->\n",
       "<g class=\"node\" id=\"node7\"><title>139933709277280</title>\n",
       "<polygon fill=\"none\" points=\"197.5,-292.5 197.5,-328.5 319.5,-328.5 319.5,-292.5 197.5,-292.5\" stroke=\"black\"/>\n",
       "<text font-family=\"Times,serif\" font-size=\"14.00\" text-anchor=\"middle\" x=\"258.5\" y=\"-306.8\">flatten_10 (Flatten)</text>\n",
       "</g>\n",
       "<!-- 139933720484608&#45;&gt;139933709277280 -->\n",
       "<g class=\"edge\" id=\"edge6\"><title>139933720484608-&gt;139933709277280</title>\n",
       "<path d=\"M268.353,-365.313C266.884,-357.289 265.1,-347.547 263.456,-338.569\" fill=\"none\" stroke=\"black\"/>\n",
       "<polygon fill=\"black\" points=\"266.862,-337.735 261.618,-328.529 259.976,-338.996 266.862,-337.735\" stroke=\"black\"/>\n",
       "</g>\n",
       "<!-- 139933714591640 -->\n",
       "<g class=\"node\" id=\"node6\"><title>139933714591640</title>\n",
       "<polygon fill=\"none\" points=\"126.5,-219.5 126.5,-255.5 240.5,-255.5 240.5,-219.5 126.5,-219.5\" stroke=\"black\"/>\n",
       "<text font-family=\"Times,serif\" font-size=\"14.00\" text-anchor=\"middle\" x=\"183.5\" y=\"-233.8\">dense_13 (Dense)</text>\n",
       "</g>\n",
       "<!-- 139933714556128&#45;&gt;139933714591640 -->\n",
       "<g class=\"edge\" id=\"edge4\"><title>139933714556128-&gt;139933714591640</title>\n",
       "<path d=\"M126.655,-292.313C136.052,-283.417 147.68,-272.409 157.967,-262.672\" fill=\"none\" stroke=\"black\"/>\n",
       "<polygon fill=\"black\" points=\"160.656,-264.945 165.512,-255.529 155.844,-259.862 160.656,-264.945\" stroke=\"black\"/>\n",
       "</g>\n",
       "<!-- 139933711901528 -->\n",
       "<g class=\"node\" id=\"node8\"><title>139933711901528</title>\n",
       "<polygon fill=\"none\" points=\"84.5,-146.5 84.5,-182.5 198.5,-182.5 198.5,-146.5 84.5,-146.5\" stroke=\"black\"/>\n",
       "<text font-family=\"Times,serif\" font-size=\"14.00\" text-anchor=\"middle\" x=\"141.5\" y=\"-160.8\">dense_14 (Dense)</text>\n",
       "</g>\n",
       "<!-- 139933714591640&#45;&gt;139933711901528 -->\n",
       "<g class=\"edge\" id=\"edge7\"><title>139933714591640-&gt;139933711901528</title>\n",
       "<path d=\"M173.333,-219.313C168.38,-210.941 162.321,-200.697 156.823,-191.403\" fill=\"none\" stroke=\"black\"/>\n",
       "<polygon fill=\"black\" points=\"159.677,-189.354 151.573,-182.529 153.652,-192.918 159.677,-189.354\" stroke=\"black\"/>\n",
       "</g>\n",
       "<!-- 139933711654864 -->\n",
       "<g class=\"node\" id=\"node9\"><title>139933711654864</title>\n",
       "<polygon fill=\"none\" points=\"127,-73.5 127,-109.5 240,-109.5 240,-73.5 127,-73.5\" stroke=\"black\"/>\n",
       "<text font-family=\"Times,serif\" font-size=\"14.00\" text-anchor=\"middle\" x=\"183.5\" y=\"-87.8\">merge_5 (Merge)</text>\n",
       "</g>\n",
       "<!-- 139933714591640&#45;&gt;139933711654864 -->\n",
       "<g class=\"edge\" id=\"edge8\"><title>139933714591640-&gt;139933711654864</title>\n",
       "<path d=\"M193.455,-219.306C198.773,-209.117 204.773,-195.742 207.5,-183 210.942,-166.92 210.942,-162.08 207.5,-146 205.519,-136.742 201.809,-127.15 197.889,-118.689\" fill=\"none\" stroke=\"black\"/>\n",
       "<polygon fill=\"black\" points=\"201.016,-117.115 193.455,-109.694 194.737,-120.211 201.016,-117.115\" stroke=\"black\"/>\n",
       "</g>\n",
       "<!-- 139933709277280&#45;&gt;139933714591640 -->\n",
       "<g class=\"edge\" id=\"edge5\"><title>139933709277280-&gt;139933714591640</title>\n",
       "<path d=\"M240.345,-292.313C230.948,-283.417 219.32,-272.409 209.033,-262.672\" fill=\"none\" stroke=\"black\"/>\n",
       "<polygon fill=\"black\" points=\"211.156,-259.862 201.488,-255.529 206.344,-264.945 211.156,-259.862\" stroke=\"black\"/>\n",
       "</g>\n",
       "<!-- 139933711901528&#45;&gt;139933711654864 -->\n",
       "<g class=\"edge\" id=\"edge9\"><title>139933711901528-&gt;139933711654864</title>\n",
       "<path d=\"M151.667,-146.313C156.62,-137.941 162.679,-127.697 168.177,-118.403\" fill=\"none\" stroke=\"black\"/>\n",
       "<polygon fill=\"black\" points=\"171.348,-119.918 173.427,-109.529 165.323,-116.354 171.348,-119.918\" stroke=\"black\"/>\n",
       "</g>\n",
       "<!-- 139933711935304 -->\n",
       "<g class=\"node\" id=\"node10\"><title>139933711935304</title>\n",
       "<polygon fill=\"none\" points=\"126.5,-0.5 126.5,-36.5 240.5,-36.5 240.5,-0.5 126.5,-0.5\" stroke=\"black\"/>\n",
       "<text font-family=\"Times,serif\" font-size=\"14.00\" text-anchor=\"middle\" x=\"183.5\" y=\"-14.8\">dense_15 (Dense)</text>\n",
       "</g>\n",
       "<!-- 139933711654864&#45;&gt;139933711935304 -->\n",
       "<g class=\"edge\" id=\"edge10\"><title>139933711654864-&gt;139933711935304</title>\n",
       "<path d=\"M183.5,-73.3129C183.5,-65.2895 183.5,-55.5475 183.5,-46.5691\" fill=\"none\" stroke=\"black\"/>\n",
       "<polygon fill=\"black\" points=\"187,-46.5288 183.5,-36.5288 180,-46.5289 187,-46.5288\" stroke=\"black\"/>\n",
       "</g>\n",
       "</g>\n",
       "</svg>"
      ],
      "text/plain": [
       "<IPython.core.display.SVG object>"
      ]
     },
     "execution_count": 129,
     "metadata": {},
     "output_type": "execute_result"
    }
   ],
   "source": [
    "SVG(model_to_dot(model).create(prog='dot', format='svg'))"
   ]
  },
  {
   "cell_type": "code",
   "execution_count": 130,
   "metadata": {
    "collapsed": false
   },
   "outputs": [
    {
     "name": "stdout",
     "output_type": "stream",
     "text": [
      "Epoch 1/100\n",
      "14/14 [==============================] - 0s - loss: 3.2674     \n",
      "Epoch 2/100\n",
      "14/14 [==============================] - 0s - loss: 3.1875     \n",
      "Epoch 3/100\n",
      "14/14 [==============================] - 0s - loss: 3.0789     \n",
      "Epoch 4/100\n",
      "14/14 [==============================] - 0s - loss: 2.8682     \n",
      "Epoch 5/100\n",
      "14/14 [==============================] - 0s - loss: 2.5759     \n",
      "Epoch 6/100\n",
      "14/14 [==============================] - 0s - loss: 2.3593     \n",
      "Epoch 7/100\n",
      "14/14 [==============================] - 0s - loss: 2.1974     \n",
      "Epoch 8/100\n",
      "14/14 [==============================] - 0s - loss: 2.0458     \n",
      "Epoch 9/100\n",
      "14/14 [==============================] - 0s - loss: 1.8309     \n",
      "Epoch 10/100\n",
      "14/14 [==============================] - 0s - loss: 1.6449     \n",
      "Epoch 11/100\n",
      "14/14 [==============================] - 0s - loss: 1.4641     \n",
      "Epoch 12/100\n",
      "14/14 [==============================] - 0s - loss: 1.2930     \n",
      "Epoch 13/100\n",
      "14/14 [==============================] - 0s - loss: 1.1779     \n",
      "Epoch 14/100\n",
      "14/14 [==============================] - 0s - loss: 1.0273     \n",
      "Epoch 15/100\n",
      "14/14 [==============================] - 0s - loss: 0.8763     \n",
      "Epoch 16/100\n",
      "14/14 [==============================] - 0s - loss: 0.7654     \n",
      "Epoch 17/100\n",
      "14/14 [==============================] - 0s - loss: 0.7101     \n",
      "Epoch 18/100\n",
      "14/14 [==============================] - 0s - loss: 0.6741     \n",
      "Epoch 19/100\n",
      "14/14 [==============================] - 0s - loss: 0.5407     \n",
      "Epoch 20/100\n",
      "14/14 [==============================] - 0s - loss: 0.4618     \n",
      "Epoch 21/100\n",
      "14/14 [==============================] - 0s - loss: 0.4122     \n",
      "Epoch 22/100\n",
      "14/14 [==============================] - 0s - loss: 0.4076     \n",
      "Epoch 23/100\n",
      "14/14 [==============================] - 0s - loss: 0.3707     \n",
      "Epoch 24/100\n",
      "14/14 [==============================] - 0s - loss: 0.3144     \n",
      "Epoch 25/100\n",
      "14/14 [==============================] - 0s - loss: 0.3334     \n",
      "Epoch 26/100\n",
      "14/14 [==============================] - 0s - loss: 0.3265     \n",
      "Epoch 27/100\n",
      "14/14 [==============================] - 0s - loss: 0.2550     \n",
      "Epoch 28/100\n",
      "14/14 [==============================] - 0s - loss: 0.2422     \n",
      "Epoch 29/100\n",
      "14/14 [==============================] - 0s - loss: 0.2189     \n",
      "Epoch 30/100\n",
      "14/14 [==============================] - 0s - loss: 0.2120     \n",
      "Epoch 31/100\n",
      "14/14 [==============================] - 0s - loss: 0.2137     \n",
      "Epoch 32/100\n",
      "14/14 [==============================] - 0s - loss: 0.1979     \n",
      "Epoch 33/100\n",
      "14/14 [==============================] - 0s - loss: 0.1931     \n",
      "Epoch 34/100\n",
      "14/14 [==============================] - 0s - loss: 0.1822     \n",
      "Epoch 35/100\n",
      "14/14 [==============================] - 0s - loss: 0.1861     \n",
      "Epoch 36/100\n",
      "14/14 [==============================] - 0s - loss: 0.1864     \n",
      "Epoch 37/100\n",
      "14/14 [==============================] - 0s - loss: 0.1850     \n",
      "Epoch 38/100\n",
      "14/14 [==============================] - 0s - loss: 0.1610     \n",
      "Epoch 39/100\n",
      "14/14 [==============================] - 0s - loss: 0.2011     \n",
      "Epoch 40/100\n",
      "14/14 [==============================] - 0s - loss: 0.1512     \n",
      "Epoch 41/100\n",
      "14/14 [==============================] - 0s - loss: 0.1576     \n",
      "Epoch 42/100\n",
      "14/14 [==============================] - 0s - loss: 0.1793     \n",
      "Epoch 43/100\n",
      "14/14 [==============================] - 0s - loss: 0.1410     \n",
      "Epoch 44/100\n",
      "14/14 [==============================] - 0s - loss: 0.1421     \n",
      "Epoch 45/100\n",
      "14/14 [==============================] - 0s - loss: 0.1435     \n",
      "Epoch 46/100\n",
      "14/14 [==============================] - 0s - loss: 0.1578     \n",
      "Epoch 47/100\n",
      "14/14 [==============================] - 0s - loss: 0.1711     \n",
      "Epoch 48/100\n",
      "14/14 [==============================] - 0s - loss: 0.1569     \n",
      "Epoch 49/100\n",
      "14/14 [==============================] - 0s - loss: 0.1391     \n",
      "Epoch 50/100\n",
      "14/14 [==============================] - 0s - loss: 0.1452     \n",
      "Epoch 51/100\n",
      "14/14 [==============================] - 0s - loss: 0.1285     \n",
      "Epoch 52/100\n",
      "14/14 [==============================] - 0s - loss: 0.1278     \n",
      "Epoch 53/100\n",
      "14/14 [==============================] - 0s - loss: 0.1314     \n",
      "Epoch 54/100\n",
      "14/14 [==============================] - 0s - loss: 0.1236     \n",
      "Epoch 55/100\n",
      "14/14 [==============================] - 0s - loss: 0.1217     \n",
      "Epoch 56/100\n",
      "14/14 [==============================] - 0s - loss: 0.1358     \n",
      "Epoch 57/100\n",
      "14/14 [==============================] - 0s - loss: 0.1395     \n",
      "Epoch 58/100\n",
      "14/14 [==============================] - 0s - loss: 0.1427     \n",
      "Epoch 59/100\n",
      "14/14 [==============================] - 0s - loss: 0.1505     \n",
      "Epoch 60/100\n",
      "14/14 [==============================] - 0s - loss: 0.1332     \n",
      "Epoch 61/100\n",
      "14/14 [==============================] - 0s - loss: 0.1286     \n",
      "Epoch 62/100\n",
      "14/14 [==============================] - 0s - loss: 0.1184     \n",
      "Epoch 63/100\n",
      "14/14 [==============================] - 0s - loss: 0.1153     \n",
      "Epoch 64/100\n",
      "14/14 [==============================] - 0s - loss: 0.1380     \n",
      "Epoch 65/100\n",
      "14/14 [==============================] - 0s - loss: 0.1231     \n",
      "Epoch 66/100\n",
      "14/14 [==============================] - 0s - loss: 0.1197     \n",
      "Epoch 67/100\n",
      "14/14 [==============================] - 0s - loss: 0.1220     \n",
      "Epoch 68/100\n",
      "14/14 [==============================] - 0s - loss: 0.1149     \n",
      "Epoch 69/100\n",
      "14/14 [==============================] - 0s - loss: 0.1152     \n",
      "Epoch 70/100\n",
      "14/14 [==============================] - 0s - loss: 0.1240     \n",
      "Epoch 71/100\n",
      "14/14 [==============================] - 0s - loss: 0.1362     \n",
      "Epoch 72/100\n",
      "14/14 [==============================] - 0s - loss: 0.1196     \n",
      "Epoch 73/100\n",
      "14/14 [==============================] - 0s - loss: 0.1188     \n",
      "Epoch 74/100\n",
      "14/14 [==============================] - 0s - loss: 0.1302     \n",
      "Epoch 75/100\n",
      "14/14 [==============================] - 0s - loss: 0.1480     \n",
      "Epoch 76/100\n",
      "14/14 [==============================] - 0s - loss: 0.1112     \n",
      "Epoch 77/100\n",
      "14/14 [==============================] - 0s - loss: 0.1106     \n",
      "Epoch 78/100\n",
      "14/14 [==============================] - 0s - loss: 0.1168     \n",
      "Epoch 79/100\n",
      "14/14 [==============================] - 0s - loss: 0.1168     \n",
      "Epoch 80/100\n",
      "14/14 [==============================] - 0s - loss: 0.1297     \n",
      "Epoch 81/100\n",
      "14/14 [==============================] - 0s - loss: 0.1161     \n",
      "Epoch 82/100\n",
      "14/14 [==============================] - 0s - loss: 0.1123     \n",
      "Epoch 83/100\n",
      "14/14 [==============================] - 0s - loss: 0.1209     \n",
      "Epoch 84/100\n",
      "14/14 [==============================] - 0s - loss: 0.1131     \n",
      "Epoch 85/100\n",
      "14/14 [==============================] - 0s - loss: 0.1222     \n",
      "Epoch 86/100\n",
      "14/14 [==============================] - 0s - loss: 0.1078     \n",
      "Epoch 87/100\n",
      "14/14 [==============================] - 0s - loss: 0.1143     \n",
      "Epoch 88/100\n",
      "14/14 [==============================] - 0s - loss: 0.1143     \n",
      "Epoch 89/100\n",
      "14/14 [==============================] - 0s - loss: 0.1280     \n",
      "Epoch 90/100\n",
      "14/14 [==============================] - 0s - loss: 0.1309     \n",
      "Epoch 91/100\n",
      "14/14 [==============================] - 0s - loss: 0.1164     \n",
      "Epoch 92/100\n",
      "14/14 [==============================] - 0s - loss: 0.1160     \n",
      "Epoch 93/100\n",
      "14/14 [==============================] - 0s - loss: 0.1179     \n",
      "Epoch 94/100\n",
      "14/14 [==============================] - 0s - loss: 0.1262     \n",
      "Epoch 95/100\n",
      "14/14 [==============================] - 0s - loss: 0.1175     \n",
      "Epoch 96/100\n",
      "14/14 [==============================] - 0s - loss: 0.1141     \n",
      "Epoch 97/100\n",
      "14/14 [==============================] - 0s - loss: 0.1147     \n",
      "Epoch 98/100\n",
      "14/14 [==============================] - 0s - loss: 0.1070     \n",
      "Epoch 99/100\n",
      "14/14 [==============================] - 0s - loss: 0.1153     \n",
      "Epoch 100/100\n",
      "14/14 [==============================] - 0s - loss: 0.1137     \n"
     ]
    },
    {
     "data": {
      "text/plain": [
       "<keras.callbacks.History at 0x7f44dab71eb8>"
      ]
     },
     "execution_count": 130,
     "metadata": {},
     "output_type": "execute_result"
    }
   ],
   "source": [
    "#model.optimizer.lr = 0.000001\n",
    "model.fit([x1, x2], y, batch_size=1, nb_epoch=100)"
   ]
  },
  {
   "cell_type": "code",
   "execution_count": 131,
   "metadata": {
    "collapsed": false
   },
   "outputs": [],
   "source": [
    "model.save('./models/dev_fast_ai_simple_model.h5')"
   ]
  },
  {
   "cell_type": "markdown",
   "metadata": {},
   "source": [
    "## Test model"
   ]
  },
  {
   "cell_type": "code",
   "execution_count": 132,
   "metadata": {
    "collapsed": false
   },
   "outputs": [],
   "source": [
    "def get_next(inp):\n",
    "    idxs = [corpora.token2id[c] for c in inp]\n",
    "    print(idxs)\n",
    "    arrs = [np.array(i)[np.newaxis] for i in idxs]\n",
    "    print(arrs)\n",
    "    \n",
    "    p = model.predict(arrs)\n",
    "    print(p.shape)\n",
    "    i_max1 = np.argmax(p)\n",
    "    p[0,i_max1] = 0\n",
    "    i_max2 = np.argmax(p)\n",
    "    p[0,i_max2] = 0\n",
    "    i_max3 = np.argmax(p)\n",
    "\n",
    "    \n",
    "    return corpora.id2token[i_max1], corpora.id2token[i_max2], corpora.id2token[i_max3]"
   ]
  },
  {
   "cell_type": "code",
   "execution_count": 133,
   "metadata": {
    "collapsed": false
   },
   "outputs": [
    {
     "name": "stdout",
     "output_type": "stream",
     "text": [
      "[2, 0]\n",
      "[array([2]), array([0])]\n",
      "(1, 26)\n"
     ]
    },
    {
     "data": {
      "text/plain": [
       "('three', 'quick', '?')"
      ]
     },
     "execution_count": 133,
     "metadata": {},
     "output_type": "execute_result"
    }
   ],
   "source": [
    "get_next(['One', 'two'])"
   ]
  },
  {
   "cell_type": "code",
   "execution_count": null,
   "metadata": {
    "collapsed": true
   },
   "outputs": [],
   "source": []
  }
 ],
 "metadata": {
  "kernelspec": {
   "display_name": "Python 3",
   "language": "python",
   "name": "python3"
  },
  "language_info": {
   "codemirror_mode": {
    "name": "ipython",
    "version": 3
   },
   "file_extension": ".py",
   "mimetype": "text/x-python",
   "name": "python",
   "nbconvert_exporter": "python",
   "pygments_lexer": "ipython3",
   "version": "3.5.2"
  }
 },
 "nbformat": 4,
 "nbformat_minor": 1
}
