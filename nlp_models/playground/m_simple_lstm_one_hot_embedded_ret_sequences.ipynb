{
 "cells": [
  {
   "cell_type": "code",
   "execution_count": 124,
   "metadata": {
    "collapsed": false
   },
   "outputs": [],
   "source": [
    "import gensim\n",
    "from keras.models import Sequential\n",
    "from keras.layers import Dense, LSTM, Embedding, TimeDistributed\n",
    "from keras.utils import np_utils\n",
    "from IPython.display import SVG\n",
    "from keras.utils.visualize_util import plot,model_to_dot\n",
    "from keras.preprocessing.sequence import pad_sequences\n",
    "from keras.callbacks import ModelCheckpoint\n",
    "import pickle\n",
    "import pandas as pd\n",
    "import numpy as np"
   ]
  },
  {
   "cell_type": "code",
   "execution_count": 125,
   "metadata": {
    "collapsed": false
   },
   "outputs": [
    {
     "name": "stdout",
     "output_type": "stream",
     "text": [
      "Number of words in corpora: 26\n"
     ]
    }
   ],
   "source": [
    "corpora = gensim.corpora.Dictionary.load('./data/corpora.dat')\n",
    "vocab_size = len(corpora)\n",
    "print('Number of words in corpora: %d'%(vocab_size))\n",
    "tmp = list(corpora.items())"
   ]
  },
  {
   "cell_type": "code",
   "execution_count": 126,
   "metadata": {
    "collapsed": true
   },
   "outputs": [],
   "source": [
    "#the_filename = './data/wonderland.txt.dat'\n",
    "the_filename = './data/test.txt.dat'\n",
    "with open(the_filename, 'rb') as f:\n",
    "    text = pickle.load(f)"
   ]
  },
  {
   "cell_type": "code",
   "execution_count": 127,
   "metadata": {
    "collapsed": false
   },
   "outputs": [
    {
     "data": {
      "text/plain": [
       "30"
      ]
     },
     "execution_count": 127,
     "metadata": {},
     "output_type": "execute_result"
    }
   ],
   "source": [
    "len(text)"
   ]
  },
  {
   "cell_type": "markdown",
   "metadata": {},
   "source": [
    "### Generate words patterns"
   ]
  },
  {
   "cell_type": "code",
   "execution_count": 128,
   "metadata": {
    "collapsed": true
   },
   "outputs": [],
   "source": [
    "seq_length = 4\n",
    "n_hidden_1 = 100"
   ]
  },
  {
   "cell_type": "code",
   "execution_count": 129,
   "metadata": {
    "collapsed": false
   },
   "outputs": [],
   "source": [
    "dataX = []\n",
    "dataY = []\n",
    "\n",
    "for i in range(0, len(text)-seq_length-1, 1):\n",
    "    seq_in = text[i:i+seq_length]\n",
    "    dataX.append(seq_in)\n",
    "    \n",
    "for i in range(1, len(text)-seq_length, 1):\n",
    "    seq_out = text[i:i+seq_length]\n",
    "    dataY.append(seq_out)"
   ]
  },
  {
   "cell_type": "code",
   "execution_count": 130,
   "metadata": {
    "collapsed": false
   },
   "outputs": [
    {
     "data": {
      "text/plain": [
       "4"
      ]
     },
     "execution_count": 130,
     "metadata": {},
     "output_type": "execute_result"
    }
   ],
   "source": [
    "seq_length"
   ]
  },
  {
   "cell_type": "code",
   "execution_count": 131,
   "metadata": {
    "collapsed": false
   },
   "outputs": [
    {
     "data": {
      "text/plain": [
       "25"
      ]
     },
     "execution_count": 131,
     "metadata": {},
     "output_type": "execute_result"
    }
   ],
   "source": [
    "len(dataX)"
   ]
  },
  {
   "cell_type": "code",
   "execution_count": 132,
   "metadata": {
    "collapsed": false
   },
   "outputs": [
    {
     "data": {
      "text/plain": [
       "25"
      ]
     },
     "execution_count": 132,
     "metadata": {},
     "output_type": "execute_result"
    }
   ],
   "source": [
    "len(dataY)"
   ]
  },
  {
   "cell_type": "code",
   "execution_count": 133,
   "metadata": {
    "collapsed": false
   },
   "outputs": [],
   "source": [
    "#dataX, dataY"
   ]
  },
  {
   "cell_type": "code",
   "execution_count": 134,
   "metadata": {
    "collapsed": false
   },
   "outputs": [],
   "source": [
    "emb = Embedding(input_dim=vocab_size, output_dim=4, input_length=seq_length)"
   ]
  },
  {
   "cell_type": "code",
   "execution_count": 135,
   "metadata": {
    "collapsed": false
   },
   "outputs": [],
   "source": [
    "lstm_1 = LSTM(n_hidden_1, return_sequences=True)\n",
    "#lstm_1 = LSTM(n_hidden_1, input_length=seq_lenght)"
   ]
  },
  {
   "cell_type": "code",
   "execution_count": 136,
   "metadata": {
    "collapsed": false
   },
   "outputs": [],
   "source": [
    "#out_layer = Dense(output_dim=vocab_size, activation='softmax')\n",
    "out_layer = TimeDistributed( Dense(output_dim=vocab_size, activation='softmax') )"
   ]
  },
  {
   "cell_type": "code",
   "execution_count": 137,
   "metadata": {
    "collapsed": false
   },
   "outputs": [],
   "source": [
    "model = Sequential(layers=[emb, lstm_1, out_layer])"
   ]
  },
  {
   "cell_type": "code",
   "execution_count": 138,
   "metadata": {
    "collapsed": false
   },
   "outputs": [],
   "source": [
    "model.compile(optimizer='adam', loss='sparse_categorical_crossentropy', metrics=['accuracy'])"
   ]
  },
  {
   "cell_type": "code",
   "execution_count": 139,
   "metadata": {
    "collapsed": false
   },
   "outputs": [
    {
     "name": "stdout",
     "output_type": "stream",
     "text": [
      "____________________________________________________________________________________________________\n",
      "Layer (type)                     Output Shape          Param #     Connected to                     \n",
      "====================================================================================================\n",
      "embedding_5 (Embedding)          (None, 4, 4)          104         embedding_input_5[0][0]          \n",
      "____________________________________________________________________________________________________\n",
      "lstm_5 (LSTM)                    (None, 4, 100)        42000       embedding_5[0][0]                \n",
      "____________________________________________________________________________________________________\n",
      "timedistributed_5 (TimeDistribute(None, 4, 26)         2626        lstm_5[0][0]                     \n",
      "====================================================================================================\n",
      "Total params: 44730\n",
      "____________________________________________________________________________________________________\n"
     ]
    }
   ],
   "source": [
    "model.summary()"
   ]
  },
  {
   "cell_type": "code",
   "execution_count": 140,
   "metadata": {
    "collapsed": false
   },
   "outputs": [
    {
     "data": {
      "image/svg+xml": [
       "<svg height=\"264pt\" viewBox=\"0.00 0.00 223.00 264.00\" width=\"223pt\" xmlns=\"http://www.w3.org/2000/svg\" xmlns:xlink=\"http://www.w3.org/1999/xlink\">\n",
       "<g class=\"graph\" id=\"graph0\" transform=\"scale(1 1) rotate(0) translate(4 260)\">\n",
       "<title>G</title>\n",
       "<polygon fill=\"white\" points=\"-4,4 -4,-260 219,-260 219,4 -4,4\" stroke=\"none\"/>\n",
       "<!-- 140279192258880 -->\n",
       "<g class=\"node\" id=\"node1\"><title>140279192258880</title>\n",
       "<polygon fill=\"none\" points=\"8.5,-219.5 8.5,-255.5 206.5,-255.5 206.5,-219.5 8.5,-219.5\" stroke=\"black\"/>\n",
       "<text font-family=\"Times,serif\" font-size=\"14.00\" text-anchor=\"middle\" x=\"107.5\" y=\"-233.8\">embedding_input_5 (InputLayer)</text>\n",
       "</g>\n",
       "<!-- 140279192257704 -->\n",
       "<g class=\"node\" id=\"node2\"><title>140279192257704</title>\n",
       "<polygon fill=\"none\" points=\"24,-146.5 24,-182.5 191,-182.5 191,-146.5 24,-146.5\" stroke=\"black\"/>\n",
       "<text font-family=\"Times,serif\" font-size=\"14.00\" text-anchor=\"middle\" x=\"107.5\" y=\"-160.8\">embedding_5 (Embedding)</text>\n",
       "</g>\n",
       "<!-- 140279192258880&#45;&gt;140279192257704 -->\n",
       "<g class=\"edge\" id=\"edge1\"><title>140279192258880-&gt;140279192257704</title>\n",
       "<path d=\"M107.5,-219.313C107.5,-211.289 107.5,-201.547 107.5,-192.569\" fill=\"none\" stroke=\"black\"/>\n",
       "<polygon fill=\"black\" points=\"111,-192.529 107.5,-182.529 104,-192.529 111,-192.529\" stroke=\"black\"/>\n",
       "</g>\n",
       "<!-- 140279192260504 -->\n",
       "<g class=\"node\" id=\"node3\"><title>140279192260504</title>\n",
       "<polygon fill=\"none\" points=\"55.5,-73.5 55.5,-109.5 159.5,-109.5 159.5,-73.5 55.5,-73.5\" stroke=\"black\"/>\n",
       "<text font-family=\"Times,serif\" font-size=\"14.00\" text-anchor=\"middle\" x=\"107.5\" y=\"-87.8\">lstm_5 (LSTM)</text>\n",
       "</g>\n",
       "<!-- 140279192257704&#45;&gt;140279192260504 -->\n",
       "<g class=\"edge\" id=\"edge2\"><title>140279192257704-&gt;140279192260504</title>\n",
       "<path d=\"M107.5,-146.313C107.5,-138.289 107.5,-128.547 107.5,-119.569\" fill=\"none\" stroke=\"black\"/>\n",
       "<polygon fill=\"black\" points=\"111,-119.529 107.5,-109.529 104,-119.529 111,-119.529\" stroke=\"black\"/>\n",
       "</g>\n",
       "<!-- 140279192258320 -->\n",
       "<g class=\"node\" id=\"node4\"><title>140279192258320</title>\n",
       "<polygon fill=\"none\" points=\"0,-0.5 0,-36.5 215,-36.5 215,-0.5 0,-0.5\" stroke=\"black\"/>\n",
       "<text font-family=\"Times,serif\" font-size=\"14.00\" text-anchor=\"middle\" x=\"107.5\" y=\"-14.8\">timedistributed_5 (TimeDistributed)</text>\n",
       "</g>\n",
       "<!-- 140279192260504&#45;&gt;140279192258320 -->\n",
       "<g class=\"edge\" id=\"edge3\"><title>140279192260504-&gt;140279192258320</title>\n",
       "<path d=\"M107.5,-73.3129C107.5,-65.2895 107.5,-55.5475 107.5,-46.5691\" fill=\"none\" stroke=\"black\"/>\n",
       "<polygon fill=\"black\" points=\"111,-46.5288 107.5,-36.5288 104,-46.5289 111,-46.5288\" stroke=\"black\"/>\n",
       "</g>\n",
       "</g>\n",
       "</svg>"
      ],
      "text/plain": [
       "<IPython.core.display.SVG object>"
      ]
     },
     "execution_count": 140,
     "metadata": {},
     "output_type": "execute_result"
    }
   ],
   "source": [
    "SVG(model_to_dot(model).create(prog='dot', format='svg'))"
   ]
  },
  {
   "cell_type": "code",
   "execution_count": 141,
   "metadata": {
    "collapsed": false
   },
   "outputs": [],
   "source": [
    "X = np.reshape(dataX, (len(dataX), seq_length))"
   ]
  },
  {
   "cell_type": "code",
   "execution_count": 142,
   "metadata": {
    "collapsed": false
   },
   "outputs": [
    {
     "data": {
      "text/plain": [
       "(25, 4)"
      ]
     },
     "execution_count": 142,
     "metadata": {},
     "output_type": "execute_result"
    }
   ],
   "source": [
    "X.shape"
   ]
  },
  {
   "cell_type": "code",
   "execution_count": 143,
   "metadata": {
    "collapsed": false
   },
   "outputs": [
    {
     "data": {
      "text/plain": [
       "(25, 4)"
      ]
     },
     "execution_count": 143,
     "metadata": {},
     "output_type": "execute_result"
    }
   ],
   "source": [
    "y = np.reshape(dataY, (len(dataY), seq_length))\n",
    "y.shape"
   ]
  },
  {
   "cell_type": "code",
   "execution_count": 144,
   "metadata": {
    "collapsed": false
   },
   "outputs": [
    {
     "data": {
      "text/plain": [
       "(25, 4, 1)"
      ]
     },
     "execution_count": 144,
     "metadata": {},
     "output_type": "execute_result"
    }
   ],
   "source": [
    "y = np.expand_dims(y,-1)\n",
    "y.shape"
   ]
  },
  {
   "cell_type": "code",
   "execution_count": 145,
   "metadata": {
    "collapsed": false
   },
   "outputs": [
    {
     "name": "stdout",
     "output_type": "stream",
     "text": [
      "Epoch 1/100\n",
      "23/25 [==========================>...] - ETA: 0s - loss: 3.2585 - acc: 0.0109    Epoch 00000: acc improved from -inf to 0.01000, saving model to test.hdf5\n",
      "25/25 [==============================] - 0s - loss: 3.2581 - acc: 0.0100     \n",
      "Epoch 2/100\n",
      "22/25 [=========================>....] - ETA: 0s - loss: 3.2478 - acc: 0.1477Epoch 00001: acc improved from 0.01000 to 0.14000, saving model to test.hdf5\n",
      "25/25 [==============================] - 0s - loss: 3.2465 - acc: 0.1400     \n",
      "Epoch 3/100\n",
      "24/25 [===========================>..] - ETA: 0s - loss: 3.2313 - acc: 0.1250Epoch 00002: acc did not improve\n",
      "25/25 [==============================] - 0s - loss: 3.2306 - acc: 0.1300     \n",
      "Epoch 4/100\n",
      "24/25 [===========================>..] - ETA: 0s - loss: 3.2023 - acc: 0.1250Epoch 00003: acc did not improve\n",
      "25/25 [==============================] - 0s - loss: 3.2012 - acc: 0.1300     \n",
      "Epoch 5/100\n",
      "23/25 [==========================>...] - ETA: 0s - loss: 3.1373 - acc: 0.1413Epoch 00004: acc did not improve\n",
      "25/25 [==============================] - 0s - loss: 3.1391 - acc: 0.1300     \n",
      "Epoch 6/100\n",
      "24/25 [===========================>..] - ETA: 0s - loss: 3.0217 - acc: 0.1250Epoch 00005: acc did not improve\n",
      "25/25 [==============================] - 0s - loss: 3.0236 - acc: 0.1300     \n",
      "Epoch 7/100\n",
      "24/25 [===========================>..] - ETA: 0s - loss: 2.8889 - acc: 0.1250Epoch 00006: acc did not improve\n",
      "25/25 [==============================] - 0s - loss: 2.8939 - acc: 0.1300     \n",
      "Epoch 8/100\n",
      "23/25 [==========================>...] - ETA: 0s - loss: 2.7916 - acc: 0.1413Epoch 00007: acc did not improve\n",
      "25/25 [==============================] - 0s - loss: 2.7802 - acc: 0.1400     \n",
      "Epoch 9/100\n",
      "22/25 [=========================>....] - ETA: 0s - loss: 2.6957 - acc: 0.1591Epoch 00008: acc improved from 0.14000 to 0.16000, saving model to test.hdf5\n",
      "25/25 [==============================] - 0s - loss: 2.6762 - acc: 0.1600     \n",
      "Epoch 10/100\n",
      "24/25 [===========================>..] - ETA: 0s - loss: 2.5851 - acc: 0.2083Epoch 00009: acc improved from 0.16000 to 0.21000, saving model to test.hdf5\n",
      "25/25 [==============================] - 0s - loss: 2.5842 - acc: 0.2100     \n",
      "Epoch 11/100\n",
      "22/25 [=========================>....] - ETA: 0s - loss: 2.4437 - acc: 0.2727Epoch 00010: acc improved from 0.21000 to 0.27000, saving model to test.hdf5\n",
      "25/25 [==============================] - 0s - loss: 2.4716 - acc: 0.2700     \n",
      "Epoch 12/100\n",
      "24/25 [===========================>..] - ETA: 0s - loss: 2.3067 - acc: 0.3854Epoch 00011: acc improved from 0.27000 to 0.38000, saving model to test.hdf5\n",
      "25/25 [==============================] - 0s - loss: 2.3341 - acc: 0.3800     \n",
      "Epoch 13/100\n",
      "23/25 [==========================>...] - ETA: 0s - loss: 2.2125 - acc: 0.3478Epoch 00012: acc did not improve\n",
      "25/25 [==============================] - 0s - loss: 2.2046 - acc: 0.3400     \n",
      "Epoch 14/100\n",
      "24/25 [===========================>..] - ETA: 0s - loss: 2.0754 - acc: 0.4375Epoch 00013: acc improved from 0.38000 to 0.43000, saving model to test.hdf5\n",
      "25/25 [==============================] - 0s - loss: 2.0737 - acc: 0.4300     \n",
      "Epoch 15/100\n",
      "23/25 [==========================>...] - ETA: 0s - loss: 1.9441 - acc: 0.4891Epoch 00014: acc improved from 0.43000 to 0.47000, saving model to test.hdf5\n",
      "25/25 [==============================] - 0s - loss: 1.9643 - acc: 0.4700     \n",
      "Epoch 16/100\n",
      "23/25 [==========================>...] - ETA: 0s - loss: 1.8373 - acc: 0.4891Epoch 00015: acc improved from 0.47000 to 0.48000, saving model to test.hdf5\n",
      "25/25 [==============================] - 0s - loss: 1.8449 - acc: 0.4800     \n",
      "Epoch 17/100\n",
      "23/25 [==========================>...] - ETA: 0s - loss: 1.7699 - acc: 0.5000Epoch 00016: acc improved from 0.48000 to 0.50000, saving model to test.hdf5\n",
      "25/25 [==============================] - 0s - loss: 1.7590 - acc: 0.5000     \n",
      "Epoch 18/100\n",
      "22/25 [=========================>....] - ETA: 0s - loss: 1.6913 - acc: 0.5568Epoch 00017: acc improved from 0.50000 to 0.56000, saving model to test.hdf5\n",
      "25/25 [==============================] - 0s - loss: 1.6683 - acc: 0.5600     \n",
      "Epoch 19/100\n",
      "22/25 [=========================>....] - ETA: 0s - loss: 1.5909 - acc: 0.5682Epoch 00018: acc did not improve\n",
      "25/25 [==============================] - 0s - loss: 1.5977 - acc: 0.5600     \n",
      "Epoch 20/100\n",
      "23/25 [==========================>...] - ETA: 0s - loss: 1.5229 - acc: 0.6304Epoch 00019: acc improved from 0.56000 to 0.64000, saving model to test.hdf5\n",
      "25/25 [==============================] - 0s - loss: 1.5169 - acc: 0.6400     \n",
      "Epoch 21/100\n",
      "23/25 [==========================>...] - ETA: 0s - loss: 1.4725 - acc: 0.6304Epoch 00020: acc did not improve\n",
      "25/25 [==============================] - 0s - loss: 1.4597 - acc: 0.6400     \n",
      "Epoch 22/100\n",
      "23/25 [==========================>...] - ETA: 0s - loss: 1.4047 - acc: 0.6739Epoch 00021: acc improved from 0.64000 to 0.67000, saving model to test.hdf5\n",
      "25/25 [==============================] - 0s - loss: 1.3979 - acc: 0.6700     \n",
      "Epoch 23/100\n",
      "24/25 [===========================>..] - ETA: 0s - loss: 1.3302 - acc: 0.7500Epoch 00022: acc improved from 0.67000 to 0.74000, saving model to test.hdf5\n",
      "25/25 [==============================] - 0s - loss: 1.3424 - acc: 0.7400     \n",
      "Epoch 24/100\n",
      "24/25 [===========================>..] - ETA: 0s - loss: 1.2740 - acc: 0.7604Epoch 00023: acc improved from 0.74000 to 0.75000, saving model to test.hdf5\n",
      "25/25 [==============================] - 0s - loss: 1.2867 - acc: 0.7500     \n",
      "Epoch 25/100\n",
      "22/25 [=========================>....] - ETA: 0s - loss: 1.2460 - acc: 0.7841Epoch 00024: acc improved from 0.75000 to 0.78000, saving model to test.hdf5\n",
      "25/25 [==============================] - 0s - loss: 1.2389 - acc: 0.7800     \n",
      "Epoch 26/100\n",
      "23/25 [==========================>...] - ETA: 0s - loss: 1.1772 - acc: 0.8043Epoch 00025: acc improved from 0.78000 to 0.80000, saving model to test.hdf5\n",
      "25/25 [==============================] - 0s - loss: 1.1954 - acc: 0.8000     \n",
      "Epoch 27/100\n",
      "24/25 [===========================>..] - ETA: 0s - loss: 1.1657 - acc: 0.7812Epoch 00026: acc did not improve\n",
      "25/25 [==============================] - 0s - loss: 1.1743 - acc: 0.7800     \n",
      "Epoch 28/100\n",
      "24/25 [===========================>..] - ETA: 0s - loss: 1.1085 - acc: 0.8125Epoch 00027: acc improved from 0.80000 to 0.81000, saving model to test.hdf5\n",
      "25/25 [==============================] - 0s - loss: 1.1164 - acc: 0.8100     \n",
      "Epoch 29/100\n",
      "23/25 [==========================>...] - ETA: 0s - loss: 1.0822 - acc: 0.8152Epoch 00028: acc improved from 0.81000 to 0.83000, saving model to test.hdf5\n",
      "25/25 [==============================] - 0s - loss: 1.0734 - acc: 0.8300     \n",
      "Epoch 30/100\n",
      "23/25 [==========================>...] - ETA: 0s - loss: 1.0380 - acc: 0.8152Epoch 00029: acc did not improve\n",
      "25/25 [==============================] - 0s - loss: 1.0341 - acc: 0.8200     \n",
      "Epoch 31/100\n",
      "24/25 [===========================>..] - ETA: 0s - loss: 1.0041 - acc: 0.8333Epoch 00030: acc improved from 0.83000 to 0.84000, saving model to test.hdf5\n",
      "25/25 [==============================] - 0s - loss: 1.0037 - acc: 0.8400     \n",
      "Epoch 32/100\n",
      "24/25 [===========================>..] - ETA: 0s - loss: 0.9704 - acc: 0.8438Epoch 00031: acc improved from 0.84000 to 0.85000, saving model to test.hdf5\n",
      "25/25 [==============================] - 0s - loss: 0.9666 - acc: 0.8500     \n",
      "Epoch 33/100\n",
      "24/25 [===========================>..] - ETA: 0s - loss: 0.9391 - acc: 0.8646Epoch 00032: acc improved from 0.85000 to 0.86000, saving model to test.hdf5\n",
      "25/25 [==============================] - 0s - loss: 0.9374 - acc: 0.8600     \n",
      "Epoch 34/100\n",
      "24/25 [===========================>..] - ETA: 0s - loss: 0.9122 - acc: 0.8646Epoch 00033: acc did not improve\n",
      "25/25 [==============================] - 0s - loss: 0.9073 - acc: 0.8600     \n",
      "Epoch 35/100\n",
      "22/25 [=========================>....] - ETA: 0s - loss: 0.8809 - acc: 0.8750Epoch 00034: acc improved from 0.86000 to 0.88000, saving model to test.hdf5\n",
      "25/25 [==============================] - 0s - loss: 0.8784 - acc: 0.8800     \n",
      "Epoch 36/100\n",
      "24/25 [===========================>..] - ETA: 0s - loss: 0.8537 - acc: 0.8750Epoch 00035: acc did not improve\n",
      "25/25 [==============================] - 0s - loss: 0.8491 - acc: 0.8800     \n",
      "Epoch 37/100\n",
      "23/25 [==========================>...] - ETA: 0s - loss: 0.8369 - acc: 0.9022Epoch 00036: acc improved from 0.88000 to 0.90000, saving model to test.hdf5\n",
      "25/25 [==============================] - 0s - loss: 0.8238 - acc: 0.9000     \n",
      "Epoch 38/100\n",
      "23/25 [==========================>...] - ETA: 0s - loss: 0.7945 - acc: 0.9022Epoch 00037: acc improved from 0.90000 to 0.91000, saving model to test.hdf5\n",
      "25/25 [==============================] - 0s - loss: 0.7960 - acc: 0.9100     \n",
      "Epoch 39/100\n",
      "24/25 [===========================>..] - ETA: 0s - loss: 0.7822 - acc: 0.9062Epoch 00038: acc did not improve\n",
      "25/25 [==============================] - 0s - loss: 0.7715 - acc: 0.9100     \n",
      "Epoch 40/100\n",
      "24/25 [===========================>..] - ETA: 0s - loss: 0.7519 - acc: 0.9062Epoch 00039: acc did not improve\n",
      "25/25 [==============================] - 0s - loss: 0.7496 - acc: 0.9100     \n",
      "Epoch 41/100\n",
      "23/25 [==========================>...] - ETA: 0s - loss: 0.7162 - acc: 0.9022Epoch 00040: acc did not improve\n",
      "25/25 [==============================] - 0s - loss: 0.7270 - acc: 0.9000     \n",
      "Epoch 42/100\n",
      "22/25 [=========================>....] - ETA: 0s - loss: 0.6941 - acc: 0.9091Epoch 00041: acc did not improve\n",
      "25/25 [==============================] - 0s - loss: 0.7050 - acc: 0.9100     \n",
      "Epoch 43/100\n",
      "23/25 [==========================>...] - ETA: 0s - loss: 0.6862 - acc: 0.9239Epoch 00042: acc improved from 0.91000 to 0.92000, saving model to test.hdf5\n",
      "25/25 [==============================] - 0s - loss: 0.6814 - acc: 0.9200     \n",
      "Epoch 44/100\n",
      "21/25 [========================>.....] - ETA: 0s - loss: 0.6802 - acc: 0.8929Epoch 00043: acc did not improve\n",
      "25/25 [==============================] - 0s - loss: 0.6636 - acc: 0.9100     \n",
      "Epoch 45/100\n",
      "22/25 [=========================>....] - ETA: 0s - loss: 0.6173 - acc: 0.9318Epoch 00044: acc did not improve\n",
      "25/25 [==============================] - 0s - loss: 0.6442 - acc: 0.9100     \n",
      "Epoch 46/100\n",
      "23/25 [==========================>...] - ETA: 0s - loss: 0.6160 - acc: 0.9348Epoch 00045: acc did not improve\n",
      "25/25 [==============================] - 0s - loss: 0.6247 - acc: 0.9200     \n",
      "Epoch 47/100\n",
      "22/25 [=========================>....] - ETA: 0s - loss: 0.6108 - acc: 0.9318Epoch 00046: acc did not improve\n",
      "25/25 [==============================] - 0s - loss: 0.6067 - acc: 0.9200     \n",
      "Epoch 48/100\n",
      "24/25 [===========================>..] - ETA: 0s - loss: 0.5929 - acc: 0.9167Epoch 00047: acc did not improve\n",
      "25/25 [==============================] - 0s - loss: 0.5906 - acc: 0.9200     \n",
      "Epoch 49/100\n",
      "22/25 [=========================>....] - ETA: 0s - loss: 0.5631 - acc: 0.9205Epoch 00048: acc did not improve\n",
      "25/25 [==============================] - 0s - loss: 0.5739 - acc: 0.9200     \n",
      "Epoch 50/100\n",
      "24/25 [===========================>..] - ETA: 0s - loss: 0.5558 - acc: 0.9167Epoch 00049: acc did not improve\n",
      "25/25 [==============================] - 0s - loss: 0.5582 - acc: 0.9200     \n",
      "Epoch 51/100\n",
      "23/25 [==========================>...] - ETA: 0s - loss: 0.5399 - acc: 0.9130Epoch 00050: acc did not improve\n",
      "25/25 [==============================] - 0s - loss: 0.5434 - acc: 0.9100     \n",
      "Epoch 52/100\n",
      "23/25 [==========================>...] - ETA: 0s - loss: 0.5323 - acc: 0.9130Epoch 00051: acc did not improve\n",
      "25/25 [==============================] - 0s - loss: 0.5282 - acc: 0.9100     \n",
      "Epoch 53/100\n",
      "23/25 [==========================>...] - ETA: 0s - loss: 0.5219 - acc: 0.9130Epoch 00052: acc did not improve\n",
      "25/25 [==============================] - 0s - loss: 0.5151 - acc: 0.9100     \n",
      "Epoch 54/100\n",
      "23/25 [==========================>...] - ETA: 0s - loss: 0.4941 - acc: 0.9130Epoch 00053: acc did not improve\n",
      "25/25 [==============================] - 0s - loss: 0.5035 - acc: 0.9100     \n",
      "Epoch 55/100\n",
      "23/25 [==========================>...] - ETA: 0s - loss: 0.4814 - acc: 0.9239Epoch 00054: acc did not improve\n",
      "25/25 [==============================] - 0s - loss: 0.4883 - acc: 0.9200     \n",
      "Epoch 56/100\n",
      "24/25 [===========================>..] - ETA: 0s - loss: 0.4674 - acc: 0.9167Epoch 00055: acc did not improve\n",
      "25/25 [==============================] - 0s - loss: 0.4769 - acc: 0.9100     \n",
      "Epoch 57/100\n",
      "23/25 [==========================>...] - ETA: 0s - loss: 0.4550 - acc: 0.9130Epoch 00056: acc did not improve\n",
      "25/25 [==============================] - 0s - loss: 0.4639 - acc: 0.9100     \n",
      "Epoch 58/100\n",
      "24/25 [===========================>..] - ETA: 0s - loss: 0.4609 - acc: 0.9167Epoch 00057: acc did not improve\n",
      "25/25 [==============================] - 0s - loss: 0.4520 - acc: 0.9200     \n",
      "Epoch 59/100\n",
      "22/25 [=========================>....] - ETA: 0s - loss: 0.4435 - acc: 0.9091Epoch 00058: acc did not improve\n",
      "25/25 [==============================] - 0s - loss: 0.4414 - acc: 0.9100     \n",
      "Epoch 60/100\n",
      "24/25 [===========================>..] - ETA: 0s - loss: 0.4335 - acc: 0.9375Epoch 00059: acc improved from 0.92000 to 0.94000, saving model to test.hdf5\n",
      "25/25 [==============================] - 0s - loss: 0.4302 - acc: 0.9400     \n",
      "Epoch 61/100\n",
      "22/25 [=========================>....] - ETA: 0s - loss: 0.4103 - acc: 0.9432Epoch 00060: acc did not improve\n",
      "25/25 [==============================] - 0s - loss: 0.4194 - acc: 0.9300     \n",
      "Epoch 62/100\n",
      "24/25 [===========================>..] - ETA: 0s - loss: 0.4128 - acc: 0.9167Epoch 00061: acc did not improve\n",
      "25/25 [==============================] - 0s - loss: 0.4105 - acc: 0.9200     \n",
      "Epoch 63/100\n",
      "24/25 [===========================>..] - ETA: 0s - loss: 0.4071 - acc: 0.9375Epoch 00062: acc did not improve\n",
      "25/25 [==============================] - 0s - loss: 0.3987 - acc: 0.9400     \n",
      "Epoch 64/100\n",
      "24/25 [===========================>..] - ETA: 0s - loss: 0.3902 - acc: 0.9375Epoch 00063: acc did not improve\n",
      "25/25 [==============================] - 0s - loss: 0.3895 - acc: 0.9400     \n",
      "Epoch 65/100\n",
      "23/25 [==========================>...] - ETA: 0s - loss: 0.3720 - acc: 0.9457Epoch 00064: acc did not improve\n",
      "25/25 [==============================] - 0s - loss: 0.3801 - acc: 0.9400     \n",
      "Epoch 66/100\n",
      "24/25 [===========================>..] - ETA: 0s - loss: 0.3754 - acc: 0.9375Epoch 00065: acc did not improve\n",
      "25/25 [==============================] - 0s - loss: 0.3708 - acc: 0.9400     \n",
      "Epoch 67/100\n",
      "22/25 [=========================>....] - ETA: 0s - loss: 0.3713 - acc: 0.9318Epoch 00066: acc did not improve\n",
      "25/25 [==============================] - 0s - loss: 0.3612 - acc: 0.9400     \n",
      "Epoch 68/100\n",
      "23/25 [==========================>...] - ETA: 0s - loss: 0.3427 - acc: 0.9457Epoch 00067: acc improved from 0.94000 to 0.95000, saving model to test.hdf5\n",
      "25/25 [==============================] - 0s - loss: 0.3525 - acc: 0.9500     \n",
      "Epoch 69/100\n",
      "24/25 [===========================>..] - ETA: 0s - loss: 0.3474 - acc: 0.9479Epoch 00068: acc did not improve\n",
      "25/25 [==============================] - 0s - loss: 0.3447 - acc: 0.9500     \n",
      "Epoch 70/100\n",
      "22/25 [=========================>....] - ETA: 0s - loss: 0.3286 - acc: 0.9659Epoch 00069: acc improved from 0.95000 to 0.96000, saving model to test.hdf5\n",
      "25/25 [==============================] - 0s - loss: 0.3361 - acc: 0.9600     \n",
      "Epoch 71/100\n",
      "22/25 [=========================>....] - ETA: 0s - loss: 0.3329 - acc: 0.9545Epoch 00070: acc did not improve\n",
      "25/25 [==============================] - 0s - loss: 0.3280 - acc: 0.9500     \n",
      "Epoch 72/100\n",
      "23/25 [==========================>...] - ETA: 0s - loss: 0.3236 - acc: 0.9565Epoch 00071: acc did not improve\n",
      "25/25 [==============================] - 0s - loss: 0.3190 - acc: 0.9600     \n",
      "Epoch 73/100\n",
      "24/25 [===========================>..] - ETA: 0s - loss: 0.3091 - acc: 0.9583Epoch 00072: acc did not improve\n",
      "25/25 [==============================] - 0s - loss: 0.3118 - acc: 0.9600     \n",
      "Epoch 74/100\n",
      "24/25 [===========================>..] - ETA: 0s - loss: 0.3078 - acc: 0.9583Epoch 00073: acc did not improve\n",
      "25/25 [==============================] - 0s - loss: 0.3034 - acc: 0.9600     \n",
      "Epoch 75/100\n",
      "23/25 [==========================>...] - ETA: 0s - loss: 0.2940 - acc: 0.9674Epoch 00074: acc improved from 0.96000 to 0.97000, saving model to test.hdf5\n",
      "25/25 [==============================] - 0s - loss: 0.2960 - acc: 0.9700     \n",
      "Epoch 76/100\n",
      "22/25 [=========================>....] - ETA: 0s - loss: 0.2762 - acc: 0.9886Epoch 00075: acc improved from 0.97000 to 0.98000, saving model to test.hdf5\n",
      "25/25 [==============================] - 0s - loss: 0.2894 - acc: 0.9800     \n",
      "Epoch 77/100\n",
      "22/25 [=========================>....] - ETA: 0s - loss: 0.2796 - acc: 0.9886Epoch 00076: acc did not improve\n",
      "25/25 [==============================] - 0s - loss: 0.2821 - acc: 0.9800     \n",
      "Epoch 78/100\n",
      "23/25 [==========================>...] - ETA: 0s - loss: 0.2725 - acc: 0.9783Epoch 00077: acc did not improve\n",
      "25/25 [==============================] - 0s - loss: 0.2751 - acc: 0.9800     \n",
      "Epoch 79/100\n",
      "24/25 [===========================>..] - ETA: 0s - loss: 0.2708 - acc: 0.9688Epoch 00078: acc did not improve\n",
      "25/25 [==============================] - 0s - loss: 0.2685 - acc: 0.9700     \n",
      "Epoch 80/100\n",
      "22/25 [=========================>....] - ETA: 0s - loss: 0.2639 - acc: 0.9773Epoch 00079: acc did not improve\n",
      "25/25 [==============================] - 0s - loss: 0.2610 - acc: 0.9800     \n",
      "Epoch 81/100\n",
      "24/25 [===========================>..] - ETA: 0s - loss: 0.2571 - acc: 0.9688Epoch 00080: acc did not improve\n",
      "25/25 [==============================] - 0s - loss: 0.2550 - acc: 0.9700     \n",
      "Epoch 82/100\n",
      "24/25 [===========================>..] - ETA: 0s - loss: 0.2540 - acc: 0.9792Epoch 00081: acc did not improve\n",
      "25/25 [==============================] - 0s - loss: 0.2480 - acc: 0.9800     \n",
      "Epoch 83/100\n",
      "24/25 [===========================>..] - ETA: 0s - loss: 0.2395 - acc: 0.9792Epoch 00082: acc did not improve\n",
      "25/25 [==============================] - 0s - loss: 0.2424 - acc: 0.9800     \n",
      "Epoch 84/100\n",
      "23/25 [==========================>...] - ETA: 0s - loss: 0.2362 - acc: 0.9783Epoch 00083: acc did not improve\n",
      "25/25 [==============================] - 0s - loss: 0.2361 - acc: 0.9800     \n",
      "Epoch 85/100\n",
      "24/25 [===========================>..] - ETA: 0s - loss: 0.2266 - acc: 0.9792Epoch 00084: acc did not improve\n",
      "25/25 [==============================] - 0s - loss: 0.2306 - acc: 0.9800     \n",
      "Epoch 86/100\n",
      "24/25 [===========================>..] - ETA: 0s - loss: 0.2262 - acc: 0.9792Epoch 00085: acc did not improve\n",
      "25/25 [==============================] - 0s - loss: 0.2244 - acc: 0.9800     \n",
      "Epoch 87/100\n",
      "24/25 [===========================>..] - ETA: 0s - loss: 0.2139 - acc: 0.9792Epoch 00086: acc did not improve\n",
      "25/25 [==============================] - 0s - loss: 0.2185 - acc: 0.9800     \n",
      "Epoch 88/100\n",
      "22/25 [=========================>....] - ETA: 0s - loss: 0.2116 - acc: 0.9773Epoch 00087: acc did not improve\n",
      "25/25 [==============================] - 0s - loss: 0.2127 - acc: 0.9800     \n",
      "Epoch 89/100\n",
      "23/25 [==========================>...] - ETA: 0s - loss: 0.2074 - acc: 0.9783Epoch 00088: acc did not improve\n",
      "25/25 [==============================] - 0s - loss: 0.2075 - acc: 0.9700     \n",
      "Epoch 90/100\n",
      "23/25 [==========================>...] - ETA: 0s - loss: 0.1932 - acc: 0.9891Epoch 00089: acc did not improve\n",
      "25/25 [==============================] - 0s - loss: 0.2020 - acc: 0.9800     \n",
      "Epoch 91/100\n",
      "24/25 [===========================>..] - ETA: 0s - loss: 0.1984 - acc: 0.9688Epoch 00090: acc did not improve\n",
      "25/25 [==============================] - 0s - loss: 0.1970 - acc: 0.9700     \n",
      "Epoch 92/100\n",
      "23/25 [==========================>...] - ETA: 0s - loss: 0.1916 - acc: 0.9674Epoch 00091: acc did not improve\n",
      "25/25 [==============================] - 0s - loss: 0.1917 - acc: 0.9700     \n",
      "Epoch 93/100\n",
      "24/25 [===========================>..] - ETA: 0s - loss: 0.1882 - acc: 0.9688Epoch 00092: acc did not improve\n",
      "25/25 [==============================] - 0s - loss: 0.1868 - acc: 0.9700     \n",
      "Epoch 94/100\n",
      "23/25 [==========================>...] - ETA: 0s - loss: 0.1849 - acc: 0.9783Epoch 00093: acc did not improve\n",
      "25/25 [==============================] - 0s - loss: 0.1823 - acc: 0.9800     \n",
      "Epoch 95/100\n",
      "23/25 [==========================>...] - ETA: 0s - loss: 0.1696 - acc: 0.9783Epoch 00094: acc did not improve\n",
      "25/25 [==============================] - 0s - loss: 0.1771 - acc: 0.9700     \n",
      "Epoch 96/100\n",
      "22/25 [=========================>....] - ETA: 0s - loss: 0.1705 - acc: 0.9773Epoch 00095: acc did not improve\n",
      "25/25 [==============================] - 0s - loss: 0.1721 - acc: 0.9800     \n",
      "Epoch 97/100\n",
      "24/25 [===========================>..] - ETA: 0s - loss: 0.1715 - acc: 0.9792Epoch 00096: acc did not improve\n",
      "25/25 [==============================] - 0s - loss: 0.1675 - acc: 0.9800     \n",
      "Epoch 98/100\n",
      "23/25 [==========================>...] - ETA: 0s - loss: 0.1709 - acc: 0.9674Epoch 00097: acc did not improve\n",
      "25/25 [==============================] - 0s - loss: 0.1629 - acc: 0.9700     \n",
      "Epoch 99/100\n",
      "23/25 [==========================>...] - ETA: 0s - loss: 0.1598 - acc: 0.9783Epoch 00098: acc did not improve\n",
      "25/25 [==============================] - 0s - loss: 0.1593 - acc: 0.9800     \n",
      "Epoch 100/100\n",
      "23/25 [==========================>...] - ETA: 0s - loss: 0.1548 - acc: 0.9674Epoch 00099: acc did not improve\n",
      "25/25 [==============================] - 0s - loss: 0.1542 - acc: 0.9700     \n"
     ]
    }
   ],
   "source": [
    "filepath=\"test.hdf5\"\n",
    "checkpoint = ModelCheckpoint(filepath, monitor='acc', verbose=1, save_best_only=True, mode='max')\n",
    "\n",
    "history = model.fit(X, y, batch_size=1, nb_epoch=100, callbacks=[checkpoint])"
   ]
  },
  {
   "cell_type": "code",
   "execution_count": 146,
   "metadata": {
    "collapsed": false
   },
   "outputs": [],
   "source": [
    "#print(history.history)"
   ]
  },
  {
   "cell_type": "code",
   "execution_count": 147,
   "metadata": {
    "collapsed": false
   },
   "outputs": [
    {
     "name": "stdout",
     "output_type": "stream",
     "text": [
      "Model Accuracy: 98.00%\n"
     ]
    }
   ],
   "source": [
    "scores = model.evaluate(X, y, verbose=0)\n",
    "print(\"Model Accuracy: %.2f%%\" % (scores[1]*100))"
   ]
  },
  {
   "cell_type": "markdown",
   "metadata": {},
   "source": [
    "### Test prediction"
   ]
  },
  {
   "cell_type": "code",
   "execution_count": 148,
   "metadata": {
    "collapsed": false
   },
   "outputs": [],
   "source": [
    "def get_nexts(inp):\n",
    "    idxs = [corpora.token2id[c] for c in inp]\n",
    "    arr = np.array(idxs)[np.newaxis,:]\n",
    "    p = model.predict(arr)[0]\n",
    "    print(p)\n",
    "    return [corpora.id2token[np.argmax(o)] for o in p]"
   ]
  },
  {
   "cell_type": "code",
   "execution_count": 151,
   "metadata": {
    "collapsed": false
   },
   "outputs": [
    {
     "name": "stdout",
     "output_type": "stream",
     "text": [
      "[[  8.02849710e-01   7.62595842e-03   4.64895238e-05   8.67575454e-06\n",
      "    2.37738825e-02   5.68908326e-05   9.22052550e-06   8.78852617e-04\n",
      "    3.78462311e-04   9.60024117e-05   1.01869823e-02   2.11351714e-03\n",
      "    1.07550165e-02   1.69936903e-02   8.30134377e-03   7.68588707e-02\n",
      "    2.20395406e-04   2.75677741e-02   6.89263979e-05   1.81836785e-05\n",
      "    5.14620123e-03   2.22313669e-04   4.25144099e-03   1.07854756e-03\n",
      "    3.98930017e-04   9.37501754e-05]\n",
      " [  4.10890003e-04   4.01653146e-08   2.02512590e-10   2.60471495e-07\n",
      "    9.88174319e-01   6.32909836e-11   5.17353764e-11   1.77943016e-09\n",
      "    5.44086285e-03   7.73098807e-11   7.06095670e-05   3.59245722e-09\n",
      "    8.79782136e-04   4.60821002e-06   6.93415586e-06   3.48302342e-06\n",
      "    1.72929547e-04   4.53139376e-03   1.77011508e-08   1.85015665e-08\n",
      "    1.78856062e-04   8.89805960e-07   1.19456476e-04   4.20646380e-08\n",
      "    6.14114493e-09   4.59468083e-06]\n",
      " [  9.13981391e-11   2.84502283e-12   2.14081140e-13   1.68607652e-03\n",
      "    6.62002771e-04   4.58713232e-12   2.73431944e-09   6.65260382e-13\n",
      "    9.96233523e-01   4.74093583e-13   1.43384284e-06   2.62844716e-12\n",
      "    4.20489442e-07   1.54646713e-08   2.16934737e-08   2.55723719e-12\n",
      "    1.07513717e-03   1.16376043e-07   6.43152775e-09   5.77252877e-07\n",
      "    1.45574359e-06   1.59017378e-04   7.23830308e-05   1.44383767e-08\n",
      "    4.32721275e-10   1.07777807e-04]\n",
      " [  1.24274901e-16   1.51971683e-13   1.18782642e-13   9.99370039e-01\n",
      "    4.51689047e-10   9.36070954e-09   7.67409147e-05   4.38285991e-13\n",
      "    2.39040295e-04   9.07875598e-12   1.85908278e-09   1.15617611e-11\n",
      "    1.55108808e-11   1.82128534e-10   1.02794051e-10   4.73002976e-15\n",
      "    5.94370931e-06   1.37239287e-12   5.10391409e-08   1.47783663e-04\n",
      "    1.07650266e-09   1.45611310e-04   2.30526794e-07   6.19630214e-08\n",
      "    2.37131736e-09   1.44933219e-05]]\n"
     ]
    },
    {
     "data": {
      "text/plain": [
       "['two', 'three', 'four', 'five']"
      ]
     },
     "execution_count": 151,
     "metadata": {},
     "output_type": "execute_result"
    }
   ],
   "source": [
    "get_nexts(['One', 'two', 'three', 'four'])"
   ]
  },
  {
   "cell_type": "code",
   "execution_count": null,
   "metadata": {
    "collapsed": false
   },
   "outputs": [],
   "source": [
    "test_cases_text = pd.read_csv('./data/test_cases_text.csv')\n",
    "pred = []\n",
    "for index, row in test_cases_text.iterrows():\n",
    "    #print( '%s %s'%(row['in_0'], row['in_1']))\n",
    "    inp = [row['in_0'], row['in_1']]\n",
    "    #print(inp)\n",
    "    tmp = get_next_emb(inp)\n",
    "    pred.append(tmp)\n",
    "test_cases_text['predicted'] = pred"
   ]
  },
  {
   "cell_type": "code",
   "execution_count": null,
   "metadata": {
    "collapsed": false
   },
   "outputs": [],
   "source": [
    "test_cases_text[test_cases_text.out!=test_cases_text.predicted]"
   ]
  },
  {
   "cell_type": "code",
   "execution_count": null,
   "metadata": {
    "collapsed": false
   },
   "outputs": [],
   "source": [
    "true_cnt = len(test_cases_text[test_cases_text.out==test_cases_text.predicted].index) * 1.0\n",
    "all_cnt = len(test_cases_text.index) * 1.0\n",
    "print('True cnt: %d All cnt %d'%(true_cnt, all_cnt))\n",
    "print(\"Precision: %.2f\"%( true_cnt/all_cnt))"
   ]
  },
  {
   "cell_type": "code",
   "execution_count": null,
   "metadata": {
    "collapsed": true
   },
   "outputs": [],
   "source": []
  }
 ],
 "metadata": {
  "kernelspec": {
   "display_name": "Python 3",
   "language": "python",
   "name": "python3"
  },
  "language_info": {
   "codemirror_mode": {
    "name": "ipython",
    "version": 3
   },
   "file_extension": ".py",
   "mimetype": "text/x-python",
   "name": "python",
   "nbconvert_exporter": "python",
   "pygments_lexer": "ipython3",
   "version": "3.5.2"
  }
 },
 "nbformat": 4,
 "nbformat_minor": 1
}
