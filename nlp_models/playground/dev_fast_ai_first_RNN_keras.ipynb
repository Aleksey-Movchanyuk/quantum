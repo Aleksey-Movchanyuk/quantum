{
 "cells": [
  {
   "cell_type": "code",
   "execution_count": 23,
   "metadata": {
    "collapsed": false
   },
   "outputs": [],
   "source": [
    "import numpy as np\n",
    "import gensim\n",
    "from keras.models import Sequential, Model\n",
    "from keras.layers import Dense, LSTM, Input, Embedding, Flatten, merge, SimpleRNN\n",
    "from keras.optimizers import Adam\n",
    "from keras.utils import np_utils\n",
    "from IPython.display import SVG\n",
    "from keras.utils.visualize_util import plot\n",
    "from keras.utils.visualize_util import model_to_dot\n",
    "from keras.preprocessing.sequence import pad_sequences\n",
    "from keras.callbacks import ModelCheckpoint\n",
    "import pickle\n",
    "import pandas as pd"
   ]
  },
  {
   "cell_type": "code",
   "execution_count": 24,
   "metadata": {
    "collapsed": false
   },
   "outputs": [
    {
     "name": "stdout",
     "output_type": "stream",
     "text": [
      "Number of words in corpora: 26\n"
     ]
    }
   ],
   "source": [
    "corpora = gensim.corpora.Dictionary.load('./data/corpora.dat')\n",
    "vocab_size = len(corpora)\n",
    "print('Number of words in corpora: %d'%(vocab_size))"
   ]
  },
  {
   "cell_type": "code",
   "execution_count": 25,
   "metadata": {
    "collapsed": true
   },
   "outputs": [],
   "source": [
    "tmp = list(corpora.items())"
   ]
  },
  {
   "cell_type": "code",
   "execution_count": 26,
   "metadata": {
    "collapsed": true
   },
   "outputs": [],
   "source": [
    "#the_filename = './data/wonderland.txt.dat'\n",
    "the_filename = './data/test.txt.dat'\n",
    "with open(the_filename, 'rb') as f:\n",
    "    text = pickle.load(f)"
   ]
  },
  {
   "cell_type": "markdown",
   "metadata": {},
   "source": [
    "### Generate words patterns - 2 words model"
   ]
  },
  {
   "cell_type": "code",
   "execution_count": 27,
   "metadata": {
    "collapsed": true
   },
   "outputs": [],
   "source": [
    "cs = 2"
   ]
  },
  {
   "cell_type": "code",
   "execution_count": 28,
   "metadata": {
    "collapsed": true
   },
   "outputs": [],
   "source": [
    "c_in_dat = [[text[i+n] for i in range(0, len(text)-cs, cs)]\n",
    "            for n in range(cs)]"
   ]
  },
  {
   "cell_type": "code",
   "execution_count": 29,
   "metadata": {
    "collapsed": true
   },
   "outputs": [],
   "source": [
    "c_out_dat = [text[i+cs] for i in range(0, len(text)-cs, cs)]"
   ]
  },
  {
   "cell_type": "code",
   "execution_count": 30,
   "metadata": {
    "collapsed": false
   },
   "outputs": [
    {
     "name": "stdout",
     "output_type": "stream",
     "text": [
      "['One', 'three', 'five', 'seven', 'nine', '.', 'quick', 'fox', 'over', 'lazy', '.', 'are', '?', 'are']\n",
      "['two', 'four', 'six', 'eight', 'ten', 'The', 'brown', 'jumps', 'a', 'dog', 'How', 'you', 'What', 'you']\n",
      "['three', 'five', 'seven', 'nine', '.', 'quick', 'fox', 'over', 'lazy', '.', 'are', '?', 'are', 'doing']\n"
     ]
    }
   ],
   "source": [
    "print( [corpora.id2token[text[i+0]] for i in range(0, len(text)-cs, cs)] )\n",
    "print( [corpora.id2token[text[i+1]] for i in range(0, len(text)-cs, cs)] )\n",
    "print( [corpora.id2token[text[i+cs]] for i in range(0, len(text)-cs, cs)] )"
   ]
  },
  {
   "cell_type": "code",
   "execution_count": 31,
   "metadata": {
    "collapsed": true
   },
   "outputs": [],
   "source": [
    "xs = [np.stack(c[:-2]) for c in c_in_dat]"
   ]
  },
  {
   "cell_type": "code",
   "execution_count": 32,
   "metadata": {
    "collapsed": false
   },
   "outputs": [
    {
     "data": {
      "text/plain": [
       "(2, (12,))"
      ]
     },
     "execution_count": 32,
     "metadata": {},
     "output_type": "execute_result"
    }
   ],
   "source": [
    "len(xs), xs[0].shape"
   ]
  },
  {
   "cell_type": "code",
   "execution_count": 33,
   "metadata": {
    "collapsed": true
   },
   "outputs": [],
   "source": [
    "y = np.stack(c_out_dat[:-2])"
   ]
  },
  {
   "cell_type": "code",
   "execution_count": 34,
   "metadata": {
    "collapsed": false
   },
   "outputs": [
    {
     "data": {
      "text/plain": [
       "[array([2, 4]), array([0, 8])]"
      ]
     },
     "execution_count": 34,
     "metadata": {},
     "output_type": "execute_result"
    }
   ],
   "source": [
    "[xs[n][:cs] for n in range(cs)]"
   ]
  },
  {
   "cell_type": "code",
   "execution_count": 35,
   "metadata": {
    "collapsed": false
   },
   "outputs": [
    {
     "data": {
      "text/plain": [
       "array([4, 3])"
      ]
     },
     "execution_count": 35,
     "metadata": {},
     "output_type": "execute_result"
    }
   ],
   "source": [
    "y[:cs]"
   ]
  },
  {
   "cell_type": "code",
   "execution_count": 36,
   "metadata": {
    "collapsed": true
   },
   "outputs": [],
   "source": [
    "n_hidden=256\n",
    "n_fac=4"
   ]
  },
  {
   "cell_type": "code",
   "execution_count": 37,
   "metadata": {
    "collapsed": false
   },
   "outputs": [],
   "source": [
    "model=Sequential([\n",
    "        Embedding(vocab_size, n_fac, input_length=cs),\n",
    "        SimpleRNN(n_hidden, activation='relu', inner_init='identity'),\n",
    "        Dense(vocab_size, activation='softmax')\n",
    "    ])"
   ]
  },
  {
   "cell_type": "code",
   "execution_count": 38,
   "metadata": {
    "collapsed": true
   },
   "outputs": [],
   "source": [
    "model.compile(loss='sparse_categorical_crossentropy', optimizer=Adam())"
   ]
  },
  {
   "cell_type": "code",
   "execution_count": 39,
   "metadata": {
    "collapsed": false
   },
   "outputs": [
    {
     "name": "stdout",
     "output_type": "stream",
     "text": [
      "____________________________________________________________________________________________________\n",
      "Layer (type)                     Output Shape          Param #     Connected to                     \n",
      "====================================================================================================\n",
      "embedding_2 (Embedding)          (None, 2, 4)          104         embedding_input_2[0][0]          \n",
      "____________________________________________________________________________________________________\n",
      "simplernn_2 (SimpleRNN)          (None, 256)           66816       embedding_2[0][0]                \n",
      "____________________________________________________________________________________________________\n",
      "dense_2 (Dense)                  (None, 26)            6682        simplernn_2[0][0]                \n",
      "====================================================================================================\n",
      "Total params: 73602\n",
      "____________________________________________________________________________________________________\n"
     ]
    }
   ],
   "source": [
    "model.summary()"
   ]
  },
  {
   "cell_type": "code",
   "execution_count": 40,
   "metadata": {
    "collapsed": false
   },
   "outputs": [
    {
     "data": {
      "image/svg+xml": [
       "<svg height=\"264pt\" viewBox=\"0.00 0.00 206.00 264.00\" width=\"206pt\" xmlns=\"http://www.w3.org/2000/svg\" xmlns:xlink=\"http://www.w3.org/1999/xlink\">\n",
       "<g class=\"graph\" id=\"graph0\" transform=\"scale(1 1) rotate(0) translate(4 260)\">\n",
       "<title>G</title>\n",
       "<polygon fill=\"white\" points=\"-4,4 -4,-260 202,-260 202,4 -4,4\" stroke=\"none\"/>\n",
       "<!-- 140470914889544 -->\n",
       "<g class=\"node\" id=\"node1\"><title>140470914889544</title>\n",
       "<polygon fill=\"none\" points=\"0,-219.5 0,-255.5 198,-255.5 198,-219.5 0,-219.5\" stroke=\"black\"/>\n",
       "<text font-family=\"Times,serif\" font-size=\"14.00\" text-anchor=\"middle\" x=\"99\" y=\"-233.8\">embedding_input_2 (InputLayer)</text>\n",
       "</g>\n",
       "<!-- 140470914888368 -->\n",
       "<g class=\"node\" id=\"node2\"><title>140470914888368</title>\n",
       "<polygon fill=\"none\" points=\"15.5,-146.5 15.5,-182.5 182.5,-182.5 182.5,-146.5 15.5,-146.5\" stroke=\"black\"/>\n",
       "<text font-family=\"Times,serif\" font-size=\"14.00\" text-anchor=\"middle\" x=\"99\" y=\"-160.8\">embedding_2 (Embedding)</text>\n",
       "</g>\n",
       "<!-- 140470914889544&#45;&gt;140470914888368 -->\n",
       "<g class=\"edge\" id=\"edge1\"><title>140470914889544-&gt;140470914888368</title>\n",
       "<path d=\"M99,-219.313C99,-211.289 99,-201.547 99,-192.569\" fill=\"none\" stroke=\"black\"/>\n",
       "<polygon fill=\"black\" points=\"102.5,-192.529 99,-182.529 95.5001,-192.529 102.5,-192.529\" stroke=\"black\"/>\n",
       "</g>\n",
       "<!-- 140470914888984 -->\n",
       "<g class=\"node\" id=\"node3\"><title>140470914888984</title>\n",
       "<polygon fill=\"none\" points=\"16.5,-73.5 16.5,-109.5 181.5,-109.5 181.5,-73.5 16.5,-73.5\" stroke=\"black\"/>\n",
       "<text font-family=\"Times,serif\" font-size=\"14.00\" text-anchor=\"middle\" x=\"99\" y=\"-87.8\">simplernn_2 (SimpleRNN)</text>\n",
       "</g>\n",
       "<!-- 140470914888368&#45;&gt;140470914888984 -->\n",
       "<g class=\"edge\" id=\"edge2\"><title>140470914888368-&gt;140470914888984</title>\n",
       "<path d=\"M99,-146.313C99,-138.289 99,-128.547 99,-119.569\" fill=\"none\" stroke=\"black\"/>\n",
       "<polygon fill=\"black\" points=\"102.5,-119.529 99,-109.529 95.5001,-119.529 102.5,-119.529\" stroke=\"black\"/>\n",
       "</g>\n",
       "<!-- 140470914888704 -->\n",
       "<g class=\"node\" id=\"node4\"><title>140470914888704</title>\n",
       "<polygon fill=\"none\" points=\"45.5,-0.5 45.5,-36.5 152.5,-36.5 152.5,-0.5 45.5,-0.5\" stroke=\"black\"/>\n",
       "<text font-family=\"Times,serif\" font-size=\"14.00\" text-anchor=\"middle\" x=\"99\" y=\"-14.8\">dense_2 (Dense)</text>\n",
       "</g>\n",
       "<!-- 140470914888984&#45;&gt;140470914888704 -->\n",
       "<g class=\"edge\" id=\"edge3\"><title>140470914888984-&gt;140470914888704</title>\n",
       "<path d=\"M99,-73.3129C99,-65.2895 99,-55.5475 99,-46.5691\" fill=\"none\" stroke=\"black\"/>\n",
       "<polygon fill=\"black\" points=\"102.5,-46.5288 99,-36.5288 95.5001,-46.5289 102.5,-46.5288\" stroke=\"black\"/>\n",
       "</g>\n",
       "</g>\n",
       "</svg>"
      ],
      "text/plain": [
       "<IPython.core.display.SVG object>"
      ]
     },
     "execution_count": 40,
     "metadata": {},
     "output_type": "execute_result"
    }
   ],
   "source": [
    "SVG(model_to_dot(model).create(prog='dot', format='svg'))"
   ]
  },
  {
   "cell_type": "code",
   "execution_count": 41,
   "metadata": {
    "collapsed": false
   },
   "outputs": [
    {
     "name": "stdout",
     "output_type": "stream",
     "text": [
      "Epoch 1/100\n",
      "12/12 [==============================] - 0s - loss: 3.2643     \n",
      "Epoch 2/100\n",
      "12/12 [==============================] - 0s - loss: 3.2095     \n",
      "Epoch 3/100\n",
      "12/12 [==============================] - 0s - loss: 3.1524     \n",
      "Epoch 4/100\n",
      "12/12 [==============================] - 0s - loss: 3.0354     \n",
      "Epoch 5/100\n",
      "12/12 [==============================] - 0s - loss: 2.8294     \n",
      "Epoch 6/100\n",
      "12/12 [==============================] - 0s - loss: 2.5857     \n",
      "Epoch 7/100\n",
      "12/12 [==============================] - 0s - loss: 2.3543     \n",
      "Epoch 8/100\n",
      "12/12 [==============================] - 0s - loss: 2.2121     \n",
      "Epoch 9/100\n",
      "12/12 [==============================] - 0s - loss: 2.0710     \n",
      "Epoch 10/100\n",
      "12/12 [==============================] - 0s - loss: 1.9254     \n",
      "Epoch 11/100\n",
      "12/12 [==============================] - 0s - loss: 1.7653     \n",
      "Epoch 12/100\n",
      "12/12 [==============================] - 0s - loss: 1.5966     \n",
      "Epoch 13/100\n",
      "12/12 [==============================] - 0s - loss: 1.4718     \n",
      "Epoch 14/100\n",
      "12/12 [==============================] - 0s - loss: 1.3196     \n",
      "Epoch 15/100\n",
      "12/12 [==============================] - 0s - loss: 1.1542     \n",
      "Epoch 16/100\n",
      "12/12 [==============================] - 0s - loss: 1.0468     \n",
      "Epoch 17/100\n",
      "12/12 [==============================] - 0s - loss: 0.9643     \n",
      "Epoch 18/100\n",
      "12/12 [==============================] - 0s - loss: 0.8896     \n",
      "Epoch 19/100\n",
      "12/12 [==============================] - 0s - loss: 0.8100     \n",
      "Epoch 20/100\n",
      "12/12 [==============================] - 0s - loss: 0.7129     \n",
      "Epoch 21/100\n",
      "12/12 [==============================] - 0s - loss: 0.6431     \n",
      "Epoch 22/100\n",
      "12/12 [==============================] - 0s - loss: 0.5981     \n",
      "Epoch 23/100\n",
      "12/12 [==============================] - 0s - loss: 0.5286     \n",
      "Epoch 24/100\n",
      "12/12 [==============================] - 0s - loss: 0.4513     \n",
      "Epoch 25/100\n",
      "12/12 [==============================] - 0s - loss: 0.4138     \n",
      "Epoch 26/100\n",
      "12/12 [==============================] - 0s - loss: 0.3525     \n",
      "Epoch 27/100\n",
      "12/12 [==============================] - 0s - loss: 0.2995     \n",
      "Epoch 28/100\n",
      "12/12 [==============================] - 0s - loss: 0.2732     \n",
      "Epoch 29/100\n",
      "12/12 [==============================] - 0s - loss: 0.2280     \n",
      "Epoch 30/100\n",
      "12/12 [==============================] - 0s - loss: 0.2011     \n",
      "Epoch 31/100\n",
      "12/12 [==============================] - 0s - loss: 0.1724     \n",
      "Epoch 32/100\n",
      "12/12 [==============================] - 0s - loss: 0.1531     \n",
      "Epoch 33/100\n",
      "12/12 [==============================] - 0s - loss: 0.1450     \n",
      "Epoch 34/100\n",
      "12/12 [==============================] - 0s - loss: 0.1278     \n",
      "Epoch 35/100\n",
      "12/12 [==============================] - 0s - loss: 0.1160     \n",
      "Epoch 36/100\n",
      "12/12 [==============================] - 0s - loss: 0.0993     \n",
      "Epoch 37/100\n",
      "12/12 [==============================] - 0s - loss: 0.0896     \n",
      "Epoch 38/100\n",
      "12/12 [==============================] - 0s - loss: 0.0894     \n",
      "Epoch 39/100\n",
      "12/12 [==============================] - 0s - loss: 0.0761     \n",
      "Epoch 40/100\n",
      "12/12 [==============================] - 0s - loss: 0.0700     \n",
      "Epoch 41/100\n",
      "12/12 [==============================] - 0s - loss: 0.0708     \n",
      "Epoch 42/100\n",
      "12/12 [==============================] - 0s - loss: 0.0578     \n",
      "Epoch 43/100\n",
      "12/12 [==============================] - 0s - loss: 0.0586     \n",
      "Epoch 44/100\n",
      "12/12 [==============================] - 0s - loss: 0.0527     \n",
      "Epoch 45/100\n",
      "12/12 [==============================] - 0s - loss: 0.0475     \n",
      "Epoch 46/100\n",
      "12/12 [==============================] - 0s - loss: 0.0394     \n",
      "Epoch 47/100\n",
      "12/12 [==============================] - 0s - loss: 0.0391     \n",
      "Epoch 48/100\n",
      "12/12 [==============================] - 0s - loss: 0.0343     \n",
      "Epoch 49/100\n",
      "12/12 [==============================] - 0s - loss: 0.0338     \n",
      "Epoch 50/100\n",
      "12/12 [==============================] - 0s - loss: 0.0310     \n",
      "Epoch 51/100\n",
      "12/12 [==============================] - 0s - loss: 0.0303     \n",
      "Epoch 52/100\n",
      "12/12 [==============================] - 0s - loss: 0.0248     \n",
      "Epoch 53/100\n",
      "12/12 [==============================] - 0s - loss: 0.0234     \n",
      "Epoch 54/100\n",
      "12/12 [==============================] - 0s - loss: 0.0251     \n",
      "Epoch 55/100\n",
      "12/12 [==============================] - 0s - loss: 0.0202     \n",
      "Epoch 56/100\n",
      "12/12 [==============================] - 0s - loss: 0.0185     \n",
      "Epoch 57/100\n",
      "12/12 [==============================] - 0s - loss: 0.0172     \n",
      "Epoch 58/100\n",
      "12/12 [==============================] - 0s - loss: 0.0164     \n",
      "Epoch 59/100\n",
      "12/12 [==============================] - 0s - loss: 0.0154     \n",
      "Epoch 60/100\n",
      "12/12 [==============================] - 0s - loss: 0.0143     \n",
      "Epoch 61/100\n",
      "12/12 [==============================] - 0s - loss: 0.0139     \n",
      "Epoch 62/100\n",
      "12/12 [==============================] - 0s - loss: 0.0130     \n",
      "Epoch 63/100\n",
      "12/12 [==============================] - 0s - loss: 0.0122     \n",
      "Epoch 64/100\n",
      "12/12 [==============================] - 0s - loss: 0.0118     \n",
      "Epoch 65/100\n",
      "12/12 [==============================] - 0s - loss: 0.0113     \n",
      "Epoch 66/100\n",
      "12/12 [==============================] - 0s - loss: 0.0110     \n",
      "Epoch 67/100\n",
      "12/12 [==============================] - 0s - loss: 0.0101     \n",
      "Epoch 68/100\n",
      "12/12 [==============================] - 0s - loss: 0.0094     \n",
      "Epoch 69/100\n",
      "12/12 [==============================] - 0s - loss: 0.0090     \n",
      "Epoch 70/100\n",
      "12/12 [==============================] - 0s - loss: 0.0089     \n",
      "Epoch 71/100\n",
      "12/12 [==============================] - 0s - loss: 0.0082     \n",
      "Epoch 72/100\n",
      "12/12 [==============================] - 0s - loss: 0.0079     \n",
      "Epoch 73/100\n",
      "12/12 [==============================] - 0s - loss: 0.0078     \n",
      "Epoch 74/100\n",
      "12/12 [==============================] - 0s - loss: 0.0072     \n",
      "Epoch 75/100\n",
      "12/12 [==============================] - 0s - loss: 0.0070     \n",
      "Epoch 76/100\n",
      "12/12 [==============================] - 0s - loss: 0.0068     \n",
      "Epoch 77/100\n",
      "12/12 [==============================] - 0s - loss: 0.0065     \n",
      "Epoch 78/100\n",
      "12/12 [==============================] - 0s - loss: 0.0064     \n",
      "Epoch 79/100\n",
      "12/12 [==============================] - 0s - loss: 0.0059     \n",
      "Epoch 80/100\n",
      "12/12 [==============================] - 0s - loss: 0.0057     \n",
      "Epoch 81/100\n",
      "12/12 [==============================] - 0s - loss: 0.0056     \n",
      "Epoch 82/100\n",
      "12/12 [==============================] - 0s - loss: 0.0053     \n",
      "Epoch 83/100\n",
      "12/12 [==============================] - 0s - loss: 0.0051     \n",
      "Epoch 84/100\n",
      "12/12 [==============================] - 0s - loss: 0.0049     \n",
      "Epoch 85/100\n",
      "12/12 [==============================] - 0s - loss: 0.0047     \n",
      "Epoch 86/100\n",
      "12/12 [==============================] - 0s - loss: 0.0046     \n",
      "Epoch 87/100\n",
      "12/12 [==============================] - 0s - loss: 0.0044     \n",
      "Epoch 88/100\n",
      "12/12 [==============================] - 0s - loss: 0.0043     \n",
      "Epoch 89/100\n",
      "12/12 [==============================] - 0s - loss: 0.0041     \n",
      "Epoch 90/100\n",
      "12/12 [==============================] - 0s - loss: 0.0040     \n",
      "Epoch 91/100\n",
      "12/12 [==============================] - 0s - loss: 0.0039     \n",
      "Epoch 92/100\n",
      "12/12 [==============================] - 0s - loss: 0.0038     \n",
      "Epoch 93/100\n",
      "12/12 [==============================] - 0s - loss: 0.0037     \n",
      "Epoch 94/100\n",
      "12/12 [==============================] - 0s - loss: 0.0035     \n",
      "Epoch 95/100\n",
      "12/12 [==============================] - 0s - loss: 0.0034     \n",
      "Epoch 96/100\n",
      "12/12 [==============================] - 0s - loss: 0.0033     \n",
      "Epoch 97/100\n",
      "12/12 [==============================] - 0s - loss: 0.0032     \n",
      "Epoch 98/100\n",
      "12/12 [==============================] - 0s - loss: 0.0031     \n",
      "Epoch 99/100\n",
      "12/12 [==============================] - 0s - loss: 0.0030     \n",
      "Epoch 100/100\n",
      "12/12 [==============================] - 0s - loss: 0.0030     \n"
     ]
    },
    {
     "data": {
      "text/plain": [
       "<keras.callbacks.History at 0x7fc1ee009c88>"
      ]
     },
     "execution_count": 41,
     "metadata": {},
     "output_type": "execute_result"
    }
   ],
   "source": [
    "model.fit(np.stack(xs,1), y, batch_size=1, nb_epoch=100)"
   ]
  },
  {
   "cell_type": "code",
   "execution_count": 42,
   "metadata": {
    "collapsed": true
   },
   "outputs": [],
   "source": [
    "model.save('./models/dev_fast_ai_first_RNN_keras.h5')"
   ]
  },
  {
   "cell_type": "markdown",
   "metadata": {},
   "source": [
    "### Test model"
   ]
  },
  {
   "cell_type": "code",
   "execution_count": 43,
   "metadata": {
    "collapsed": true
   },
   "outputs": [],
   "source": [
    "def get_next_keras(inp):\n",
    "    idxs = [corpora.token2id[c] for c in inp]\n",
    "    arrs = np.array(idxs)[np.newaxis,:]\n",
    "    p = model.predict(arrs)[0]\n",
    "    return corpora.id2token[np.argmax(p)]"
   ]
  },
  {
   "cell_type": "code",
   "execution_count": 44,
   "metadata": {
    "collapsed": false
   },
   "outputs": [
    {
     "data": {
      "text/plain": [
       "'three'"
      ]
     },
     "execution_count": 44,
     "metadata": {},
     "output_type": "execute_result"
    }
   ],
   "source": [
    "get_next_keras(['One', 'two'])"
   ]
  },
  {
   "cell_type": "code",
   "execution_count": 45,
   "metadata": {
    "collapsed": true
   },
   "outputs": [],
   "source": [
    "test_cases_text = pd.read_csv('./data/test_cases_text.csv')\n",
    "pred = []\n",
    "for index, row in test_cases_text.iterrows():\n",
    "    #print( '%s %s'%(row['in_0'], row['in_1']))\n",
    "    inp = [row['in_0'], row['in_1']]\n",
    "    #print(inp)\n",
    "    tmp = get_next_keras(inp)\n",
    "    pred.append(tmp)\n",
    "test_cases_text['predicted'] = pred"
   ]
  },
  {
   "cell_type": "code",
   "execution_count": 46,
   "metadata": {
    "collapsed": false
   },
   "outputs": [
    {
     "data": {
      "text/html": [
       "<div>\n",
       "<table border=\"1\" class=\"dataframe\">\n",
       "  <thead>\n",
       "    <tr style=\"text-align: right;\">\n",
       "      <th></th>\n",
       "      <th>in_0</th>\n",
       "      <th>in_1</th>\n",
       "      <th>out</th>\n",
       "      <th>predicted</th>\n",
       "    </tr>\n",
       "  </thead>\n",
       "  <tbody>\n",
       "    <tr>\n",
       "      <th>0</th>\n",
       "      <td>One</td>\n",
       "      <td>two</td>\n",
       "      <td>three</td>\n",
       "      <td>three</td>\n",
       "    </tr>\n",
       "    <tr>\n",
       "      <th>2</th>\n",
       "      <td>three</td>\n",
       "      <td>four</td>\n",
       "      <td>five</td>\n",
       "      <td>five</td>\n",
       "    </tr>\n",
       "    <tr>\n",
       "      <th>4</th>\n",
       "      <td>five</td>\n",
       "      <td>six</td>\n",
       "      <td>seven</td>\n",
       "      <td>seven</td>\n",
       "    </tr>\n",
       "    <tr>\n",
       "      <th>6</th>\n",
       "      <td>seven</td>\n",
       "      <td>eight</td>\n",
       "      <td>nine</td>\n",
       "      <td>nine</td>\n",
       "    </tr>\n",
       "    <tr>\n",
       "      <th>8</th>\n",
       "      <td>nine</td>\n",
       "      <td>ten</td>\n",
       "      <td>.</td>\n",
       "      <td>.</td>\n",
       "    </tr>\n",
       "    <tr>\n",
       "      <th>10</th>\n",
       "      <td>.</td>\n",
       "      <td>The</td>\n",
       "      <td>quick</td>\n",
       "      <td>quick</td>\n",
       "    </tr>\n",
       "    <tr>\n",
       "      <th>12</th>\n",
       "      <td>quick</td>\n",
       "      <td>brown</td>\n",
       "      <td>fox</td>\n",
       "      <td>fox</td>\n",
       "    </tr>\n",
       "    <tr>\n",
       "      <th>14</th>\n",
       "      <td>fox</td>\n",
       "      <td>jumps</td>\n",
       "      <td>over</td>\n",
       "      <td>over</td>\n",
       "    </tr>\n",
       "    <tr>\n",
       "      <th>16</th>\n",
       "      <td>over</td>\n",
       "      <td>a</td>\n",
       "      <td>lazy</td>\n",
       "      <td>lazy</td>\n",
       "    </tr>\n",
       "    <tr>\n",
       "      <th>18</th>\n",
       "      <td>lazy</td>\n",
       "      <td>dog</td>\n",
       "      <td>.</td>\n",
       "      <td>.</td>\n",
       "    </tr>\n",
       "    <tr>\n",
       "      <th>20</th>\n",
       "      <td>.</td>\n",
       "      <td>How</td>\n",
       "      <td>are</td>\n",
       "      <td>are</td>\n",
       "    </tr>\n",
       "    <tr>\n",
       "      <th>22</th>\n",
       "      <td>are</td>\n",
       "      <td>you</td>\n",
       "      <td>?</td>\n",
       "      <td>?</td>\n",
       "    </tr>\n",
       "  </tbody>\n",
       "</table>\n",
       "</div>"
      ],
      "text/plain": [
       "     in_0   in_1    out predicted\n",
       "0     One    two  three     three\n",
       "2   three   four   five      five\n",
       "4    five    six  seven     seven\n",
       "6   seven  eight   nine      nine\n",
       "8    nine    ten      .         .\n",
       "10      .    The  quick     quick\n",
       "12  quick  brown    fox       fox\n",
       "14    fox  jumps   over      over\n",
       "16   over      a   lazy      lazy\n",
       "18   lazy    dog      .         .\n",
       "20      .    How    are       are\n",
       "22    are    you      ?         ?"
      ]
     },
     "execution_count": 46,
     "metadata": {},
     "output_type": "execute_result"
    }
   ],
   "source": [
    "test_cases_text[test_cases_text.out==test_cases_text.predicted]"
   ]
  },
  {
   "cell_type": "code",
   "execution_count": 47,
   "metadata": {
    "collapsed": false
   },
   "outputs": [
    {
     "name": "stdout",
     "output_type": "stream",
     "text": [
      "True cnt: 12 All cnt 28\n",
      "Precision: 0.43\n"
     ]
    }
   ],
   "source": [
    "true_cnt = len(test_cases_text[test_cases_text.out==test_cases_text.predicted].index) * 1.0\n",
    "all_cnt = len(test_cases_text.index) * 1.0\n",
    "print('True cnt: %d All cnt %d'%(true_cnt, all_cnt))\n",
    "print(\"Precision: %.2f\"%( true_cnt/all_cnt))"
   ]
  }
 ],
 "metadata": {
  "kernelspec": {
   "display_name": "Python 3",
   "language": "python",
   "name": "python3"
  },
  "language_info": {
   "codemirror_mode": {
    "name": "ipython",
    "version": 3
   },
   "file_extension": ".py",
   "mimetype": "text/x-python",
   "name": "python",
   "nbconvert_exporter": "python",
   "pygments_lexer": "ipython3",
   "version": "3.5.2"
  }
 },
 "nbformat": 4,
 "nbformat_minor": 1
}
