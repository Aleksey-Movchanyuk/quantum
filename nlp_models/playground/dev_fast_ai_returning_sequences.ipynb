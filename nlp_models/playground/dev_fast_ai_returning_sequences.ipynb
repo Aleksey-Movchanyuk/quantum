{
 "cells": [
  {
   "cell_type": "code",
   "execution_count": 1,
   "metadata": {
    "collapsed": false
   },
   "outputs": [
    {
     "name": "stderr",
     "output_type": "stream",
     "text": [
      "Using Theano backend.\n"
     ]
    }
   ],
   "source": [
    "import numpy as np\n",
    "import gensim\n",
    "from keras.models import Sequential, Model\n",
    "from keras.layers import Dense, LSTM, Input, Embedding, Flatten, merge\n",
    "from keras.optimizers import Adam\n",
    "from keras.utils import np_utils\n",
    "from IPython.display import SVG\n",
    "from keras.utils.visualize_util import plot\n",
    "from keras.utils.visualize_util import model_to_dot\n",
    "from keras.preprocessing.sequence import pad_sequences\n",
    "from keras.callbacks import ModelCheckpoint\n",
    "import pickle\n",
    "import pandas as pd"
   ]
  },
  {
   "cell_type": "code",
   "execution_count": 2,
   "metadata": {
    "collapsed": false
   },
   "outputs": [
    {
     "name": "stdout",
     "output_type": "stream",
     "text": [
      "Number of words in corpora: 26\n"
     ]
    }
   ],
   "source": [
    "corpora = gensim.corpora.Dictionary.load('./data/corpora.dat')\n",
    "vocab_size = len(corpora)\n",
    "print('Number of words in corpora: %d'%(vocab_size))"
   ]
  },
  {
   "cell_type": "code",
   "execution_count": 3,
   "metadata": {
    "collapsed": true
   },
   "outputs": [],
   "source": [
    "tmp = list(corpora.items())"
   ]
  },
  {
   "cell_type": "code",
   "execution_count": 4,
   "metadata": {
    "collapsed": true
   },
   "outputs": [],
   "source": [
    "#the_filename = './data/wonderland.txt.dat'\n",
    "the_filename = './data/test.txt.dat'\n",
    "with open(the_filename, 'rb') as f:\n",
    "    text = pickle.load(f)"
   ]
  },
  {
   "cell_type": "code",
   "execution_count": 5,
   "metadata": {
    "collapsed": false
   },
   "outputs": [
    {
     "name": "stdout",
     "output_type": "stream",
     "text": [
      "�\u0003]q\u0000(K\u0002K\u0000K\u0004K\bK\u0003K\u0006K\u0005K\tK\u0007K\u0001K\r\n",
      "K\f",
      "K\r",
      "K\u000b",
      "K\u000fK\u0011K\u0010K\u0013K\u0012K\u000eK\r\n",
      "K\u0016K\u0015K\u0017K\u0014K\u0019K\u0015K\u0017K\u0018K\u0014e."
     ]
    }
   ],
   "source": [
    "! tail ./data/test.txt.dat"
   ]
  },
  {
   "cell_type": "markdown",
   "metadata": {},
   "source": [
    "### Generate words patterns - 2 words model"
   ]
  },
  {
   "cell_type": "code",
   "execution_count": 6,
   "metadata": {
    "collapsed": true
   },
   "outputs": [],
   "source": [
    "cs=2"
   ]
  },
  {
   "cell_type": "code",
   "execution_count": 7,
   "metadata": {
    "collapsed": true
   },
   "outputs": [],
   "source": [
    "c_in_dat = [[text[i+n] for i in range(0, len(text)-1-cs, cs)]\n",
    "            for n in range(cs)]"
   ]
  },
  {
   "cell_type": "code",
   "execution_count": 8,
   "metadata": {
    "collapsed": true
   },
   "outputs": [],
   "source": [
    "xs = [np.stack(c[:-2]) for c in c_in_dat]"
   ]
  },
  {
   "cell_type": "code",
   "execution_count": 9,
   "metadata": {
    "collapsed": false
   },
   "outputs": [],
   "source": [
    "c_out_dat = [[text[i+n] for i in range(1, len(text)-cs, cs)]\n",
    "            for n in range(cs)]"
   ]
  },
  {
   "cell_type": "code",
   "execution_count": 10,
   "metadata": {
    "collapsed": true
   },
   "outputs": [],
   "source": [
    "ys = [np.stack(c[:-2]) for c in c_out_dat]"
   ]
  },
  {
   "cell_type": "code",
   "execution_count": 11,
   "metadata": {
    "collapsed": false
   },
   "outputs": [],
   "source": [
    "#print([[corpora.id2token[id] for id in v] for v in c_in_dat])"
   ]
  },
  {
   "cell_type": "code",
   "execution_count": 12,
   "metadata": {
    "collapsed": false
   },
   "outputs": [],
   "source": [
    "#print([[corpora.id2token[id] for id in v] for v in c_out_dat])"
   ]
  },
  {
   "cell_type": "code",
   "execution_count": 13,
   "metadata": {
    "collapsed": false
   },
   "outputs": [
    {
     "data": {
      "text/plain": [
       "[array([2, 4]), array([0, 8])]"
      ]
     },
     "execution_count": 13,
     "metadata": {},
     "output_type": "execute_result"
    }
   ],
   "source": [
    "[xs[n][:cs] for n in range(cs)]"
   ]
  },
  {
   "cell_type": "code",
   "execution_count": 14,
   "metadata": {
    "collapsed": false
   },
   "outputs": [
    {
     "data": {
      "text/plain": [
       "[array([0, 8]), array([4, 3])]"
      ]
     },
     "execution_count": 14,
     "metadata": {},
     "output_type": "execute_result"
    }
   ],
   "source": [
    "[ys[n][:cs] for n in range(cs)]"
   ]
  },
  {
   "cell_type": "markdown",
   "metadata": {},
   "source": [
    "### Create and train model"
   ]
  },
  {
   "cell_type": "code",
   "execution_count": 15,
   "metadata": {
    "collapsed": true
   },
   "outputs": [],
   "source": [
    "n_hidden = 256\n",
    "n_fac = 4"
   ]
  },
  {
   "cell_type": "code",
   "execution_count": 16,
   "metadata": {
    "collapsed": true
   },
   "outputs": [],
   "source": [
    "def embedding_input(name, n_in, n_out):\n",
    "    inp = Input(shape=(1,), dtype='int64', name=name+'_in')\n",
    "    emb = Embedding(n_in, n_out, input_length=1, name=name+'_emb')(inp)\n",
    "    return inp, Flatten()(emb)"
   ]
  },
  {
   "cell_type": "code",
   "execution_count": 17,
   "metadata": {
    "collapsed": true
   },
   "outputs": [],
   "source": [
    "c_ins = [embedding_input('c'+str(n), vocab_size, n_fac) for n in range(cs)]"
   ]
  },
  {
   "cell_type": "code",
   "execution_count": 18,
   "metadata": {
    "collapsed": false
   },
   "outputs": [],
   "source": [
    "dense_in = Dense(n_hidden, activation='relu')\n",
    "dense_hidden = Dense(n_hidden, activation='relu', init='identity')\n",
    "dense_out = Dense(vocab_size, activation='softmax', name='output')"
   ]
  },
  {
   "cell_type": "code",
   "execution_count": 19,
   "metadata": {
    "collapsed": true
   },
   "outputs": [],
   "source": [
    "# We're going to pass a vector of all zeros as our starting point - here's our input layers for that:\n",
    "inp1 = Input(shape=(n_fac,), name='zeros')\n",
    "hidden = dense_in(inp1)"
   ]
  },
  {
   "cell_type": "code",
   "execution_count": 20,
   "metadata": {
    "collapsed": false
   },
   "outputs": [],
   "source": [
    "outs = []\n",
    "\n",
    "for i in range(cs):\n",
    "    c_dense = dense_in(c_ins[i][1])\n",
    "    hidden = dense_hidden(hidden)\n",
    "    hidden = merge([c_dense, hidden], mode='sum')\n",
    "    # every layer now has an output\n",
    "    outs.append(dense_out(hidden))"
   ]
  },
  {
   "cell_type": "code",
   "execution_count": 21,
   "metadata": {
    "collapsed": true
   },
   "outputs": [],
   "source": [
    "model = Model([inp1] + [c[0] for c in c_ins], outs)\n",
    "model.compile(loss='sparse_categorical_crossentropy', optimizer=Adam())"
   ]
  },
  {
   "cell_type": "code",
   "execution_count": 22,
   "metadata": {
    "collapsed": false
   },
   "outputs": [
    {
     "name": "stdout",
     "output_type": "stream",
     "text": [
      "____________________________________________________________________________________________________\n",
      "Layer (type)                     Output Shape          Param #     Connected to                     \n",
      "====================================================================================================\n",
      "c0_in (InputLayer)               (None, 1)             0                                            \n",
      "____________________________________________________________________________________________________\n",
      "c0_emb (Embedding)               (None, 1, 4)          104         c0_in[0][0]                      \n",
      "____________________________________________________________________________________________________\n",
      "zeros (InputLayer)               (None, 4)             0                                            \n",
      "____________________________________________________________________________________________________\n",
      "c1_in (InputLayer)               (None, 1)             0                                            \n",
      "____________________________________________________________________________________________________\n",
      "dense_1 (Dense)                  (None, 256)           1280        zeros[0][0]                      \n",
      "                                                                   flatten_1[0][0]                  \n",
      "                                                                   flatten_2[0][0]                  \n",
      "____________________________________________________________________________________________________\n",
      "flatten_1 (Flatten)              (None, 4)             0           c0_emb[0][0]                     \n",
      "____________________________________________________________________________________________________\n",
      "c1_emb (Embedding)               (None, 1, 4)          104         c1_in[0][0]                      \n",
      "____________________________________________________________________________________________________\n",
      "dense_2 (Dense)                  (None, 256)           65792       dense_1[0][0]                    \n",
      "                                                                   merge_1[0][0]                    \n",
      "____________________________________________________________________________________________________\n",
      "flatten_2 (Flatten)              (None, 4)             0           c1_emb[0][0]                     \n",
      "____________________________________________________________________________________________________\n",
      "merge_1 (Merge)                  (None, 256)           0           dense_1[1][0]                    \n",
      "                                                                   dense_2[0][0]                    \n",
      "____________________________________________________________________________________________________\n",
      "merge_2 (Merge)                  (None, 256)           0           dense_1[2][0]                    \n",
      "                                                                   dense_2[1][0]                    \n",
      "____________________________________________________________________________________________________\n",
      "output (Dense)                   (None, 26)            6682        merge_1[0][0]                    \n",
      "                                                                   merge_2[0][0]                    \n",
      "====================================================================================================\n",
      "Total params: 73962\n",
      "____________________________________________________________________________________________________\n"
     ]
    }
   ],
   "source": [
    "model.summary()"
   ]
  },
  {
   "cell_type": "code",
   "execution_count": 23,
   "metadata": {
    "collapsed": false
   },
   "outputs": [
    {
     "data": {
      "image/svg+xml": [
       "<svg height=\"483pt\" viewBox=\"0.00 0.00 414.00 483.00\" width=\"414pt\" xmlns=\"http://www.w3.org/2000/svg\" xmlns:xlink=\"http://www.w3.org/1999/xlink\">\n",
       "<g class=\"graph\" id=\"graph0\" transform=\"scale(1 1) rotate(0) translate(4 479)\">\n",
       "<title>G</title>\n",
       "<polygon fill=\"white\" points=\"-4,4 -4,-479 410,-479 410,4 -4,4\" stroke=\"none\"/>\n",
       "<!-- 140467062731720 -->\n",
       "<g class=\"node\" id=\"node1\"><title>140467062731720</title>\n",
       "<polygon fill=\"none\" points=\"8.5,-438.5 8.5,-474.5 127.5,-474.5 127.5,-438.5 8.5,-438.5\" stroke=\"black\"/>\n",
       "<text font-family=\"Times,serif\" font-size=\"14.00\" text-anchor=\"middle\" x=\"68\" y=\"-452.8\">c0_in (InputLayer)</text>\n",
       "</g>\n",
       "<!-- 140467062732112 -->\n",
       "<g class=\"node\" id=\"node2\"><title>140467062732112</title>\n",
       "<polygon fill=\"none\" points=\"0,-365.5 0,-401.5 136,-401.5 136,-365.5 0,-365.5\" stroke=\"black\"/>\n",
       "<text font-family=\"Times,serif\" font-size=\"14.00\" text-anchor=\"middle\" x=\"68\" y=\"-379.8\">c0_emb (Embedding)</text>\n",
       "</g>\n",
       "<!-- 140467062731720&#45;&gt;140467062732112 -->\n",
       "<g class=\"edge\" id=\"edge1\"><title>140467062731720-&gt;140467062732112</title>\n",
       "<path d=\"M68,-438.313C68,-430.289 68,-420.547 68,-411.569\" fill=\"none\" stroke=\"black\"/>\n",
       "<polygon fill=\"black\" points=\"71.5001,-411.529 68,-401.529 64.5001,-411.529 71.5001,-411.529\" stroke=\"black\"/>\n",
       "</g>\n",
       "<!-- 140467052551752 -->\n",
       "<g class=\"node\" id=\"node6\"><title>140467052551752</title>\n",
       "<polygon fill=\"none\" points=\"10.5,-292.5 10.5,-328.5 125.5,-328.5 125.5,-292.5 10.5,-292.5\" stroke=\"black\"/>\n",
       "<text font-family=\"Times,serif\" font-size=\"14.00\" text-anchor=\"middle\" x=\"68\" y=\"-306.8\">flatten_1 (Flatten)</text>\n",
       "</g>\n",
       "<!-- 140467062732112&#45;&gt;140467052551752 -->\n",
       "<g class=\"edge\" id=\"edge5\"><title>140467062732112-&gt;140467052551752</title>\n",
       "<path d=\"M68,-365.313C68,-357.289 68,-347.547 68,-338.569\" fill=\"none\" stroke=\"black\"/>\n",
       "<polygon fill=\"black\" points=\"71.5001,-338.529 68,-328.529 64.5001,-338.529 71.5001,-338.529\" stroke=\"black\"/>\n",
       "</g>\n",
       "<!-- 140467062731552 -->\n",
       "<g class=\"node\" id=\"node3\"><title>140467062731552</title>\n",
       "<polygon fill=\"none\" points=\"144,-292.5 144,-328.5 262,-328.5 262,-292.5 144,-292.5\" stroke=\"black\"/>\n",
       "<text font-family=\"Times,serif\" font-size=\"14.00\" text-anchor=\"middle\" x=\"203\" y=\"-306.8\">zeros (InputLayer)</text>\n",
       "</g>\n",
       "<!-- 140467051772616 -->\n",
       "<g class=\"node\" id=\"node5\"><title>140467051772616</title>\n",
       "<polygon fill=\"none\" points=\"149.5,-219.5 149.5,-255.5 256.5,-255.5 256.5,-219.5 149.5,-219.5\" stroke=\"black\"/>\n",
       "<text font-family=\"Times,serif\" font-size=\"14.00\" text-anchor=\"middle\" x=\"203\" y=\"-233.8\">dense_1 (Dense)</text>\n",
       "</g>\n",
       "<!-- 140467062731552&#45;&gt;140467051772616 -->\n",
       "<g class=\"edge\" id=\"edge2\"><title>140467062731552-&gt;140467051772616</title>\n",
       "<path d=\"M203,-292.313C203,-284.289 203,-274.547 203,-265.569\" fill=\"none\" stroke=\"black\"/>\n",
       "<polygon fill=\"black\" points=\"206.5,-265.529 203,-255.529 199.5,-265.529 206.5,-265.529\" stroke=\"black\"/>\n",
       "</g>\n",
       "<!-- 140467065337952 -->\n",
       "<g class=\"node\" id=\"node4\"><title>140467065337952</title>\n",
       "<polygon fill=\"none\" points=\"278.5,-438.5 278.5,-474.5 397.5,-474.5 397.5,-438.5 278.5,-438.5\" stroke=\"black\"/>\n",
       "<text font-family=\"Times,serif\" font-size=\"14.00\" text-anchor=\"middle\" x=\"338\" y=\"-452.8\">c1_in (InputLayer)</text>\n",
       "</g>\n",
       "<!-- 140467052678000 -->\n",
       "<g class=\"node\" id=\"node7\"><title>140467052678000</title>\n",
       "<polygon fill=\"none\" points=\"270,-365.5 270,-401.5 406,-401.5 406,-365.5 270,-365.5\" stroke=\"black\"/>\n",
       "<text font-family=\"Times,serif\" font-size=\"14.00\" text-anchor=\"middle\" x=\"338\" y=\"-379.8\">c1_emb (Embedding)</text>\n",
       "</g>\n",
       "<!-- 140467065337952&#45;&gt;140467052678000 -->\n",
       "<g class=\"edge\" id=\"edge6\"><title>140467065337952-&gt;140467052678000</title>\n",
       "<path d=\"M338,-438.313C338,-430.289 338,-420.547 338,-411.569\" fill=\"none\" stroke=\"black\"/>\n",
       "<polygon fill=\"black\" points=\"341.5,-411.529 338,-401.529 334.5,-411.529 341.5,-411.529\" stroke=\"black\"/>\n",
       "</g>\n",
       "<!-- 140467051772672 -->\n",
       "<g class=\"node\" id=\"node8\"><title>140467051772672</title>\n",
       "<polygon fill=\"none\" points=\"149.5,-146.5 149.5,-182.5 256.5,-182.5 256.5,-146.5 149.5,-146.5\" stroke=\"black\"/>\n",
       "<text font-family=\"Times,serif\" font-size=\"14.00\" text-anchor=\"middle\" x=\"203\" y=\"-160.8\">dense_2 (Dense)</text>\n",
       "</g>\n",
       "<!-- 140467051772616&#45;&gt;140467051772672 -->\n",
       "<g class=\"edge\" id=\"edge7\"><title>140467051772616-&gt;140467051772672</title>\n",
       "<path d=\"M203,-219.313C203,-211.289 203,-201.547 203,-192.569\" fill=\"none\" stroke=\"black\"/>\n",
       "<polygon fill=\"black\" points=\"206.5,-192.529 203,-182.529 199.5,-192.529 206.5,-192.529\" stroke=\"black\"/>\n",
       "</g>\n",
       "<!-- 140467051592784 -->\n",
       "<g class=\"node\" id=\"node10\"><title>140467051592784</title>\n",
       "<polygon fill=\"none\" points=\"80.5,-73.5 80.5,-109.5 193.5,-109.5 193.5,-73.5 80.5,-73.5\" stroke=\"black\"/>\n",
       "<text font-family=\"Times,serif\" font-size=\"14.00\" text-anchor=\"middle\" x=\"137\" y=\"-87.8\">merge_1 (Merge)</text>\n",
       "</g>\n",
       "<!-- 140467051772616&#45;&gt;140467051592784 -->\n",
       "<g class=\"edge\" id=\"edge10\"><title>140467051772616-&gt;140467051592784</title>\n",
       "<path d=\"M173.578,-219.447C160.853,-210.378 147.239,-197.988 140,-183 130.525,-163.384 130.429,-138.487 132.334,-119.774\" fill=\"none\" stroke=\"black\"/>\n",
       "<polygon fill=\"black\" points=\"135.81,-120.182 133.591,-109.822 128.866,-119.305 135.81,-120.182\" stroke=\"black\"/>\n",
       "</g>\n",
       "<!-- 140467051653328 -->\n",
       "<g class=\"node\" id=\"node11\"><title>140467051653328</title>\n",
       "<polygon fill=\"none\" points=\"211.5,-73.5 211.5,-109.5 324.5,-109.5 324.5,-73.5 211.5,-73.5\" stroke=\"black\"/>\n",
       "<text font-family=\"Times,serif\" font-size=\"14.00\" text-anchor=\"middle\" x=\"268\" y=\"-87.8\">merge_2 (Merge)</text>\n",
       "</g>\n",
       "<!-- 140467051772616&#45;&gt;140467051653328 -->\n",
       "<g class=\"edge\" id=\"edge12\"><title>140467051772616-&gt;140467051653328</title>\n",
       "<path d=\"M231.964,-219.349C244.489,-210.258 257.886,-197.879 265,-183 274.397,-163.346 274.5,-138.453 272.617,-119.75\" fill=\"none\" stroke=\"black\"/>\n",
       "<polygon fill=\"black\" points=\"276.087,-119.294 271.374,-109.805 269.141,-120.162 276.087,-119.294\" stroke=\"black\"/>\n",
       "</g>\n",
       "<!-- 140467052551752&#45;&gt;140467051772616 -->\n",
       "<g class=\"edge\" id=\"edge3\"><title>140467052551752-&gt;140467051772616</title>\n",
       "<path d=\"M100.336,-292.494C118.652,-282.861 141.762,-270.707 161.415,-260.37\" fill=\"none\" stroke=\"black\"/>\n",
       "<polygon fill=\"black\" points=\"163.239,-263.366 170.46,-255.614 159.98,-257.171 163.239,-263.366\" stroke=\"black\"/>\n",
       "</g>\n",
       "<!-- 140467051770768 -->\n",
       "<g class=\"node\" id=\"node9\"><title>140467051770768</title>\n",
       "<polygon fill=\"none\" points=\"280.5,-292.5 280.5,-328.5 395.5,-328.5 395.5,-292.5 280.5,-292.5\" stroke=\"black\"/>\n",
       "<text font-family=\"Times,serif\" font-size=\"14.00\" text-anchor=\"middle\" x=\"338\" y=\"-306.8\">flatten_2 (Flatten)</text>\n",
       "</g>\n",
       "<!-- 140467052678000&#45;&gt;140467051770768 -->\n",
       "<g class=\"edge\" id=\"edge9\"><title>140467052678000-&gt;140467051770768</title>\n",
       "<path d=\"M338,-365.313C338,-357.289 338,-347.547 338,-338.569\" fill=\"none\" stroke=\"black\"/>\n",
       "<polygon fill=\"black\" points=\"341.5,-338.529 338,-328.529 334.5,-338.529 341.5,-338.529\" stroke=\"black\"/>\n",
       "</g>\n",
       "<!-- 140467051772672&#45;&gt;140467051592784 -->\n",
       "<g class=\"edge\" id=\"edge11\"><title>140467051772672-&gt;140467051592784</title>\n",
       "<path d=\"M180.102,-138.867C173.493,-131.758 166.286,-124.005 159.69,-116.909\" fill=\"none\" stroke=\"black\"/>\n",
       "<polygon fill=\"black\" points=\"177.651,-141.372 187.023,-146.313 182.778,-136.606 177.651,-141.372\" stroke=\"black\"/>\n",
       "<polygon fill=\"black\" points=\"162.202,-114.47 152.83,-109.529 157.075,-119.236 162.202,-114.47\" stroke=\"black\"/>\n",
       "</g>\n",
       "<!-- 140467051772672&#45;&gt;140467051653328 -->\n",
       "<g class=\"edge\" id=\"edge13\"><title>140467051772672-&gt;140467051653328</title>\n",
       "<path d=\"M218.735,-146.313C226.799,-137.505 236.759,-126.625 245.608,-116.958\" fill=\"none\" stroke=\"black\"/>\n",
       "<polygon fill=\"black\" points=\"248.239,-119.268 252.41,-109.529 243.076,-114.541 248.239,-119.268\" stroke=\"black\"/>\n",
       "</g>\n",
       "<!-- 140467051770768&#45;&gt;140467051772616 -->\n",
       "<g class=\"edge\" id=\"edge4\"><title>140467051770768-&gt;140467051772616</title>\n",
       "<path d=\"M305.664,-292.494C287.348,-282.861 264.238,-270.707 244.585,-260.37\" fill=\"none\" stroke=\"black\"/>\n",
       "<polygon fill=\"black\" points=\"246.02,-257.171 235.54,-255.614 242.761,-263.366 246.02,-257.171\" stroke=\"black\"/>\n",
       "</g>\n",
       "<!-- 140467051772896 -->\n",
       "<g class=\"node\" id=\"node12\"><title>140467051772896</title>\n",
       "<polygon fill=\"none\" points=\"153,-0.5 153,-36.5 251,-36.5 251,-0.5 153,-0.5\" stroke=\"black\"/>\n",
       "<text font-family=\"Times,serif\" font-size=\"14.00\" text-anchor=\"middle\" x=\"202\" y=\"-14.8\">output (Dense)</text>\n",
       "</g>\n",
       "<!-- 140467051592784&#45;&gt;140467051772896 -->\n",
       "<g class=\"edge\" id=\"edge14\"><title>140467051592784-&gt;140467051772896</title>\n",
       "<path d=\"M152.735,-73.3129C160.799,-64.5046 170.759,-53.625 179.608,-43.9584\" fill=\"none\" stroke=\"black\"/>\n",
       "<polygon fill=\"black\" points=\"182.239,-46.2681 186.41,-36.5288 177.076,-41.5413 182.239,-46.2681\" stroke=\"black\"/>\n",
       "</g>\n",
       "<!-- 140467051653328&#45;&gt;140467051772896 -->\n",
       "<g class=\"edge\" id=\"edge15\"><title>140467051653328-&gt;140467051772896</title>\n",
       "<path d=\"M252.023,-73.3129C243.835,-64.5046 233.722,-53.625 224.736,-43.9584\" fill=\"none\" stroke=\"black\"/>\n",
       "<polygon fill=\"black\" points=\"227.202,-41.4702 217.83,-36.5288 222.075,-46.2361 227.202,-41.4702\" stroke=\"black\"/>\n",
       "</g>\n",
       "</g>\n",
       "</svg>"
      ],
      "text/plain": [
       "<IPython.core.display.SVG object>"
      ]
     },
     "execution_count": 23,
     "metadata": {},
     "output_type": "execute_result"
    }
   ],
   "source": [
    "SVG(model_to_dot(model).create(prog='dot', format='svg'))"
   ]
  },
  {
   "cell_type": "code",
   "execution_count": 24,
   "metadata": {
    "collapsed": false
   },
   "outputs": [
    {
     "data": {
      "text/plain": [
       "(12, 4)"
      ]
     },
     "execution_count": 24,
     "metadata": {},
     "output_type": "execute_result"
    }
   ],
   "source": [
    "zeros = np.tile(np.zeros(n_fac), (len(xs[0]),1))\n",
    "zeros.shape"
   ]
  },
  {
   "cell_type": "code",
   "execution_count": 25,
   "metadata": {
    "collapsed": false
   },
   "outputs": [
    {
     "name": "stdout",
     "output_type": "stream",
     "text": [
      "Epoch 1/100\n",
      "12/12 [==============================] - 0s - loss: 6.5399 - output_loss_1: 3.2696 - output_loss_2: 3.2703     \n",
      "Epoch 2/100\n",
      "12/12 [==============================] - 0s - loss: 6.4884 - output_loss_1: 3.2611 - output_loss_2: 3.2273     \n",
      "Epoch 3/100\n",
      "12/12 [==============================] - 0s - loss: 6.4470 - output_loss_1: 3.2609 - output_loss_2: 3.1861     \n",
      "Epoch 4/100\n",
      "12/12 [==============================] - 0s - loss: 6.3668 - output_loss_1: 3.2708 - output_loss_2: 3.0959     \n",
      "Epoch 5/100\n",
      "12/12 [==============================] - 0s - loss: 6.2135 - output_loss_1: 3.2860 - output_loss_2: 2.9275     \n",
      "Epoch 6/100\n",
      "12/12 [==============================] - 0s - loss: 6.0536 - output_loss_1: 3.3217 - output_loss_2: 2.7319     \n",
      "Epoch 7/100\n",
      "12/12 [==============================] - 0s - loss: 5.9133 - output_loss_1: 3.3542 - output_loss_2: 2.5591     \n",
      "Epoch 8/100\n",
      "12/12 [==============================] - 0s - loss: 5.8113 - output_loss_1: 3.3385 - output_loss_2: 2.4728     \n",
      "Epoch 9/100\n",
      "12/12 [==============================] - 0s - loss: 5.7133 - output_loss_1: 3.3081 - output_loss_2: 2.4052     \n",
      "Epoch 10/100\n",
      "12/12 [==============================] - 0s - loss: 5.5862 - output_loss_1: 3.2726 - output_loss_2: 2.3135     \n",
      "Epoch 11/100\n",
      "12/12 [==============================] - 0s - loss: 5.4667 - output_loss_1: 3.2282 - output_loss_2: 2.2385     \n",
      "Epoch 12/100\n",
      "12/12 [==============================] - 0s - loss: 5.2943 - output_loss_1: 3.1794 - output_loss_2: 2.1149     \n",
      "Epoch 13/100\n",
      "12/12 [==============================] - 0s - loss: 5.1630 - output_loss_1: 3.1175 - output_loss_2: 2.0455     \n",
      "Epoch 14/100\n",
      "12/12 [==============================] - 0s - loss: 4.9843 - output_loss_1: 3.0277 - output_loss_2: 1.9566     \n",
      "Epoch 15/100\n",
      "12/12 [==============================] - 0s - loss: 4.7413 - output_loss_1: 2.9436 - output_loss_2: 1.7978     \n",
      "Epoch 16/100\n",
      "12/12 [==============================] - 0s - loss: 4.5991 - output_loss_1: 2.8568 - output_loss_2: 1.7422     \n",
      "Epoch 17/100\n",
      "12/12 [==============================] - 0s - loss: 4.2528 - output_loss_1: 2.7482 - output_loss_2: 1.5046     \n",
      "Epoch 18/100\n",
      "12/12 [==============================] - 0s - loss: 4.0995 - output_loss_1: 2.6566 - output_loss_2: 1.4430     \n",
      "Epoch 19/100\n",
      "12/12 [==============================] - 0s - loss: 3.8216 - output_loss_1: 2.5459 - output_loss_2: 1.2757     \n",
      "Epoch 20/100\n",
      "12/12 [==============================] - 0s - loss: 3.6522 - output_loss_1: 2.4283 - output_loss_2: 1.2240     \n",
      "Epoch 21/100\n",
      "12/12 [==============================] - 0s - loss: 3.3830 - output_loss_1: 2.3152 - output_loss_2: 1.0678     \n",
      "Epoch 22/100\n",
      "12/12 [==============================] - 0s - loss: 3.1680 - output_loss_1: 2.2176 - output_loss_2: 0.9505     \n",
      "Epoch 23/100\n",
      "12/12 [==============================] - 0s - loss: 2.8865 - output_loss_1: 2.1070 - output_loss_2: 0.7795     \n",
      "Epoch 24/100\n",
      "12/12 [==============================] - 0s - loss: 2.7872 - output_loss_1: 2.0166 - output_loss_2: 0.7706     \n",
      "Epoch 25/100\n",
      "12/12 [==============================] - 0s - loss: 2.5775 - output_loss_1: 1.9335 - output_loss_2: 0.6441     \n",
      "Epoch 26/100\n",
      "12/12 [==============================] - 0s - loss: 2.4273 - output_loss_1: 1.8509 - output_loss_2: 0.5764     \n",
      "Epoch 27/100\n",
      "12/12 [==============================] - 0s - loss: 2.2707 - output_loss_1: 1.7768 - output_loss_2: 0.4939     \n",
      "Epoch 28/100\n",
      "12/12 [==============================] - 0s - loss: 2.1284 - output_loss_1: 1.6981 - output_loss_2: 0.4303     \n",
      "Epoch 29/100\n",
      "12/12 [==============================] - 0s - loss: 2.0839 - output_loss_1: 1.6484 - output_loss_2: 0.4354     \n",
      "Epoch 30/100\n",
      "12/12 [==============================] - 0s - loss: 1.8702 - output_loss_1: 1.5670 - output_loss_2: 0.3032     \n",
      "Epoch 31/100\n",
      "12/12 [==============================] - 0s - loss: 1.7808 - output_loss_1: 1.5080 - output_loss_2: 0.2727     \n",
      "Epoch 32/100\n",
      "12/12 [==============================] - 0s - loss: 1.7298 - output_loss_1: 1.4720 - output_loss_2: 0.2578     \n",
      "Epoch 33/100\n",
      "12/12 [==============================] - 0s - loss: 1.6267 - output_loss_1: 1.4151 - output_loss_2: 0.2116     \n",
      "Epoch 34/100\n",
      "12/12 [==============================] - 0s - loss: 1.5500 - output_loss_1: 1.3617 - output_loss_2: 0.1882     \n",
      "Epoch 35/100\n",
      "12/12 [==============================] - 0s - loss: 1.4958 - output_loss_1: 1.3128 - output_loss_2: 0.1830     \n",
      "Epoch 36/100\n",
      "12/12 [==============================] - 0s - loss: 1.4469 - output_loss_1: 1.2881 - output_loss_2: 0.1588     \n",
      "Epoch 37/100\n",
      "12/12 [==============================] - 0s - loss: 1.3351 - output_loss_1: 1.2200 - output_loss_2: 0.1151     \n",
      "Epoch 38/100\n",
      "12/12 [==============================] - 0s - loss: 1.3245 - output_loss_1: 1.2012 - output_loss_2: 0.1234     \n",
      "Epoch 39/100\n",
      "12/12 [==============================] - 0s - loss: 1.2509 - output_loss_1: 1.1439 - output_loss_2: 0.1069     \n",
      "Epoch 40/100\n",
      "12/12 [==============================] - 0s - loss: 1.2158 - output_loss_1: 1.1041 - output_loss_2: 0.1117     \n",
      "Epoch 41/100\n",
      "12/12 [==============================] - 0s - loss: 1.1550 - output_loss_1: 1.0796 - output_loss_2: 0.0754     \n",
      "Epoch 42/100\n",
      "12/12 [==============================] - 0s - loss: 1.1036 - output_loss_1: 1.0356 - output_loss_2: 0.0681     \n",
      "Epoch 43/100\n",
      "12/12 [==============================] - 0s - loss: 1.0942 - output_loss_1: 1.0308 - output_loss_2: 0.0635     \n",
      "Epoch 44/100\n",
      "12/12 [==============================] - 0s - loss: 1.0388 - output_loss_1: 0.9862 - output_loss_2: 0.0526     \n",
      "Epoch 45/100\n",
      "12/12 [==============================] - 0s - loss: 1.0044 - output_loss_1: 0.9497 - output_loss_2: 0.0547     \n",
      "Epoch 46/100\n",
      "12/12 [==============================] - 0s - loss: 0.9626 - output_loss_1: 0.9242 - output_loss_2: 0.0384     \n",
      "Epoch 47/100\n",
      "12/12 [==============================] - 0s - loss: 0.9432 - output_loss_1: 0.9004 - output_loss_2: 0.0428     \n",
      "Epoch 48/100\n",
      "12/12 [==============================] - 0s - loss: 0.9045 - output_loss_1: 0.8733 - output_loss_2: 0.0312     \n",
      "Epoch 49/100\n",
      "12/12 [==============================] - 0s - loss: 0.8913 - output_loss_1: 0.8583 - output_loss_2: 0.0330     \n",
      "Epoch 50/100\n",
      "12/12 [==============================] - 0s - loss: 0.8541 - output_loss_1: 0.8266 - output_loss_2: 0.0275     \n",
      "Epoch 51/100\n",
      "12/12 [==============================] - 0s - loss: 0.8140 - output_loss_1: 0.7891 - output_loss_2: 0.0249     \n",
      "Epoch 52/100\n",
      "12/12 [==============================] - 0s - loss: 0.8060 - output_loss_1: 0.7822 - output_loss_2: 0.0238     \n",
      "Epoch 53/100\n",
      "12/12 [==============================] - 0s - loss: 0.7801 - output_loss_1: 0.7582 - output_loss_2: 0.0219     \n",
      "Epoch 54/100\n",
      "12/12 [==============================] - 0s - loss: 0.7386 - output_loss_1: 0.7194 - output_loss_2: 0.0192     \n",
      "Epoch 55/100\n",
      "12/12 [==============================] - 0s - loss: 0.7340 - output_loss_1: 0.7164 - output_loss_2: 0.0176     \n",
      "Epoch 56/100\n",
      "12/12 [==============================] - 0s - loss: 0.7366 - output_loss_1: 0.7191 - output_loss_2: 0.0175     \n",
      "Epoch 57/100\n",
      "12/12 [==============================] - 0s - loss: 0.6907 - output_loss_1: 0.6759 - output_loss_2: 0.0148     \n",
      "Epoch 58/100\n",
      "12/12 [==============================] - 0s - loss: 0.6850 - output_loss_1: 0.6709 - output_loss_2: 0.0141     \n",
      "Epoch 59/100\n",
      "12/12 [==============================] - 0s - loss: 0.6837 - output_loss_1: 0.6704 - output_loss_2: 0.0132     \n",
      "Epoch 60/100\n",
      "12/12 [==============================] - 0s - loss: 0.6280 - output_loss_1: 0.6163 - output_loss_2: 0.0117     \n",
      "Epoch 61/100\n",
      "12/12 [==============================] - 0s - loss: 0.6223 - output_loss_1: 0.6112 - output_loss_2: 0.0111     \n",
      "Epoch 62/100\n",
      "12/12 [==============================] - 0s - loss: 0.6201 - output_loss_1: 0.6099 - output_loss_2: 0.0103     \n",
      "Epoch 63/100\n",
      "12/12 [==============================] - 0s - loss: 0.5935 - output_loss_1: 0.5834 - output_loss_2: 0.0101     \n",
      "Epoch 64/100\n",
      "12/12 [==============================] - 0s - loss: 0.6044 - output_loss_1: 0.5949 - output_loss_2: 0.0095     \n",
      "Epoch 65/100\n",
      "12/12 [==============================] - 0s - loss: 0.5702 - output_loss_1: 0.5613 - output_loss_2: 0.0089     \n",
      "Epoch 66/100\n",
      "12/12 [==============================] - 0s - loss: 0.5525 - output_loss_1: 0.5444 - output_loss_2: 0.0082     \n",
      "Epoch 67/100\n",
      "12/12 [==============================] - 0s - loss: 0.5523 - output_loss_1: 0.5448 - output_loss_2: 0.0075     \n",
      "Epoch 68/100\n",
      "12/12 [==============================] - 0s - loss: 0.5297 - output_loss_1: 0.5226 - output_loss_2: 0.0072     \n",
      "Epoch 69/100\n",
      "12/12 [==============================] - 0s - loss: 0.5197 - output_loss_1: 0.5129 - output_loss_2: 0.0068     \n",
      "Epoch 70/100\n",
      "12/12 [==============================] - 0s - loss: 0.5118 - output_loss_1: 0.5054 - output_loss_2: 0.0064     \n",
      "Epoch 71/100\n",
      "12/12 [==============================] - 0s - loss: 0.4965 - output_loss_1: 0.4904 - output_loss_2: 0.0061     \n",
      "Epoch 72/100\n",
      "12/12 [==============================] - 0s - loss: 0.4941 - output_loss_1: 0.4883 - output_loss_2: 0.0058     \n",
      "Epoch 73/100\n",
      "12/12 [==============================] - 0s - loss: 0.4663 - output_loss_1: 0.4607 - output_loss_2: 0.0056     \n",
      "Epoch 74/100\n",
      "12/12 [==============================] - 0s - loss: 0.4674 - output_loss_1: 0.4621 - output_loss_2: 0.0053     \n",
      "Epoch 75/100\n",
      "12/12 [==============================] - 0s - loss: 0.4580 - output_loss_1: 0.4529 - output_loss_2: 0.0051     \n",
      "Epoch 76/100\n",
      "12/12 [==============================] - 0s - loss: 0.4557 - output_loss_1: 0.4507 - output_loss_2: 0.0050     \n",
      "Epoch 77/100\n",
      "12/12 [==============================] - 0s - loss: 0.4484 - output_loss_1: 0.4438 - output_loss_2: 0.0046     \n",
      "Epoch 78/100\n",
      "12/12 [==============================] - 0s - loss: 0.4330 - output_loss_1: 0.4286 - output_loss_2: 0.0044     \n",
      "Epoch 79/100\n",
      "12/12 [==============================] - 0s - loss: 0.4306 - output_loss_1: 0.4263 - output_loss_2: 0.0044     \n",
      "Epoch 80/100\n",
      "12/12 [==============================] - 0s - loss: 0.4435 - output_loss_1: 0.4393 - output_loss_2: 0.0042     \n",
      "Epoch 81/100\n",
      "12/12 [==============================] - 0s - loss: 0.4160 - output_loss_1: 0.4120 - output_loss_2: 0.0040     \n",
      "Epoch 82/100\n",
      "12/12 [==============================] - 0s - loss: 0.3987 - output_loss_1: 0.3948 - output_loss_2: 0.0039     \n",
      "Epoch 83/100\n",
      "12/12 [==============================] - 0s - loss: 0.4000 - output_loss_1: 0.3964 - output_loss_2: 0.0037     \n",
      "Epoch 84/100\n",
      "12/12 [==============================] - 0s - loss: 0.3988 - output_loss_1: 0.3951 - output_loss_2: 0.0037     \n",
      "Epoch 85/100\n",
      "12/12 [==============================] - 0s - loss: 0.3832 - output_loss_1: 0.3797 - output_loss_2: 0.0035     \n",
      "Epoch 86/100\n",
      "12/12 [==============================] - 0s - loss: 0.3911 - output_loss_1: 0.3877 - output_loss_2: 0.0034     \n",
      "Epoch 87/100\n",
      "12/12 [==============================] - 0s - loss: 0.3685 - output_loss_1: 0.3652 - output_loss_2: 0.0033     \n",
      "Epoch 88/100\n",
      "12/12 [==============================] - 0s - loss: 0.3657 - output_loss_1: 0.3626 - output_loss_2: 0.0031     \n",
      "Epoch 89/100\n",
      "12/12 [==============================] - 0s - loss: 0.3587 - output_loss_1: 0.3556 - output_loss_2: 0.0031     \n",
      "Epoch 90/100\n",
      "12/12 [==============================] - 0s - loss: 0.3522 - output_loss_1: 0.3493 - output_loss_2: 0.0029     \n",
      "Epoch 91/100\n",
      "12/12 [==============================] - 0s - loss: 0.3518 - output_loss_1: 0.3489 - output_loss_2: 0.0029     \n",
      "Epoch 92/100\n",
      "12/12 [==============================] - 0s - loss: 0.3472 - output_loss_1: 0.3444 - output_loss_2: 0.0028     \n",
      "Epoch 93/100\n",
      "12/12 [==============================] - 0s - loss: 0.3273 - output_loss_1: 0.3246 - output_loss_2: 0.0027     \n",
      "Epoch 94/100\n",
      "12/12 [==============================] - 0s - loss: 0.3249 - output_loss_1: 0.3223 - output_loss_2: 0.0026     \n",
      "Epoch 95/100\n",
      "12/12 [==============================] - 0s - loss: 0.3119 - output_loss_1: 0.3094 - output_loss_2: 0.0025     \n",
      "Epoch 96/100\n",
      "12/12 [==============================] - 0s - loss: 0.3173 - output_loss_1: 0.3149 - output_loss_2: 0.0024     \n",
      "Epoch 97/100\n",
      "12/12 [==============================] - 0s - loss: 0.3279 - output_loss_1: 0.3255 - output_loss_2: 0.0025     \n",
      "Epoch 98/100\n",
      "12/12 [==============================] - 0s - loss: 0.3178 - output_loss_1: 0.3154 - output_loss_2: 0.0024     \n",
      "Epoch 99/100\n",
      "12/12 [==============================] - 0s - loss: 0.2947 - output_loss_1: 0.2924 - output_loss_2: 0.0023     \n",
      "Epoch 100/100\n",
      "12/12 [==============================] - 0s - loss: 0.3041 - output_loss_1: 0.3019 - output_loss_2: 0.0022     \n"
     ]
    },
    {
     "data": {
      "text/plain": [
       "<keras.callbacks.History at 0x7fc0fdfe5940>"
      ]
     },
     "execution_count": 25,
     "metadata": {},
     "output_type": "execute_result"
    }
   ],
   "source": [
    "model.fit([zeros]+xs, ys, batch_size=1, nb_epoch=100)"
   ]
  },
  {
   "cell_type": "code",
   "execution_count": 26,
   "metadata": {
    "collapsed": true
   },
   "outputs": [],
   "source": [
    "model.save('./models/dev_fast_ai_returning_sequences.h5')"
   ]
  },
  {
   "cell_type": "markdown",
   "metadata": {},
   "source": [
    "### Test model"
   ]
  },
  {
   "cell_type": "code",
   "execution_count": 27,
   "metadata": {
    "collapsed": true
   },
   "outputs": [],
   "source": [
    "def get_nexts(inp):\n",
    "    idxs = [corpora.token2id[c] for c in inp]\n",
    "    arrs = [np.array(i)[np.newaxis] for i in idxs]\n",
    "    p = model.predict([np.zeros(n_fac)[np.newaxis,:]] + arrs)\n",
    "    #print(list(inp))\n",
    "    return [corpora.id2token[np.argmax(o)] for o in p]"
   ]
  },
  {
   "cell_type": "code",
   "execution_count": 28,
   "metadata": {
    "collapsed": false
   },
   "outputs": [
    {
     "data": {
      "text/plain": [
       "['six', 'seven']"
      ]
     },
     "execution_count": 28,
     "metadata": {},
     "output_type": "execute_result"
    }
   ],
   "source": [
    "get_nexts(['two', 'three'])"
   ]
  },
  {
   "cell_type": "code",
   "execution_count": null,
   "metadata": {
    "collapsed": true
   },
   "outputs": [],
   "source": []
  }
 ],
 "metadata": {
  "kernelspec": {
   "display_name": "Python 3",
   "language": "python",
   "name": "python3"
  },
  "language_info": {
   "codemirror_mode": {
    "name": "ipython",
    "version": 3
   },
   "file_extension": ".py",
   "mimetype": "text/x-python",
   "name": "python",
   "nbconvert_exporter": "python",
   "pygments_lexer": "ipython3",
   "version": "3.5.2"
  }
 },
 "nbformat": 4,
 "nbformat_minor": 1
}
