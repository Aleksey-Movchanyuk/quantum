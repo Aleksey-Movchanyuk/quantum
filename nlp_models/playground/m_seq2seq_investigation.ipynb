{
 "cells": [
  {
   "cell_type": "code",
   "execution_count": 205,
   "metadata": {
    "collapsed": false
   },
   "outputs": [],
   "source": [
    "import gensim\n",
    "import nltk\n",
    "from keras.models import Sequential, Model\n",
    "from keras.layers import Dense, LSTM, Embedding, TimeDistributed, RepeatVector, Input\n",
    "from keras.callbacks import ModelCheckpoint\n",
    "from keras.utils.np_utils import to_categorical\n",
    "import pandas as pd\n",
    "import numpy as np"
   ]
  },
  {
   "cell_type": "markdown",
   "metadata": {},
   "source": [
    "### Parameters"
   ]
  },
  {
   "cell_type": "code",
   "execution_count": 194,
   "metadata": {
    "collapsed": false
   },
   "outputs": [],
   "source": [
    "filename = 'test.txt'\n",
    "\n",
    "IN_SEQ_LENGTH = 3\n",
    "OUT_SEQ_LENGTH = 3\n",
    "EMBEDDING_DIM = 4\n",
    "HIDDEN_LAYER_1 = 10\n",
    "\n",
    "N_EPOCH = 10\n",
    "\n",
    "path_train_X = '../data/' + filename + '.' + str(IN_SEQ_LENGTH) + '_in_' + str(OUT_SEQ_LENGTH) + '_out.train_X.csv'\n",
    "path_train_Y = '../data/' + filename + '.' + str(IN_SEQ_LENGTH) + '_in_' + str(OUT_SEQ_LENGTH) + '_out.train_Y.csv'"
   ]
  },
  {
   "cell_type": "markdown",
   "metadata": {},
   "source": [
    "### Loading corpora"
   ]
  },
  {
   "cell_type": "code",
   "execution_count": 208,
   "metadata": {
    "collapsed": false
   },
   "outputs": [
    {
     "name": "stdout",
     "output_type": "stream",
     "text": [
      "Number of words in corpora: 29\n"
     ]
    }
   ],
   "source": [
    "corpora = gensim.corpora.Dictionary.load('../data/'+filename+'.corpora.dat')\n",
    "vocab_size = len(corpora)\n",
    "print('Number of words in corpora: %d'%(vocab_size))\n",
    "tmp = list(corpora.items())\n",
    "\n",
    "META_UNKNOWN = '<<<!UNK!>>>'\n",
    "META_EMPTY = '<<<!EMP!>>>'\n",
    "META_NUMBER = '<<<!NUM!>>>'"
   ]
  },
  {
   "cell_type": "markdown",
   "metadata": {},
   "source": [
    "### Loading training dataset"
   ]
  },
  {
   "cell_type": "code",
   "execution_count": 195,
   "metadata": {
    "collapsed": false
   },
   "outputs": [],
   "source": [
    "train_X = pd.read_csv(path_train_X, dtype=np.int32)\n",
    "train_Y = pd.read_csv(path_train_Y, dtype=np.int32)"
   ]
  },
  {
   "cell_type": "code",
   "execution_count": 196,
   "metadata": {
    "collapsed": false
   },
   "outputs": [
    {
     "name": "stdout",
     "output_type": "stream",
     "text": [
      "Train set X, Y:\n",
      "(37, 3) (37, 3)\n"
     ]
    }
   ],
   "source": [
    "print('Train set X, Y:')\n",
    "print( train_X.shape, train_Y.shape )"
   ]
  },
  {
   "cell_type": "code",
   "execution_count": 197,
   "metadata": {
    "collapsed": true
   },
   "outputs": [],
   "source": [
    "# convert Y to sparce matrix"
   ]
  },
  {
   "cell_type": "code",
   "execution_count": 198,
   "metadata": {
    "collapsed": true
   },
   "outputs": [],
   "source": [
    "out_Y = np.zeros((train_Y.shape[0], OUT_SEQ_LENGTH, vocab_size), dtype=np.int32)"
   ]
  },
  {
   "cell_type": "code",
   "execution_count": 199,
   "metadata": {
    "collapsed": false
   },
   "outputs": [],
   "source": [
    "out_Y = np.expand_dims(train_Y.as_matrix(), -1)"
   ]
  },
  {
   "cell_type": "markdown",
   "metadata": {},
   "source": [
    "### Set network configureation"
   ]
  },
  {
   "cell_type": "code",
   "execution_count": 200,
   "metadata": {
    "collapsed": false
   },
   "outputs": [],
   "source": [
    "model = Sequential()\n",
    "model.add( Embedding(input_dim=vocab_size, output_dim=EMBEDDING_DIM, input_length=IN_SEQ_LENGTH) )\n",
    "model.add( LSTM(HIDDEN_LAYER_1, return_sequences=True) )\n",
    "model.add( TimeDistributed(Dense(output_dim=vocab_size, activation='sigmoid')) )"
   ]
  },
  {
   "cell_type": "code",
   "execution_count": 201,
   "metadata": {
    "collapsed": true
   },
   "outputs": [],
   "source": [
    "model.compile(optimizer='adam', loss='sparse_categorical_crossentropy', metrics=['accuracy'])"
   ]
  },
  {
   "cell_type": "code",
   "execution_count": 202,
   "metadata": {
    "collapsed": false
   },
   "outputs": [
    {
     "name": "stdout",
     "output_type": "stream",
     "text": [
      "____________________________________________________________________________________________________\n",
      "Layer (type)                     Output Shape          Param #     Connected to                     \n",
      "====================================================================================================\n",
      "embedding_29 (Embedding)         (None, 3, 4)          116         embedding_input_27[0][0]         \n",
      "____________________________________________________________________________________________________\n",
      "lstm_28 (LSTM)                   (None, 3, 10)         600         embedding_29[0][0]               \n",
      "____________________________________________________________________________________________________\n",
      "timedistributed_15 (TimeDistribu (None, 3, 29)         319         lstm_28[0][0]                    \n",
      "====================================================================================================\n",
      "Total params: 1,035\n",
      "Trainable params: 1,035\n",
      "Non-trainable params: 0\n",
      "____________________________________________________________________________________________________\n"
     ]
    }
   ],
   "source": [
    "model.summary()"
   ]
  },
  {
   "cell_type": "code",
   "execution_count": 203,
   "metadata": {
    "collapsed": false
   },
   "outputs": [
    {
     "name": "stdout",
     "output_type": "stream",
     "text": [
      "(None, 3, 4)\n",
      "(None, 3, 10)\n",
      "(None, 3, 29)\n"
     ]
    }
   ],
   "source": [
    "print( model.layers[0].output_shape )\n",
    "print( model.layers[1].output_shape )\n",
    "print( model.layers[2].output_shape )"
   ]
  },
  {
   "cell_type": "code",
   "execution_count": 204,
   "metadata": {
    "collapsed": false
   },
   "outputs": [
    {
     "name": "stdout",
     "output_type": "stream",
     "text": [
      "Epoch 1/10\n",
      "37/37 [==============================] - 0s - loss: 3.3673 - acc: 0.0631\n",
      "Epoch 2/10\n",
      "37/37 [==============================] - 0s - loss: 3.3669 - acc: 0.0450\n",
      "Epoch 3/10\n",
      "37/37 [==============================] - 0s - loss: 3.3665 - acc: 0.0541\n",
      "Epoch 4/10\n",
      "37/37 [==============================] - 0s - loss: 3.3661 - acc: 0.0541\n",
      "Epoch 5/10\n",
      "37/37 [==============================] - 0s - loss: 3.3657 - acc: 0.0811\n",
      "Epoch 6/10\n",
      "37/37 [==============================] - 0s - loss: 3.3653 - acc: 0.0721\n",
      "Epoch 7/10\n",
      "37/37 [==============================] - 0s - loss: 3.3649 - acc: 0.0811\n",
      "Epoch 8/10\n",
      "37/37 [==============================] - 0s - loss: 3.3645 - acc: 0.0811\n",
      "Epoch 9/10\n",
      "37/37 [==============================] - 0s - loss: 3.3641 - acc: 0.0811\n",
      "Epoch 10/10\n",
      "37/37 [==============================] - 0s - loss: 3.3637 - acc: 0.0811\n"
     ]
    },
    {
     "data": {
      "text/plain": [
       "<keras.callbacks.History at 0x7fc07a883eb8>"
      ]
     },
     "execution_count": 204,
     "metadata": {},
     "output_type": "execute_result"
    }
   ],
   "source": [
    "#model.fit(train_X.as_matrix(), train_Y.as_matrix(), batch_size=500, nb_epoch=N_EPOCH)\n",
    "model.fit(train_X.as_matrix(), out_Y, batch_size=500, nb_epoch=N_EPOCH)"
   ]
  },
  {
   "cell_type": "code",
   "execution_count": 146,
   "metadata": {
    "collapsed": false
   },
   "outputs": [],
   "source": [
    "#xin = Input(batch_shape=(train_X.shape[0], IN_SEQ_LENGTH), dtype='int32')\n",
    "#xemb = Embedding(vocab_size, EMBEDDING_DIM)(xin) # 3dim (batch,time,feat)\n",
    "#seq = LSTM(IN_SEQ_LENGTH, return_sequences=True)(xemb)\n",
    "#mlp = TimeDistributed(Dense(OUT_SEQ_LENGTH, activation='softmax'))(seq)\n",
    "#model = Model(input=xin, output=mlp)\n",
    "#model.compile(optimizer='Adam', loss='categorical_crossentropy')"
   ]
  },
  {
   "cell_type": "code",
   "execution_count": 206,
   "metadata": {
    "collapsed": false
   },
   "outputs": [],
   "source": [
    "def get_last_token_ids(inp, seq_len):\n",
    "    \n",
    "    res = np.full(seq_len, corpora.token2id[META_EMPTY], dtype=int)\n",
    "      \n",
    "    raw_sents = nltk.tokenize.sent_tokenize(inp.lower())\n",
    "\n",
    "    id_tokens = []\n",
    "    \n",
    "    for s in raw_sents:\n",
    "        raw_tokens = nltk.tokenize.wordpunct_tokenize(s)\n",
    "       \n",
    "        for t in raw_tokens:\n",
    "            try:\n",
    "                tid = corpora.token2id[t]\n",
    "            except:\n",
    "                tid = corpora.token2id[META_UNKNOWN]\n",
    "            id_tokens.append(tid)\n",
    "            #print('%s -> %d'%(t, tid))\n",
    "\n",
    "    l = min(seq_len, len(id_tokens))\n",
    "    s = seq_len - l\n",
    "    #print(id_tokens)\n",
    "    #print(id_tokens[-l:])\n",
    "    \n",
    "    res[s:] = id_tokens[-l:]\n",
    "       \n",
    "    return res"
   ]
  },
  {
   "cell_type": "code",
   "execution_count": 209,
   "metadata": {
    "collapsed": false
   },
   "outputs": [
    {
     "data": {
      "text/plain": [
       "array([27,  3,  5])"
      ]
     },
     "execution_count": 209,
     "metadata": {},
     "output_type": "execute_result"
    }
   ],
   "source": [
    "get_last_token_ids('One two', IN_SEQ_LENGTH)"
   ]
  },
  {
   "cell_type": "code",
   "execution_count": 332,
   "metadata": {
    "collapsed": false
   },
   "outputs": [],
   "source": [
    "def get_next_sequence(inp):\n",
    "    tids = get_last_token_ids(inp, IN_SEQ_LENGTH)\n",
    "    \n",
    "    print(tids.shape)\n",
    "   \n",
    "    arrs = np.array(tids)[np.newaxis,:]\n",
    "    \n",
    "    print(arrs.shape)\n",
    "    \n",
    "    p = model.predict(arrs)\n",
    "    \n",
    "    print('p.shape: {}'.format(p.shape))\n",
    "    \n",
    "    print('p: {}'.format(p))\n",
    "    \n",
    "    w1ind = np.argmax(p[0,0,:])\n",
    "    w2ind = np.argmax(p[0,1,:])\n",
    "    w3ind = np.argmax(p[0,2,:])\n",
    "    \n",
    "    print(corpora.id2token[w1ind])\n",
    "    print(corpora.id2token[w2ind])\n",
    "    print(corpora.id2token[w3ind])\n",
    "    \n",
    "    #return m0 #p0 = p[m0]; p[m0] = 0\n",
    "    #m1 = np.argmax(p); p1 = p[m1]; p[m1] = 0\n",
    "    #m2 = np.argmax(p); p2 = p[m2]; p[m2] = 0\n",
    "    #m3 = np.argmax(p); p3 = p[m3]; p[m3] = 0\n",
    "    #m4 = np.argmax(p); p4 = p[m4]; p[m4] = 0\n",
    "    #m5 = np.argmax(p); p5 = p[m5]; p[m5] = 0\n",
    "    #m6 = np.argmax(p); p6 = p[m6]; p[m6] = 0\n",
    "    \n",
    "    #return [(p0, corpora.id2token[m0]),\n",
    "    #        (p1, corpora.id2token[m1]),\n",
    "    #        (p2, corpora.id2token[m2]),\n",
    "#            (p3, corpora.id2token[m3]),\n",
    "#           p4, corpora.id2token[m4]),\n",
    "#          (p5, corpora.id2token[m5]),\n",
    "#         (p6, corpora.id2token[m6])]"
   ]
  },
  {
   "cell_type": "code",
   "execution_count": 334,
   "metadata": {
    "collapsed": false
   },
   "outputs": [
    {
     "name": "stdout",
     "output_type": "stream",
     "text": [
      "(3,)\n",
      "(1, 3)\n",
      "p.shape: (1, 3, 29)\n",
      "p: [[[ 0.49847728  0.50165498  0.49770996  0.49649566  0.50189346  0.49644732\n",
      "    0.49741566  0.4979575   0.50306356  0.49789226  0.50198007  0.50329113\n",
      "    0.49651733  0.49694782  0.50269896  0.49562088  0.50162542  0.4976519\n",
      "    0.50289577  0.4970789   0.49805865  0.4989731   0.50193369  0.50472903\n",
      "    0.50308341  0.50376308  0.49680647  0.49556828  0.49712864]\n",
      "  [ 0.49821019  0.50229758  0.49791133  0.4947179   0.50194556  0.49783888\n",
      "    0.4956086   0.4985089   0.50463742  0.49696672  0.50205219  0.50334764\n",
      "    0.49750876  0.49673349  0.50072753  0.49770546  0.50035363  0.49640232\n",
      "    0.503968    0.49742669  0.49776521  0.49935529  0.50330091  0.50379097\n",
      "    0.5033834   0.50246972  0.49803171  0.49633291  0.49783307]\n",
      "  [ 0.49849835  0.50183225  0.49795225  0.49585757  0.50174952  0.49680921\n",
      "    0.49627316  0.4979926   0.50433475  0.49716625  0.50238115  0.50417084\n",
      "    0.49717778  0.49610484  0.50167513  0.49698415  0.50100619  0.4971441\n",
      "    0.50448686  0.49699533  0.49851114  0.49913672  0.50233215  0.50380856\n",
      "    0.50343782  0.50297397  0.49739739  0.49490285  0.49701324]]]\n",
      "?\n",
      "doing\n",
      "are\n"
     ]
    }
   ],
   "source": [
    "get_next_sequence('One two three')"
   ]
  },
  {
   "cell_type": "code",
   "execution_count": null,
   "metadata": {
    "collapsed": true
   },
   "outputs": [],
   "source": []
  },
  {
   "cell_type": "code",
   "execution_count": null,
   "metadata": {
    "collapsed": true
   },
   "outputs": [],
   "source": []
  },
  {
   "cell_type": "code",
   "execution_count": 241,
   "metadata": {
    "collapsed": false
   },
   "outputs": [
    {
     "name": "stdout",
     "output_type": "stream",
     "text": [
      "-------------\n",
      "(3,)\n",
      "[1 2 3]\n",
      "-------------\n",
      "(3, 1)\n",
      "[[1]\n",
      " [2]\n",
      " [3]]\n",
      "-------------\n",
      "(1, 3)\n",
      "[[1 2 3]]\n",
      "-------------\n",
      "(3, 1)\n",
      "[[1]\n",
      " [2]\n",
      " [3]]\n"
     ]
    },
    {
     "data": {
      "text/plain": [
       "array([[1, 2, 3]])"
      ]
     },
     "execution_count": 241,
     "metadata": {},
     "output_type": "execute_result"
    }
   ],
   "source": [
    "a = np.array([1,2,3])\n",
    "print('-------------')\n",
    "print(a.shape)\n",
    "print(a)\n",
    "b = np.expand_dims(a, -1)\n",
    "print('-------------')\n",
    "print(b.shape)\n",
    "print(b)\n",
    "c =np.expand_dims(a, 0)\n",
    "print('-------------')\n",
    "print(c.shape)\n",
    "print(c)\n",
    "d =np.expand_dims(a, 1)\n",
    "print('-------------')\n",
    "print(d.shape)\n",
    "print(d)\n",
    "\n",
    "\n",
    "a[np.newaxis]"
   ]
  },
  {
   "cell_type": "code",
   "execution_count": 247,
   "metadata": {
    "collapsed": false
   },
   "outputs": [],
   "source": [
    "a = np.array([[1,2,3], [4,5, 6]], dtype=np.int32, )"
   ]
  },
  {
   "cell_type": "code",
   "execution_count": 248,
   "metadata": {
    "collapsed": false
   },
   "outputs": [
    {
     "data": {
      "text/plain": [
       "(2, 3)"
      ]
     },
     "execution_count": 248,
     "metadata": {},
     "output_type": "execute_result"
    }
   ],
   "source": [
    "a.shape"
   ]
  },
  {
   "cell_type": "code",
   "execution_count": 255,
   "metadata": {
    "collapsed": false
   },
   "outputs": [
    {
     "name": "stdout",
     "output_type": "stream",
     "text": [
      "(2, 3, 1)\n",
      "(1, 2, 3)\n",
      "(2, 1, 3)\n"
     ]
    }
   ],
   "source": [
    "print( np.expand_dims(a, -1).shape )\n",
    "print( np.expand_dims(a, 0).shape )\n",
    "print( np.expand_dims(a, 1).shape )"
   ]
  },
  {
   "cell_type": "code",
   "execution_count": 289,
   "metadata": {
    "collapsed": true
   },
   "outputs": [],
   "source": [
    "a = np.array( [1,2,3,4,5,6,7,8,9,11,22,33,44,55,66,77,88,99] )"
   ]
  },
  {
   "cell_type": "code",
   "execution_count": 290,
   "metadata": {
    "collapsed": false
   },
   "outputs": [
    {
     "data": {
      "text/plain": [
       "array([ 1,  2,  3,  4,  5,  6,  7,  8,  9, 11, 22, 33, 44, 55, 66, 77, 88,\n",
       "       99])"
      ]
     },
     "execution_count": 290,
     "metadata": {},
     "output_type": "execute_result"
    }
   ],
   "source": [
    "a"
   ]
  },
  {
   "cell_type": "code",
   "execution_count": 291,
   "metadata": {
    "collapsed": false
   },
   "outputs": [],
   "source": [
    "a.shape = (3,3,2)"
   ]
  },
  {
   "cell_type": "code",
   "execution_count": 292,
   "metadata": {
    "collapsed": false
   },
   "outputs": [
    {
     "data": {
      "text/plain": [
       "array([[[ 1,  2],\n",
       "        [ 3,  4],\n",
       "        [ 5,  6]],\n",
       "\n",
       "       [[ 7,  8],\n",
       "        [ 9, 11],\n",
       "        [22, 33]],\n",
       "\n",
       "       [[44, 55],\n",
       "        [66, 77],\n",
       "        [88, 99]]])"
      ]
     },
     "execution_count": 292,
     "metadata": {},
     "output_type": "execute_result"
    }
   ],
   "source": [
    "a"
   ]
  },
  {
   "cell_type": "code",
   "execution_count": 270,
   "metadata": {
    "collapsed": false
   },
   "outputs": [
    {
     "data": {
      "text/plain": [
       "(3, 3, 1)"
      ]
     },
     "execution_count": 270,
     "metadata": {},
     "output_type": "execute_result"
    }
   ],
   "source": [
    "np.expand_dims(a, -1).shape"
   ]
  },
  {
   "cell_type": "code",
   "execution_count": 293,
   "metadata": {
    "collapsed": false
   },
   "outputs": [
    {
     "data": {
      "text/plain": [
       "array([[ 7,  8],\n",
       "       [ 9, 11],\n",
       "       [22, 33]])"
      ]
     },
     "execution_count": 293,
     "metadata": {},
     "output_type": "execute_result"
    }
   ],
   "source": [
    "a[1,:,:]"
   ]
  },
  {
   "cell_type": "code",
   "execution_count": 294,
   "metadata": {
    "collapsed": false
   },
   "outputs": [
    {
     "data": {
      "text/plain": [
       "array([[ 3,  4],\n",
       "       [ 9, 11],\n",
       "       [66, 77]])"
      ]
     },
     "execution_count": 294,
     "metadata": {},
     "output_type": "execute_result"
    }
   ],
   "source": [
    "a[:,1,:]"
   ]
  },
  {
   "cell_type": "code",
   "execution_count": 296,
   "metadata": {
    "collapsed": false
   },
   "outputs": [
    {
     "data": {
      "text/plain": [
       "array([[ 1,  3,  5],\n",
       "       [ 7,  9, 22],\n",
       "       [44, 66, 88]])"
      ]
     },
     "execution_count": 296,
     "metadata": {},
     "output_type": "execute_result"
    }
   ],
   "source": [
    "a[:,:,0]"
   ]
  },
  {
   "cell_type": "code",
   "execution_count": null,
   "metadata": {
    "collapsed": true
   },
   "outputs": [],
   "source": []
  },
  {
   "cell_type": "code",
   "execution_count": 311,
   "metadata": {
    "collapsed": false
   },
   "outputs": [],
   "source": [
    "b = np.array( [[[1,2,3],[4,5,6]],\n",
    "               \n",
    "               [[7,8,9],[10,11,12]],\n",
    "               \n",
    "               [[13,14,15],[16,17,18]],\n",
    "               \n",
    "               [[19,20,21],[22,23,24]],\n",
    "               \n",
    "               [[25,26,27],[28,29,30]]] )"
   ]
  },
  {
   "cell_type": "code",
   "execution_count": 312,
   "metadata": {
    "collapsed": false
   },
   "outputs": [
    {
     "data": {
      "text/plain": [
       "(5, 2, 3)"
      ]
     },
     "execution_count": 312,
     "metadata": {},
     "output_type": "execute_result"
    }
   ],
   "source": [
    "b.shape"
   ]
  },
  {
   "cell_type": "code",
   "execution_count": 310,
   "metadata": {
    "collapsed": false
   },
   "outputs": [
    {
     "data": {
      "text/plain": [
       "array([ 1,  2,  3,  4,  5,  6,  7,  8,  9, 10, 11, 12, 13, 14, 15, 16, 17,\n",
       "       18, 19, 20, 21, 22, 23, 24])"
      ]
     },
     "execution_count": 310,
     "metadata": {},
     "output_type": "execute_result"
    }
   ],
   "source": [
    "b.flatten()"
   ]
  },
  {
   "cell_type": "code",
   "execution_count": 371,
   "metadata": {
    "collapsed": true
   },
   "outputs": [],
   "source": [
    "c = np.array( [[[1,1],[2,2]],\n",
    "               [[3,3],[4,4]],\n",
    "               [[5,5],[6,6]]])"
   ]
  },
  {
   "cell_type": "code",
   "execution_count": 372,
   "metadata": {
    "collapsed": false
   },
   "outputs": [
    {
     "data": {
      "text/plain": [
       "(3, 2, 2)"
      ]
     },
     "execution_count": 372,
     "metadata": {},
     "output_type": "execute_result"
    }
   ],
   "source": [
    "c.shape"
   ]
  },
  {
   "cell_type": "code",
   "execution_count": 373,
   "metadata": {
    "collapsed": false
   },
   "outputs": [
    {
     "name": "stdout",
     "output_type": "stream",
     "text": [
      "(3, 2, 2, 1)\n",
      "(1, 3, 2, 2)\n",
      "(3, 1, 2, 2)\n",
      "(3, 2, 1, 2)\n"
     ]
    }
   ],
   "source": [
    "print(np.expand_dims(c, -1).shape) # very last axis\n",
    "print(np.expand_dims(c, 0).shape) # very first axis\n",
    "print(np.expand_dims(c, 1).shape)\n",
    "print(np.expand_dims(c, 2).shape)"
   ]
  },
  {
   "cell_type": "code",
   "execution_count": 374,
   "metadata": {
    "collapsed": false
   },
   "outputs": [],
   "source": [
    "d = c[np.newaxis]"
   ]
  },
  {
   "cell_type": "code",
   "execution_count": 375,
   "metadata": {
    "collapsed": false
   },
   "outputs": [
    {
     "data": {
      "text/plain": [
       "(1, 3, 2, 2)"
      ]
     },
     "execution_count": 375,
     "metadata": {},
     "output_type": "execute_result"
    }
   ],
   "source": [
    "d.shape"
   ]
  }
 ],
 "metadata": {
  "kernelspec": {
   "display_name": "Python 3",
   "language": "python",
   "name": "python3"
  },
  "language_info": {
   "codemirror_mode": {
    "name": "ipython",
    "version": 3
   },
   "file_extension": ".py",
   "mimetype": "text/x-python",
   "name": "python",
   "nbconvert_exporter": "python",
   "pygments_lexer": "ipython3",
   "version": "3.5.2"
  }
 },
 "nbformat": 4,
 "nbformat_minor": 1
}
