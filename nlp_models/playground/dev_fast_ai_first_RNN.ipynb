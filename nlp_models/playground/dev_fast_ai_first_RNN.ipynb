{
 "cells": [
  {
   "cell_type": "code",
   "execution_count": 66,
   "metadata": {
    "collapsed": false
   },
   "outputs": [],
   "source": [
    "import numpy as np\n",
    "import gensim\n",
    "from keras.models import Sequential, Model\n",
    "from keras.layers import Dense, LSTM, Input, Embedding, Flatten, merge\n",
    "from keras.optimizers import Adam\n",
    "from keras.utils import np_utils\n",
    "from IPython.display import SVG\n",
    "from keras.utils.visualize_util import plot\n",
    "from keras.utils.visualize_util import model_to_dot\n",
    "from keras.preprocessing.sequence import pad_sequences\n",
    "from keras.callbacks import ModelCheckpoint\n",
    "import pickle\n",
    "import pandas as pd"
   ]
  },
  {
   "cell_type": "code",
   "execution_count": 4,
   "metadata": {
    "collapsed": false
   },
   "outputs": [
    {
     "name": "stdout",
     "output_type": "stream",
     "text": [
      "Number of words in corpora: 26\n"
     ]
    }
   ],
   "source": [
    "corpora = gensim.corpora.Dictionary.load('./data/corpora.dat')\n",
    "vocab_size = len(corpora)\n",
    "print('Number of words in corpora: %d'%(vocab_size))"
   ]
  },
  {
   "cell_type": "code",
   "execution_count": 5,
   "metadata": {
    "collapsed": true
   },
   "outputs": [],
   "source": [
    "tmp = list(corpora.items())"
   ]
  },
  {
   "cell_type": "code",
   "execution_count": 6,
   "metadata": {
    "collapsed": true
   },
   "outputs": [],
   "source": [
    "#the_filename = './data/wonderland.txt.dat'\n",
    "the_filename = './data/test.txt.dat'\n",
    "with open(the_filename, 'rb') as f:\n",
    "    text = pickle.load(f)"
   ]
  },
  {
   "cell_type": "markdown",
   "metadata": {},
   "source": [
    "### Generate words patterns - 2 words model"
   ]
  },
  {
   "cell_type": "code",
   "execution_count": 7,
   "metadata": {
    "collapsed": true
   },
   "outputs": [],
   "source": [
    "cs = 2"
   ]
  },
  {
   "cell_type": "code",
   "execution_count": 8,
   "metadata": {
    "collapsed": false
   },
   "outputs": [],
   "source": [
    "c_in_dat = [[text[i+n] for i in range(0, len(text)-cs, cs)]\n",
    "            for n in range(cs)]"
   ]
  },
  {
   "cell_type": "code",
   "execution_count": 9,
   "metadata": {
    "collapsed": false
   },
   "outputs": [
    {
     "name": "stdout",
     "output_type": "stream",
     "text": [
      "['One', 'three', 'five', 'seven', 'nine', '.', 'quick', 'fox', 'over', 'lazy', '.', 'are', '?', 'are']\n",
      "['two', 'four', 'six', 'eight', 'ten', 'The', 'brown', 'jumps', 'a', 'dog', 'How', 'you', 'What', 'you']\n",
      "['three', 'five', 'seven', 'nine', '.', 'quick', 'fox', 'over', 'lazy', '.', 'are', '?', 'are', 'doing']\n"
     ]
    }
   ],
   "source": [
    "print( [corpora.id2token[text[i+0]] for i in range(0, len(text)-cs, cs)] )\n",
    "print( [corpora.id2token[text[i+1]] for i in range(0, len(text)-cs, cs)] )\n",
    "print( [corpora.id2token[text[i+cs]] for i in range(0, len(text)-cs, cs)] )"
   ]
  },
  {
   "cell_type": "code",
   "execution_count": 10,
   "metadata": {
    "collapsed": false
   },
   "outputs": [],
   "source": [
    "c_out_dat = [text[i+cs] for i in range(0, len(text)-cs, cs)]"
   ]
  },
  {
   "cell_type": "code",
   "execution_count": 11,
   "metadata": {
    "collapsed": true
   },
   "outputs": [],
   "source": [
    "xs = [np.stack(c[:-2]) for c in c_in_dat]"
   ]
  },
  {
   "cell_type": "code",
   "execution_count": 12,
   "metadata": {
    "collapsed": false
   },
   "outputs": [
    {
     "data": {
      "text/plain": [
       "(2, (12,))"
      ]
     },
     "execution_count": 12,
     "metadata": {},
     "output_type": "execute_result"
    }
   ],
   "source": [
    "len(xs), xs[0].shape"
   ]
  },
  {
   "cell_type": "code",
   "execution_count": 13,
   "metadata": {
    "collapsed": true
   },
   "outputs": [],
   "source": [
    "y = np.stack(c_out_dat[:-2])"
   ]
  },
  {
   "cell_type": "code",
   "execution_count": 14,
   "metadata": {
    "collapsed": false
   },
   "outputs": [
    {
     "data": {
      "text/plain": [
       "[array([2, 4]), array([0, 8])]"
      ]
     },
     "execution_count": 14,
     "metadata": {},
     "output_type": "execute_result"
    }
   ],
   "source": [
    "[xs[n][:cs] for n in range(cs)]"
   ]
  },
  {
   "cell_type": "code",
   "execution_count": 15,
   "metadata": {
    "collapsed": false
   },
   "outputs": [
    {
     "data": {
      "text/plain": [
       "array([4, 3])"
      ]
     },
     "execution_count": 15,
     "metadata": {},
     "output_type": "execute_result"
    }
   ],
   "source": [
    "y[:cs]"
   ]
  },
  {
   "cell_type": "code",
   "execution_count": 16,
   "metadata": {
    "collapsed": true
   },
   "outputs": [],
   "source": [
    "n_fac = 4"
   ]
  },
  {
   "cell_type": "code",
   "execution_count": 17,
   "metadata": {
    "collapsed": true
   },
   "outputs": [],
   "source": [
    "### Create and train model"
   ]
  },
  {
   "cell_type": "code",
   "execution_count": 18,
   "metadata": {
    "collapsed": true
   },
   "outputs": [],
   "source": [
    "def embedding_input(name, n_in, n_out):\n",
    "    inp = Input(shape=(1,), dtype='int64', name=name+'_in')\n",
    "    emb = Embedding(n_in, n_out, input_length=1, name=name+'_emb')(inp)\n",
    "    return inp, Flatten()(emb)"
   ]
  },
  {
   "cell_type": "code",
   "execution_count": 19,
   "metadata": {
    "collapsed": true
   },
   "outputs": [],
   "source": [
    "c_ins = [embedding_input('c'+str(n), vocab_size, n_fac) for n in range(cs)]"
   ]
  },
  {
   "cell_type": "code",
   "execution_count": 20,
   "metadata": {
    "collapsed": true
   },
   "outputs": [],
   "source": [
    "n_hidden = 256"
   ]
  },
  {
   "cell_type": "code",
   "execution_count": 21,
   "metadata": {
    "collapsed": true
   },
   "outputs": [],
   "source": [
    "dense_in = Dense(n_hidden, activation='relu')\n",
    "dense_hidden = Dense(n_hidden, activation='relu', init='identity')\n",
    "dense_out = Dense(vocab_size, activation='softmax')"
   ]
  },
  {
   "cell_type": "code",
   "execution_count": 22,
   "metadata": {
    "collapsed": true
   },
   "outputs": [],
   "source": [
    "hidden = dense_in(c_ins[0][1])"
   ]
  },
  {
   "cell_type": "code",
   "execution_count": 23,
   "metadata": {
    "collapsed": true
   },
   "outputs": [],
   "source": [
    "for i in range(1,cs):\n",
    "    c_dense = dense_in(c_ins[i][1])\n",
    "    hidden = dense_hidden(hidden)\n",
    "    hidden = merge([c_dense, hidden])"
   ]
  },
  {
   "cell_type": "code",
   "execution_count": 24,
   "metadata": {
    "collapsed": true
   },
   "outputs": [],
   "source": [
    "c_out = dense_out(hidden)"
   ]
  },
  {
   "cell_type": "code",
   "execution_count": 25,
   "metadata": {
    "collapsed": true
   },
   "outputs": [],
   "source": [
    "model = Model([c[0] for c in c_ins], c_out)\n",
    "model.compile(loss='sparse_categorical_crossentropy', optimizer=Adam())"
   ]
  },
  {
   "cell_type": "code",
   "execution_count": 26,
   "metadata": {
    "collapsed": false
   },
   "outputs": [
    {
     "name": "stdout",
     "output_type": "stream",
     "text": [
      "____________________________________________________________________________________________________\n",
      "Layer (type)                     Output Shape          Param #     Connected to                     \n",
      "====================================================================================================\n",
      "c0_in (InputLayer)               (None, 1)             0                                            \n",
      "____________________________________________________________________________________________________\n",
      "c1_in (InputLayer)               (None, 1)             0                                            \n",
      "____________________________________________________________________________________________________\n",
      "c0_emb (Embedding)               (None, 1, 4)          104         c0_in[0][0]                      \n",
      "____________________________________________________________________________________________________\n",
      "c1_emb (Embedding)               (None, 1, 4)          104         c1_in[0][0]                      \n",
      "____________________________________________________________________________________________________\n",
      "flatten_1 (Flatten)              (None, 4)             0           c0_emb[0][0]                     \n",
      "____________________________________________________________________________________________________\n",
      "dense_1 (Dense)                  (None, 256)           1280        flatten_1[0][0]                  \n",
      "                                                                   flatten_2[0][0]                  \n",
      "____________________________________________________________________________________________________\n",
      "flatten_2 (Flatten)              (None, 4)             0           c1_emb[0][0]                     \n",
      "____________________________________________________________________________________________________\n",
      "dense_2 (Dense)                  (None, 256)           65792       dense_1[0][0]                    \n",
      "____________________________________________________________________________________________________\n",
      "merge_1 (Merge)                  (None, 256)           0           dense_1[1][0]                    \n",
      "                                                                   dense_2[0][0]                    \n",
      "____________________________________________________________________________________________________\n",
      "dense_3 (Dense)                  (None, 26)            6682        merge_1[0][0]                    \n",
      "====================================================================================================\n",
      "Total params: 73962\n",
      "____________________________________________________________________________________________________\n"
     ]
    }
   ],
   "source": [
    "model.summary()"
   ]
  },
  {
   "cell_type": "code",
   "execution_count": 27,
   "metadata": {
    "collapsed": false
   },
   "outputs": [
    {
     "data": {
      "image/svg+xml": [
       "<svg height=\"483pt\" viewBox=\"0.00 0.00 298.00 483.00\" width=\"298pt\" xmlns=\"http://www.w3.org/2000/svg\" xmlns:xlink=\"http://www.w3.org/1999/xlink\">\n",
       "<g class=\"graph\" id=\"graph0\" transform=\"scale(1 1) rotate(0) translate(4 479)\">\n",
       "<title>G</title>\n",
       "<polygon fill=\"white\" points=\"-4,4 -4,-479 294,-479 294,4 -4,4\" stroke=\"none\"/>\n",
       "<!-- 140007753269320 -->\n",
       "<g class=\"node\" id=\"node1\"><title>140007753269320</title>\n",
       "<polygon fill=\"none\" points=\"8.5,-438.5 8.5,-474.5 127.5,-474.5 127.5,-438.5 8.5,-438.5\" stroke=\"black\"/>\n",
       "<text font-family=\"Times,serif\" font-size=\"14.00\" text-anchor=\"middle\" x=\"68\" y=\"-452.8\">c0_in (InputLayer)</text>\n",
       "</g>\n",
       "<!-- 140007753269656 -->\n",
       "<g class=\"node\" id=\"node3\"><title>140007753269656</title>\n",
       "<polygon fill=\"none\" points=\"0,-365.5 0,-401.5 136,-401.5 136,-365.5 0,-365.5\" stroke=\"black\"/>\n",
       "<text font-family=\"Times,serif\" font-size=\"14.00\" text-anchor=\"middle\" x=\"68\" y=\"-379.8\">c0_emb (Embedding)</text>\n",
       "</g>\n",
       "<!-- 140007753269320&#45;&gt;140007753269656 -->\n",
       "<g class=\"edge\" id=\"edge1\"><title>140007753269320-&gt;140007753269656</title>\n",
       "<path d=\"M68,-438.313C68,-430.289 68,-420.547 68,-411.569\" fill=\"none\" stroke=\"black\"/>\n",
       "<polygon fill=\"black\" points=\"71.5001,-411.529 68,-401.529 64.5001,-411.529 71.5001,-411.529\" stroke=\"black\"/>\n",
       "</g>\n",
       "<!-- 140007748973064 -->\n",
       "<g class=\"node\" id=\"node2\"><title>140007748973064</title>\n",
       "<polygon fill=\"none\" points=\"162.5,-438.5 162.5,-474.5 281.5,-474.5 281.5,-438.5 162.5,-438.5\" stroke=\"black\"/>\n",
       "<text font-family=\"Times,serif\" font-size=\"14.00\" text-anchor=\"middle\" x=\"222\" y=\"-452.8\">c1_in (InputLayer)</text>\n",
       "</g>\n",
       "<!-- 140007748973456 -->\n",
       "<g class=\"node\" id=\"node4\"><title>140007748973456</title>\n",
       "<polygon fill=\"none\" points=\"154,-365.5 154,-401.5 290,-401.5 290,-365.5 154,-365.5\" stroke=\"black\"/>\n",
       "<text font-family=\"Times,serif\" font-size=\"14.00\" text-anchor=\"middle\" x=\"222\" y=\"-379.8\">c1_emb (Embedding)</text>\n",
       "</g>\n",
       "<!-- 140007748973064&#45;&gt;140007748973456 -->\n",
       "<g class=\"edge\" id=\"edge2\"><title>140007748973064-&gt;140007748973456</title>\n",
       "<path d=\"M222,-438.313C222,-430.289 222,-420.547 222,-411.569\" fill=\"none\" stroke=\"black\"/>\n",
       "<polygon fill=\"black\" points=\"225.5,-411.529 222,-401.529 218.5,-411.529 225.5,-411.529\" stroke=\"black\"/>\n",
       "</g>\n",
       "<!-- 140007749776272 -->\n",
       "<g class=\"node\" id=\"node5\"><title>140007749776272</title>\n",
       "<polygon fill=\"none\" points=\"20.5,-292.5 20.5,-328.5 135.5,-328.5 135.5,-292.5 20.5,-292.5\" stroke=\"black\"/>\n",
       "<text font-family=\"Times,serif\" font-size=\"14.00\" text-anchor=\"middle\" x=\"78\" y=\"-306.8\">flatten_1 (Flatten)</text>\n",
       "</g>\n",
       "<!-- 140007753269656&#45;&gt;140007749776272 -->\n",
       "<g class=\"edge\" id=\"edge3\"><title>140007753269656-&gt;140007749776272</title>\n",
       "<path d=\"M70.4207,-365.313C71.5508,-357.289 72.9229,-347.547 74.1874,-338.569\" fill=\"none\" stroke=\"black\"/>\n",
       "<polygon fill=\"black\" points=\"77.6726,-338.919 75.6016,-328.529 70.741,-337.943 77.6726,-338.919\" stroke=\"black\"/>\n",
       "</g>\n",
       "<!-- 140007748995056 -->\n",
       "<g class=\"node\" id=\"node7\"><title>140007748995056</title>\n",
       "<polygon fill=\"none\" points=\"158.5,-292.5 158.5,-328.5 273.5,-328.5 273.5,-292.5 158.5,-292.5\" stroke=\"black\"/>\n",
       "<text font-family=\"Times,serif\" font-size=\"14.00\" text-anchor=\"middle\" x=\"216\" y=\"-306.8\">flatten_2 (Flatten)</text>\n",
       "</g>\n",
       "<!-- 140007748973456&#45;&gt;140007748995056 -->\n",
       "<g class=\"edge\" id=\"edge6\"><title>140007748973456-&gt;140007748995056</title>\n",
       "<path d=\"M220.548,-365.313C219.87,-357.289 219.046,-347.547 218.288,-338.569\" fill=\"none\" stroke=\"black\"/>\n",
       "<polygon fill=\"black\" points=\"221.769,-338.199 217.439,-328.529 214.794,-338.788 221.769,-338.199\" stroke=\"black\"/>\n",
       "</g>\n",
       "<!-- 140007753231552 -->\n",
       "<g class=\"node\" id=\"node6\"><title>140007753231552</title>\n",
       "<polygon fill=\"none\" points=\"93.5,-219.5 93.5,-255.5 200.5,-255.5 200.5,-219.5 93.5,-219.5\" stroke=\"black\"/>\n",
       "<text font-family=\"Times,serif\" font-size=\"14.00\" text-anchor=\"middle\" x=\"147\" y=\"-233.8\">dense_1 (Dense)</text>\n",
       "</g>\n",
       "<!-- 140007749776272&#45;&gt;140007753231552 -->\n",
       "<g class=\"edge\" id=\"edge4\"><title>140007749776272-&gt;140007753231552</title>\n",
       "<path d=\"M94.703,-292.313C103.263,-283.505 113.836,-272.625 123.231,-262.958\" fill=\"none\" stroke=\"black\"/>\n",
       "<polygon fill=\"black\" points=\"125.991,-265.14 130.451,-255.529 120.971,-260.261 125.991,-265.14\" stroke=\"black\"/>\n",
       "</g>\n",
       "<!-- 140007753228584 -->\n",
       "<g class=\"node\" id=\"node8\"><title>140007753228584</title>\n",
       "<polygon fill=\"none\" points=\"52.5,-146.5 52.5,-182.5 159.5,-182.5 159.5,-146.5 52.5,-146.5\" stroke=\"black\"/>\n",
       "<text font-family=\"Times,serif\" font-size=\"14.00\" text-anchor=\"middle\" x=\"106\" y=\"-160.8\">dense_2 (Dense)</text>\n",
       "</g>\n",
       "<!-- 140007753231552&#45;&gt;140007753228584 -->\n",
       "<g class=\"edge\" id=\"edge7\"><title>140007753231552-&gt;140007753228584</title>\n",
       "<path d=\"M137.075,-219.313C132.24,-210.941 126.325,-200.697 120.958,-191.403\" fill=\"none\" stroke=\"black\"/>\n",
       "<polygon fill=\"black\" points=\"123.865,-189.438 115.834,-182.529 117.803,-192.939 123.865,-189.438\" stroke=\"black\"/>\n",
       "</g>\n",
       "<!-- 140007748734592 -->\n",
       "<g class=\"node\" id=\"node9\"><title>140007748734592</title>\n",
       "<polygon fill=\"none\" points=\"90.5,-73.5 90.5,-109.5 203.5,-109.5 203.5,-73.5 90.5,-73.5\" stroke=\"black\"/>\n",
       "<text font-family=\"Times,serif\" font-size=\"14.00\" text-anchor=\"middle\" x=\"147\" y=\"-87.8\">merge_1 (Merge)</text>\n",
       "</g>\n",
       "<!-- 140007753231552&#45;&gt;140007748734592 -->\n",
       "<g class=\"edge\" id=\"edge8\"><title>140007753231552-&gt;140007748734592</title>\n",
       "<path d=\"M155.719,-219.162C160.375,-208.924 165.625,-195.549 168,-183 171.058,-166.842 171.058,-162.158 168,-146 166.293,-136.98 163.101,-127.534 159.711,-119.132\" fill=\"none\" stroke=\"black\"/>\n",
       "<polygon fill=\"black\" points=\"162.882,-117.645 155.719,-109.838 156.45,-120.408 162.882,-117.645\" stroke=\"black\"/>\n",
       "</g>\n",
       "<!-- 140007748995056&#45;&gt;140007753231552 -->\n",
       "<g class=\"edge\" id=\"edge5\"><title>140007748995056-&gt;140007753231552</title>\n",
       "<path d=\"M199.297,-292.313C190.737,-283.505 180.164,-272.625 170.769,-262.958\" fill=\"none\" stroke=\"black\"/>\n",
       "<polygon fill=\"black\" points=\"173.029,-260.261 163.549,-255.529 168.009,-265.14 173.029,-260.261\" stroke=\"black\"/>\n",
       "</g>\n",
       "<!-- 140007753228584&#45;&gt;140007748734592 -->\n",
       "<g class=\"edge\" id=\"edge9\"><title>140007753228584-&gt;140007748734592</title>\n",
       "<path d=\"M115.925,-146.313C120.76,-137.941 126.675,-127.697 132.042,-118.403\" fill=\"none\" stroke=\"black\"/>\n",
       "<polygon fill=\"black\" points=\"135.197,-119.939 137.166,-109.529 129.135,-116.438 135.197,-119.939\" stroke=\"black\"/>\n",
       "</g>\n",
       "<!-- 140007753229704 -->\n",
       "<g class=\"node\" id=\"node10\"><title>140007753229704</title>\n",
       "<polygon fill=\"none\" points=\"93.5,-0.5 93.5,-36.5 200.5,-36.5 200.5,-0.5 93.5,-0.5\" stroke=\"black\"/>\n",
       "<text font-family=\"Times,serif\" font-size=\"14.00\" text-anchor=\"middle\" x=\"147\" y=\"-14.8\">dense_3 (Dense)</text>\n",
       "</g>\n",
       "<!-- 140007748734592&#45;&gt;140007753229704 -->\n",
       "<g class=\"edge\" id=\"edge10\"><title>140007748734592-&gt;140007753229704</title>\n",
       "<path d=\"M147,-73.3129C147,-65.2895 147,-55.5475 147,-46.5691\" fill=\"none\" stroke=\"black\"/>\n",
       "<polygon fill=\"black\" points=\"150.5,-46.5288 147,-36.5288 143.5,-46.5289 150.5,-46.5288\" stroke=\"black\"/>\n",
       "</g>\n",
       "</g>\n",
       "</svg>"
      ],
      "text/plain": [
       "<IPython.core.display.SVG object>"
      ]
     },
     "execution_count": 27,
     "metadata": {},
     "output_type": "execute_result"
    }
   ],
   "source": [
    "SVG(model_to_dot(model).create(prog='dot', format='svg'))"
   ]
  },
  {
   "cell_type": "code",
   "execution_count": 28,
   "metadata": {
    "collapsed": false
   },
   "outputs": [
    {
     "name": "stdout",
     "output_type": "stream",
     "text": [
      "Epoch 1/100\n",
      "12/12 [==============================] - 0s - loss: 3.2675     \n",
      "Epoch 2/100\n",
      "12/12 [==============================] - 0s - loss: 3.2090     \n",
      "Epoch 3/100\n",
      "12/12 [==============================] - 0s - loss: 3.1374     \n",
      "Epoch 4/100\n",
      "12/12 [==============================] - 0s - loss: 3.0156     \n",
      "Epoch 5/100\n",
      "12/12 [==============================] - 0s - loss: 2.8115     \n",
      "Epoch 6/100\n",
      "12/12 [==============================] - 0s - loss: 2.5802     \n",
      "Epoch 7/100\n",
      "12/12 [==============================] - 0s - loss: 2.3976     \n",
      "Epoch 8/100\n",
      "12/12 [==============================] - 0s - loss: 2.2692     \n",
      "Epoch 9/100\n",
      "12/12 [==============================] - 0s - loss: 2.2005     \n",
      "Epoch 10/100\n",
      "12/12 [==============================] - 0s - loss: 2.1037     \n",
      "Epoch 11/100\n",
      "12/12 [==============================] - 0s - loss: 1.9401     \n",
      "Epoch 12/100\n",
      "12/12 [==============================] - 0s - loss: 1.8104     \n",
      "Epoch 13/100\n",
      "12/12 [==============================] - 0s - loss: 1.6343     \n",
      "Epoch 14/100\n",
      "12/12 [==============================] - 0s - loss: 1.4521     \n",
      "Epoch 15/100\n",
      "12/12 [==============================] - 0s - loss: 1.2497     \n",
      "Epoch 16/100\n",
      "12/12 [==============================] - 0s - loss: 1.0798     \n",
      "Epoch 17/100\n",
      "12/12 [==============================] - 0s - loss: 0.9164     \n",
      "Epoch 18/100\n",
      "12/12 [==============================] - 0s - loss: 0.7622     \n",
      "Epoch 19/100\n",
      "12/12 [==============================] - 0s - loss: 0.6294     \n",
      "Epoch 20/100\n",
      "12/12 [==============================] - 0s - loss: 0.5372     \n",
      "Epoch 21/100\n",
      "12/12 [==============================] - 0s - loss: 0.4594     \n",
      "Epoch 22/100\n",
      "12/12 [==============================] - 0s - loss: 0.3828     \n",
      "Epoch 23/100\n",
      "12/12 [==============================] - 0s - loss: 0.3298     \n",
      "Epoch 24/100\n",
      "12/12 [==============================] - 0s - loss: 0.2930     \n",
      "Epoch 25/100\n",
      "12/12 [==============================] - 0s - loss: 0.2358     \n",
      "Epoch 26/100\n",
      "12/12 [==============================] - 0s - loss: 0.2105     \n",
      "Epoch 27/100\n",
      "12/12 [==============================] - 0s - loss: 0.2113     \n",
      "Epoch 28/100\n",
      "12/12 [==============================] - 0s - loss: 0.1682     \n",
      "Epoch 29/100\n",
      "12/12 [==============================] - 0s - loss: 0.1479     \n",
      "Epoch 30/100\n",
      "12/12 [==============================] - 0s - loss: 0.1298     \n",
      "Epoch 31/100\n",
      "12/12 [==============================] - 0s - loss: 0.1069     \n",
      "Epoch 32/100\n",
      "12/12 [==============================] - 0s - loss: 0.1085     \n",
      "Epoch 33/100\n",
      "12/12 [==============================] - 0s - loss: 0.0963     \n",
      "Epoch 34/100\n",
      "12/12 [==============================] - 0s - loss: 0.0852     \n",
      "Epoch 35/100\n",
      "12/12 [==============================] - 0s - loss: 0.0743     \n",
      "Epoch 36/100\n",
      "12/12 [==============================] - 0s - loss: 0.0672     \n",
      "Epoch 37/100\n",
      "12/12 [==============================] - 0s - loss: 0.0621     \n",
      "Epoch 38/100\n",
      "12/12 [==============================] - 0s - loss: 0.0510     \n",
      "Epoch 39/100\n",
      "12/12 [==============================] - 0s - loss: 0.0475     \n",
      "Epoch 40/100\n",
      "12/12 [==============================] - 0s - loss: 0.0450     \n",
      "Epoch 41/100\n",
      "12/12 [==============================] - 0s - loss: 0.0393     \n",
      "Epoch 42/100\n",
      "12/12 [==============================] - 0s - loss: 0.0393     \n",
      "Epoch 43/100\n",
      "12/12 [==============================] - 0s - loss: 0.0362     \n",
      "Epoch 44/100\n",
      "12/12 [==============================] - 0s - loss: 0.0307     \n",
      "Epoch 45/100\n",
      "12/12 [==============================] - 0s - loss: 0.0300     \n",
      "Epoch 46/100\n",
      "12/12 [==============================] - 0s - loss: 0.0271     \n",
      "Epoch 47/100\n",
      "12/12 [==============================] - 0s - loss: 0.0247     \n",
      "Epoch 48/100\n",
      "12/12 [==============================] - 0s - loss: 0.0238     \n",
      "Epoch 49/100\n",
      "12/12 [==============================] - 0s - loss: 0.0214     \n",
      "Epoch 50/100\n",
      "12/12 [==============================] - 0s - loss: 0.0199     \n",
      "Epoch 51/100\n",
      "12/12 [==============================] - 0s - loss: 0.0190     \n",
      "Epoch 52/100\n",
      "12/12 [==============================] - 0s - loss: 0.0186     \n",
      "Epoch 53/100\n",
      "12/12 [==============================] - 0s - loss: 0.0172     \n",
      "Epoch 54/100\n",
      "12/12 [==============================] - 0s - loss: 0.0161     \n",
      "Epoch 55/100\n",
      "12/12 [==============================] - 0s - loss: 0.0147     \n",
      "Epoch 56/100\n",
      "12/12 [==============================] - 0s - loss: 0.0140     \n",
      "Epoch 57/100\n",
      "12/12 [==============================] - 0s - loss: 0.0132     \n",
      "Epoch 58/100\n",
      "12/12 [==============================] - 0s - loss: 0.0128     \n",
      "Epoch 59/100\n",
      "12/12 [==============================] - 0s - loss: 0.0120     \n",
      "Epoch 60/100\n",
      "12/12 [==============================] - 0s - loss: 0.0113     \n",
      "Epoch 61/100\n",
      "12/12 [==============================] - 0s - loss: 0.0107     \n",
      "Epoch 62/100\n",
      "12/12 [==============================] - 0s - loss: 0.0103     \n",
      "Epoch 63/100\n",
      "12/12 [==============================] - 0s - loss: 0.0096     \n",
      "Epoch 64/100\n",
      "12/12 [==============================] - 0s - loss: 0.0094     \n",
      "Epoch 65/100\n",
      "12/12 [==============================] - 0s - loss: 0.0093     \n",
      "Epoch 66/100\n",
      "12/12 [==============================] - 0s - loss: 0.0083     \n",
      "Epoch 67/100\n",
      "12/12 [==============================] - 0s - loss: 0.0082     \n",
      "Epoch 68/100\n",
      "12/12 [==============================] - 0s - loss: 0.0078     \n",
      "Epoch 69/100\n",
      "12/12 [==============================] - 0s - loss: 0.0073     \n",
      "Epoch 70/100\n",
      "12/12 [==============================] - 0s - loss: 0.0071     \n",
      "Epoch 71/100\n",
      "12/12 [==============================] - 0s - loss: 0.0068     \n",
      "Epoch 72/100\n",
      "12/12 [==============================] - 0s - loss: 0.0066     \n",
      "Epoch 73/100\n",
      "12/12 [==============================] - 0s - loss: 0.0062     \n",
      "Epoch 74/100\n",
      "12/12 [==============================] - 0s - loss: 0.0059     \n",
      "Epoch 75/100\n",
      "12/12 [==============================] - 0s - loss: 0.0058     \n",
      "Epoch 76/100\n",
      "12/12 [==============================] - 0s - loss: 0.0055     \n",
      "Epoch 77/100\n",
      "12/12 [==============================] - 0s - loss: 0.0052     \n",
      "Epoch 78/100\n",
      "12/12 [==============================] - 0s - loss: 0.0052     \n",
      "Epoch 79/100\n",
      "12/12 [==============================] - 0s - loss: 0.0050     \n",
      "Epoch 80/100\n",
      "12/12 [==============================] - 0s - loss: 0.0047     \n",
      "Epoch 81/100\n",
      "12/12 [==============================] - 0s - loss: 0.0045     \n",
      "Epoch 82/100\n",
      "12/12 [==============================] - 0s - loss: 0.0044     \n",
      "Epoch 83/100\n",
      "12/12 [==============================] - 0s - loss: 0.0044     \n",
      "Epoch 84/100\n",
      "12/12 [==============================] - 0s - loss: 0.0041     \n",
      "Epoch 85/100\n",
      "12/12 [==============================] - 0s - loss: 0.0040     \n",
      "Epoch 86/100\n",
      "12/12 [==============================] - 0s - loss: 0.0039     \n",
      "Epoch 87/100\n",
      "12/12 [==============================] - 0s - loss: 0.0037     \n",
      "Epoch 88/100\n",
      "12/12 [==============================] - 0s - loss: 0.0036     \n",
      "Epoch 89/100\n",
      "12/12 [==============================] - 0s - loss: 0.0034     \n",
      "Epoch 90/100\n",
      "12/12 [==============================] - 0s - loss: 0.0033     \n",
      "Epoch 91/100\n",
      "12/12 [==============================] - 0s - loss: 0.0032     \n",
      "Epoch 92/100\n",
      "12/12 [==============================] - 0s - loss: 0.0031     \n",
      "Epoch 93/100\n",
      "12/12 [==============================] - 0s - loss: 0.0031     \n",
      "Epoch 94/100\n",
      "12/12 [==============================] - 0s - loss: 0.0030     \n",
      "Epoch 95/100\n",
      "12/12 [==============================] - 0s - loss: 0.0029     \n",
      "Epoch 96/100\n",
      "12/12 [==============================] - 0s - loss: 0.0028     \n",
      "Epoch 97/100\n",
      "12/12 [==============================] - 0s - loss: 0.0027     \n",
      "Epoch 98/100\n",
      "12/12 [==============================] - 0s - loss: 0.0026     \n",
      "Epoch 99/100\n",
      "12/12 [==============================] - 0s - loss: 0.0025     \n",
      "Epoch 100/100\n",
      "12/12 [==============================] - 0s - loss: 0.0025     \n"
     ]
    },
    {
     "data": {
      "text/plain": [
       "<keras.callbacks.History at 0x7f560ea52c50>"
      ]
     },
     "execution_count": 28,
     "metadata": {},
     "output_type": "execute_result"
    }
   ],
   "source": [
    "model.fit(xs, y, batch_size=1, nb_epoch=100)"
   ]
  },
  {
   "cell_type": "code",
   "execution_count": 29,
   "metadata": {
    "collapsed": true
   },
   "outputs": [],
   "source": [
    "model.save('./models/dev_fast_ai_first_RNN.h5')"
   ]
  },
  {
   "cell_type": "markdown",
   "metadata": {},
   "source": [
    "## Test model"
   ]
  },
  {
   "cell_type": "code",
   "execution_count": 30,
   "metadata": {
    "collapsed": true
   },
   "outputs": [],
   "source": [
    "def get_next_multi(inp):\n",
    "    idxs = [corpora.token2id[c] for c in inp]\n",
    "    print(idxs)\n",
    "    arrs = [np.array(i)[np.newaxis] for i in idxs]\n",
    "    print(arrs)\n",
    "    \n",
    "    p = model.predict(arrs)\n",
    "    print(p.shape)\n",
    "    i_max1 = np.argmax(p)\n",
    "    p[0,i_max1] = 0\n",
    "    i_max2 = np.argmax(p)\n",
    "    p[0,i_max2] = 0\n",
    "    i_max3 = np.argmax(p)\n",
    "\n",
    "    \n",
    "    return corpora.id2token[i_max1], corpora.id2token[i_max2], corpora.id2token[i_max3]"
   ]
  },
  {
   "cell_type": "code",
   "execution_count": 31,
   "metadata": {
    "collapsed": true
   },
   "outputs": [],
   "source": [
    "def get_next(inp):\n",
    "    idxs = [corpora.token2id[c] for c in inp]\n",
    "    #print(idxs)\n",
    "    arrs = [np.array(i)[np.newaxis] for i in idxs]\n",
    "    #print(arrs)\n",
    "    \n",
    "    p = model.predict(arrs)\n",
    "    #print(p.shape)\n",
    "    i_max1 = np.argmax(p)\n",
    "    #p[0,i_max1] = 0\n",
    "    #i_max2 = np.argmax(p)\n",
    "    #p[0,i_max2] = 0\n",
    "    #_max3 = np.argmax(p)\n",
    "\n",
    "    \n",
    "    return corpora.id2token[i_max1]#, corpora.id2token[i_max2], corpora.id2token[i_max3]"
   ]
  },
  {
   "cell_type": "code",
   "execution_count": 32,
   "metadata": {
    "collapsed": false
   },
   "outputs": [
    {
     "data": {
      "text/plain": [
       "'three'"
      ]
     },
     "execution_count": 32,
     "metadata": {},
     "output_type": "execute_result"
    }
   ],
   "source": [
    "get_next(['One', 'two'])"
   ]
  },
  {
   "cell_type": "code",
   "execution_count": 54,
   "metadata": {
    "collapsed": false
   },
   "outputs": [],
   "source": [
    "test_cases_text = pd.read_csv('./data/test_cases_text.csv')\n",
    "pred = []\n",
    "for index, row in test_cases_text.iterrows():\n",
    "    #print( '%s %s'%(row['in_0'], row['in_1']))\n",
    "    inp = [row['in_0'], row['in_1']]\n",
    "    #print(inp)\n",
    "    tmp = get_next(inp)\n",
    "    pred.append(tmp)\n",
    "test_cases_text['predicted'] = pred"
   ]
  },
  {
   "cell_type": "code",
   "execution_count": 67,
   "metadata": {
    "collapsed": false
   },
   "outputs": [
    {
     "data": {
      "text/html": [
       "<div>\n",
       "<table border=\"1\" class=\"dataframe\">\n",
       "  <thead>\n",
       "    <tr style=\"text-align: right;\">\n",
       "      <th>predicted</th>\n",
       "      <th>.</th>\n",
       "      <th>?</th>\n",
       "      <th>are</th>\n",
       "      <th>five</th>\n",
       "      <th>fox</th>\n",
       "      <th>lazy</th>\n",
       "      <th>nine</th>\n",
       "      <th>over</th>\n",
       "      <th>quick</th>\n",
       "      <th>seven</th>\n",
       "      <th>three</th>\n",
       "    </tr>\n",
       "    <tr>\n",
       "      <th>out</th>\n",
       "      <th></th>\n",
       "      <th></th>\n",
       "      <th></th>\n",
       "      <th></th>\n",
       "      <th></th>\n",
       "      <th></th>\n",
       "      <th></th>\n",
       "      <th></th>\n",
       "      <th></th>\n",
       "      <th></th>\n",
       "      <th></th>\n",
       "    </tr>\n",
       "  </thead>\n",
       "  <tbody>\n",
       "    <tr>\n",
       "      <th>.</th>\n",
       "      <td>2</td>\n",
       "      <td>0</td>\n",
       "      <td>0</td>\n",
       "      <td>0</td>\n",
       "      <td>0</td>\n",
       "      <td>0</td>\n",
       "      <td>0</td>\n",
       "      <td>0</td>\n",
       "      <td>0</td>\n",
       "      <td>0</td>\n",
       "      <td>0</td>\n",
       "    </tr>\n",
       "    <tr>\n",
       "      <th>?</th>\n",
       "      <td>1</td>\n",
       "      <td>1</td>\n",
       "      <td>0</td>\n",
       "      <td>0</td>\n",
       "      <td>0</td>\n",
       "      <td>0</td>\n",
       "      <td>0</td>\n",
       "      <td>0</td>\n",
       "      <td>0</td>\n",
       "      <td>0</td>\n",
       "      <td>0</td>\n",
       "    </tr>\n",
       "    <tr>\n",
       "      <th>How</th>\n",
       "      <td>0</td>\n",
       "      <td>0</td>\n",
       "      <td>0</td>\n",
       "      <td>0</td>\n",
       "      <td>0</td>\n",
       "      <td>0</td>\n",
       "      <td>1</td>\n",
       "      <td>0</td>\n",
       "      <td>0</td>\n",
       "      <td>0</td>\n",
       "      <td>0</td>\n",
       "    </tr>\n",
       "    <tr>\n",
       "      <th>The</th>\n",
       "      <td>0</td>\n",
       "      <td>0</td>\n",
       "      <td>0</td>\n",
       "      <td>1</td>\n",
       "      <td>0</td>\n",
       "      <td>0</td>\n",
       "      <td>0</td>\n",
       "      <td>0</td>\n",
       "      <td>0</td>\n",
       "      <td>0</td>\n",
       "      <td>0</td>\n",
       "    </tr>\n",
       "    <tr>\n",
       "      <th>What</th>\n",
       "      <td>1</td>\n",
       "      <td>0</td>\n",
       "      <td>0</td>\n",
       "      <td>0</td>\n",
       "      <td>0</td>\n",
       "      <td>0</td>\n",
       "      <td>0</td>\n",
       "      <td>0</td>\n",
       "      <td>0</td>\n",
       "      <td>0</td>\n",
       "      <td>0</td>\n",
       "    </tr>\n",
       "    <tr>\n",
       "      <th>a</th>\n",
       "      <td>0</td>\n",
       "      <td>0</td>\n",
       "      <td>0</td>\n",
       "      <td>0</td>\n",
       "      <td>0</td>\n",
       "      <td>0</td>\n",
       "      <td>0</td>\n",
       "      <td>0</td>\n",
       "      <td>0</td>\n",
       "      <td>1</td>\n",
       "      <td>0</td>\n",
       "    </tr>\n",
       "    <tr>\n",
       "      <th>are</th>\n",
       "      <td>0</td>\n",
       "      <td>0</td>\n",
       "      <td>1</td>\n",
       "      <td>0</td>\n",
       "      <td>0</td>\n",
       "      <td>0</td>\n",
       "      <td>0</td>\n",
       "      <td>0</td>\n",
       "      <td>0</td>\n",
       "      <td>0</td>\n",
       "      <td>1</td>\n",
       "    </tr>\n",
       "    <tr>\n",
       "      <th>brown</th>\n",
       "      <td>0</td>\n",
       "      <td>0</td>\n",
       "      <td>0</td>\n",
       "      <td>0</td>\n",
       "      <td>0</td>\n",
       "      <td>0</td>\n",
       "      <td>0</td>\n",
       "      <td>0</td>\n",
       "      <td>0</td>\n",
       "      <td>0</td>\n",
       "      <td>1</td>\n",
       "    </tr>\n",
       "    <tr>\n",
       "      <th>dog</th>\n",
       "      <td>0</td>\n",
       "      <td>0</td>\n",
       "      <td>0</td>\n",
       "      <td>0</td>\n",
       "      <td>0</td>\n",
       "      <td>0</td>\n",
       "      <td>0</td>\n",
       "      <td>1</td>\n",
       "      <td>0</td>\n",
       "      <td>0</td>\n",
       "      <td>0</td>\n",
       "    </tr>\n",
       "    <tr>\n",
       "      <th>doing</th>\n",
       "      <td>0</td>\n",
       "      <td>1</td>\n",
       "      <td>0</td>\n",
       "      <td>0</td>\n",
       "      <td>0</td>\n",
       "      <td>0</td>\n",
       "      <td>0</td>\n",
       "      <td>0</td>\n",
       "      <td>0</td>\n",
       "      <td>0</td>\n",
       "      <td>0</td>\n",
       "    </tr>\n",
       "    <tr>\n",
       "      <th>eight</th>\n",
       "      <td>0</td>\n",
       "      <td>0</td>\n",
       "      <td>0</td>\n",
       "      <td>1</td>\n",
       "      <td>0</td>\n",
       "      <td>0</td>\n",
       "      <td>0</td>\n",
       "      <td>0</td>\n",
       "      <td>0</td>\n",
       "      <td>0</td>\n",
       "      <td>0</td>\n",
       "    </tr>\n",
       "    <tr>\n",
       "      <th>five</th>\n",
       "      <td>0</td>\n",
       "      <td>0</td>\n",
       "      <td>0</td>\n",
       "      <td>1</td>\n",
       "      <td>0</td>\n",
       "      <td>0</td>\n",
       "      <td>0</td>\n",
       "      <td>0</td>\n",
       "      <td>0</td>\n",
       "      <td>0</td>\n",
       "      <td>0</td>\n",
       "    </tr>\n",
       "    <tr>\n",
       "      <th>four</th>\n",
       "      <td>0</td>\n",
       "      <td>0</td>\n",
       "      <td>0</td>\n",
       "      <td>0</td>\n",
       "      <td>0</td>\n",
       "      <td>0</td>\n",
       "      <td>1</td>\n",
       "      <td>0</td>\n",
       "      <td>0</td>\n",
       "      <td>0</td>\n",
       "      <td>0</td>\n",
       "    </tr>\n",
       "    <tr>\n",
       "      <th>fox</th>\n",
       "      <td>0</td>\n",
       "      <td>0</td>\n",
       "      <td>0</td>\n",
       "      <td>0</td>\n",
       "      <td>1</td>\n",
       "      <td>0</td>\n",
       "      <td>0</td>\n",
       "      <td>0</td>\n",
       "      <td>0</td>\n",
       "      <td>0</td>\n",
       "      <td>0</td>\n",
       "    </tr>\n",
       "    <tr>\n",
       "      <th>jumps</th>\n",
       "      <td>0</td>\n",
       "      <td>0</td>\n",
       "      <td>0</td>\n",
       "      <td>1</td>\n",
       "      <td>0</td>\n",
       "      <td>0</td>\n",
       "      <td>0</td>\n",
       "      <td>0</td>\n",
       "      <td>0</td>\n",
       "      <td>0</td>\n",
       "      <td>0</td>\n",
       "    </tr>\n",
       "    <tr>\n",
       "      <th>lazy</th>\n",
       "      <td>0</td>\n",
       "      <td>0</td>\n",
       "      <td>0</td>\n",
       "      <td>0</td>\n",
       "      <td>0</td>\n",
       "      <td>1</td>\n",
       "      <td>0</td>\n",
       "      <td>0</td>\n",
       "      <td>0</td>\n",
       "      <td>0</td>\n",
       "      <td>0</td>\n",
       "    </tr>\n",
       "    <tr>\n",
       "      <th>nine</th>\n",
       "      <td>0</td>\n",
       "      <td>0</td>\n",
       "      <td>0</td>\n",
       "      <td>0</td>\n",
       "      <td>0</td>\n",
       "      <td>0</td>\n",
       "      <td>1</td>\n",
       "      <td>0</td>\n",
       "      <td>0</td>\n",
       "      <td>0</td>\n",
       "      <td>0</td>\n",
       "    </tr>\n",
       "    <tr>\n",
       "      <th>over</th>\n",
       "      <td>0</td>\n",
       "      <td>0</td>\n",
       "      <td>0</td>\n",
       "      <td>0</td>\n",
       "      <td>0</td>\n",
       "      <td>0</td>\n",
       "      <td>0</td>\n",
       "      <td>1</td>\n",
       "      <td>0</td>\n",
       "      <td>0</td>\n",
       "      <td>0</td>\n",
       "    </tr>\n",
       "    <tr>\n",
       "      <th>quick</th>\n",
       "      <td>0</td>\n",
       "      <td>0</td>\n",
       "      <td>0</td>\n",
       "      <td>0</td>\n",
       "      <td>0</td>\n",
       "      <td>0</td>\n",
       "      <td>0</td>\n",
       "      <td>0</td>\n",
       "      <td>1</td>\n",
       "      <td>0</td>\n",
       "      <td>0</td>\n",
       "    </tr>\n",
       "    <tr>\n",
       "      <th>seven</th>\n",
       "      <td>0</td>\n",
       "      <td>0</td>\n",
       "      <td>0</td>\n",
       "      <td>0</td>\n",
       "      <td>0</td>\n",
       "      <td>0</td>\n",
       "      <td>0</td>\n",
       "      <td>0</td>\n",
       "      <td>0</td>\n",
       "      <td>1</td>\n",
       "      <td>0</td>\n",
       "    </tr>\n",
       "    <tr>\n",
       "      <th>six</th>\n",
       "      <td>0</td>\n",
       "      <td>0</td>\n",
       "      <td>0</td>\n",
       "      <td>0</td>\n",
       "      <td>0</td>\n",
       "      <td>0</td>\n",
       "      <td>0</td>\n",
       "      <td>1</td>\n",
       "      <td>0</td>\n",
       "      <td>0</td>\n",
       "      <td>0</td>\n",
       "    </tr>\n",
       "    <tr>\n",
       "      <th>ten</th>\n",
       "      <td>0</td>\n",
       "      <td>0</td>\n",
       "      <td>0</td>\n",
       "      <td>0</td>\n",
       "      <td>0</td>\n",
       "      <td>0</td>\n",
       "      <td>0</td>\n",
       "      <td>1</td>\n",
       "      <td>0</td>\n",
       "      <td>0</td>\n",
       "      <td>0</td>\n",
       "    </tr>\n",
       "    <tr>\n",
       "      <th>three</th>\n",
       "      <td>0</td>\n",
       "      <td>0</td>\n",
       "      <td>0</td>\n",
       "      <td>0</td>\n",
       "      <td>0</td>\n",
       "      <td>0</td>\n",
       "      <td>0</td>\n",
       "      <td>0</td>\n",
       "      <td>0</td>\n",
       "      <td>0</td>\n",
       "      <td>1</td>\n",
       "    </tr>\n",
       "    <tr>\n",
       "      <th>you</th>\n",
       "      <td>0</td>\n",
       "      <td>0</td>\n",
       "      <td>0</td>\n",
       "      <td>0</td>\n",
       "      <td>0</td>\n",
       "      <td>0</td>\n",
       "      <td>2</td>\n",
       "      <td>0</td>\n",
       "      <td>0</td>\n",
       "      <td>0</td>\n",
       "      <td>0</td>\n",
       "    </tr>\n",
       "  </tbody>\n",
       "</table>\n",
       "</div>"
      ],
      "text/plain": [
       "predicted  .  ?  are  five  fox  lazy  nine  over  quick  seven  three\n",
       "out                                                                   \n",
       ".          2  0    0     0    0     0     0     0      0      0      0\n",
       "?          1  1    0     0    0     0     0     0      0      0      0\n",
       "How        0  0    0     0    0     0     1     0      0      0      0\n",
       "The        0  0    0     1    0     0     0     0      0      0      0\n",
       "What       1  0    0     0    0     0     0     0      0      0      0\n",
       "a          0  0    0     0    0     0     0     0      0      1      0\n",
       "are        0  0    1     0    0     0     0     0      0      0      1\n",
       "brown      0  0    0     0    0     0     0     0      0      0      1\n",
       "dog        0  0    0     0    0     0     0     1      0      0      0\n",
       "doing      0  1    0     0    0     0     0     0      0      0      0\n",
       "eight      0  0    0     1    0     0     0     0      0      0      0\n",
       "five       0  0    0     1    0     0     0     0      0      0      0\n",
       "four       0  0    0     0    0     0     1     0      0      0      0\n",
       "fox        0  0    0     0    1     0     0     0      0      0      0\n",
       "jumps      0  0    0     1    0     0     0     0      0      0      0\n",
       "lazy       0  0    0     0    0     1     0     0      0      0      0\n",
       "nine       0  0    0     0    0     0     1     0      0      0      0\n",
       "over       0  0    0     0    0     0     0     1      0      0      0\n",
       "quick      0  0    0     0    0     0     0     0      1      0      0\n",
       "seven      0  0    0     0    0     0     0     0      0      1      0\n",
       "six        0  0    0     0    0     0     0     1      0      0      0\n",
       "ten        0  0    0     0    0     0     0     1      0      0      0\n",
       "three      0  0    0     0    0     0     0     0      0      0      1\n",
       "you        0  0    0     0    0     0     2     0      0      0      0"
      ]
     },
     "execution_count": 67,
     "metadata": {},
     "output_type": "execute_result"
    }
   ],
   "source": [
    "pd.crosstab(test_cases_text['out'], test_cases_text['predicted'])"
   ]
  },
  {
   "cell_type": "code",
   "execution_count": 77,
   "metadata": {
    "collapsed": false
   },
   "outputs": [
    {
     "data": {
      "text/html": [
       "<div>\n",
       "<table border=\"1\" class=\"dataframe\">\n",
       "  <thead>\n",
       "    <tr style=\"text-align: right;\">\n",
       "      <th></th>\n",
       "      <th>in_0</th>\n",
       "      <th>in_1</th>\n",
       "      <th>out</th>\n",
       "      <th>predicted</th>\n",
       "    </tr>\n",
       "  </thead>\n",
       "  <tbody>\n",
       "    <tr>\n",
       "      <th>0</th>\n",
       "      <td>One</td>\n",
       "      <td>two</td>\n",
       "      <td>three</td>\n",
       "      <td>three</td>\n",
       "    </tr>\n",
       "    <tr>\n",
       "      <th>2</th>\n",
       "      <td>three</td>\n",
       "      <td>four</td>\n",
       "      <td>five</td>\n",
       "      <td>five</td>\n",
       "    </tr>\n",
       "    <tr>\n",
       "      <th>4</th>\n",
       "      <td>five</td>\n",
       "      <td>six</td>\n",
       "      <td>seven</td>\n",
       "      <td>seven</td>\n",
       "    </tr>\n",
       "    <tr>\n",
       "      <th>6</th>\n",
       "      <td>seven</td>\n",
       "      <td>eight</td>\n",
       "      <td>nine</td>\n",
       "      <td>nine</td>\n",
       "    </tr>\n",
       "    <tr>\n",
       "      <th>8</th>\n",
       "      <td>nine</td>\n",
       "      <td>ten</td>\n",
       "      <td>.</td>\n",
       "      <td>.</td>\n",
       "    </tr>\n",
       "    <tr>\n",
       "      <th>10</th>\n",
       "      <td>.</td>\n",
       "      <td>The</td>\n",
       "      <td>quick</td>\n",
       "      <td>quick</td>\n",
       "    </tr>\n",
       "    <tr>\n",
       "      <th>12</th>\n",
       "      <td>quick</td>\n",
       "      <td>brown</td>\n",
       "      <td>fox</td>\n",
       "      <td>fox</td>\n",
       "    </tr>\n",
       "    <tr>\n",
       "      <th>14</th>\n",
       "      <td>fox</td>\n",
       "      <td>jumps</td>\n",
       "      <td>over</td>\n",
       "      <td>over</td>\n",
       "    </tr>\n",
       "    <tr>\n",
       "      <th>16</th>\n",
       "      <td>over</td>\n",
       "      <td>a</td>\n",
       "      <td>lazy</td>\n",
       "      <td>lazy</td>\n",
       "    </tr>\n",
       "    <tr>\n",
       "      <th>18</th>\n",
       "      <td>lazy</td>\n",
       "      <td>dog</td>\n",
       "      <td>.</td>\n",
       "      <td>.</td>\n",
       "    </tr>\n",
       "    <tr>\n",
       "      <th>20</th>\n",
       "      <td>.</td>\n",
       "      <td>How</td>\n",
       "      <td>are</td>\n",
       "      <td>are</td>\n",
       "    </tr>\n",
       "    <tr>\n",
       "      <th>22</th>\n",
       "      <td>are</td>\n",
       "      <td>you</td>\n",
       "      <td>?</td>\n",
       "      <td>?</td>\n",
       "    </tr>\n",
       "  </tbody>\n",
       "</table>\n",
       "</div>"
      ],
      "text/plain": [
       "     in_0   in_1    out predicted\n",
       "0     One    two  three     three\n",
       "2   three   four   five      five\n",
       "4    five    six  seven     seven\n",
       "6   seven  eight   nine      nine\n",
       "8    nine    ten      .         .\n",
       "10      .    The  quick     quick\n",
       "12  quick  brown    fox       fox\n",
       "14    fox  jumps   over      over\n",
       "16   over      a   lazy      lazy\n",
       "18   lazy    dog      .         .\n",
       "20      .    How    are       are\n",
       "22    are    you      ?         ?"
      ]
     },
     "execution_count": 77,
     "metadata": {},
     "output_type": "execute_result"
    }
   ],
   "source": [
    "test_cases_text[test_cases_text.out==test_cases_text.predicted]"
   ]
  },
  {
   "cell_type": "code",
   "execution_count": 78,
   "metadata": {
    "collapsed": false
   },
   "outputs": [
    {
     "name": "stdout",
     "output_type": "stream",
     "text": [
      "True cnt: 12 All cnt 28\n",
      "Precision: 0.43\n"
     ]
    }
   ],
   "source": [
    "true_cnt = len(test_cases_text[test_cases_text.out==test_cases_text.predicted].index) * 1.0\n",
    "all_cnt = len(test_cases_text.index) * 1.0\n",
    "print('True cnt: %d All cnt %d'%(true_cnt, all_cnt))\n",
    "print(\"Precision: %.2f\"%( true_cnt/all_cnt))"
   ]
  }
 ],
 "metadata": {
  "kernelspec": {
   "display_name": "Python 3",
   "language": "python",
   "name": "python3"
  },
  "language_info": {
   "codemirror_mode": {
    "name": "ipython",
    "version": 3
   },
   "file_extension": ".py",
   "mimetype": "text/x-python",
   "name": "python",
   "nbconvert_exporter": "python",
   "pygments_lexer": "ipython3",
   "version": "3.5.2"
  }
 },
 "nbformat": 4,
 "nbformat_minor": 1
}
