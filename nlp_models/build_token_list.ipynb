{
 "cells": [
  {
   "cell_type": "code",
   "execution_count": 175,
   "metadata": {
    "collapsed": false
   },
   "outputs": [],
   "source": [
    "import string\n",
    "import re\n",
    "import pandas as pd"
   ]
  },
  {
   "cell_type": "markdown",
   "metadata": {},
   "source": [
    "### Parameters"
   ]
  },
  {
   "cell_type": "code",
   "execution_count": 176,
   "metadata": {
    "collapsed": true
   },
   "outputs": [],
   "source": [
    "#filename = 'test.txt'\n",
    "filename = 'en_US.blogs.txt'\n",
    "\n",
    "DELIMITERS = ' |,|:|;|\\*|\\+|/|\\t|\\n|\\.|!|\\?|\\(|\\)|…|\\{|\\}|\"'"
   ]
  },
  {
   "cell_type": "markdown",
   "metadata": {},
   "source": [
    "### Build carpora"
   ]
  },
  {
   "cell_type": "code",
   "execution_count": 177,
   "metadata": {
    "collapsed": false
   },
   "outputs": [
    {
     "name": "stdout",
     "output_type": "stream",
     "text": [
      "Reading file...\n"
     ]
    }
   ],
   "source": [
    "# read source file\n",
    "print('Reading file...')\n",
    "raw_text = open('./raw_texts/' + filename).read().lower().replace('`', '\\'')"
   ]
  },
  {
   "cell_type": "code",
   "execution_count": 178,
   "metadata": {
    "collapsed": false
   },
   "outputs": [],
   "source": [
    "raw_tokens = re.split(DELIMITERS, raw_text)"
   ]
  },
  {
   "cell_type": "code",
   "execution_count": 179,
   "metadata": {
    "collapsed": false
   },
   "outputs": [],
   "source": [
    "tokens = []\n",
    "\n",
    "for token in raw_tokens:\n",
    "    \n",
    "    token.strip(string.punctuation)\n",
    "    token.strip(string.whitespace)\n",
    "    \n",
    "    if len(token) == 0:\n",
    "        continue\n",
    "    \n",
    "    # Find any numbers\n",
    "    if len(re.findall(r'[0-9]+', token) ) !=0 :\n",
    "       continue\n",
    "    \n",
    "    # Find all email addresses\n",
    "    if len(re.findall(r'[a-zA-Z0-9_.+-]+@[a-zA-Z0-9-]+\\.[a-zA-Z0-9]+', token)) != 0:\n",
    "       continue\n",
    "    \n",
    "    # Find any ISBN-10 or ISBN-13 number (URL components)\n",
    "    if len(re.findall(r'(http|ftp|https):\\/\\/([\\w\\-_]+(?:(?:\\.[\\w\\-_]+)+))([\\w\\-\\.,@?^=%&amp;:/~\\+#]*[\\w\\-\\@?^=%&amp;/~\\+#])?', token)) != 0:\n",
    "        continue\n",
    "    \n",
    "    \n",
    "    tokens.append(token)"
   ]
  },
  {
   "cell_type": "code",
   "execution_count": 180,
   "metadata": {
    "collapsed": false
   },
   "outputs": [],
   "source": [
    "token_cnt = dict()\n",
    " \n",
    "for t in tokens:\n",
    "    try: token_cnt[t] = token_cnt[t]+1\n",
    "    except: token_cnt[t] = 1"
   ]
  },
  {
   "cell_type": "code",
   "execution_count": 181,
   "metadata": {
    "collapsed": false
   },
   "outputs": [],
   "source": [
    "with open('./data/raw_tokens.csv', 'wt') as f:\n",
    "    f.write('token, count\\n')\n",
    "    for t in token_cnt.items():\n",
    "        if t[1] >= 5:\n",
    "            f.write( t[0] + ',' + str(t[1]) + '\\n' )\n",
    "    "
   ]
  }
 ],
 "metadata": {
  "kernelspec": {
   "display_name": "Python 3",
   "language": "python",
   "name": "python3"
  },
  "language_info": {
   "codemirror_mode": {
    "name": "ipython",
    "version": 3
   },
   "file_extension": ".py",
   "mimetype": "text/x-python",
   "name": "python",
   "nbconvert_exporter": "python",
   "pygments_lexer": "ipython3",
   "version": "3.5.2"
  }
 },
 "nbformat": 4,
 "nbformat_minor": 1
}
