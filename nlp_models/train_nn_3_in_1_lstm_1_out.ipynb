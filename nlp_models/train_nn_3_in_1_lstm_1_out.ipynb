{
 "cells": [
  {
   "cell_type": "code",
   "execution_count": 30,
   "metadata": {
    "collapsed": false
   },
   "outputs": [],
   "source": [
    "import gensim\n",
    "from keras.models import Sequential\n",
    "from keras.layers import Dense, LSTM, Embedding\n",
    "from keras.utils import np_utils\n",
    "from IPython.display import SVG\n",
    "from keras.utils.visualize_util import plot,model_to_dot\n",
    "from keras.preprocessing.sequence import pad_sequences\n",
    "from keras.callbacks import ModelCheckpoint\n",
    "import pickle\n",
    "import pandas as pd\n",
    "import numpy as np"
   ]
  },
  {
   "cell_type": "markdown",
   "metadata": {},
   "source": [
    "### Parameters"
   ]
  },
  {
   "cell_type": "code",
   "execution_count": 31,
   "metadata": {
    "collapsed": true
   },
   "outputs": [],
   "source": [
    "filename = 'test.txt'\n",
    "#filename = 'en_US.blogs.txt'\n",
    "#trainset_prefix = 'part001'\n",
    "trainset_prefix = ''\n",
    "\n",
    "IN_SEQ_LENGTH = 3\n",
    "OUT_SEQ_LENGTH = 1\n",
    "EMBEDDING_DIM = 64\n",
    "HIDDEN_LAYER_1 = 1024\n",
    "MODEL_NAME = 'nn_3_in_1_lstm_1_out'"
   ]
  },
  {
   "cell_type": "code",
   "execution_count": 32,
   "metadata": {
    "collapsed": true
   },
   "outputs": [],
   "source": [
    "META_EMPTY = '<<<!EMP!>>>'"
   ]
  },
  {
   "cell_type": "markdown",
   "metadata": {},
   "source": [
    "### Load corpora"
   ]
  },
  {
   "cell_type": "code",
   "execution_count": 33,
   "metadata": {
    "collapsed": false
   },
   "outputs": [
    {
     "name": "stdout",
     "output_type": "stream",
     "text": [
      "Number of words in corpora: 14\n"
     ]
    }
   ],
   "source": [
    "corpora = gensim.corpora.Dictionary.load('./data/'+filename+'.corpora.dat')\n",
    "vocab_size = len(corpora)\n",
    "print('Number of words in corpora: %d'%(vocab_size))\n",
    "tmp = list(corpora.items())"
   ]
  },
  {
   "cell_type": "markdown",
   "metadata": {},
   "source": [
    "### Set network configuration"
   ]
  },
  {
   "cell_type": "code",
   "execution_count": 34,
   "metadata": {
    "collapsed": false
   },
   "outputs": [],
   "source": [
    "model = Sequential()\n",
    "model.add( Embedding(input_dim=vocab_size, output_dim=EMBEDDING_DIM, input_length=IN_SEQ_LENGTH) )\n",
    "model.add( LSTM(HIDDEN_LAYER_1, return_sequences=False) )\n",
    "\n",
    "model.add( Dense(output_dim=vocab_size, activation='softmax') )"
   ]
  },
  {
   "cell_type": "code",
   "execution_count": 35,
   "metadata": {
    "collapsed": false
   },
   "outputs": [],
   "source": [
    "model.compile(optimizer='adam', loss='sparse_categorical_crossentropy', metrics=['accuracy'])"
   ]
  },
  {
   "cell_type": "code",
   "execution_count": 36,
   "metadata": {
    "collapsed": false
   },
   "outputs": [
    {
     "name": "stdout",
     "output_type": "stream",
     "text": [
      "____________________________________________________________________________________________________\n",
      "Layer (type)                     Output Shape          Param #     Connected to                     \n",
      "====================================================================================================\n",
      "embedding_3 (Embedding)          (None, 3, 64)         896         embedding_input_3[0][0]          \n",
      "____________________________________________________________________________________________________\n",
      "lstm_4 (LSTM)                    (None, 1024)          4460544     embedding_3[0][0]                \n",
      "____________________________________________________________________________________________________\n",
      "dense_3 (Dense)                  (None, 14)            14350       lstm_4[0][0]                     \n",
      "====================================================================================================\n",
      "Total params: 4475790\n",
      "____________________________________________________________________________________________________\n"
     ]
    }
   ],
   "source": [
    "model.summary()"
   ]
  },
  {
   "cell_type": "code",
   "execution_count": 37,
   "metadata": {
    "collapsed": false
   },
   "outputs": [
    {
     "data": {
      "image/svg+xml": [
       "<svg height=\"264pt\" viewBox=\"0.00 0.00 206.00 264.00\" width=\"206pt\" xmlns=\"http://www.w3.org/2000/svg\" xmlns:xlink=\"http://www.w3.org/1999/xlink\">\n",
       "<g class=\"graph\" id=\"graph0\" transform=\"scale(1 1) rotate(0) translate(4 260)\">\n",
       "<title>G</title>\n",
       "<polygon fill=\"white\" points=\"-4,4 -4,-260 202,-260 202,4 -4,4\" stroke=\"none\"/>\n",
       "<!-- 140558092108688 -->\n",
       "<g class=\"node\" id=\"node1\"><title>140558092108688</title>\n",
       "<polygon fill=\"none\" points=\"0,-219.5 0,-255.5 198,-255.5 198,-219.5 0,-219.5\" stroke=\"black\"/>\n",
       "<text font-family=\"Times,serif\" font-size=\"14.00\" text-anchor=\"middle\" x=\"99\" y=\"-233.8\">embedding_input_3 (InputLayer)</text>\n",
       "</g>\n",
       "<!-- 140558092108016 -->\n",
       "<g class=\"node\" id=\"node2\"><title>140558092108016</title>\n",
       "<polygon fill=\"none\" points=\"15.5,-146.5 15.5,-182.5 182.5,-182.5 182.5,-146.5 15.5,-146.5\" stroke=\"black\"/>\n",
       "<text font-family=\"Times,serif\" font-size=\"14.00\" text-anchor=\"middle\" x=\"99\" y=\"-160.8\">embedding_3 (Embedding)</text>\n",
       "</g>\n",
       "<!-- 140558092108688&#45;&gt;140558092108016 -->\n",
       "<g class=\"edge\" id=\"edge1\"><title>140558092108688-&gt;140558092108016</title>\n",
       "<path d=\"M99,-219.313C99,-211.289 99,-201.547 99,-192.569\" fill=\"none\" stroke=\"black\"/>\n",
       "<polygon fill=\"black\" points=\"102.5,-192.529 99,-182.529 95.5001,-192.529 102.5,-192.529\" stroke=\"black\"/>\n",
       "</g>\n",
       "<!-- 140558092108744 -->\n",
       "<g class=\"node\" id=\"node3\"><title>140558092108744</title>\n",
       "<polygon fill=\"none\" points=\"47,-73.5 47,-109.5 151,-109.5 151,-73.5 47,-73.5\" stroke=\"black\"/>\n",
       "<text font-family=\"Times,serif\" font-size=\"14.00\" text-anchor=\"middle\" x=\"99\" y=\"-87.8\">lstm_4 (LSTM)</text>\n",
       "</g>\n",
       "<!-- 140558092108016&#45;&gt;140558092108744 -->\n",
       "<g class=\"edge\" id=\"edge2\"><title>140558092108016-&gt;140558092108744</title>\n",
       "<path d=\"M99,-146.313C99,-138.289 99,-128.547 99,-119.569\" fill=\"none\" stroke=\"black\"/>\n",
       "<polygon fill=\"black\" points=\"102.5,-119.529 99,-109.529 95.5001,-119.529 102.5,-119.529\" stroke=\"black\"/>\n",
       "</g>\n",
       "<!-- 140558092175736 -->\n",
       "<g class=\"node\" id=\"node4\"><title>140558092175736</title>\n",
       "<polygon fill=\"none\" points=\"45.5,-0.5 45.5,-36.5 152.5,-36.5 152.5,-0.5 45.5,-0.5\" stroke=\"black\"/>\n",
       "<text font-family=\"Times,serif\" font-size=\"14.00\" text-anchor=\"middle\" x=\"99\" y=\"-14.8\">dense_3 (Dense)</text>\n",
       "</g>\n",
       "<!-- 140558092108744&#45;&gt;140558092175736 -->\n",
       "<g class=\"edge\" id=\"edge3\"><title>140558092108744-&gt;140558092175736</title>\n",
       "<path d=\"M99,-73.3129C99,-65.2895 99,-55.5475 99,-46.5691\" fill=\"none\" stroke=\"black\"/>\n",
       "<polygon fill=\"black\" points=\"102.5,-46.5288 99,-36.5288 95.5001,-46.5289 102.5,-46.5288\" stroke=\"black\"/>\n",
       "</g>\n",
       "</g>\n",
       "</svg>"
      ],
      "text/plain": [
       "<IPython.core.display.SVG object>"
      ]
     },
     "execution_count": 37,
     "metadata": {},
     "output_type": "execute_result"
    }
   ],
   "source": [
    "SVG(model_to_dot(model).create(prog='dot', format='svg'))"
   ]
  },
  {
   "cell_type": "code",
   "execution_count": 38,
   "metadata": {
    "collapsed": true
   },
   "outputs": [],
   "source": [
    "fname = './data/' + MODEL_NAME + '.json'\n",
    "with open(fname, mode='w') as f:\n",
    "    f.write(model.to_json())"
   ]
  },
  {
   "cell_type": "markdown",
   "metadata": {},
   "source": [
    "### Load train set"
   ]
  },
  {
   "cell_type": "code",
   "execution_count": 39,
   "metadata": {
    "collapsed": false
   },
   "outputs": [
    {
     "name": "stdout",
     "output_type": "stream",
     "text": [
      "Loading train set...\n"
     ]
    }
   ],
   "source": [
    "print(\"Loading train set...\")"
   ]
  },
  {
   "cell_type": "code",
   "execution_count": 40,
   "metadata": {
    "collapsed": false
   },
   "outputs": [
    {
     "name": "stdout",
     "output_type": "stream",
     "text": [
      "Train set X, Y:\n",
      "(39, 3) (39, 1)\n"
     ]
    }
   ],
   "source": [
    "train_X = pd.read_csv('./data/' + filename + '.' + str(IN_SEQ_LENGTH) + '_in_' + str(OUT_SEQ_LENGTH) + '_out.train_X.csv')\n",
    "train_Y = pd.read_csv('./data/' + filename + '.' + str(IN_SEQ_LENGTH) + '_in_' + str(OUT_SEQ_LENGTH) + '_out.train_Y.csv')\n",
    "    \n",
    "print('Train set X, Y:')\n",
    "print( train_X.shape, train_Y.shape )"
   ]
  },
  {
   "cell_type": "markdown",
   "metadata": {},
   "source": [
    "### Train the network"
   ]
  },
  {
   "cell_type": "code",
   "execution_count": 41,
   "metadata": {
    "collapsed": false
   },
   "outputs": [
    {
     "name": "stdout",
     "output_type": "stream",
     "text": [
      "Epoch 1/10\n",
      "Epoch 00000: acc improved from -inf to 0.00000, saving model to ./data/test.txt.nn_3_in_1_lstm_1_out.weights.hdf5\n",
      "39/39 [==============================] - 0s - loss: 2.6398 - acc: 0.0000e+00\n",
      "Epoch 2/10\n",
      "Epoch 00001: acc improved from 0.00000 to 0.87179, saving model to ./data/test.txt.nn_3_in_1_lstm_1_out.weights.hdf5\n",
      "39/39 [==============================] - 0s - loss: 2.6163 - acc: 0.8718\n",
      "Epoch 3/10\n",
      "Epoch 00002: acc improved from 0.87179 to 1.00000, saving model to ./data/test.txt.nn_3_in_1_lstm_1_out.weights.hdf5\n",
      "39/39 [==============================] - 0s - loss: 2.5921 - acc: 1.0000\n",
      "Epoch 4/10\n",
      "Epoch 00003: acc did not improve\n",
      "39/39 [==============================] - 0s - loss: 2.5661 - acc: 0.9231\n",
      "Epoch 5/10\n",
      "Epoch 00004: acc did not improve\n",
      "39/39 [==============================] - 0s - loss: 2.5370 - acc: 0.8462\n",
      "Epoch 6/10\n",
      "Epoch 00005: acc did not improve\n",
      "39/39 [==============================] - 0s - loss: 2.5039 - acc: 0.8462\n",
      "Epoch 7/10\n",
      "Epoch 00006: acc did not improve\n",
      "39/39 [==============================] - 0s - loss: 2.4653 - acc: 0.8462\n",
      "Epoch 8/10\n",
      "Epoch 00007: acc did not improve\n",
      "39/39 [==============================] - 0s - loss: 2.4201 - acc: 0.8462\n",
      "Epoch 9/10\n",
      "Epoch 00008: acc did not improve\n",
      "39/39 [==============================] - 0s - loss: 2.3668 - acc: 0.8462\n",
      "Epoch 10/10\n",
      "Epoch 00009: acc did not improve\n",
      "39/39 [==============================] - 0s - loss: 2.3041 - acc: 0.8462\n"
     ]
    },
    {
     "data": {
      "text/plain": [
       "<keras.callbacks.History at 0x7fd639f67a90>"
      ]
     },
     "execution_count": 41,
     "metadata": {},
     "output_type": "execute_result"
    }
   ],
   "source": [
    "checkname = './data/' + filename + '.' + MODEL_NAME + '.weights.hdf5'\n",
    "\n",
    "checkpoint = ModelCheckpoint(checkname, monitor='acc', verbose=1, save_best_only=True, mode='max')\n",
    "\n",
    "model.fit(train_X.as_matrix(), train_Y.as_matrix(), batch_size=1000, nb_epoch=10, callbacks=[checkpoint])"
   ]
  },
  {
   "cell_type": "markdown",
   "metadata": {
    "collapsed": false
   },
   "source": [
    "#scores = model.evaluate(train_X, train_Y, verbose=0)\n",
    "#print(\"Model Accuracy: %.2f%%\" % (scores[1]*100))"
   ]
  }
 ],
 "metadata": {
  "kernelspec": {
   "display_name": "Python 3",
   "language": "python",
   "name": "python3"
  },
  "language_info": {
   "codemirror_mode": {
    "name": "ipython",
    "version": 3
   },
   "file_extension": ".py",
   "mimetype": "text/x-python",
   "name": "python",
   "nbconvert_exporter": "python",
   "pygments_lexer": "ipython3",
   "version": "3.5.2"
  }
 },
 "nbformat": 4,
 "nbformat_minor": 1
}
