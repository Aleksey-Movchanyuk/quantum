{
 "cells": [
  {
   "cell_type": "code",
   "execution_count": 32,
   "metadata": {
    "collapsed": false
   },
   "outputs": [],
   "source": [
    "import gensim\n",
    "from keras.models import Sequential\n",
    "from keras.layers import Dense, LSTM, Embedding\n",
    "from keras.utils import np_utils\n",
    "from IPython.display import SVG\n",
    "from keras.utils.visualize_util import plot,model_to_dot\n",
    "from keras.preprocessing.sequence import pad_sequences\n",
    "from keras.callbacks import ModelCheckpoint\n",
    "import pickle\n",
    "import pandas as pd\n",
    "import numpy as np"
   ]
  },
  {
   "cell_type": "markdown",
   "metadata": {},
   "source": [
    "### Parameters"
   ]
  },
  {
   "cell_type": "code",
   "execution_count": 33,
   "metadata": {
    "collapsed": true
   },
   "outputs": [],
   "source": [
    "filename = 'test.txt'\n",
    "#filename = 'en_US.blogs.txt'\n",
    "#trainset_prefix = 'part001'\n",
    "trainset_prefix = ''\n",
    "\n",
    "IN_SEQ_LENGTH = 3\n",
    "OUT_SEQ_LENGTH = 1\n",
    "EMBEDDING_DIM = 64\n",
    "HIDDEN_LAYER_1 = 1024\n",
    "HIDDEN_LAYER_2 = 1024\n",
    "MODEL_NAME = 'nn_3_in_2_lstm_1_out'\n",
    "\n",
    "N_SAMPLES = 1000000\n",
    "N_EPOCH = 4"
   ]
  },
  {
   "cell_type": "code",
   "execution_count": 34,
   "metadata": {
    "collapsed": true
   },
   "outputs": [],
   "source": [
    "META_EMPTY = '<<<!EMP!>>>'"
   ]
  },
  {
   "cell_type": "markdown",
   "metadata": {},
   "source": [
    "### Load corpora"
   ]
  },
  {
   "cell_type": "code",
   "execution_count": 35,
   "metadata": {
    "collapsed": false
   },
   "outputs": [
    {
     "name": "stdout",
     "output_type": "stream",
     "text": [
      "Number of words in corpora: 14\n"
     ]
    }
   ],
   "source": [
    "corpora = gensim.corpora.Dictionary.load('./data/'+filename+'.corpora.dat')\n",
    "vocab_size = len(corpora)\n",
    "print('Number of words in corpora: %d'%(vocab_size))\n",
    "tmp = list(corpora.items())"
   ]
  },
  {
   "cell_type": "markdown",
   "metadata": {},
   "source": [
    "### Set network configuration"
   ]
  },
  {
   "cell_type": "code",
   "execution_count": 36,
   "metadata": {
    "collapsed": false
   },
   "outputs": [],
   "source": [
    "model = Sequential()\n",
    "model.add( Embedding(input_dim=vocab_size, output_dim=EMBEDDING_DIM, input_length=IN_SEQ_LENGTH) )\n",
    "model.add( LSTM(HIDDEN_LAYER_1, return_sequences=True) )\n",
    "model.add( LSTM(HIDDEN_LAYER_1, return_sequences=False) )\n",
    "\n",
    "model.add( Dense(output_dim=vocab_size, activation='softmax') )"
   ]
  },
  {
   "cell_type": "code",
   "execution_count": 37,
   "metadata": {
    "collapsed": false
   },
   "outputs": [],
   "source": [
    "model.compile(optimizer='adam', loss='sparse_categorical_crossentropy', metrics=['accuracy'])"
   ]
  },
  {
   "cell_type": "code",
   "execution_count": 38,
   "metadata": {
    "collapsed": false
   },
   "outputs": [
    {
     "name": "stdout",
     "output_type": "stream",
     "text": [
      "____________________________________________________________________________________________________\n",
      "Layer (type)                     Output Shape          Param #     Connected to                     \n",
      "====================================================================================================\n",
      "embedding_3 (Embedding)          (None, 3, 64)         896         embedding_input_3[0][0]          \n",
      "____________________________________________________________________________________________________\n",
      "lstm_5 (LSTM)                    (None, 3, 1024)       4460544     embedding_3[0][0]                \n",
      "____________________________________________________________________________________________________\n",
      "lstm_6 (LSTM)                    (None, 1024)          8392704     lstm_5[0][0]                     \n",
      "____________________________________________________________________________________________________\n",
      "dense_3 (Dense)                  (None, 14)            14350       lstm_6[0][0]                     \n",
      "====================================================================================================\n",
      "Total params: 12868494\n",
      "____________________________________________________________________________________________________\n"
     ]
    }
   ],
   "source": [
    "model.summary()"
   ]
  },
  {
   "cell_type": "code",
   "execution_count": 39,
   "metadata": {
    "collapsed": false
   },
   "outputs": [
    {
     "data": {
      "image/svg+xml": [
       "<svg height=\"337pt\" viewBox=\"0.00 0.00 206.00 337.00\" width=\"206pt\" xmlns=\"http://www.w3.org/2000/svg\" xmlns:xlink=\"http://www.w3.org/1999/xlink\">\n",
       "<g class=\"graph\" id=\"graph0\" transform=\"scale(1 1) rotate(0) translate(4 333)\">\n",
       "<title>G</title>\n",
       "<polygon fill=\"white\" points=\"-4,4 -4,-333 202,-333 202,4 -4,4\" stroke=\"none\"/>\n",
       "<!-- 140712767570832 -->\n",
       "<g class=\"node\" id=\"node1\"><title>140712767570832</title>\n",
       "<polygon fill=\"none\" points=\"0,-292.5 0,-328.5 198,-328.5 198,-292.5 0,-292.5\" stroke=\"black\"/>\n",
       "<text font-family=\"Times,serif\" font-size=\"14.00\" text-anchor=\"middle\" x=\"99\" y=\"-306.8\">embedding_input_3 (InputLayer)</text>\n",
       "</g>\n",
       "<!-- 140712767570496 -->\n",
       "<g class=\"node\" id=\"node2\"><title>140712767570496</title>\n",
       "<polygon fill=\"none\" points=\"15.5,-219.5 15.5,-255.5 182.5,-255.5 182.5,-219.5 15.5,-219.5\" stroke=\"black\"/>\n",
       "<text font-family=\"Times,serif\" font-size=\"14.00\" text-anchor=\"middle\" x=\"99\" y=\"-233.8\">embedding_3 (Embedding)</text>\n",
       "</g>\n",
       "<!-- 140712767570832&#45;&gt;140712767570496 -->\n",
       "<g class=\"edge\" id=\"edge1\"><title>140712767570832-&gt;140712767570496</title>\n",
       "<path d=\"M99,-292.313C99,-284.289 99,-274.547 99,-265.569\" fill=\"none\" stroke=\"black\"/>\n",
       "<polygon fill=\"black\" points=\"102.5,-265.529 99,-255.529 95.5001,-265.529 102.5,-265.529\" stroke=\"black\"/>\n",
       "</g>\n",
       "<!-- 140712767571784 -->\n",
       "<g class=\"node\" id=\"node3\"><title>140712767571784</title>\n",
       "<polygon fill=\"none\" points=\"47,-146.5 47,-182.5 151,-182.5 151,-146.5 47,-146.5\" stroke=\"black\"/>\n",
       "<text font-family=\"Times,serif\" font-size=\"14.00\" text-anchor=\"middle\" x=\"99\" y=\"-160.8\">lstm_5 (LSTM)</text>\n",
       "</g>\n",
       "<!-- 140712767570496&#45;&gt;140712767571784 -->\n",
       "<g class=\"edge\" id=\"edge2\"><title>140712767570496-&gt;140712767571784</title>\n",
       "<path d=\"M99,-219.313C99,-211.289 99,-201.547 99,-192.569\" fill=\"none\" stroke=\"black\"/>\n",
       "<polygon fill=\"black\" points=\"102.5,-192.529 99,-182.529 95.5001,-192.529 102.5,-192.529\" stroke=\"black\"/>\n",
       "</g>\n",
       "<!-- 140712767630192 -->\n",
       "<g class=\"node\" id=\"node4\"><title>140712767630192</title>\n",
       "<polygon fill=\"none\" points=\"47,-73.5 47,-109.5 151,-109.5 151,-73.5 47,-73.5\" stroke=\"black\"/>\n",
       "<text font-family=\"Times,serif\" font-size=\"14.00\" text-anchor=\"middle\" x=\"99\" y=\"-87.8\">lstm_6 (LSTM)</text>\n",
       "</g>\n",
       "<!-- 140712767571784&#45;&gt;140712767630192 -->\n",
       "<g class=\"edge\" id=\"edge3\"><title>140712767571784-&gt;140712767630192</title>\n",
       "<path d=\"M99,-146.313C99,-138.289 99,-128.547 99,-119.569\" fill=\"none\" stroke=\"black\"/>\n",
       "<polygon fill=\"black\" points=\"102.5,-119.529 99,-109.529 95.5001,-119.529 102.5,-119.529\" stroke=\"black\"/>\n",
       "</g>\n",
       "<!-- 140712766895832 -->\n",
       "<g class=\"node\" id=\"node5\"><title>140712766895832</title>\n",
       "<polygon fill=\"none\" points=\"45.5,-0.5 45.5,-36.5 152.5,-36.5 152.5,-0.5 45.5,-0.5\" stroke=\"black\"/>\n",
       "<text font-family=\"Times,serif\" font-size=\"14.00\" text-anchor=\"middle\" x=\"99\" y=\"-14.8\">dense_3 (Dense)</text>\n",
       "</g>\n",
       "<!-- 140712767630192&#45;&gt;140712766895832 -->\n",
       "<g class=\"edge\" id=\"edge4\"><title>140712767630192-&gt;140712766895832</title>\n",
       "<path d=\"M99,-73.3129C99,-65.2895 99,-55.5475 99,-46.5691\" fill=\"none\" stroke=\"black\"/>\n",
       "<polygon fill=\"black\" points=\"102.5,-46.5288 99,-36.5288 95.5001,-46.5289 102.5,-46.5288\" stroke=\"black\"/>\n",
       "</g>\n",
       "</g>\n",
       "</svg>"
      ],
      "text/plain": [
       "<IPython.core.display.SVG object>"
      ]
     },
     "execution_count": 39,
     "metadata": {},
     "output_type": "execute_result"
    }
   ],
   "source": [
    "SVG(model_to_dot(model).create(prog='dot', format='svg'))"
   ]
  },
  {
   "cell_type": "code",
   "execution_count": 40,
   "metadata": {
    "collapsed": true
   },
   "outputs": [],
   "source": [
    "fname = './data/' + MODEL_NAME + '.json'\n",
    "with open(fname, mode='w') as f:\n",
    "    f.write(model.to_json())"
   ]
  },
  {
   "cell_type": "markdown",
   "metadata": {},
   "source": [
    "### Load train set"
   ]
  },
  {
   "cell_type": "code",
   "execution_count": 41,
   "metadata": {
    "collapsed": false
   },
   "outputs": [
    {
     "name": "stdout",
     "output_type": "stream",
     "text": [
      "Loading train set...\n"
     ]
    }
   ],
   "source": [
    "print(\"Loading train set...\")"
   ]
  },
  {
   "cell_type": "code",
   "execution_count": 42,
   "metadata": {
    "collapsed": false
   },
   "outputs": [],
   "source": [
    "train_X = pd.read_csv('./data/' + filename + '.' + str(IN_SEQ_LENGTH) + '_in_' + str(OUT_SEQ_LENGTH) + '_out.train_X.csv')\n",
    "train_Y = pd.read_csv('./data/' + filename + '.' + str(IN_SEQ_LENGTH) + '_in_' + str(OUT_SEQ_LENGTH) + '_out.train_Y.csv')"
   ]
  },
  {
   "cell_type": "code",
   "execution_count": 43,
   "metadata": {
    "collapsed": false
   },
   "outputs": [],
   "source": [
    "# Trancate dataset\n",
    "N_SAMPLES = min(N_SAMPLES, train_X.shape[0])\n",
    "\n",
    "train_X = train_X.loc[:N_SAMPLES,:]\n",
    "train_Y = train_Y.loc[:N_SAMPLES,:]"
   ]
  },
  {
   "cell_type": "code",
   "execution_count": 44,
   "metadata": {
    "collapsed": false
   },
   "outputs": [
    {
     "name": "stdout",
     "output_type": "stream",
     "text": [
      "Train set X, Y:\n",
      "(39, 3) (39, 1)\n"
     ]
    }
   ],
   "source": [
    "print('Train set X, Y:')\n",
    "print( train_X.shape, train_Y.shape )"
   ]
  },
  {
   "cell_type": "markdown",
   "metadata": {},
   "source": [
    "### Train the network"
   ]
  },
  {
   "cell_type": "code",
   "execution_count": 45,
   "metadata": {
    "collapsed": false
   },
   "outputs": [
    {
     "name": "stdout",
     "output_type": "stream",
     "text": [
      "Epoch 1/4\n",
      "Epoch 00000: acc improved from -inf to 0.07692, saving model to ./data/test.txt.nn_3_in_2_lstm_1_out.weights.hdf5\n",
      "39/39 [==============================] - 1s - loss: 2.6393 - acc: 0.0769\n",
      "Epoch 2/4\n",
      "Epoch 00001: acc improved from 0.07692 to 0.84615, saving model to ./data/test.txt.nn_3_in_2_lstm_1_out.weights.hdf5\n",
      "39/39 [==============================] - 1s - loss: 2.6097 - acc: 0.8462\n",
      "Epoch 3/4\n",
      "Epoch 00002: acc did not improve\n",
      "39/39 [==============================] - 1s - loss: 2.5757 - acc: 0.7692\n",
      "Epoch 4/4\n",
      "Epoch 00003: acc did not improve\n",
      "39/39 [==============================] - 1s - loss: 2.5310 - acc: 0.7692\n"
     ]
    },
    {
     "data": {
      "text/plain": [
       "<keras.callbacks.History at 0x7ffa3c576240>"
      ]
     },
     "execution_count": 45,
     "metadata": {},
     "output_type": "execute_result"
    }
   ],
   "source": [
    "checkname = './data/' + filename + '.' + MODEL_NAME + '.weights.hdf5'\n",
    "\n",
    "checkpoint = ModelCheckpoint(checkname, monitor='acc', verbose=1, save_best_only=True, mode='max')\n",
    "\n",
    "model.fit(train_X.as_matrix(), train_Y.as_matrix(), batch_size=N_SAMPLES, nb_epoch=N_EPOCH, callbacks=[checkpoint])"
   ]
  },
  {
   "cell_type": "markdown",
   "metadata": {
    "collapsed": false
   },
   "source": [
    "#scores = model.evaluate(train_X, train_Y, verbose=0)\n",
    "#print(\"Model Accuracy: %.2f%%\" % (scores[1]*100))"
   ]
  }
 ],
 "metadata": {
  "kernelspec": {
   "display_name": "Python 3",
   "language": "python",
   "name": "python3"
  },
  "language_info": {
   "codemirror_mode": {
    "name": "ipython",
    "version": 3
   },
   "file_extension": ".py",
   "mimetype": "text/x-python",
   "name": "python",
   "nbconvert_exporter": "python",
   "pygments_lexer": "ipython3",
   "version": "3.5.2"
  }
 },
 "nbformat": 4,
 "nbformat_minor": 1
}
