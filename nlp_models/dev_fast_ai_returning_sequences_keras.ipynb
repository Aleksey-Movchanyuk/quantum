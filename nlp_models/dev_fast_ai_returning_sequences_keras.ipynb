{
 "cells": [
  {
   "cell_type": "code",
   "execution_count": 18,
   "metadata": {
    "collapsed": false
   },
   "outputs": [],
   "source": [
    "import numpy as np\n",
    "import gensim\n",
    "from keras.models import Sequential, Model\n",
    "from keras.layers import Dense, LSTM, Input, Embedding, Flatten, merge, SimpleRNN, TimeDistributed\n",
    "from keras.optimizers import Adam\n",
    "from keras.utils import np_utils\n",
    "from IPython.display import SVG\n",
    "from keras.utils.visualize_util import plot\n",
    "from keras.utils.visualize_util import model_to_dot\n",
    "from keras.preprocessing.sequence import pad_sequences\n",
    "from keras.callbacks import ModelCheckpoint\n",
    "import pickle"
   ]
  },
  {
   "cell_type": "code",
   "execution_count": 2,
   "metadata": {
    "collapsed": false
   },
   "outputs": [
    {
     "name": "stdout",
     "output_type": "stream",
     "text": [
      "Number of words in corpora: 26\n"
     ]
    }
   ],
   "source": [
    "corpora = gensim.corpora.Dictionary.load('./data/corpora.dat')\n",
    "vocab_size = len(corpora)\n",
    "print('Number of words in corpora: %d'%(vocab_size))"
   ]
  },
  {
   "cell_type": "code",
   "execution_count": 3,
   "metadata": {
    "collapsed": true
   },
   "outputs": [],
   "source": [
    "tmp = list(corpora.items())"
   ]
  },
  {
   "cell_type": "code",
   "execution_count": 4,
   "metadata": {
    "collapsed": true
   },
   "outputs": [],
   "source": [
    "#the_filename = './data/wonderland.txt.dat'\n",
    "the_filename = './data/test.txt.dat'\n",
    "with open(the_filename, 'rb') as f:\n",
    "    text = pickle.load(f)"
   ]
  },
  {
   "cell_type": "markdown",
   "metadata": {},
   "source": [
    "### Generate words patterns - 2 words model"
   ]
  },
  {
   "cell_type": "code",
   "execution_count": 6,
   "metadata": {
    "collapsed": true
   },
   "outputs": [],
   "source": [
    "cs=2"
   ]
  },
  {
   "cell_type": "code",
   "execution_count": 7,
   "metadata": {
    "collapsed": true
   },
   "outputs": [],
   "source": [
    "c_in_dat = [[text[i+n] for i in range(0, len(text)-1-cs, cs)]\n",
    "            for n in range(cs)]"
   ]
  },
  {
   "cell_type": "code",
   "execution_count": 8,
   "metadata": {
    "collapsed": true
   },
   "outputs": [],
   "source": [
    "xs = [np.stack(c[:-2]) for c in c_in_dat]"
   ]
  },
  {
   "cell_type": "code",
   "execution_count": 9,
   "metadata": {
    "collapsed": true
   },
   "outputs": [],
   "source": [
    "c_out_dat = [[text[i+n] for i in range(1, len(text)-cs, cs)]\n",
    "            for n in range(cs)]"
   ]
  },
  {
   "cell_type": "code",
   "execution_count": 10,
   "metadata": {
    "collapsed": true
   },
   "outputs": [],
   "source": [
    "ys = [np.stack(c[:-2]) for c in c_out_dat]"
   ]
  },
  {
   "cell_type": "code",
   "execution_count": 11,
   "metadata": {
    "collapsed": false
   },
   "outputs": [
    {
     "data": {
      "text/plain": [
       "[array([2, 4]), array([0, 8])]"
      ]
     },
     "execution_count": 11,
     "metadata": {},
     "output_type": "execute_result"
    }
   ],
   "source": [
    "[xs[n][:cs] for n in range(cs)]"
   ]
  },
  {
   "cell_type": "code",
   "execution_count": 12,
   "metadata": {
    "collapsed": false
   },
   "outputs": [
    {
     "data": {
      "text/plain": [
       "[array([0, 8]), array([4, 3])]"
      ]
     },
     "execution_count": 12,
     "metadata": {},
     "output_type": "execute_result"
    }
   ],
   "source": [
    "[ys[n][:cs] for n in range(cs)]"
   ]
  },
  {
   "cell_type": "markdown",
   "metadata": {},
   "source": [
    "### Create and train model"
   ]
  },
  {
   "cell_type": "code",
   "execution_count": 16,
   "metadata": {
    "collapsed": true
   },
   "outputs": [],
   "source": [
    "n_fac = 4\n",
    "n_hidden = 256"
   ]
  },
  {
   "cell_type": "code",
   "execution_count": 19,
   "metadata": {
    "collapsed": false
   },
   "outputs": [],
   "source": [
    "model=Sequential([\n",
    "        Embedding(vocab_size, n_fac, input_length=cs),\n",
    "        SimpleRNN(n_hidden, return_sequences=True, activation='relu', inner_init='identity'),\n",
    "        TimeDistributed(Dense(vocab_size, activation='softmax')),\n",
    "    ])"
   ]
  },
  {
   "cell_type": "code",
   "execution_count": 20,
   "metadata": {
    "collapsed": true
   },
   "outputs": [],
   "source": [
    "model.compile(loss='sparse_categorical_crossentropy', optimizer=Adam())"
   ]
  },
  {
   "cell_type": "code",
   "execution_count": 21,
   "metadata": {
    "collapsed": false
   },
   "outputs": [
    {
     "name": "stdout",
     "output_type": "stream",
     "text": [
      "____________________________________________________________________________________________________\n",
      "Layer (type)                     Output Shape          Param #     Connected to                     \n",
      "====================================================================================================\n",
      "embedding_3 (Embedding)          (None, 2, 4)          104         embedding_input_1[0][0]          \n",
      "____________________________________________________________________________________________________\n",
      "simplernn_2 (SimpleRNN)          (None, 2, 256)        66816       embedding_3[0][0]                \n",
      "____________________________________________________________________________________________________\n",
      "timedistributed_1 (TimeDistribute(None, 2, 26)         6682        simplernn_2[0][0]                \n",
      "====================================================================================================\n",
      "Total params: 73602\n",
      "____________________________________________________________________________________________________\n"
     ]
    }
   ],
   "source": [
    "model.summary()"
   ]
  },
  {
   "cell_type": "code",
   "execution_count": 22,
   "metadata": {
    "collapsed": false
   },
   "outputs": [
    {
     "data": {
      "image/svg+xml": [
       "<svg height=\"264pt\" viewBox=\"0.00 0.00 223.00 264.00\" width=\"223pt\" xmlns=\"http://www.w3.org/2000/svg\" xmlns:xlink=\"http://www.w3.org/1999/xlink\">\n",
       "<g class=\"graph\" id=\"graph0\" transform=\"scale(1 1) rotate(0) translate(4 260)\">\n",
       "<title>G</title>\n",
       "<polygon fill=\"white\" points=\"-4,4 -4,-260 219,-260 219,4 -4,4\" stroke=\"none\"/>\n",
       "<!-- 140554434174256 -->\n",
       "<g class=\"node\" id=\"node1\"><title>140554434174256</title>\n",
       "<polygon fill=\"none\" points=\"8.5,-219.5 8.5,-255.5 206.5,-255.5 206.5,-219.5 8.5,-219.5\" stroke=\"black\"/>\n",
       "<text font-family=\"Times,serif\" font-size=\"14.00\" text-anchor=\"middle\" x=\"107.5\" y=\"-233.8\">embedding_input_1 (InputLayer)</text>\n",
       "</g>\n",
       "<!-- 140554434173584 -->\n",
       "<g class=\"node\" id=\"node2\"><title>140554434173584</title>\n",
       "<polygon fill=\"none\" points=\"24,-146.5 24,-182.5 191,-182.5 191,-146.5 24,-146.5\" stroke=\"black\"/>\n",
       "<text font-family=\"Times,serif\" font-size=\"14.00\" text-anchor=\"middle\" x=\"107.5\" y=\"-160.8\">embedding_3 (Embedding)</text>\n",
       "</g>\n",
       "<!-- 140554434174256&#45;&gt;140554434173584 -->\n",
       "<g class=\"edge\" id=\"edge1\"><title>140554434174256-&gt;140554434173584</title>\n",
       "<path d=\"M107.5,-219.313C107.5,-211.289 107.5,-201.547 107.5,-192.569\" fill=\"none\" stroke=\"black\"/>\n",
       "<polygon fill=\"black\" points=\"111,-192.529 107.5,-182.529 104,-192.529 111,-192.529\" stroke=\"black\"/>\n",
       "</g>\n",
       "<!-- 140554434173752 -->\n",
       "<g class=\"node\" id=\"node3\"><title>140554434173752</title>\n",
       "<polygon fill=\"none\" points=\"25,-73.5 25,-109.5 190,-109.5 190,-73.5 25,-73.5\" stroke=\"black\"/>\n",
       "<text font-family=\"Times,serif\" font-size=\"14.00\" text-anchor=\"middle\" x=\"107.5\" y=\"-87.8\">simplernn_2 (SimpleRNN)</text>\n",
       "</g>\n",
       "<!-- 140554434173584&#45;&gt;140554434173752 -->\n",
       "<g class=\"edge\" id=\"edge2\"><title>140554434173584-&gt;140554434173752</title>\n",
       "<path d=\"M107.5,-146.313C107.5,-138.289 107.5,-128.547 107.5,-119.569\" fill=\"none\" stroke=\"black\"/>\n",
       "<polygon fill=\"black\" points=\"111,-119.529 107.5,-109.529 104,-119.529 111,-119.529\" stroke=\"black\"/>\n",
       "</g>\n",
       "<!-- 140554434174088 -->\n",
       "<g class=\"node\" id=\"node4\"><title>140554434174088</title>\n",
       "<polygon fill=\"none\" points=\"0,-0.5 0,-36.5 215,-36.5 215,-0.5 0,-0.5\" stroke=\"black\"/>\n",
       "<text font-family=\"Times,serif\" font-size=\"14.00\" text-anchor=\"middle\" x=\"107.5\" y=\"-14.8\">timedistributed_1 (TimeDistributed)</text>\n",
       "</g>\n",
       "<!-- 140554434173752&#45;&gt;140554434174088 -->\n",
       "<g class=\"edge\" id=\"edge3\"><title>140554434173752-&gt;140554434174088</title>\n",
       "<path d=\"M107.5,-73.3129C107.5,-65.2895 107.5,-55.5475 107.5,-46.5691\" fill=\"none\" stroke=\"black\"/>\n",
       "<polygon fill=\"black\" points=\"111,-46.5288 107.5,-36.5288 104,-46.5289 111,-46.5288\" stroke=\"black\"/>\n",
       "</g>\n",
       "</g>\n",
       "</svg>"
      ],
      "text/plain": [
       "<IPython.core.display.SVG object>"
      ]
     },
     "execution_count": 22,
     "metadata": {},
     "output_type": "execute_result"
    }
   ],
   "source": [
    "SVG(model_to_dot(model).create(prog='dot', format='svg'))"
   ]
  },
  {
   "cell_type": "code",
   "execution_count": 23,
   "metadata": {
    "collapsed": false
   },
   "outputs": [
    {
     "data": {
      "text/plain": [
       "(12,)"
      ]
     },
     "execution_count": 23,
     "metadata": {},
     "output_type": "execute_result"
    }
   ],
   "source": [
    "xs[0].shape"
   ]
  },
  {
   "cell_type": "code",
   "execution_count": 24,
   "metadata": {
    "collapsed": true
   },
   "outputs": [],
   "source": [
    "x_rnn=np.stack(xs, axis=1)\n",
    "y_rnn=np.expand_dims(np.stack(ys, axis=1), -1)"
   ]
  },
  {
   "cell_type": "code",
   "execution_count": 25,
   "metadata": {
    "collapsed": false
   },
   "outputs": [
    {
     "data": {
      "text/plain": [
       "((12, 2), (12, 2, 1))"
      ]
     },
     "execution_count": 25,
     "metadata": {},
     "output_type": "execute_result"
    }
   ],
   "source": [
    "x_rnn.shape, y_rnn.shape"
   ]
  },
  {
   "cell_type": "code",
   "execution_count": 27,
   "metadata": {
    "collapsed": false
   },
   "outputs": [
    {
     "name": "stdout",
     "output_type": "stream",
     "text": [
      "Epoch 1/100\n",
      "12/12 [==============================] - 0s - loss: 3.2077     \n",
      "Epoch 2/100\n",
      "12/12 [==============================] - 0s - loss: 3.1526     \n",
      "Epoch 3/100\n",
      "12/12 [==============================] - 0s - loss: 3.0739     \n",
      "Epoch 4/100\n",
      "12/12 [==============================] - 0s - loss: 2.9628     \n",
      "Epoch 5/100\n",
      "12/12 [==============================] - 0s - loss: 2.8376     \n",
      "Epoch 6/100\n",
      "12/12 [==============================] - 0s - loss: 2.7038     \n",
      "Epoch 7/100\n",
      "12/12 [==============================] - 0s - loss: 2.5798     \n",
      "Epoch 8/100\n",
      "12/12 [==============================] - 0s - loss: 2.4449     \n",
      "Epoch 9/100\n",
      "12/12 [==============================] - 0s - loss: 2.3160     \n",
      "Epoch 10/100\n",
      "12/12 [==============================] - 0s - loss: 2.1775     \n",
      "Epoch 11/100\n",
      "12/12 [==============================] - 0s - loss: 2.0667     \n",
      "Epoch 12/100\n",
      "12/12 [==============================] - 0s - loss: 1.9257     \n",
      "Epoch 13/100\n",
      "12/12 [==============================] - 0s - loss: 1.8318     \n",
      "Epoch 14/100\n",
      "12/12 [==============================] - 0s - loss: 1.7029     \n",
      "Epoch 15/100\n",
      "12/12 [==============================] - 0s - loss: 1.6011     \n",
      "Epoch 16/100\n",
      "12/12 [==============================] - 0s - loss: 1.5242     \n",
      "Epoch 17/100\n",
      "12/12 [==============================] - 0s - loss: 1.4145     \n",
      "Epoch 18/100\n",
      "12/12 [==============================] - 0s - loss: 1.3171     \n",
      "Epoch 19/100\n",
      "12/12 [==============================] - 0s - loss: 1.2442     \n",
      "Epoch 20/100\n",
      "12/12 [==============================] - 0s - loss: 1.1948     \n",
      "Epoch 21/100\n",
      "12/12 [==============================] - 0s - loss: 1.1142     \n",
      "Epoch 22/100\n",
      "12/12 [==============================] - 0s - loss: 1.0532     \n",
      "Epoch 23/100\n",
      "12/12 [==============================] - 0s - loss: 1.0111     \n",
      "Epoch 24/100\n",
      "12/12 [==============================] - 0s - loss: 0.9528     \n",
      "Epoch 25/100\n",
      "12/12 [==============================] - 0s - loss: 0.8907     \n",
      "Epoch 26/100\n",
      "12/12 [==============================] - 0s - loss: 0.8436     \n",
      "Epoch 27/100\n",
      "12/12 [==============================] - 0s - loss: 0.8084     \n",
      "Epoch 28/100\n",
      "12/12 [==============================] - 0s - loss: 0.7736     \n",
      "Epoch 29/100\n",
      "12/12 [==============================] - 0s - loss: 0.7441     \n",
      "Epoch 30/100\n",
      "12/12 [==============================] - 0s - loss: 0.6836     \n",
      "Epoch 31/100\n",
      "12/12 [==============================] - 0s - loss: 0.6687     \n",
      "Epoch 32/100\n",
      "12/12 [==============================] - 0s - loss: 0.6189     \n",
      "Epoch 33/100\n",
      "12/12 [==============================] - 0s - loss: 0.6042     \n",
      "Epoch 34/100\n",
      "12/12 [==============================] - 0s - loss: 0.5808     \n",
      "Epoch 35/100\n",
      "12/12 [==============================] - 0s - loss: 0.5538     \n",
      "Epoch 36/100\n",
      "12/12 [==============================] - 0s - loss: 0.5593     \n",
      "Epoch 37/100\n",
      "12/12 [==============================] - 0s - loss: 0.4807     \n",
      "Epoch 38/100\n",
      "12/12 [==============================] - 0s - loss: 0.4773     \n",
      "Epoch 39/100\n",
      "12/12 [==============================] - 0s - loss: 0.4417     \n",
      "Epoch 40/100\n",
      "12/12 [==============================] - 0s - loss: 0.4228     \n",
      "Epoch 41/100\n",
      "12/12 [==============================] - 0s - loss: 0.4023     \n",
      "Epoch 42/100\n",
      "12/12 [==============================] - 0s - loss: 0.3898     \n",
      "Epoch 43/100\n",
      "12/12 [==============================] - 0s - loss: 0.3740     \n",
      "Epoch 44/100\n",
      "12/12 [==============================] - 0s - loss: 0.3520     \n",
      "Epoch 45/100\n",
      "12/12 [==============================] - 0s - loss: 0.3417     \n",
      "Epoch 46/100\n",
      "12/12 [==============================] - 0s - loss: 0.3164     \n",
      "Epoch 47/100\n",
      "12/12 [==============================] - 0s - loss: 0.3210     \n",
      "Epoch 48/100\n",
      "12/12 [==============================] - 0s - loss: 0.2923     \n",
      "Epoch 49/100\n",
      "12/12 [==============================] - 0s - loss: 0.2813     \n",
      "Epoch 50/100\n",
      "12/12 [==============================] - 0s - loss: 0.2669     \n",
      "Epoch 51/100\n",
      "12/12 [==============================] - 0s - loss: 0.2575     \n",
      "Epoch 52/100\n",
      "12/12 [==============================] - 0s - loss: 0.2451     \n",
      "Epoch 53/100\n",
      "12/12 [==============================] - 0s - loss: 0.2359     \n",
      "Epoch 54/100\n",
      "12/12 [==============================] - 0s - loss: 0.2284     \n",
      "Epoch 55/100\n",
      "12/12 [==============================] - 0s - loss: 0.2175     \n",
      "Epoch 56/100\n",
      "12/12 [==============================] - 0s - loss: 0.2116     \n",
      "Epoch 57/100\n",
      "12/12 [==============================] - 0s - loss: 0.2016     \n",
      "Epoch 58/100\n",
      "12/12 [==============================] - 0s - loss: 0.1936     \n",
      "Epoch 59/100\n",
      "12/12 [==============================] - 0s - loss: 0.1878     \n",
      "Epoch 60/100\n",
      "12/12 [==============================] - 0s - loss: 0.1837     \n",
      "Epoch 61/100\n",
      "12/12 [==============================] - 0s - loss: 0.1731     \n",
      "Epoch 62/100\n",
      "12/12 [==============================] - 0s - loss: 0.1691     \n",
      "Epoch 63/100\n",
      "12/12 [==============================] - 0s - loss: 0.1640     \n",
      "Epoch 64/100\n",
      "12/12 [==============================] - 0s - loss: 0.1590     \n",
      "Epoch 65/100\n",
      "12/12 [==============================] - 0s - loss: 0.1558     \n",
      "Epoch 66/100\n",
      "12/12 [==============================] - 0s - loss: 0.1487     \n",
      "Epoch 67/100\n",
      "12/12 [==============================] - 0s - loss: 0.1458     \n",
      "Epoch 68/100\n",
      "12/12 [==============================] - 0s - loss: 0.1395     \n",
      "Epoch 69/100\n",
      "12/12 [==============================] - 0s - loss: 0.1343     \n",
      "Epoch 70/100\n",
      "12/12 [==============================] - 0s - loss: 0.1320     \n",
      "Epoch 71/100\n",
      "12/12 [==============================] - 0s - loss: 0.1274     \n",
      "Epoch 72/100\n",
      "12/12 [==============================] - 0s - loss: 0.1251     \n",
      "Epoch 73/100\n",
      "12/12 [==============================] - 0s - loss: 0.1219     \n",
      "Epoch 74/100\n",
      "12/12 [==============================] - 0s - loss: 0.1197     \n",
      "Epoch 75/100\n",
      "12/12 [==============================] - 0s - loss: 0.1167     \n",
      "Epoch 76/100\n",
      "12/12 [==============================] - 0s - loss: 0.1146     \n",
      "Epoch 77/100\n",
      "12/12 [==============================] - 0s - loss: 0.1131     \n",
      "Epoch 78/100\n",
      "12/12 [==============================] - 0s - loss: 0.1092     \n",
      "Epoch 79/100\n",
      "12/12 [==============================] - 0s - loss: 0.1075     \n",
      "Epoch 80/100\n",
      "12/12 [==============================] - 0s - loss: 0.1067     \n",
      "Epoch 81/100\n",
      "12/12 [==============================] - 0s - loss: 0.1059     \n",
      "Epoch 82/100\n",
      "12/12 [==============================] - 0s - loss: 0.1048     \n",
      "Epoch 83/100\n",
      "12/12 [==============================] - 0s - loss: 0.1013     \n",
      "Epoch 84/100\n",
      "12/12 [==============================] - 0s - loss: 0.0982     \n",
      "Epoch 85/100\n",
      "12/12 [==============================] - 0s - loss: 0.0967     \n",
      "Epoch 86/100\n",
      "12/12 [==============================] - 0s - loss: 0.0965     \n",
      "Epoch 87/100\n",
      "12/12 [==============================] - 0s - loss: 0.0948     \n",
      "Epoch 88/100\n",
      "12/12 [==============================] - 0s - loss: 0.0918     \n",
      "Epoch 89/100\n",
      "12/12 [==============================] - 0s - loss: 0.0927     \n",
      "Epoch 90/100\n",
      "12/12 [==============================] - 0s - loss: 0.0911     \n",
      "Epoch 91/100\n",
      "12/12 [==============================] - 0s - loss: 0.0910     \n",
      "Epoch 92/100\n",
      "12/12 [==============================] - 0s - loss: 0.0884     \n",
      "Epoch 93/100\n",
      "12/12 [==============================] - 0s - loss: 0.0859     \n",
      "Epoch 94/100\n",
      "12/12 [==============================] - 0s - loss: 0.0869     \n",
      "Epoch 95/100\n",
      "12/12 [==============================] - 0s - loss: 0.0843     \n",
      "Epoch 96/100\n",
      "12/12 [==============================] - 0s - loss: 0.0843     \n",
      "Epoch 97/100\n",
      "12/12 [==============================] - 0s - loss: 0.0843     \n",
      "Epoch 98/100\n",
      "12/12 [==============================] - 0s - loss: 0.0822     \n",
      "Epoch 99/100\n",
      "12/12 [==============================] - 0s - loss: 0.0810     \n",
      "Epoch 100/100\n",
      "12/12 [==============================] - 0s - loss: 0.0815     \n"
     ]
    },
    {
     "data": {
      "text/plain": [
       "<keras.callbacks.History at 0x7fd554445208>"
      ]
     },
     "execution_count": 27,
     "metadata": {},
     "output_type": "execute_result"
    }
   ],
   "source": [
    "model.fit(x_rnn, y_rnn, batch_size=1, nb_epoch=100)"
   ]
  },
  {
   "cell_type": "code",
   "execution_count": 31,
   "metadata": {
    "collapsed": true
   },
   "outputs": [],
   "source": [
    "model.save('./models/dev_fast_ai_returning_sequences_keras.h5')"
   ]
  },
  {
   "cell_type": "code",
   "execution_count": 32,
   "metadata": {
    "collapsed": true
   },
   "outputs": [],
   "source": [
    "def get_nexts_keras(inp):\n",
    "    idxs = [corpora.token2id[c] for c in inp]\n",
    "    arr = np.array(idxs)[np.newaxis,:]\n",
    "    p = model.predict(arr)[0]\n",
    "    #print(list(inp))\n",
    "    return [corpora.id2token[np.argmax(o)] for o in p]"
   ]
  },
  {
   "cell_type": "code",
   "execution_count": 33,
   "metadata": {
    "collapsed": false
   },
   "outputs": [
    {
     "data": {
      "text/plain": [
       "['four', 'five']"
      ]
     },
     "execution_count": 33,
     "metadata": {},
     "output_type": "execute_result"
    }
   ],
   "source": [
    "get_nexts_keras(['three', 'four'])"
   ]
  },
  {
   "cell_type": "code",
   "execution_count": null,
   "metadata": {
    "collapsed": true
   },
   "outputs": [],
   "source": []
  }
 ],
 "metadata": {
  "kernelspec": {
   "display_name": "Python 3",
   "language": "python",
   "name": "python3"
  },
  "language_info": {
   "codemirror_mode": {
    "name": "ipython",
    "version": 3
   },
   "file_extension": ".py",
   "mimetype": "text/x-python",
   "name": "python",
   "nbconvert_exporter": "python",
   "pygments_lexer": "ipython3",
   "version": "3.5.2"
  }
 },
 "nbformat": 4,
 "nbformat_minor": 1
}
