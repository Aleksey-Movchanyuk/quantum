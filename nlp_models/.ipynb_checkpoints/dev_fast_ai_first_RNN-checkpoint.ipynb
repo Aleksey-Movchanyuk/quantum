{
 "cells": [
  {
   "cell_type": "code",
   "execution_count": 1,
   "metadata": {
    "collapsed": false
   },
   "outputs": [
    {
     "name": "stderr",
     "output_type": "stream",
     "text": [
      "Using Theano backend.\n"
     ]
    }
   ],
   "source": [
    "import numpy as np\n",
    "import gensim\n",
    "from keras.models import Sequential, Model\n",
    "from keras.layers import Dense, LSTM, Input, Embedding, Flatten, merge\n",
    "from keras.optimizers import Adam\n",
    "from keras.utils import np_utils\n",
    "from IPython.display import SVG\n",
    "from keras.utils.visualize_util import plot\n",
    "from keras.utils.visualize_util import model_to_dot\n",
    "from keras.preprocessing.sequence import pad_sequences\n",
    "from keras.callbacks import ModelCheckpoint\n",
    "import pickle"
   ]
  },
  {
   "cell_type": "code",
   "execution_count": 2,
   "metadata": {
    "collapsed": false
   },
   "outputs": [
    {
     "name": "stdout",
     "output_type": "stream",
     "text": [
      "Number of words in corpora: 25\n"
     ]
    }
   ],
   "source": [
    "corpora = gensim.corpora.Dictionary.load('./data/corpora.dat')\n",
    "vocab_size = len(corpora)\n",
    "print('Number of words in corpora: %d'%(vocab_size))"
   ]
  },
  {
   "cell_type": "code",
   "execution_count": 3,
   "metadata": {
    "collapsed": true
   },
   "outputs": [],
   "source": [
    "tmp = list(corpora.items())"
   ]
  },
  {
   "cell_type": "code",
   "execution_count": 4,
   "metadata": {
    "collapsed": true
   },
   "outputs": [],
   "source": [
    "#the_filename = './data/wonderland.txt.dat'\n",
    "the_filename = './data/test.txt.dat'\n",
    "with open(the_filename, 'rb') as f:\n",
    "    text = pickle.load(f)"
   ]
  },
  {
   "cell_type": "markdown",
   "metadata": {},
   "source": [
    "### Generate words patterns - 2 words model"
   ]
  },
  {
   "cell_type": "code",
   "execution_count": 6,
   "metadata": {
    "collapsed": true
   },
   "outputs": [],
   "source": [
    "cs = 2"
   ]
  },
  {
   "cell_type": "code",
   "execution_count": 7,
   "metadata": {
    "collapsed": true
   },
   "outputs": [],
   "source": [
    "c_in_dat = [[text[i+n] for i in range(0, len(text)-cs, cs)]\n",
    "            for n in range(cs)]"
   ]
  },
  {
   "cell_type": "code",
   "execution_count": 22,
   "metadata": {
    "collapsed": false
   },
   "outputs": [
    {
     "name": "stdout",
     "output_type": "stream",
     "text": [
      "['One', 'three', 'five', 'seven', 'ten', 'The', 'brown', 'jumps', 'a', 'dog', 'How', 'you', 'What', 'you']\n",
      "['two', 'four', 'six', 'eight', '.', 'quick', 'fox', 'over', 'lazy', '.', 'are', '?', 'are', 'doing']\n",
      "['three', 'five', 'seven', 'ten', 'The', 'brown', 'jumps', 'a', 'dog', 'How', 'you', 'What', 'you', '?']\n"
     ]
    }
   ],
   "source": [
    "print( [corpora.id2token[text[i+0]] for i in range(0, len(text)-cs, cs)] )\n",
    "print( [corpora.id2token[text[i+1]] for i in range(0, len(text)-cs, cs)] )\n",
    "print( [corpora.id2token[text[i+cs]] for i in range(0, len(text)-cs, cs)] )"
   ]
  },
  {
   "cell_type": "code",
   "execution_count": 10,
   "metadata": {
    "collapsed": false
   },
   "outputs": [],
   "source": [
    "c_out_dat = [text[i+cs] for i in range(0, len(text)-cs, cs)]"
   ]
  },
  {
   "cell_type": "code",
   "execution_count": 23,
   "metadata": {
    "collapsed": true
   },
   "outputs": [],
   "source": [
    "xs = [np.stack(c[:-2]) for c in c_in_dat]"
   ]
  },
  {
   "cell_type": "code",
   "execution_count": 24,
   "metadata": {
    "collapsed": false
   },
   "outputs": [
    {
     "data": {
      "text/plain": [
       "(2, (12,))"
      ]
     },
     "execution_count": 24,
     "metadata": {},
     "output_type": "execute_result"
    }
   ],
   "source": [
    "len(xs), xs[0].shape"
   ]
  },
  {
   "cell_type": "code",
   "execution_count": 25,
   "metadata": {
    "collapsed": true
   },
   "outputs": [],
   "source": [
    "y = np.stack(c_out_dat[:-2])"
   ]
  },
  {
   "cell_type": "code",
   "execution_count": 28,
   "metadata": {
    "collapsed": false
   },
   "outputs": [
    {
     "data": {
      "text/plain": [
       "[array([1, 3]), array([0, 2])]"
      ]
     },
     "execution_count": 28,
     "metadata": {},
     "output_type": "execute_result"
    }
   ],
   "source": [
    "[xs[n][:cs] for n in range(cs)]"
   ]
  },
  {
   "cell_type": "code",
   "execution_count": 29,
   "metadata": {
    "collapsed": false
   },
   "outputs": [
    {
     "data": {
      "text/plain": [
       "array([3, 8])"
      ]
     },
     "execution_count": 29,
     "metadata": {},
     "output_type": "execute_result"
    }
   ],
   "source": [
    "y[:cs]"
   ]
  },
  {
   "cell_type": "code",
   "execution_count": 30,
   "metadata": {
    "collapsed": true
   },
   "outputs": [],
   "source": [
    "n_fac = 4"
   ]
  },
  {
   "cell_type": "code",
   "execution_count": 31,
   "metadata": {
    "collapsed": true
   },
   "outputs": [],
   "source": [
    "### Create and train model"
   ]
  },
  {
   "cell_type": "code",
   "execution_count": 46,
   "metadata": {
    "collapsed": true
   },
   "outputs": [],
   "source": [
    "def embedding_input(name, n_in, n_out):\n",
    "    inp = Input(shape=(1,), dtype='int64', name=name+'_in')\n",
    "    emb = Embedding(n_in, n_out, input_length=1, name=name+'_emb')(inp)\n",
    "    return inp, Flatten()(emb)"
   ]
  },
  {
   "cell_type": "code",
   "execution_count": 47,
   "metadata": {
    "collapsed": true
   },
   "outputs": [],
   "source": [
    "c_ins = [embedding_input('c'+str(n), vocab_size, n_fac) for n in range(cs)]"
   ]
  },
  {
   "cell_type": "code",
   "execution_count": 48,
   "metadata": {
    "collapsed": true
   },
   "outputs": [],
   "source": [
    "n_hidden = 256"
   ]
  },
  {
   "cell_type": "code",
   "execution_count": 49,
   "metadata": {
    "collapsed": true
   },
   "outputs": [],
   "source": [
    "dense_in = Dense(n_hidden, activation='relu')\n",
    "dense_hidden = Dense(n_hidden, activation='relu', init='identity')\n",
    "dense_out = Dense(vocab_size, activation='softmax')"
   ]
  },
  {
   "cell_type": "code",
   "execution_count": 50,
   "metadata": {
    "collapsed": true
   },
   "outputs": [],
   "source": [
    "hidden = dense_in(c_ins[0][1])"
   ]
  },
  {
   "cell_type": "code",
   "execution_count": 51,
   "metadata": {
    "collapsed": true
   },
   "outputs": [],
   "source": [
    "for i in range(1,cs):\n",
    "    c_dense = dense_in(c_ins[i][1])\n",
    "    hidden = dense_hidden(hidden)\n",
    "    hidden = merge([c_dense, hidden])"
   ]
  },
  {
   "cell_type": "code",
   "execution_count": 52,
   "metadata": {
    "collapsed": true
   },
   "outputs": [],
   "source": [
    "c_out = dense_out(hidden)"
   ]
  },
  {
   "cell_type": "code",
   "execution_count": 53,
   "metadata": {
    "collapsed": true
   },
   "outputs": [],
   "source": [
    "model = Model([c[0] for c in c_ins], c_out)\n",
    "model.compile(loss='sparse_categorical_crossentropy', optimizer=Adam())"
   ]
  },
  {
   "cell_type": "code",
   "execution_count": 54,
   "metadata": {
    "collapsed": false
   },
   "outputs": [
    {
     "name": "stdout",
     "output_type": "stream",
     "text": [
      "____________________________________________________________________________________________________\n",
      "Layer (type)                     Output Shape          Param #     Connected to                     \n",
      "====================================================================================================\n",
      "c0_in (InputLayer)               (None, 1)             0                                            \n",
      "____________________________________________________________________________________________________\n",
      "c1_in (InputLayer)               (None, 1)             0                                            \n",
      "____________________________________________________________________________________________________\n",
      "c0_emb (Embedding)               (None, 1, 4)          100         c0_in[0][0]                      \n",
      "____________________________________________________________________________________________________\n",
      "c1_emb (Embedding)               (None, 1, 4)          100         c1_in[0][0]                      \n",
      "____________________________________________________________________________________________________\n",
      "flatten_3 (Flatten)              (None, 4)             0           c0_emb[0][0]                     \n",
      "____________________________________________________________________________________________________\n",
      "dense_4 (Dense)                  (None, 256)           1280        flatten_3[0][0]                  \n",
      "                                                                   flatten_4[0][0]                  \n",
      "____________________________________________________________________________________________________\n",
      "flatten_4 (Flatten)              (None, 4)             0           c1_emb[0][0]                     \n",
      "____________________________________________________________________________________________________\n",
      "dense_5 (Dense)                  (None, 256)           65792       dense_4[0][0]                    \n",
      "____________________________________________________________________________________________________\n",
      "merge_2 (Merge)                  (None, 256)           0           dense_4[1][0]                    \n",
      "                                                                   dense_5[0][0]                    \n",
      "____________________________________________________________________________________________________\n",
      "dense_6 (Dense)                  (None, 25)            6425        merge_2[0][0]                    \n",
      "====================================================================================================\n",
      "Total params: 73697\n",
      "____________________________________________________________________________________________________\n"
     ]
    }
   ],
   "source": [
    "model.summary()"
   ]
  },
  {
   "cell_type": "code",
   "execution_count": 55,
   "metadata": {
    "collapsed": false
   },
   "outputs": [
    {
     "data": {
      "image/svg+xml": [
       "<svg height=\"483pt\" viewBox=\"0.00 0.00 298.00 483.00\" width=\"298pt\" xmlns=\"http://www.w3.org/2000/svg\" xmlns:xlink=\"http://www.w3.org/1999/xlink\">\n",
       "<g class=\"graph\" id=\"graph0\" transform=\"scale(1 1) rotate(0) translate(4 479)\">\n",
       "<title>G</title>\n",
       "<polygon fill=\"white\" points=\"-4,4 -4,-479 294,-479 294,4 -4,4\" stroke=\"none\"/>\n",
       "<!-- 140435991381776 -->\n",
       "<g class=\"node\" id=\"node1\"><title>140435991381776</title>\n",
       "<polygon fill=\"none\" points=\"8.5,-438.5 8.5,-474.5 127.5,-474.5 127.5,-438.5 8.5,-438.5\" stroke=\"black\"/>\n",
       "<text font-family=\"Times,serif\" font-size=\"14.00\" text-anchor=\"middle\" x=\"68\" y=\"-452.8\">c0_in (InputLayer)</text>\n",
       "</g>\n",
       "<!-- 140435991382112 -->\n",
       "<g class=\"node\" id=\"node3\"><title>140435991382112</title>\n",
       "<polygon fill=\"none\" points=\"0,-365.5 0,-401.5 136,-401.5 136,-365.5 0,-365.5\" stroke=\"black\"/>\n",
       "<text font-family=\"Times,serif\" font-size=\"14.00\" text-anchor=\"middle\" x=\"68\" y=\"-379.8\">c0_emb (Embedding)</text>\n",
       "</g>\n",
       "<!-- 140435991381776&#45;&gt;140435991382112 -->\n",
       "<g class=\"edge\" id=\"edge1\"><title>140435991381776-&gt;140435991382112</title>\n",
       "<path d=\"M68,-438.313C68,-430.289 68,-420.547 68,-411.569\" fill=\"none\" stroke=\"black\"/>\n",
       "<polygon fill=\"black\" points=\"71.5001,-411.529 68,-401.529 64.5001,-411.529 71.5001,-411.529\" stroke=\"black\"/>\n",
       "</g>\n",
       "<!-- 140435986550400 -->\n",
       "<g class=\"node\" id=\"node2\"><title>140435986550400</title>\n",
       "<polygon fill=\"none\" points=\"162.5,-438.5 162.5,-474.5 281.5,-474.5 281.5,-438.5 162.5,-438.5\" stroke=\"black\"/>\n",
       "<text font-family=\"Times,serif\" font-size=\"14.00\" text-anchor=\"middle\" x=\"222\" y=\"-452.8\">c1_in (InputLayer)</text>\n",
       "</g>\n",
       "<!-- 140435986550736 -->\n",
       "<g class=\"node\" id=\"node4\"><title>140435986550736</title>\n",
       "<polygon fill=\"none\" points=\"154,-365.5 154,-401.5 290,-401.5 290,-365.5 154,-365.5\" stroke=\"black\"/>\n",
       "<text font-family=\"Times,serif\" font-size=\"14.00\" text-anchor=\"middle\" x=\"222\" y=\"-379.8\">c1_emb (Embedding)</text>\n",
       "</g>\n",
       "<!-- 140435986550400&#45;&gt;140435986550736 -->\n",
       "<g class=\"edge\" id=\"edge2\"><title>140435986550400-&gt;140435986550736</title>\n",
       "<path d=\"M222,-438.313C222,-430.289 222,-420.547 222,-411.569\" fill=\"none\" stroke=\"black\"/>\n",
       "<polygon fill=\"black\" points=\"225.5,-411.529 222,-401.529 218.5,-411.529 225.5,-411.529\" stroke=\"black\"/>\n",
       "</g>\n",
       "<!-- 140435986467640 -->\n",
       "<g class=\"node\" id=\"node5\"><title>140435986467640</title>\n",
       "<polygon fill=\"none\" points=\"20.5,-292.5 20.5,-328.5 135.5,-328.5 135.5,-292.5 20.5,-292.5\" stroke=\"black\"/>\n",
       "<text font-family=\"Times,serif\" font-size=\"14.00\" text-anchor=\"middle\" x=\"78\" y=\"-306.8\">flatten_3 (Flatten)</text>\n",
       "</g>\n",
       "<!-- 140435991382112&#45;&gt;140435986467640 -->\n",
       "<g class=\"edge\" id=\"edge3\"><title>140435991382112-&gt;140435986467640</title>\n",
       "<path d=\"M70.4207,-365.313C71.5508,-357.289 72.9229,-347.547 74.1874,-338.569\" fill=\"none\" stroke=\"black\"/>\n",
       "<polygon fill=\"black\" points=\"77.6726,-338.919 75.6016,-328.529 70.741,-337.943 77.6726,-338.919\" stroke=\"black\"/>\n",
       "</g>\n",
       "<!-- 140435986597088 -->\n",
       "<g class=\"node\" id=\"node7\"><title>140435986597088</title>\n",
       "<polygon fill=\"none\" points=\"158.5,-292.5 158.5,-328.5 273.5,-328.5 273.5,-292.5 158.5,-292.5\" stroke=\"black\"/>\n",
       "<text font-family=\"Times,serif\" font-size=\"14.00\" text-anchor=\"middle\" x=\"216\" y=\"-306.8\">flatten_4 (Flatten)</text>\n",
       "</g>\n",
       "<!-- 140435986550736&#45;&gt;140435986597088 -->\n",
       "<g class=\"edge\" id=\"edge6\"><title>140435986550736-&gt;140435986597088</title>\n",
       "<path d=\"M220.548,-365.313C219.87,-357.289 219.046,-347.547 218.288,-338.569\" fill=\"none\" stroke=\"black\"/>\n",
       "<polygon fill=\"black\" points=\"221.769,-338.199 217.439,-328.529 214.794,-338.788 221.769,-338.199\" stroke=\"black\"/>\n",
       "</g>\n",
       "<!-- 140435979758448 -->\n",
       "<g class=\"node\" id=\"node6\"><title>140435979758448</title>\n",
       "<polygon fill=\"none\" points=\"93.5,-219.5 93.5,-255.5 200.5,-255.5 200.5,-219.5 93.5,-219.5\" stroke=\"black\"/>\n",
       "<text font-family=\"Times,serif\" font-size=\"14.00\" text-anchor=\"middle\" x=\"147\" y=\"-233.8\">dense_4 (Dense)</text>\n",
       "</g>\n",
       "<!-- 140435986467640&#45;&gt;140435979758448 -->\n",
       "<g class=\"edge\" id=\"edge4\"><title>140435986467640-&gt;140435979758448</title>\n",
       "<path d=\"M94.703,-292.313C103.263,-283.505 113.836,-272.625 123.231,-262.958\" fill=\"none\" stroke=\"black\"/>\n",
       "<polygon fill=\"black\" points=\"125.991,-265.14 130.451,-255.529 120.971,-260.261 125.991,-265.14\" stroke=\"black\"/>\n",
       "</g>\n",
       "<!-- 140435979758504 -->\n",
       "<g class=\"node\" id=\"node8\"><title>140435979758504</title>\n",
       "<polygon fill=\"none\" points=\"52.5,-146.5 52.5,-182.5 159.5,-182.5 159.5,-146.5 52.5,-146.5\" stroke=\"black\"/>\n",
       "<text font-family=\"Times,serif\" font-size=\"14.00\" text-anchor=\"middle\" x=\"106\" y=\"-160.8\">dense_5 (Dense)</text>\n",
       "</g>\n",
       "<!-- 140435979758448&#45;&gt;140435979758504 -->\n",
       "<g class=\"edge\" id=\"edge7\"><title>140435979758448-&gt;140435979758504</title>\n",
       "<path d=\"M137.075,-219.313C132.24,-210.941 126.325,-200.697 120.958,-191.403\" fill=\"none\" stroke=\"black\"/>\n",
       "<polygon fill=\"black\" points=\"123.865,-189.438 115.834,-182.529 117.803,-192.939 123.865,-189.438\" stroke=\"black\"/>\n",
       "</g>\n",
       "<!-- 140435979784656 -->\n",
       "<g class=\"node\" id=\"node9\"><title>140435979784656</title>\n",
       "<polygon fill=\"none\" points=\"90.5,-73.5 90.5,-109.5 203.5,-109.5 203.5,-73.5 90.5,-73.5\" stroke=\"black\"/>\n",
       "<text font-family=\"Times,serif\" font-size=\"14.00\" text-anchor=\"middle\" x=\"147\" y=\"-87.8\">merge_2 (Merge)</text>\n",
       "</g>\n",
       "<!-- 140435979758448&#45;&gt;140435979784656 -->\n",
       "<g class=\"edge\" id=\"edge8\"><title>140435979758448-&gt;140435979784656</title>\n",
       "<path d=\"M155.719,-219.162C160.375,-208.924 165.625,-195.549 168,-183 171.058,-166.842 171.058,-162.158 168,-146 166.293,-136.98 163.101,-127.534 159.711,-119.132\" fill=\"none\" stroke=\"black\"/>\n",
       "<polygon fill=\"black\" points=\"162.882,-117.645 155.719,-109.838 156.45,-120.408 162.882,-117.645\" stroke=\"black\"/>\n",
       "</g>\n",
       "<!-- 140435986597088&#45;&gt;140435979758448 -->\n",
       "<g class=\"edge\" id=\"edge5\"><title>140435986597088-&gt;140435979758448</title>\n",
       "<path d=\"M199.297,-292.313C190.737,-283.505 180.164,-272.625 170.769,-262.958\" fill=\"none\" stroke=\"black\"/>\n",
       "<polygon fill=\"black\" points=\"173.029,-260.261 163.549,-255.529 168.009,-265.14 173.029,-260.261\" stroke=\"black\"/>\n",
       "</g>\n",
       "<!-- 140435979758504&#45;&gt;140435979784656 -->\n",
       "<g class=\"edge\" id=\"edge9\"><title>140435979758504-&gt;140435979784656</title>\n",
       "<path d=\"M115.925,-146.313C120.76,-137.941 126.675,-127.697 132.042,-118.403\" fill=\"none\" stroke=\"black\"/>\n",
       "<polygon fill=\"black\" points=\"135.197,-119.939 137.166,-109.529 129.135,-116.438 135.197,-119.939\" stroke=\"black\"/>\n",
       "</g>\n",
       "<!-- 140435986599832 -->\n",
       "<g class=\"node\" id=\"node10\"><title>140435986599832</title>\n",
       "<polygon fill=\"none\" points=\"93.5,-0.5 93.5,-36.5 200.5,-36.5 200.5,-0.5 93.5,-0.5\" stroke=\"black\"/>\n",
       "<text font-family=\"Times,serif\" font-size=\"14.00\" text-anchor=\"middle\" x=\"147\" y=\"-14.8\">dense_6 (Dense)</text>\n",
       "</g>\n",
       "<!-- 140435979784656&#45;&gt;140435986599832 -->\n",
       "<g class=\"edge\" id=\"edge10\"><title>140435979784656-&gt;140435986599832</title>\n",
       "<path d=\"M147,-73.3129C147,-65.2895 147,-55.5475 147,-46.5691\" fill=\"none\" stroke=\"black\"/>\n",
       "<polygon fill=\"black\" points=\"150.5,-46.5288 147,-36.5288 143.5,-46.5289 150.5,-46.5288\" stroke=\"black\"/>\n",
       "</g>\n",
       "</g>\n",
       "</svg>"
      ],
      "text/plain": [
       "<IPython.core.display.SVG object>"
      ]
     },
     "execution_count": 55,
     "metadata": {},
     "output_type": "execute_result"
    }
   ],
   "source": [
    "SVG(model_to_dot(model).create(prog='dot', format='svg'))"
   ]
  },
  {
   "cell_type": "code",
   "execution_count": 56,
   "metadata": {
    "collapsed": false
   },
   "outputs": [
    {
     "name": "stdout",
     "output_type": "stream",
     "text": [
      "Epoch 1/100\n",
      "12/12 [==============================] - 0s - loss: 3.2158\n",
      "Epoch 2/100\n",
      "12/12 [==============================] - 0s - loss: 3.2018\n",
      "Epoch 3/100\n",
      "12/12 [==============================] - 0s - loss: 3.1883\n",
      "Epoch 4/100\n",
      "12/12 [==============================] - 0s - loss: 3.1752\n",
      "Epoch 5/100\n",
      "12/12 [==============================] - 0s - loss: 3.1619\n",
      "Epoch 6/100\n",
      "12/12 [==============================] - 0s - loss: 3.1475\n",
      "Epoch 7/100\n",
      "12/12 [==============================] - 0s - loss: 3.1319\n",
      "Epoch 8/100\n",
      "12/12 [==============================] - 0s - loss: 3.1147\n",
      "Epoch 9/100\n",
      "12/12 [==============================] - 0s - loss: 3.0958\n",
      "Epoch 10/100\n",
      "12/12 [==============================] - 0s - loss: 3.0750\n",
      "Epoch 11/100\n",
      "12/12 [==============================] - 0s - loss: 3.0522\n",
      "Epoch 12/100\n",
      "12/12 [==============================] - 0s - loss: 3.0274\n",
      "Epoch 13/100\n",
      "12/12 [==============================] - 0s - loss: 3.0002\n",
      "Epoch 14/100\n",
      "12/12 [==============================] - 0s - loss: 2.9708\n",
      "Epoch 15/100\n",
      "12/12 [==============================] - 0s - loss: 2.9389\n",
      "Epoch 16/100\n",
      "12/12 [==============================] - 0s - loss: 2.9048\n",
      "Epoch 17/100\n",
      "12/12 [==============================] - 0s - loss: 2.8681\n",
      "Epoch 18/100\n",
      "12/12 [==============================] - 0s - loss: 2.8289\n",
      "Epoch 19/100\n",
      "12/12 [==============================] - 0s - loss: 2.7873\n",
      "Epoch 20/100\n",
      "12/12 [==============================] - 0s - loss: 2.7437\n",
      "Epoch 21/100\n",
      "12/12 [==============================] - 0s - loss: 2.6981\n",
      "Epoch 22/100\n",
      "12/12 [==============================] - 0s - loss: 2.6508\n",
      "Epoch 23/100\n",
      "12/12 [==============================] - 0s - loss: 2.6024\n",
      "Epoch 24/100\n",
      "12/12 [==============================] - 0s - loss: 2.5531\n",
      "Epoch 25/100\n",
      "12/12 [==============================] - 0s - loss: 2.5033\n",
      "Epoch 26/100\n",
      "12/12 [==============================] - 0s - loss: 2.4536\n",
      "Epoch 27/100\n",
      "12/12 [==============================] - 0s - loss: 2.4043\n",
      "Epoch 28/100\n",
      "12/12 [==============================] - 0s - loss: 2.3554\n",
      "Epoch 29/100\n",
      "12/12 [==============================] - 0s - loss: 2.3072\n",
      "Epoch 30/100\n",
      "12/12 [==============================] - 0s - loss: 2.2598\n",
      "Epoch 31/100\n",
      "12/12 [==============================] - 0s - loss: 2.2133\n",
      "Epoch 32/100\n",
      "12/12 [==============================] - 0s - loss: 2.1672\n",
      "Epoch 33/100\n",
      "12/12 [==============================] - 0s - loss: 2.1214\n",
      "Epoch 34/100\n",
      "12/12 [==============================] - 0s - loss: 2.0756\n",
      "Epoch 35/100\n",
      "12/12 [==============================] - 0s - loss: 2.0299\n",
      "Epoch 36/100\n",
      "12/12 [==============================] - 0s - loss: 1.9838\n",
      "Epoch 37/100\n",
      "12/12 [==============================] - 0s - loss: 1.9373\n",
      "Epoch 38/100\n",
      "12/12 [==============================] - 0s - loss: 1.8901\n",
      "Epoch 39/100\n",
      "12/12 [==============================] - 0s - loss: 1.8421\n",
      "Epoch 40/100\n",
      "12/12 [==============================] - 0s - loss: 1.7932\n",
      "Epoch 41/100\n",
      "12/12 [==============================] - 0s - loss: 1.7434\n",
      "Epoch 42/100\n",
      "12/12 [==============================] - 0s - loss: 1.6926\n",
      "Epoch 43/100\n",
      "12/12 [==============================] - 0s - loss: 1.6407\n",
      "Epoch 44/100\n",
      "12/12 [==============================] - 0s - loss: 1.5879\n",
      "Epoch 45/100\n",
      "12/12 [==============================] - 0s - loss: 1.5342\n",
      "Epoch 46/100\n",
      "12/12 [==============================] - 0s - loss: 1.4796\n",
      "Epoch 47/100\n",
      "12/12 [==============================] - 0s - loss: 1.4243\n",
      "Epoch 48/100\n",
      "12/12 [==============================] - 0s - loss: 1.3686\n",
      "Epoch 49/100\n",
      "12/12 [==============================] - 0s - loss: 1.3127\n",
      "Epoch 50/100\n",
      "12/12 [==============================] - 0s - loss: 1.2569\n",
      "Epoch 51/100\n",
      "12/12 [==============================] - 0s - loss: 1.2012\n",
      "Epoch 52/100\n",
      "12/12 [==============================] - 0s - loss: 1.1460\n",
      "Epoch 53/100\n",
      "12/12 [==============================] - 0s - loss: 1.0916\n",
      "Epoch 54/100\n",
      "12/12 [==============================] - 0s - loss: 1.0382\n",
      "Epoch 55/100\n",
      "12/12 [==============================] - 0s - loss: 0.9858\n",
      "Epoch 56/100\n",
      "12/12 [==============================] - 0s - loss: 0.9349\n",
      "Epoch 57/100\n",
      "12/12 [==============================] - 0s - loss: 0.8854\n",
      "Epoch 58/100\n",
      "12/12 [==============================] - 0s - loss: 0.8374\n",
      "Epoch 59/100\n",
      "12/12 [==============================] - 0s - loss: 0.7908\n",
      "Epoch 60/100\n",
      "12/12 [==============================] - 0s - loss: 0.7459\n",
      "Epoch 61/100\n",
      "12/12 [==============================] - 0s - loss: 0.7028\n",
      "Epoch 62/100\n",
      "12/12 [==============================] - 0s - loss: 0.6615\n",
      "Epoch 63/100\n",
      "12/12 [==============================] - 0s - loss: 0.6221\n",
      "Epoch 64/100\n",
      "12/12 [==============================] - 0s - loss: 0.5847\n",
      "Epoch 65/100\n",
      "12/12 [==============================] - 0s - loss: 0.5490\n",
      "Epoch 66/100\n",
      "12/12 [==============================] - 0s - loss: 0.5152\n",
      "Epoch 67/100\n",
      "12/12 [==============================] - 0s - loss: 0.4829\n",
      "Epoch 68/100\n",
      "12/12 [==============================] - 0s - loss: 0.4527\n",
      "Epoch 69/100\n",
      "12/12 [==============================] - 0s - loss: 0.4243\n",
      "Epoch 70/100\n",
      "12/12 [==============================] - 0s - loss: 0.3976\n",
      "Epoch 71/100\n",
      "12/12 [==============================] - 0s - loss: 0.3723\n",
      "Epoch 72/100\n",
      "12/12 [==============================] - 0s - loss: 0.3487\n",
      "Epoch 73/100\n",
      "12/12 [==============================] - 0s - loss: 0.3266\n",
      "Epoch 74/100\n",
      "12/12 [==============================] - 0s - loss: 0.3059\n",
      "Epoch 75/100\n",
      "12/12 [==============================] - 0s - loss: 0.2866\n",
      "Epoch 76/100\n",
      "12/12 [==============================] - 0s - loss: 0.2685\n",
      "Epoch 77/100\n",
      "12/12 [==============================] - 0s - loss: 0.2516\n",
      "Epoch 78/100\n",
      "12/12 [==============================] - 0s - loss: 0.2357\n",
      "Epoch 79/100\n",
      "12/12 [==============================] - 0s - loss: 0.2208\n",
      "Epoch 80/100\n",
      "12/12 [==============================] - 0s - loss: 0.2070\n",
      "Epoch 81/100\n",
      "12/12 [==============================] - 0s - loss: 0.1940\n",
      "Epoch 82/100\n",
      "12/12 [==============================] - 0s - loss: 0.1817\n",
      "Epoch 83/100\n",
      "12/12 [==============================] - 0s - loss: 0.1702\n",
      "Epoch 84/100\n",
      "12/12 [==============================] - 0s - loss: 0.1594\n",
      "Epoch 85/100\n",
      "12/12 [==============================] - 0s - loss: 0.1492\n",
      "Epoch 86/100\n",
      "12/12 [==============================] - 0s - loss: 0.1396\n",
      "Epoch 87/100\n",
      "12/12 [==============================] - 0s - loss: 0.1306\n",
      "Epoch 88/100\n",
      "12/12 [==============================] - 0s - loss: 0.1221\n",
      "Epoch 89/100\n",
      "12/12 [==============================] - 0s - loss: 0.1141\n",
      "Epoch 90/100\n",
      "12/12 [==============================] - 0s - loss: 0.1066\n",
      "Epoch 91/100\n",
      "12/12 [==============================] - 0s - loss: 0.0995\n",
      "Epoch 92/100\n",
      "12/12 [==============================] - 0s - loss: 0.0928\n",
      "Epoch 93/100\n",
      "12/12 [==============================] - 0s - loss: 0.0865\n",
      "Epoch 94/100\n",
      "12/12 [==============================] - 0s - loss: 0.0806\n",
      "Epoch 95/100\n",
      "12/12 [==============================] - 0s - loss: 0.0751\n",
      "Epoch 96/100\n",
      "12/12 [==============================] - 0s - loss: 0.0699\n",
      "Epoch 97/100\n",
      "12/12 [==============================] - 0s - loss: 0.0651\n",
      "Epoch 98/100\n",
      "12/12 [==============================] - 0s - loss: 0.0607\n",
      "Epoch 99/100\n",
      "12/12 [==============================] - 0s - loss: 0.0565\n",
      "Epoch 100/100\n",
      "12/12 [==============================] - 0s - loss: 0.0527\n"
     ]
    },
    {
     "data": {
      "text/plain": [
       "<keras.callbacks.History at 0x7fb9cc5efb70>"
      ]
     },
     "execution_count": 56,
     "metadata": {},
     "output_type": "execute_result"
    }
   ],
   "source": [
    "model.fit(xs, y, batch_size=1, nb_epoch=100)"
   ]
  },
  {
   "cell_type": "markdown",
   "metadata": {},
   "source": [
    "## Test model"
   ]
  },
  {
   "cell_type": "code",
   "execution_count": 57,
   "metadata": {
    "collapsed": true
   },
   "outputs": [],
   "source": [
    "def get_next(inp):\n",
    "    idxs = [corpora.token2id[c] for c in inp]\n",
    "    print(idxs)\n",
    "    arrs = [np.array(i)[np.newaxis] for i in idxs]\n",
    "    print(arrs)\n",
    "    \n",
    "    p = model.predict(arrs)\n",
    "    print(p.shape)\n",
    "    i_max1 = np.argmax(p)\n",
    "    p[0,i_max1] = 0\n",
    "    i_max2 = np.argmax(p)\n",
    "    p[0,i_max2] = 0\n",
    "    i_max3 = np.argmax(p)\n",
    "\n",
    "    \n",
    "    return corpora.id2token[i_max1], corpora.id2token[i_max2], corpora.id2token[i_max3]"
   ]
  },
  {
   "cell_type": "code",
   "execution_count": 45,
   "metadata": {
    "collapsed": false
   },
   "outputs": [
    {
     "name": "stdout",
     "output_type": "stream",
     "text": [
      "[1, 0]\n",
      "[array([1]), array([0])]\n",
      "(1, 25)\n"
     ]
    },
    {
     "data": {
      "text/plain": [
       "('How', 'What', 'brown')"
      ]
     },
     "execution_count": 45,
     "metadata": {},
     "output_type": "execute_result"
    }
   ],
   "source": [
    "get_next(['One', 'two'])"
   ]
  },
  {
   "cell_type": "code",
   "execution_count": null,
   "metadata": {
    "collapsed": true
   },
   "outputs": [],
   "source": []
  }
 ],
 "metadata": {
  "kernelspec": {
   "display_name": "Python 3",
   "language": "python",
   "name": "python3"
  },
  "language_info": {
   "codemirror_mode": {
    "name": "ipython",
    "version": 3
   },
   "file_extension": ".py",
   "mimetype": "text/x-python",
   "name": "python",
   "nbconvert_exporter": "python",
   "pygments_lexer": "ipython3",
   "version": "3.5.2"
  }
 },
 "nbformat": 4,
 "nbformat_minor": 1
}
