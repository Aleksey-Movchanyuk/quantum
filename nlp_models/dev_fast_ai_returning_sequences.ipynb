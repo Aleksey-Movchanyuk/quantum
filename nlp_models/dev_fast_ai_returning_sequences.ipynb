{
 "cells": [
  {
   "cell_type": "code",
   "execution_count": 5,
   "metadata": {
    "collapsed": false
   },
   "outputs": [
    {
     "name": "stderr",
     "output_type": "stream",
     "text": [
      "Using Theano backend.\n"
     ]
    }
   ],
   "source": [
    "import numpy as np\n",
    "import gensim\n",
    "from keras.models import Sequential, Model\n",
    "from keras.layers import Dense, LSTM, Input, Embedding, Flatten, merge\n",
    "from keras.optimizers import Adam\n",
    "from keras.utils import np_utils\n",
    "from IPython.display import SVG\n",
    "from keras.utils.visualize_util import plot\n",
    "from keras.utils.visualize_util import model_to_dot\n",
    "from keras.preprocessing.sequence import pad_sequences\n",
    "from keras.callbacks import ModelCheckpoint\n",
    "import pickle"
   ]
  },
  {
   "cell_type": "code",
   "execution_count": 6,
   "metadata": {
    "collapsed": false
   },
   "outputs": [
    {
     "name": "stdout",
     "output_type": "stream",
     "text": [
      "Number of words in corpora: 26\n"
     ]
    }
   ],
   "source": [
    "corpora = gensim.corpora.Dictionary.load('./data/corpora.dat')\n",
    "vocab_size = len(corpora)\n",
    "print('Number of words in corpora: %d'%(vocab_size))"
   ]
  },
  {
   "cell_type": "code",
   "execution_count": 7,
   "metadata": {
    "collapsed": true
   },
   "outputs": [],
   "source": [
    "tmp = list(corpora.items())"
   ]
  },
  {
   "cell_type": "code",
   "execution_count": 8,
   "metadata": {
    "collapsed": true
   },
   "outputs": [],
   "source": [
    "#the_filename = './data/wonderland.txt.dat'\n",
    "the_filename = './data/test.txt.dat'\n",
    "with open(the_filename, 'rb') as f:\n",
    "    text = pickle.load(f)"
   ]
  },
  {
   "cell_type": "markdown",
   "metadata": {},
   "source": [
    "### Generate words patterns - 2 words model"
   ]
  },
  {
   "cell_type": "code",
   "execution_count": 9,
   "metadata": {
    "collapsed": true
   },
   "outputs": [],
   "source": [
    "cs=2"
   ]
  },
  {
   "cell_type": "code",
   "execution_count": 10,
   "metadata": {
    "collapsed": true
   },
   "outputs": [],
   "source": [
    "c_in_dat = [[text[i+n] for i in range(0, len(text)-1-cs, cs)]\n",
    "            for n in range(cs)]"
   ]
  },
  {
   "cell_type": "code",
   "execution_count": 11,
   "metadata": {
    "collapsed": true
   },
   "outputs": [],
   "source": [
    "xs = [np.stack(c[:-2]) for c in c_in_dat]"
   ]
  },
  {
   "cell_type": "code",
   "execution_count": 12,
   "metadata": {
    "collapsed": false
   },
   "outputs": [],
   "source": [
    "c_out_dat = [[text[i+n] for i in range(1, len(text)-cs, cs)]\n",
    "            for n in range(cs)]"
   ]
  },
  {
   "cell_type": "code",
   "execution_count": 13,
   "metadata": {
    "collapsed": true
   },
   "outputs": [],
   "source": [
    "ys = [np.stack(c[:-2]) for c in c_out_dat]"
   ]
  },
  {
   "cell_type": "code",
   "execution_count": 14,
   "metadata": {
    "collapsed": false
   },
   "outputs": [
    {
     "data": {
      "text/plain": [
       "[array([2, 4]), array([0, 8])]"
      ]
     },
     "execution_count": 14,
     "metadata": {},
     "output_type": "execute_result"
    }
   ],
   "source": [
    "[xs[n][:cs] for n in range(cs)]"
   ]
  },
  {
   "cell_type": "code",
   "execution_count": 15,
   "metadata": {
    "collapsed": false
   },
   "outputs": [
    {
     "data": {
      "text/plain": [
       "[array([0, 8]), array([4, 3])]"
      ]
     },
     "execution_count": 15,
     "metadata": {},
     "output_type": "execute_result"
    }
   ],
   "source": [
    "[ys[n][:cs] for n in range(cs)]"
   ]
  },
  {
   "cell_type": "markdown",
   "metadata": {},
   "source": [
    "### Create and train model"
   ]
  },
  {
   "cell_type": "code",
   "execution_count": 16,
   "metadata": {
    "collapsed": true
   },
   "outputs": [],
   "source": [
    "n_hidden = 256\n",
    "n_fac = 4"
   ]
  },
  {
   "cell_type": "code",
   "execution_count": 17,
   "metadata": {
    "collapsed": true
   },
   "outputs": [],
   "source": [
    "def embedding_input(name, n_in, n_out):\n",
    "    inp = Input(shape=(1,), dtype='int64', name=name+'_in')\n",
    "    emb = Embedding(n_in, n_out, input_length=1, name=name+'_emb')(inp)\n",
    "    return inp, Flatten()(emb)"
   ]
  },
  {
   "cell_type": "code",
   "execution_count": 18,
   "metadata": {
    "collapsed": false
   },
   "outputs": [],
   "source": [
    "c_ins = [embedding_input('c'+str(n), vocab_size, n_fac) for n in range(cs)]"
   ]
  },
  {
   "cell_type": "code",
   "execution_count": 19,
   "metadata": {
    "collapsed": false
   },
   "outputs": [],
   "source": [
    "dense_in = Dense(n_hidden, activation='relu')\n",
    "dense_hidden = Dense(n_hidden, activation='relu', init='identity')\n",
    "dense_out = Dense(vocab_size, activation='softmax', name='output')"
   ]
  },
  {
   "cell_type": "code",
   "execution_count": 20,
   "metadata": {
    "collapsed": false
   },
   "outputs": [],
   "source": [
    "# We're going to pass a vector of all zeros as our starting point - here's our input layers for that:\n",
    "inp1 = Input(shape=(n_fac,), name='zeros')\n",
    "hidden = dense_in(inp1)"
   ]
  },
  {
   "cell_type": "code",
   "execution_count": 21,
   "metadata": {
    "collapsed": false
   },
   "outputs": [],
   "source": [
    "outs = []\n",
    "\n",
    "for i in range(cs):\n",
    "    c_dense = dense_in(c_ins[i][1])\n",
    "    hidden = dense_hidden(hidden)\n",
    "    hidden = merge([c_dense, hidden], mode='sum')\n",
    "    # every layer now has an output\n",
    "    outs.append(dense_out(hidden))"
   ]
  },
  {
   "cell_type": "code",
   "execution_count": 22,
   "metadata": {
    "collapsed": true
   },
   "outputs": [],
   "source": [
    "model = Model([inp1] + [c[0] for c in c_ins], outs)\n",
    "model.compile(loss='sparse_categorical_crossentropy', optimizer=Adam())"
   ]
  },
  {
   "cell_type": "code",
   "execution_count": 23,
   "metadata": {
    "collapsed": false
   },
   "outputs": [
    {
     "name": "stdout",
     "output_type": "stream",
     "text": [
      "____________________________________________________________________________________________________\n",
      "Layer (type)                     Output Shape          Param #     Connected to                     \n",
      "====================================================================================================\n",
      "c0_in (InputLayer)               (None, 1)             0                                            \n",
      "____________________________________________________________________________________________________\n",
      "c0_emb (Embedding)               (None, 1, 4)          104         c0_in[0][0]                      \n",
      "____________________________________________________________________________________________________\n",
      "zeros (InputLayer)               (None, 4)             0                                            \n",
      "____________________________________________________________________________________________________\n",
      "c1_in (InputLayer)               (None, 1)             0                                            \n",
      "____________________________________________________________________________________________________\n",
      "dense_1 (Dense)                  (None, 256)           1280        zeros[0][0]                      \n",
      "                                                                   flatten_1[0][0]                  \n",
      "                                                                   flatten_2[0][0]                  \n",
      "____________________________________________________________________________________________________\n",
      "flatten_1 (Flatten)              (None, 4)             0           c0_emb[0][0]                     \n",
      "____________________________________________________________________________________________________\n",
      "c1_emb (Embedding)               (None, 1, 4)          104         c1_in[0][0]                      \n",
      "____________________________________________________________________________________________________\n",
      "dense_2 (Dense)                  (None, 256)           65792       dense_1[0][0]                    \n",
      "                                                                   merge_1[0][0]                    \n",
      "____________________________________________________________________________________________________\n",
      "flatten_2 (Flatten)              (None, 4)             0           c1_emb[0][0]                     \n",
      "____________________________________________________________________________________________________\n",
      "merge_1 (Merge)                  (None, 256)           0           dense_1[1][0]                    \n",
      "                                                                   dense_2[0][0]                    \n",
      "____________________________________________________________________________________________________\n",
      "merge_2 (Merge)                  (None, 256)           0           dense_1[2][0]                    \n",
      "                                                                   dense_2[1][0]                    \n",
      "____________________________________________________________________________________________________\n",
      "output (Dense)                   (None, 26)            6682        merge_1[0][0]                    \n",
      "                                                                   merge_2[0][0]                    \n",
      "====================================================================================================\n",
      "Total params: 73962\n",
      "____________________________________________________________________________________________________\n"
     ]
    }
   ],
   "source": [
    "model.summary()"
   ]
  },
  {
   "cell_type": "code",
   "execution_count": 24,
   "metadata": {
    "collapsed": false
   },
   "outputs": [
    {
     "data": {
      "image/svg+xml": [
       "<svg height=\"483pt\" viewBox=\"0.00 0.00 414.00 483.00\" width=\"414pt\" xmlns=\"http://www.w3.org/2000/svg\" xmlns:xlink=\"http://www.w3.org/1999/xlink\">\n",
       "<g class=\"graph\" id=\"graph0\" transform=\"scale(1 1) rotate(0) translate(4 479)\">\n",
       "<title>G</title>\n",
       "<polygon fill=\"white\" points=\"-4,4 -4,-479 410,-479 410,4 -4,4\" stroke=\"none\"/>\n",
       "<!-- 140299778917152 -->\n",
       "<g class=\"node\" id=\"node1\"><title>140299778917152</title>\n",
       "<polygon fill=\"none\" points=\"8.5,-438.5 8.5,-474.5 127.5,-474.5 127.5,-438.5 8.5,-438.5\" stroke=\"black\"/>\n",
       "<text font-family=\"Times,serif\" font-size=\"14.00\" text-anchor=\"middle\" x=\"68\" y=\"-452.8\">c0_in (InputLayer)</text>\n",
       "</g>\n",
       "<!-- 140299778917600 -->\n",
       "<g class=\"node\" id=\"node2\"><title>140299778917600</title>\n",
       "<polygon fill=\"none\" points=\"0,-365.5 0,-401.5 136,-401.5 136,-365.5 0,-365.5\" stroke=\"black\"/>\n",
       "<text font-family=\"Times,serif\" font-size=\"14.00\" text-anchor=\"middle\" x=\"68\" y=\"-379.8\">c0_emb (Embedding)</text>\n",
       "</g>\n",
       "<!-- 140299778917152&#45;&gt;140299778917600 -->\n",
       "<g class=\"edge\" id=\"edge1\"><title>140299778917152-&gt;140299778917600</title>\n",
       "<path d=\"M68,-438.313C68,-430.289 68,-420.547 68,-411.569\" fill=\"none\" stroke=\"black\"/>\n",
       "<polygon fill=\"black\" points=\"71.5001,-411.529 68,-401.529 64.5001,-411.529 71.5001,-411.529\" stroke=\"black\"/>\n",
       "</g>\n",
       "<!-- 140299777648288 -->\n",
       "<g class=\"node\" id=\"node6\"><title>140299777648288</title>\n",
       "<polygon fill=\"none\" points=\"10.5,-292.5 10.5,-328.5 125.5,-328.5 125.5,-292.5 10.5,-292.5\" stroke=\"black\"/>\n",
       "<text font-family=\"Times,serif\" font-size=\"14.00\" text-anchor=\"middle\" x=\"68\" y=\"-306.8\">flatten_1 (Flatten)</text>\n",
       "</g>\n",
       "<!-- 140299778917600&#45;&gt;140299777648288 -->\n",
       "<g class=\"edge\" id=\"edge5\"><title>140299778917600-&gt;140299777648288</title>\n",
       "<path d=\"M68,-365.313C68,-357.289 68,-347.547 68,-338.569\" fill=\"none\" stroke=\"black\"/>\n",
       "<polygon fill=\"black\" points=\"71.5001,-338.529 68,-328.529 64.5001,-338.529 71.5001,-338.529\" stroke=\"black\"/>\n",
       "</g>\n",
       "<!-- 140299776828640 -->\n",
       "<g class=\"node\" id=\"node3\"><title>140299776828640</title>\n",
       "<polygon fill=\"none\" points=\"144,-292.5 144,-328.5 262,-328.5 262,-292.5 144,-292.5\" stroke=\"black\"/>\n",
       "<text font-family=\"Times,serif\" font-size=\"14.00\" text-anchor=\"middle\" x=\"203\" y=\"-306.8\">zeros (InputLayer)</text>\n",
       "</g>\n",
       "<!-- 140299777647896 -->\n",
       "<g class=\"node\" id=\"node5\"><title>140299777647896</title>\n",
       "<polygon fill=\"none\" points=\"149.5,-219.5 149.5,-255.5 256.5,-255.5 256.5,-219.5 149.5,-219.5\" stroke=\"black\"/>\n",
       "<text font-family=\"Times,serif\" font-size=\"14.00\" text-anchor=\"middle\" x=\"203\" y=\"-233.8\">dense_1 (Dense)</text>\n",
       "</g>\n",
       "<!-- 140299776828640&#45;&gt;140299777647896 -->\n",
       "<g class=\"edge\" id=\"edge2\"><title>140299776828640-&gt;140299777647896</title>\n",
       "<path d=\"M203,-292.313C203,-284.289 203,-274.547 203,-265.569\" fill=\"none\" stroke=\"black\"/>\n",
       "<polygon fill=\"black\" points=\"206.5,-265.529 203,-255.529 199.5,-265.529 206.5,-265.529\" stroke=\"black\"/>\n",
       "</g>\n",
       "<!-- 140299776828696 -->\n",
       "<g class=\"node\" id=\"node4\"><title>140299776828696</title>\n",
       "<polygon fill=\"none\" points=\"278.5,-438.5 278.5,-474.5 397.5,-474.5 397.5,-438.5 278.5,-438.5\" stroke=\"black\"/>\n",
       "<text font-family=\"Times,serif\" font-size=\"14.00\" text-anchor=\"middle\" x=\"338\" y=\"-452.8\">c1_in (InputLayer)</text>\n",
       "</g>\n",
       "<!-- 140299777789736 -->\n",
       "<g class=\"node\" id=\"node7\"><title>140299777789736</title>\n",
       "<polygon fill=\"none\" points=\"270,-365.5 270,-401.5 406,-401.5 406,-365.5 270,-365.5\" stroke=\"black\"/>\n",
       "<text font-family=\"Times,serif\" font-size=\"14.00\" text-anchor=\"middle\" x=\"338\" y=\"-379.8\">c1_emb (Embedding)</text>\n",
       "</g>\n",
       "<!-- 140299776828696&#45;&gt;140299777789736 -->\n",
       "<g class=\"edge\" id=\"edge6\"><title>140299776828696-&gt;140299777789736</title>\n",
       "<path d=\"M338,-438.313C338,-430.289 338,-420.547 338,-411.569\" fill=\"none\" stroke=\"black\"/>\n",
       "<polygon fill=\"black\" points=\"341.5,-411.529 338,-401.529 334.5,-411.529 341.5,-411.529\" stroke=\"black\"/>\n",
       "</g>\n",
       "<!-- 140299777871824 -->\n",
       "<g class=\"node\" id=\"node8\"><title>140299777871824</title>\n",
       "<polygon fill=\"none\" points=\"149.5,-146.5 149.5,-182.5 256.5,-182.5 256.5,-146.5 149.5,-146.5\" stroke=\"black\"/>\n",
       "<text font-family=\"Times,serif\" font-size=\"14.00\" text-anchor=\"middle\" x=\"203\" y=\"-160.8\">dense_2 (Dense)</text>\n",
       "</g>\n",
       "<!-- 140299777647896&#45;&gt;140299777871824 -->\n",
       "<g class=\"edge\" id=\"edge7\"><title>140299777647896-&gt;140299777871824</title>\n",
       "<path d=\"M203,-219.313C203,-211.289 203,-201.547 203,-192.569\" fill=\"none\" stroke=\"black\"/>\n",
       "<polygon fill=\"black\" points=\"206.5,-192.529 203,-182.529 199.5,-192.529 206.5,-192.529\" stroke=\"black\"/>\n",
       "</g>\n",
       "<!-- 140299776689544 -->\n",
       "<g class=\"node\" id=\"node10\"><title>140299776689544</title>\n",
       "<polygon fill=\"none\" points=\"80.5,-73.5 80.5,-109.5 193.5,-109.5 193.5,-73.5 80.5,-73.5\" stroke=\"black\"/>\n",
       "<text font-family=\"Times,serif\" font-size=\"14.00\" text-anchor=\"middle\" x=\"137\" y=\"-87.8\">merge_1 (Merge)</text>\n",
       "</g>\n",
       "<!-- 140299777647896&#45;&gt;140299776689544 -->\n",
       "<g class=\"edge\" id=\"edge10\"><title>140299777647896-&gt;140299776689544</title>\n",
       "<path d=\"M173.578,-219.447C160.853,-210.378 147.239,-197.988 140,-183 130.525,-163.384 130.429,-138.487 132.334,-119.774\" fill=\"none\" stroke=\"black\"/>\n",
       "<polygon fill=\"black\" points=\"135.81,-120.182 133.591,-109.822 128.866,-119.305 135.81,-120.182\" stroke=\"black\"/>\n",
       "</g>\n",
       "<!-- 140299776750088 -->\n",
       "<g class=\"node\" id=\"node11\"><title>140299776750088</title>\n",
       "<polygon fill=\"none\" points=\"211.5,-73.5 211.5,-109.5 324.5,-109.5 324.5,-73.5 211.5,-73.5\" stroke=\"black\"/>\n",
       "<text font-family=\"Times,serif\" font-size=\"14.00\" text-anchor=\"middle\" x=\"268\" y=\"-87.8\">merge_2 (Merge)</text>\n",
       "</g>\n",
       "<!-- 140299777647896&#45;&gt;140299776750088 -->\n",
       "<g class=\"edge\" id=\"edge12\"><title>140299777647896-&gt;140299776750088</title>\n",
       "<path d=\"M231.964,-219.349C244.489,-210.258 257.886,-197.879 265,-183 274.397,-163.346 274.5,-138.453 272.617,-119.75\" fill=\"none\" stroke=\"black\"/>\n",
       "<polygon fill=\"black\" points=\"276.087,-119.294 271.374,-109.805 269.141,-120.162 276.087,-119.294\" stroke=\"black\"/>\n",
       "</g>\n",
       "<!-- 140299777648288&#45;&gt;140299777647896 -->\n",
       "<g class=\"edge\" id=\"edge3\"><title>140299777648288-&gt;140299777647896</title>\n",
       "<path d=\"M100.336,-292.494C118.652,-282.861 141.762,-270.707 161.415,-260.37\" fill=\"none\" stroke=\"black\"/>\n",
       "<polygon fill=\"black\" points=\"163.239,-263.366 170.46,-255.614 159.98,-257.171 163.239,-263.366\" stroke=\"black\"/>\n",
       "</g>\n",
       "<!-- 140299776850128 -->\n",
       "<g class=\"node\" id=\"node9\"><title>140299776850128</title>\n",
       "<polygon fill=\"none\" points=\"280.5,-292.5 280.5,-328.5 395.5,-328.5 395.5,-292.5 280.5,-292.5\" stroke=\"black\"/>\n",
       "<text font-family=\"Times,serif\" font-size=\"14.00\" text-anchor=\"middle\" x=\"338\" y=\"-306.8\">flatten_2 (Flatten)</text>\n",
       "</g>\n",
       "<!-- 140299777789736&#45;&gt;140299776850128 -->\n",
       "<g class=\"edge\" id=\"edge9\"><title>140299777789736-&gt;140299776850128</title>\n",
       "<path d=\"M338,-365.313C338,-357.289 338,-347.547 338,-338.569\" fill=\"none\" stroke=\"black\"/>\n",
       "<polygon fill=\"black\" points=\"341.5,-338.529 338,-328.529 334.5,-338.529 341.5,-338.529\" stroke=\"black\"/>\n",
       "</g>\n",
       "<!-- 140299777871824&#45;&gt;140299776689544 -->\n",
       "<g class=\"edge\" id=\"edge11\"><title>140299777871824-&gt;140299776689544</title>\n",
       "<path d=\"M180.102,-138.867C173.493,-131.758 166.286,-124.005 159.69,-116.909\" fill=\"none\" stroke=\"black\"/>\n",
       "<polygon fill=\"black\" points=\"177.651,-141.372 187.023,-146.313 182.778,-136.606 177.651,-141.372\" stroke=\"black\"/>\n",
       "<polygon fill=\"black\" points=\"162.202,-114.47 152.83,-109.529 157.075,-119.236 162.202,-114.47\" stroke=\"black\"/>\n",
       "</g>\n",
       "<!-- 140299777871824&#45;&gt;140299776750088 -->\n",
       "<g class=\"edge\" id=\"edge13\"><title>140299777871824-&gt;140299776750088</title>\n",
       "<path d=\"M218.735,-146.313C226.799,-137.505 236.759,-126.625 245.608,-116.958\" fill=\"none\" stroke=\"black\"/>\n",
       "<polygon fill=\"black\" points=\"248.239,-119.268 252.41,-109.529 243.076,-114.541 248.239,-119.268\" stroke=\"black\"/>\n",
       "</g>\n",
       "<!-- 140299776850128&#45;&gt;140299777647896 -->\n",
       "<g class=\"edge\" id=\"edge4\"><title>140299776850128-&gt;140299777647896</title>\n",
       "<path d=\"M305.664,-292.494C287.348,-282.861 264.238,-270.707 244.585,-260.37\" fill=\"none\" stroke=\"black\"/>\n",
       "<polygon fill=\"black\" points=\"246.02,-257.171 235.54,-255.614 242.761,-263.366 246.02,-257.171\" stroke=\"black\"/>\n",
       "</g>\n",
       "<!-- 140299777786992 -->\n",
       "<g class=\"node\" id=\"node12\"><title>140299777786992</title>\n",
       "<polygon fill=\"none\" points=\"153,-0.5 153,-36.5 251,-36.5 251,-0.5 153,-0.5\" stroke=\"black\"/>\n",
       "<text font-family=\"Times,serif\" font-size=\"14.00\" text-anchor=\"middle\" x=\"202\" y=\"-14.8\">output (Dense)</text>\n",
       "</g>\n",
       "<!-- 140299776689544&#45;&gt;140299777786992 -->\n",
       "<g class=\"edge\" id=\"edge14\"><title>140299776689544-&gt;140299777786992</title>\n",
       "<path d=\"M152.735,-73.3129C160.799,-64.5046 170.759,-53.625 179.608,-43.9584\" fill=\"none\" stroke=\"black\"/>\n",
       "<polygon fill=\"black\" points=\"182.239,-46.2681 186.41,-36.5288 177.076,-41.5413 182.239,-46.2681\" stroke=\"black\"/>\n",
       "</g>\n",
       "<!-- 140299776750088&#45;&gt;140299777786992 -->\n",
       "<g class=\"edge\" id=\"edge15\"><title>140299776750088-&gt;140299777786992</title>\n",
       "<path d=\"M252.023,-73.3129C243.835,-64.5046 233.722,-53.625 224.736,-43.9584\" fill=\"none\" stroke=\"black\"/>\n",
       "<polygon fill=\"black\" points=\"227.202,-41.4702 217.83,-36.5288 222.075,-46.2361 227.202,-41.4702\" stroke=\"black\"/>\n",
       "</g>\n",
       "</g>\n",
       "</svg>"
      ],
      "text/plain": [
       "<IPython.core.display.SVG object>"
      ]
     },
     "execution_count": 24,
     "metadata": {},
     "output_type": "execute_result"
    }
   ],
   "source": [
    "SVG(model_to_dot(model).create(prog='dot', format='svg'))"
   ]
  },
  {
   "cell_type": "code",
   "execution_count": 25,
   "metadata": {
    "collapsed": false
   },
   "outputs": [
    {
     "data": {
      "text/plain": [
       "(12, 4)"
      ]
     },
     "execution_count": 25,
     "metadata": {},
     "output_type": "execute_result"
    }
   ],
   "source": [
    "zeros = np.tile(np.zeros(n_fac), (len(xs[0]),1))\n",
    "zeros.shape"
   ]
  },
  {
   "cell_type": "code",
   "execution_count": 26,
   "metadata": {
    "collapsed": false
   },
   "outputs": [
    {
     "name": "stdout",
     "output_type": "stream",
     "text": [
      "Epoch 1/100\n",
      "12/12 [==============================] - 0s - loss: 6.5480 - output_loss_1: 3.2700 - output_loss_2: 3.2780     \n",
      "Epoch 2/100\n",
      "12/12 [==============================] - 0s - loss: 6.4901 - output_loss_1: 3.2624 - output_loss_2: 3.2278     \n",
      "Epoch 3/100\n",
      "12/12 [==============================] - 0s - loss: 6.4340 - output_loss_1: 3.2640 - output_loss_2: 3.1699     \n",
      "Epoch 4/100\n",
      "12/12 [==============================] - 0s - loss: 6.3390 - output_loss_1: 3.2709 - output_loss_2: 3.0681     \n",
      "Epoch 5/100\n",
      "12/12 [==============================] - 0s - loss: 6.1957 - output_loss_1: 3.2998 - output_loss_2: 2.8959     \n",
      "Epoch 6/100\n",
      "12/12 [==============================] - 0s - loss: 6.0324 - output_loss_1: 3.3398 - output_loss_2: 2.6925     \n",
      "Epoch 7/100\n",
      "12/12 [==============================] - 0s - loss: 5.9585 - output_loss_1: 3.3647 - output_loss_2: 2.5938     \n",
      "Epoch 8/100\n",
      "12/12 [==============================] - 0s - loss: 5.8588 - output_loss_1: 3.3417 - output_loss_2: 2.5170     \n",
      "Epoch 9/100\n",
      "12/12 [==============================] - 0s - loss: 5.7477 - output_loss_1: 3.3009 - output_loss_2: 2.4468     \n",
      "Epoch 10/100\n",
      "12/12 [==============================] - 0s - loss: 5.6502 - output_loss_1: 3.2713 - output_loss_2: 2.3789     \n",
      "Epoch 11/100\n",
      "12/12 [==============================] - 0s - loss: 5.5582 - output_loss_1: 3.2361 - output_loss_2: 2.3221     \n",
      "Epoch 12/100\n",
      "12/12 [==============================] - 0s - loss: 5.4092 - output_loss_1: 3.1894 - output_loss_2: 2.2198     \n",
      "Epoch 13/100\n",
      "12/12 [==============================] - 0s - loss: 5.2563 - output_loss_1: 3.1269 - output_loss_2: 2.1294     \n",
      "Epoch 14/100\n",
      "12/12 [==============================] - 0s - loss: 5.0889 - output_loss_1: 3.0512 - output_loss_2: 2.0377     \n",
      "Epoch 15/100\n",
      "12/12 [==============================] - 0s - loss: 4.9094 - output_loss_1: 2.9652 - output_loss_2: 1.9441     \n",
      "Epoch 16/100\n",
      "12/12 [==============================] - 0s - loss: 4.6871 - output_loss_1: 2.8599 - output_loss_2: 1.8272     \n",
      "Epoch 17/100\n",
      "12/12 [==============================] - 0s - loss: 4.4808 - output_loss_1: 2.7603 - output_loss_2: 1.7205     \n",
      "Epoch 18/100\n",
      "12/12 [==============================] - 0s - loss: 4.1605 - output_loss_1: 2.6523 - output_loss_2: 1.5081     \n",
      "Epoch 19/100\n",
      "12/12 [==============================] - 0s - loss: 3.9751 - output_loss_1: 2.5394 - output_loss_2: 1.4358     \n",
      "Epoch 20/100\n",
      "12/12 [==============================] - 0s - loss: 3.7088 - output_loss_1: 2.4116 - output_loss_2: 1.2972     \n",
      "Epoch 21/100\n",
      "12/12 [==============================] - 0s - loss: 3.5034 - output_loss_1: 2.3134 - output_loss_2: 1.1900     \n",
      "Epoch 22/100\n",
      "12/12 [==============================] - 0s - loss: 3.1881 - output_loss_1: 2.1943 - output_loss_2: 0.9938     \n",
      "Epoch 23/100\n",
      "12/12 [==============================] - 0s - loss: 2.9835 - output_loss_1: 2.0839 - output_loss_2: 0.8996     \n",
      "Epoch 24/100\n",
      "12/12 [==============================] - 0s - loss: 2.7493 - output_loss_1: 1.9689 - output_loss_2: 0.7804     \n",
      "Epoch 25/100\n",
      "12/12 [==============================] - 0s - loss: 2.5684 - output_loss_1: 1.8759 - output_loss_2: 0.6926     \n",
      "Epoch 26/100\n",
      "12/12 [==============================] - 0s - loss: 2.3476 - output_loss_1: 1.7707 - output_loss_2: 0.5769     \n",
      "Epoch 27/100\n",
      "12/12 [==============================] - 0s - loss: 2.1753 - output_loss_1: 1.6874 - output_loss_2: 0.4879     \n",
      "Epoch 28/100\n",
      "12/12 [==============================] - 0s - loss: 2.0047 - output_loss_1: 1.6022 - output_loss_2: 0.4025     \n",
      "Epoch 29/100\n",
      "12/12 [==============================] - 0s - loss: 1.8456 - output_loss_1: 1.5214 - output_loss_2: 0.3242     \n",
      "Epoch 30/100\n",
      "12/12 [==============================] - 0s - loss: 1.7129 - output_loss_1: 1.4496 - output_loss_2: 0.2633     \n",
      "Epoch 31/100\n",
      "12/12 [==============================] - 0s - loss: 1.6072 - output_loss_1: 1.3870 - output_loss_2: 0.2202     \n",
      "Epoch 32/100\n",
      "12/12 [==============================] - 0s - loss: 1.5044 - output_loss_1: 1.3160 - output_loss_2: 0.1884     \n",
      "Epoch 33/100\n",
      "12/12 [==============================] - 0s - loss: 1.4168 - output_loss_1: 1.2592 - output_loss_2: 0.1576     \n",
      "Epoch 34/100\n",
      "12/12 [==============================] - 0s - loss: 1.3379 - output_loss_1: 1.2081 - output_loss_2: 0.1298     \n",
      "Epoch 35/100\n",
      "12/12 [==============================] - 0s - loss: 1.2953 - output_loss_1: 1.1707 - output_loss_2: 0.1246     \n",
      "Epoch 36/100\n",
      "12/12 [==============================] - 0s - loss: 1.2080 - output_loss_1: 1.1081 - output_loss_2: 0.0999     \n",
      "Epoch 37/100\n",
      "12/12 [==============================] - 0s - loss: 1.1699 - output_loss_1: 1.0790 - output_loss_2: 0.0909     \n",
      "Epoch 38/100\n",
      "12/12 [==============================] - 0s - loss: 1.0864 - output_loss_1: 1.0150 - output_loss_2: 0.0715     \n",
      "Epoch 39/100\n",
      "12/12 [==============================] - 0s - loss: 1.0576 - output_loss_1: 0.9878 - output_loss_2: 0.0698     \n",
      "Epoch 40/100\n",
      "12/12 [==============================] - 0s - loss: 1.0205 - output_loss_1: 0.9610 - output_loss_2: 0.0595     \n",
      "Epoch 41/100\n",
      "12/12 [==============================] - 0s - loss: 0.9785 - output_loss_1: 0.9268 - output_loss_2: 0.0517     \n",
      "Epoch 42/100\n",
      "12/12 [==============================] - 0s - loss: 0.9455 - output_loss_1: 0.8961 - output_loss_2: 0.0494     \n",
      "Epoch 43/100\n",
      "12/12 [==============================] - 0s - loss: 0.9045 - output_loss_1: 0.8609 - output_loss_2: 0.0436     \n",
      "Epoch 44/100\n",
      "12/12 [==============================] - 0s - loss: 0.8537 - output_loss_1: 0.8153 - output_loss_2: 0.0383     \n",
      "Epoch 45/100\n",
      "12/12 [==============================] - 0s - loss: 0.8317 - output_loss_1: 0.7974 - output_loss_2: 0.0343     \n",
      "Epoch 46/100\n",
      "12/12 [==============================] - 0s - loss: 0.8100 - output_loss_1: 0.7774 - output_loss_2: 0.0326     \n",
      "Epoch 47/100\n",
      "12/12 [==============================] - 0s - loss: 0.7738 - output_loss_1: 0.7456 - output_loss_2: 0.0282     \n",
      "Epoch 48/100\n",
      "12/12 [==============================] - 0s - loss: 0.7264 - output_loss_1: 0.7018 - output_loss_2: 0.0246     \n",
      "Epoch 49/100\n",
      "12/12 [==============================] - 0s - loss: 0.7213 - output_loss_1: 0.6981 - output_loss_2: 0.0232     \n",
      "Epoch 50/100\n",
      "12/12 [==============================] - 0s - loss: 0.7010 - output_loss_1: 0.6796 - output_loss_2: 0.0214     \n",
      "Epoch 51/100\n",
      "12/12 [==============================] - 0s - loss: 0.6712 - output_loss_1: 0.6516 - output_loss_2: 0.0196     \n",
      "Epoch 52/100\n",
      "12/12 [==============================] - 0s - loss: 0.6434 - output_loss_1: 0.6254 - output_loss_2: 0.0180     \n",
      "Epoch 53/100\n",
      "12/12 [==============================] - 0s - loss: 0.6395 - output_loss_1: 0.6227 - output_loss_2: 0.0168     \n",
      "Epoch 54/100\n",
      "12/12 [==============================] - 0s - loss: 0.6026 - output_loss_1: 0.5873 - output_loss_2: 0.0153     \n",
      "Epoch 55/100\n",
      "12/12 [==============================] - 0s - loss: 0.5781 - output_loss_1: 0.5644 - output_loss_2: 0.0138     \n",
      "Epoch 56/100\n",
      "12/12 [==============================] - 0s - loss: 0.5515 - output_loss_1: 0.5386 - output_loss_2: 0.0129     \n",
      "Epoch 57/100\n",
      "12/12 [==============================] - 0s - loss: 0.5578 - output_loss_1: 0.5455 - output_loss_2: 0.0123     \n",
      "Epoch 58/100\n",
      "12/12 [==============================] - 0s - loss: 0.5540 - output_loss_1: 0.5427 - output_loss_2: 0.0113     \n",
      "Epoch 59/100\n",
      "12/12 [==============================] - 0s - loss: 0.5392 - output_loss_1: 0.5284 - output_loss_2: 0.0108     \n",
      "Epoch 60/100\n",
      "12/12 [==============================] - 0s - loss: 0.4977 - output_loss_1: 0.4878 - output_loss_2: 0.0099     \n",
      "Epoch 61/100\n",
      "12/12 [==============================] - 0s - loss: 0.4960 - output_loss_1: 0.4866 - output_loss_2: 0.0094     \n",
      "Epoch 62/100\n",
      "12/12 [==============================] - 0s - loss: 0.4649 - output_loss_1: 0.4564 - output_loss_2: 0.0086     \n",
      "Epoch 63/100\n",
      "12/12 [==============================] - 0s - loss: 0.4420 - output_loss_1: 0.4340 - output_loss_2: 0.0080     \n",
      "Epoch 64/100\n",
      "12/12 [==============================] - 0s - loss: 0.4429 - output_loss_1: 0.4353 - output_loss_2: 0.0076     \n",
      "Epoch 65/100\n",
      "12/12 [==============================] - 0s - loss: 0.4394 - output_loss_1: 0.4323 - output_loss_2: 0.0071     \n",
      "Epoch 66/100\n",
      "12/12 [==============================] - 0s - loss: 0.4126 - output_loss_1: 0.4060 - output_loss_2: 0.0066     \n",
      "Epoch 67/100\n",
      "12/12 [==============================] - 0s - loss: 0.4321 - output_loss_1: 0.4256 - output_loss_2: 0.0065     \n",
      "Epoch 68/100\n",
      "12/12 [==============================] - 0s - loss: 0.3937 - output_loss_1: 0.3877 - output_loss_2: 0.0060     \n",
      "Epoch 69/100\n",
      "12/12 [==============================] - 0s - loss: 0.3896 - output_loss_1: 0.3839 - output_loss_2: 0.0057     \n",
      "Epoch 70/100\n",
      "12/12 [==============================] - 0s - loss: 0.3871 - output_loss_1: 0.3817 - output_loss_2: 0.0054     \n",
      "Epoch 71/100\n",
      "12/12 [==============================] - 0s - loss: 0.3614 - output_loss_1: 0.3564 - output_loss_2: 0.0050     \n",
      "Epoch 72/100\n",
      "12/12 [==============================] - 0s - loss: 0.3624 - output_loss_1: 0.3576 - output_loss_2: 0.0048     \n",
      "Epoch 73/100\n",
      "12/12 [==============================] - 0s - loss: 0.3366 - output_loss_1: 0.3321 - output_loss_2: 0.0045     \n",
      "Epoch 74/100\n",
      "12/12 [==============================] - 0s - loss: 0.3315 - output_loss_1: 0.3272 - output_loss_2: 0.0043     \n",
      "Epoch 75/100\n",
      "12/12 [==============================] - 0s - loss: 0.3295 - output_loss_1: 0.3254 - output_loss_2: 0.0041     \n",
      "Epoch 76/100\n",
      "12/12 [==============================] - 0s - loss: 0.3200 - output_loss_1: 0.3161 - output_loss_2: 0.0039     \n",
      "Epoch 77/100\n",
      "12/12 [==============================] - 0s - loss: 0.3160 - output_loss_1: 0.3123 - output_loss_2: 0.0037     \n",
      "Epoch 78/100\n",
      "12/12 [==============================] - 0s - loss: 0.3145 - output_loss_1: 0.3109 - output_loss_2: 0.0035     \n",
      "Epoch 79/100\n",
      "12/12 [==============================] - 0s - loss: 0.3049 - output_loss_1: 0.3015 - output_loss_2: 0.0034     \n",
      "Epoch 80/100\n",
      "12/12 [==============================] - 0s - loss: 0.2872 - output_loss_1: 0.2840 - output_loss_2: 0.0032     \n",
      "Epoch 81/100\n",
      "12/12 [==============================] - 0s - loss: 0.2924 - output_loss_1: 0.2893 - output_loss_2: 0.0031     \n",
      "Epoch 82/100\n",
      "12/12 [==============================] - 0s - loss: 0.2773 - output_loss_1: 0.2744 - output_loss_2: 0.0029     \n",
      "Epoch 83/100\n",
      "12/12 [==============================] - 0s - loss: 0.2789 - output_loss_1: 0.2761 - output_loss_2: 0.0028     \n",
      "Epoch 84/100\n",
      "12/12 [==============================] - 0s - loss: 0.2614 - output_loss_1: 0.2587 - output_loss_2: 0.0027     \n",
      "Epoch 85/100\n",
      "12/12 [==============================] - 0s - loss: 0.2663 - output_loss_1: 0.2638 - output_loss_2: 0.0025     \n",
      "Epoch 86/100\n",
      "12/12 [==============================] - 0s - loss: 0.2615 - output_loss_1: 0.2591 - output_loss_2: 0.0024     \n",
      "Epoch 87/100\n",
      "12/12 [==============================] - 0s - loss: 0.2556 - output_loss_1: 0.2533 - output_loss_2: 0.0023     \n",
      "Epoch 88/100\n",
      "12/12 [==============================] - 0s - loss: 0.2542 - output_loss_1: 0.2520 - output_loss_2: 0.0023     \n",
      "Epoch 89/100\n",
      "12/12 [==============================] - 0s - loss: 0.2596 - output_loss_1: 0.2574 - output_loss_2: 0.0022     \n",
      "Epoch 90/100\n",
      "12/12 [==============================] - 0s - loss: 0.2389 - output_loss_1: 0.2368 - output_loss_2: 0.0021     \n",
      "Epoch 91/100\n",
      "12/12 [==============================] - 0s - loss: 0.2531 - output_loss_1: 0.2511 - output_loss_2: 0.0021     \n",
      "Epoch 92/100\n",
      "12/12 [==============================] - 0s - loss: 0.2267 - output_loss_1: 0.2248 - output_loss_2: 0.0019     \n",
      "Epoch 93/100\n",
      "12/12 [==============================] - 0s - loss: 0.2330 - output_loss_1: 0.2311 - output_loss_2: 0.0019     \n",
      "Epoch 94/100\n",
      "12/12 [==============================] - 0s - loss: 0.2454 - output_loss_1: 0.2436 - output_loss_2: 0.0018     \n",
      "Epoch 95/100\n",
      "12/12 [==============================] - 0s - loss: 0.2232 - output_loss_1: 0.2214 - output_loss_2: 0.0017     \n",
      "Epoch 96/100\n",
      "12/12 [==============================] - 0s - loss: 0.2114 - output_loss_1: 0.2097 - output_loss_2: 0.0017     \n",
      "Epoch 97/100\n",
      "12/12 [==============================] - 0s - loss: 0.2136 - output_loss_1: 0.2120 - output_loss_2: 0.0016     \n",
      "Epoch 98/100\n",
      "12/12 [==============================] - 0s - loss: 0.2138 - output_loss_1: 0.2122 - output_loss_2: 0.0016     \n",
      "Epoch 99/100\n",
      "12/12 [==============================] - 0s - loss: 0.2075 - output_loss_1: 0.2059 - output_loss_2: 0.0015     \n",
      "Epoch 100/100\n",
      "12/12 [==============================] - 0s - loss: 0.1992 - output_loss_1: 0.1977 - output_loss_2: 0.0015     \n"
     ]
    },
    {
     "data": {
      "text/plain": [
       "<keras.callbacks.History at 0x7f9a0bf72978>"
      ]
     },
     "execution_count": 26,
     "metadata": {},
     "output_type": "execute_result"
    }
   ],
   "source": [
    "model.fit([zeros]+xs, ys, batch_size=1, nb_epoch=100)"
   ]
  },
  {
   "cell_type": "code",
   "execution_count": 30,
   "metadata": {
    "collapsed": true
   },
   "outputs": [],
   "source": [
    "model.save('./models/dev_fast_ai_returning_sequences.h5')"
   ]
  },
  {
   "cell_type": "markdown",
   "metadata": {},
   "source": [
    "### Test model"
   ]
  },
  {
   "cell_type": "code",
   "execution_count": 27,
   "metadata": {
    "collapsed": true
   },
   "outputs": [],
   "source": [
    "def get_next(inp):\n",
    "    idxs = [corpora.token2id[c] for c in inp]\n",
    "    print(idxs)\n",
    "    arrs = [np.array(i)[np.newaxis] for i in idxs]\n",
    "    print(arrs)\n",
    "    \n",
    "    p = model.predict(arrs)\n",
    "    print(p.shape)\n",
    "    i_max1 = np.argmax(p)\n",
    "    p[0,i_max1] = 0\n",
    "    i_max2 = np.argmax(p)\n",
    "    p[0,i_max2] = 0\n",
    "    i_max3 = np.argmax(p)\n",
    "\n",
    "    \n",
    "    return corpora.id2token[i_max1], corpora.id2token[i_max2], corpora.id2token[i_max3]"
   ]
  },
  {
   "cell_type": "code",
   "execution_count": 28,
   "metadata": {
    "collapsed": true
   },
   "outputs": [],
   "source": [
    "def get_next(inp):\n",
    "    idxs = [corpora.token2id[c] for c in inp]\n",
    "    arrs = [np.array(i)[np.newaxis] for i in idxs]\n",
    "    p = model.predict([np.zeros(n_fac)[np.newaxis,:]] + arrs)\n",
    "    print(list(inp))\n",
    "    return [corpora.id2token[np.argmax(o)] for o in p]"
   ]
  },
  {
   "cell_type": "code",
   "execution_count": 29,
   "metadata": {
    "collapsed": false
   },
   "outputs": [
    {
     "name": "stdout",
     "output_type": "stream",
     "text": [
      "['One', 'two']\n"
     ]
    },
    {
     "data": {
      "text/plain": [
       "['two', 'three']"
      ]
     },
     "execution_count": 29,
     "metadata": {},
     "output_type": "execute_result"
    }
   ],
   "source": [
    "get_next(['One', 'two'])"
   ]
  },
  {
   "cell_type": "code",
   "execution_count": null,
   "metadata": {
    "collapsed": true
   },
   "outputs": [],
   "source": []
  }
 ],
 "metadata": {
  "kernelspec": {
   "display_name": "Python 3",
   "language": "python",
   "name": "python3"
  },
  "language_info": {
   "codemirror_mode": {
    "name": "ipython",
    "version": 3
   },
   "file_extension": ".py",
   "mimetype": "text/x-python",
   "name": "python",
   "nbconvert_exporter": "python",
   "pygments_lexer": "ipython3",
   "version": "3.5.2"
  }
 },
 "nbformat": 4,
 "nbformat_minor": 1
}
