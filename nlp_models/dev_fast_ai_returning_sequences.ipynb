{
 "cells": [
  {
   "cell_type": "code",
   "execution_count": 49,
   "metadata": {
    "collapsed": false
   },
   "outputs": [],
   "source": [
    "import numpy as np\n",
    "import gensim\n",
    "from keras.models import Sequential, Model\n",
    "from keras.layers import Dense, LSTM, Input, Embedding, Flatten, merge\n",
    "from keras.optimizers import Adam\n",
    "from keras.utils import np_utils\n",
    "from IPython.display import SVG\n",
    "from keras.utils.visualize_util import plot\n",
    "from keras.utils.visualize_util import model_to_dot\n",
    "from keras.preprocessing.sequence import pad_sequences\n",
    "from keras.callbacks import ModelCheckpoint\n",
    "import pickle"
   ]
  },
  {
   "cell_type": "code",
   "execution_count": 50,
   "metadata": {
    "collapsed": false
   },
   "outputs": [
    {
     "name": "stdout",
     "output_type": "stream",
     "text": [
      "Number of words in corpora: 25\n"
     ]
    }
   ],
   "source": [
    "corpora = gensim.corpora.Dictionary.load('./data/corpora.dat')\n",
    "vocab_size = len(corpora)\n",
    "print('Number of words in corpora: %d'%(vocab_size))"
   ]
  },
  {
   "cell_type": "code",
   "execution_count": 51,
   "metadata": {
    "collapsed": true
   },
   "outputs": [],
   "source": [
    "tmp = list(corpora.items())"
   ]
  },
  {
   "cell_type": "code",
   "execution_count": 52,
   "metadata": {
    "collapsed": true
   },
   "outputs": [],
   "source": [
    "#the_filename = './data/wonderland.txt.dat'\n",
    "the_filename = './data/test.txt.dat'\n",
    "with open(the_filename, 'rb') as f:\n",
    "    text = pickle.load(f)"
   ]
  },
  {
   "cell_type": "markdown",
   "metadata": {},
   "source": [
    "### Generate words patterns - 2 words model"
   ]
  },
  {
   "cell_type": "code",
   "execution_count": 53,
   "metadata": {
    "collapsed": true
   },
   "outputs": [],
   "source": [
    "cs=2"
   ]
  },
  {
   "cell_type": "code",
   "execution_count": 54,
   "metadata": {
    "collapsed": true
   },
   "outputs": [],
   "source": [
    "c_in_dat = [[text[i+n] for i in range(0, len(text)-1-cs, cs)]\n",
    "            for n in range(cs)]"
   ]
  },
  {
   "cell_type": "code",
   "execution_count": 55,
   "metadata": {
    "collapsed": true
   },
   "outputs": [],
   "source": [
    "xs = [np.stack(c[:-2]) for c in c_in_dat]"
   ]
  },
  {
   "cell_type": "code",
   "execution_count": 56,
   "metadata": {
    "collapsed": false
   },
   "outputs": [],
   "source": [
    "c_out_dat = [[text[i+n] for i in range(1, len(text)-cs, cs)]\n",
    "            for n in range(cs)]"
   ]
  },
  {
   "cell_type": "code",
   "execution_count": 57,
   "metadata": {
    "collapsed": true
   },
   "outputs": [],
   "source": [
    "ys = [np.stack(c[:-2]) for c in c_out_dat]"
   ]
  },
  {
   "cell_type": "code",
   "execution_count": 58,
   "metadata": {
    "collapsed": false
   },
   "outputs": [
    {
     "data": {
      "text/plain": [
       "[array([1, 3]), array([0, 2])]"
      ]
     },
     "execution_count": 58,
     "metadata": {},
     "output_type": "execute_result"
    }
   ],
   "source": [
    "[xs[n][:cs] for n in range(cs)]"
   ]
  },
  {
   "cell_type": "code",
   "execution_count": 59,
   "metadata": {
    "collapsed": false
   },
   "outputs": [
    {
     "data": {
      "text/plain": [
       "[array([0, 2]), array([3, 8])]"
      ]
     },
     "execution_count": 59,
     "metadata": {},
     "output_type": "execute_result"
    }
   ],
   "source": [
    "[ys[n][:cs] for n in range(cs)]"
   ]
  },
  {
   "cell_type": "markdown",
   "metadata": {},
   "source": [
    "### Create and train model"
   ]
  },
  {
   "cell_type": "code",
   "execution_count": 60,
   "metadata": {
    "collapsed": true
   },
   "outputs": [],
   "source": [
    "n_hidden = 256\n",
    "n_fac = 4"
   ]
  },
  {
   "cell_type": "code",
   "execution_count": 61,
   "metadata": {
    "collapsed": true
   },
   "outputs": [],
   "source": [
    "def embedding_input(name, n_in, n_out):\n",
    "    inp = Input(shape=(1,), dtype='int64', name=name+'_in')\n",
    "    emb = Embedding(n_in, n_out, input_length=1, name=name+'_emb')(inp)\n",
    "    return inp, Flatten()(emb)"
   ]
  },
  {
   "cell_type": "code",
   "execution_count": 62,
   "metadata": {
    "collapsed": false
   },
   "outputs": [],
   "source": [
    "c_ins = [embedding_input('c'+str(n), vocab_size, n_fac) for n in range(cs)]"
   ]
  },
  {
   "cell_type": "code",
   "execution_count": 63,
   "metadata": {
    "collapsed": false
   },
   "outputs": [],
   "source": [
    "dense_in = Dense(n_hidden, activation='relu')\n",
    "dense_hidden = Dense(n_hidden, activation='relu', init='identity')\n",
    "dense_out = Dense(vocab_size, activation='softmax', name='output')"
   ]
  },
  {
   "cell_type": "code",
   "execution_count": 64,
   "metadata": {
    "collapsed": false
   },
   "outputs": [],
   "source": [
    "# We're going to pass a vector of all zeros as our starting point - here's our input layers for that:\n",
    "inp1 = Input(shape=(n_fac,), name='zeros')\n",
    "hidden = dense_in(inp1)"
   ]
  },
  {
   "cell_type": "code",
   "execution_count": 65,
   "metadata": {
    "collapsed": false
   },
   "outputs": [],
   "source": [
    "outs = []\n",
    "\n",
    "for i in range(cs):\n",
    "    c_dense = dense_in(c_ins[i][1])\n",
    "    hidden = dense_hidden(hidden)\n",
    "    hidden = merge([c_dense, hidden], mode='sum')\n",
    "    # every layer now has an output\n",
    "    outs.append(dense_out(hidden))"
   ]
  },
  {
   "cell_type": "code",
   "execution_count": 66,
   "metadata": {
    "collapsed": true
   },
   "outputs": [],
   "source": [
    "model = Model([inp1] + [c[0] for c in c_ins], outs)\n",
    "model.compile(loss='sparse_categorical_crossentropy', optimizer=Adam())"
   ]
  },
  {
   "cell_type": "code",
   "execution_count": 67,
   "metadata": {
    "collapsed": false
   },
   "outputs": [
    {
     "name": "stdout",
     "output_type": "stream",
     "text": [
      "____________________________________________________________________________________________________\n",
      "Layer (type)                     Output Shape          Param #     Connected to                     \n",
      "====================================================================================================\n",
      "c0_in (InputLayer)               (None, 1)             0                                            \n",
      "____________________________________________________________________________________________________\n",
      "c0_emb (Embedding)               (None, 1, 4)          100         c0_in[0][0]                      \n",
      "____________________________________________________________________________________________________\n",
      "zeros (InputLayer)               (None, 4)             0                                            \n",
      "____________________________________________________________________________________________________\n",
      "c1_in (InputLayer)               (None, 1)             0                                            \n",
      "____________________________________________________________________________________________________\n",
      "dense_9 (Dense)                  (None, 256)           1280        zeros[0][0]                      \n",
      "                                                                   flatten_3[0][0]                  \n",
      "                                                                   flatten_4[0][0]                  \n",
      "____________________________________________________________________________________________________\n",
      "flatten_3 (Flatten)              (None, 4)             0           c0_emb[0][0]                     \n",
      "____________________________________________________________________________________________________\n",
      "c1_emb (Embedding)               (None, 1, 4)          100         c1_in[0][0]                      \n",
      "____________________________________________________________________________________________________\n",
      "dense_10 (Dense)                 (None, 256)           65792       dense_9[0][0]                    \n",
      "                                                                   merge_3[0][0]                    \n",
      "____________________________________________________________________________________________________\n",
      "flatten_4 (Flatten)              (None, 4)             0           c1_emb[0][0]                     \n",
      "____________________________________________________________________________________________________\n",
      "merge_3 (Merge)                  (None, 256)           0           dense_9[1][0]                    \n",
      "                                                                   dense_10[0][0]                   \n",
      "____________________________________________________________________________________________________\n",
      "merge_4 (Merge)                  (None, 256)           0           dense_9[2][0]                    \n",
      "                                                                   dense_10[1][0]                   \n",
      "____________________________________________________________________________________________________\n",
      "output (Dense)                   (None, 25)            6425        merge_3[0][0]                    \n",
      "                                                                   merge_4[0][0]                    \n",
      "====================================================================================================\n",
      "Total params: 73697\n",
      "____________________________________________________________________________________________________\n"
     ]
    }
   ],
   "source": [
    "model.summary()"
   ]
  },
  {
   "cell_type": "code",
   "execution_count": 68,
   "metadata": {
    "collapsed": false
   },
   "outputs": [
    {
     "data": {
      "image/svg+xml": [
       "<svg height=\"483pt\" viewBox=\"0.00 0.00 414.00 483.00\" width=\"414pt\" xmlns=\"http://www.w3.org/2000/svg\" xmlns:xlink=\"http://www.w3.org/1999/xlink\">\n",
       "<g class=\"graph\" id=\"graph0\" transform=\"scale(1 1) rotate(0) translate(4 479)\">\n",
       "<title>G</title>\n",
       "<polygon fill=\"white\" points=\"-4,4 -4,-479 410,-479 410,4 -4,4\" stroke=\"none\"/>\n",
       "<!-- 140379995124680 -->\n",
       "<g class=\"node\" id=\"node1\"><title>140379995124680</title>\n",
       "<polygon fill=\"none\" points=\"8.5,-438.5 8.5,-474.5 127.5,-474.5 127.5,-438.5 8.5,-438.5\" stroke=\"black\"/>\n",
       "<text font-family=\"Times,serif\" font-size=\"14.00\" text-anchor=\"middle\" x=\"68\" y=\"-452.8\">c0_in (InputLayer)</text>\n",
       "</g>\n",
       "<!-- 140379995125016 -->\n",
       "<g class=\"node\" id=\"node2\"><title>140379995125016</title>\n",
       "<polygon fill=\"none\" points=\"0,-365.5 0,-401.5 136,-401.5 136,-365.5 0,-365.5\" stroke=\"black\"/>\n",
       "<text font-family=\"Times,serif\" font-size=\"14.00\" text-anchor=\"middle\" x=\"68\" y=\"-379.8\">c0_emb (Embedding)</text>\n",
       "</g>\n",
       "<!-- 140379995124680&#45;&gt;140379995125016 -->\n",
       "<g class=\"edge\" id=\"edge1\"><title>140379995124680-&gt;140379995125016</title>\n",
       "<path d=\"M68,-438.313C68,-430.289 68,-420.547 68,-411.569\" fill=\"none\" stroke=\"black\"/>\n",
       "<polygon fill=\"black\" points=\"71.5001,-411.529 68,-401.529 64.5001,-411.529 71.5001,-411.529\" stroke=\"black\"/>\n",
       "</g>\n",
       "<!-- 140380155453000 -->\n",
       "<g class=\"node\" id=\"node6\"><title>140380155453000</title>\n",
       "<polygon fill=\"none\" points=\"10.5,-292.5 10.5,-328.5 125.5,-328.5 125.5,-292.5 10.5,-292.5\" stroke=\"black\"/>\n",
       "<text font-family=\"Times,serif\" font-size=\"14.00\" text-anchor=\"middle\" x=\"68\" y=\"-306.8\">flatten_3 (Flatten)</text>\n",
       "</g>\n",
       "<!-- 140379995125016&#45;&gt;140380155453000 -->\n",
       "<g class=\"edge\" id=\"edge5\"><title>140379995125016-&gt;140380155453000</title>\n",
       "<path d=\"M68,-365.313C68,-357.289 68,-347.547 68,-338.569\" fill=\"none\" stroke=\"black\"/>\n",
       "<polygon fill=\"black\" points=\"71.5001,-338.529 68,-328.529 64.5001,-338.529 71.5001,-338.529\" stroke=\"black\"/>\n",
       "</g>\n",
       "<!-- 140379995106944 -->\n",
       "<g class=\"node\" id=\"node3\"><title>140379995106944</title>\n",
       "<polygon fill=\"none\" points=\"144,-292.5 144,-328.5 262,-328.5 262,-292.5 144,-292.5\" stroke=\"black\"/>\n",
       "<text font-family=\"Times,serif\" font-size=\"14.00\" text-anchor=\"middle\" x=\"203\" y=\"-306.8\">zeros (InputLayer)</text>\n",
       "</g>\n",
       "<!-- 140379995231400 -->\n",
       "<g class=\"node\" id=\"node5\"><title>140379995231400</title>\n",
       "<polygon fill=\"none\" points=\"149.5,-219.5 149.5,-255.5 256.5,-255.5 256.5,-219.5 149.5,-219.5\" stroke=\"black\"/>\n",
       "<text font-family=\"Times,serif\" font-size=\"14.00\" text-anchor=\"middle\" x=\"203\" y=\"-233.8\">dense_9 (Dense)</text>\n",
       "</g>\n",
       "<!-- 140379995106944&#45;&gt;140379995231400 -->\n",
       "<g class=\"edge\" id=\"edge2\"><title>140379995106944-&gt;140379995231400</title>\n",
       "<path d=\"M203,-292.313C203,-284.289 203,-274.547 203,-265.569\" fill=\"none\" stroke=\"black\"/>\n",
       "<polygon fill=\"black\" points=\"206.5,-265.529 203,-255.529 199.5,-265.529 206.5,-265.529\" stroke=\"black\"/>\n",
       "</g>\n",
       "<!-- 140379995063408 -->\n",
       "<g class=\"node\" id=\"node4\"><title>140379995063408</title>\n",
       "<polygon fill=\"none\" points=\"278.5,-438.5 278.5,-474.5 397.5,-474.5 397.5,-438.5 278.5,-438.5\" stroke=\"black\"/>\n",
       "<text font-family=\"Times,serif\" font-size=\"14.00\" text-anchor=\"middle\" x=\"338\" y=\"-452.8\">c1_in (InputLayer)</text>\n",
       "</g>\n",
       "<!-- 140379995104760 -->\n",
       "<g class=\"node\" id=\"node7\"><title>140379995104760</title>\n",
       "<polygon fill=\"none\" points=\"270,-365.5 270,-401.5 406,-401.5 406,-365.5 270,-365.5\" stroke=\"black\"/>\n",
       "<text font-family=\"Times,serif\" font-size=\"14.00\" text-anchor=\"middle\" x=\"338\" y=\"-379.8\">c1_emb (Embedding)</text>\n",
       "</g>\n",
       "<!-- 140379995063408&#45;&gt;140379995104760 -->\n",
       "<g class=\"edge\" id=\"edge6\"><title>140379995063408-&gt;140379995104760</title>\n",
       "<path d=\"M338,-438.313C338,-430.289 338,-420.547 338,-411.569\" fill=\"none\" stroke=\"black\"/>\n",
       "<polygon fill=\"black\" points=\"341.5,-411.529 338,-401.529 334.5,-411.529 341.5,-411.529\" stroke=\"black\"/>\n",
       "</g>\n",
       "<!-- 140379995231456 -->\n",
       "<g class=\"node\" id=\"node8\"><title>140379995231456</title>\n",
       "<polygon fill=\"none\" points=\"146,-146.5 146,-182.5 260,-182.5 260,-146.5 146,-146.5\" stroke=\"black\"/>\n",
       "<text font-family=\"Times,serif\" font-size=\"14.00\" text-anchor=\"middle\" x=\"203\" y=\"-160.8\">dense_10 (Dense)</text>\n",
       "</g>\n",
       "<!-- 140379995231400&#45;&gt;140379995231456 -->\n",
       "<g class=\"edge\" id=\"edge7\"><title>140379995231400-&gt;140379995231456</title>\n",
       "<path d=\"M203,-219.313C203,-211.289 203,-201.547 203,-192.569\" fill=\"none\" stroke=\"black\"/>\n",
       "<polygon fill=\"black\" points=\"206.5,-192.529 203,-182.529 199.5,-192.529 206.5,-192.529\" stroke=\"black\"/>\n",
       "</g>\n",
       "<!-- 140379994745880 -->\n",
       "<g class=\"node\" id=\"node10\"><title>140379994745880</title>\n",
       "<polygon fill=\"none\" points=\"80.5,-73.5 80.5,-109.5 193.5,-109.5 193.5,-73.5 80.5,-73.5\" stroke=\"black\"/>\n",
       "<text font-family=\"Times,serif\" font-size=\"14.00\" text-anchor=\"middle\" x=\"137\" y=\"-87.8\">merge_3 (Merge)</text>\n",
       "</g>\n",
       "<!-- 140379995231400&#45;&gt;140379994745880 -->\n",
       "<g class=\"edge\" id=\"edge10\"><title>140379995231400-&gt;140379994745880</title>\n",
       "<path d=\"M171.286,-219.389C158.115,-210.448 144.235,-198.179 137,-183 127.632,-163.346 128.406,-138.452 131.087,-119.75\" fill=\"none\" stroke=\"black\"/>\n",
       "<polygon fill=\"black\" points=\"134.552,-120.249 132.771,-109.805 127.65,-119.08 134.552,-120.249\" stroke=\"black\"/>\n",
       "</g>\n",
       "<!-- 140379994810128 -->\n",
       "<g class=\"node\" id=\"node11\"><title>140379994810128</title>\n",
       "<polygon fill=\"none\" points=\"211.5,-73.5 211.5,-109.5 324.5,-109.5 324.5,-73.5 211.5,-73.5\" stroke=\"black\"/>\n",
       "<text font-family=\"Times,serif\" font-size=\"14.00\" text-anchor=\"middle\" x=\"268\" y=\"-87.8\">merge_4 (Merge)</text>\n",
       "</g>\n",
       "<!-- 140379995231400&#45;&gt;140379994810128 -->\n",
       "<g class=\"edge\" id=\"edge12\"><title>140379995231400-&gt;140379994810128</title>\n",
       "<path d=\"M234.714,-219.389C247.885,-210.448 261.765,-198.179 269,-183 278.369,-163.345 277.302,-138.451 274.352,-119.749\" fill=\"none\" stroke=\"black\"/>\n",
       "<polygon fill=\"black\" points=\"277.774,-119.004 272.518,-109.805 270.89,-120.274 277.774,-119.004\" stroke=\"black\"/>\n",
       "</g>\n",
       "<!-- 140380155453000&#45;&gt;140379995231400 -->\n",
       "<g class=\"edge\" id=\"edge3\"><title>140380155453000-&gt;140379995231400</title>\n",
       "<path d=\"M100.336,-292.494C118.652,-282.861 141.762,-270.707 161.415,-260.37\" fill=\"none\" stroke=\"black\"/>\n",
       "<polygon fill=\"black\" points=\"163.239,-263.366 170.46,-255.614 159.98,-257.171 163.239,-263.366\" stroke=\"black\"/>\n",
       "</g>\n",
       "<!-- 140379995209624 -->\n",
       "<g class=\"node\" id=\"node9\"><title>140379995209624</title>\n",
       "<polygon fill=\"none\" points=\"280.5,-292.5 280.5,-328.5 395.5,-328.5 395.5,-292.5 280.5,-292.5\" stroke=\"black\"/>\n",
       "<text font-family=\"Times,serif\" font-size=\"14.00\" text-anchor=\"middle\" x=\"338\" y=\"-306.8\">flatten_4 (Flatten)</text>\n",
       "</g>\n",
       "<!-- 140379995104760&#45;&gt;140379995209624 -->\n",
       "<g class=\"edge\" id=\"edge9\"><title>140379995104760-&gt;140379995209624</title>\n",
       "<path d=\"M338,-365.313C338,-357.289 338,-347.547 338,-338.569\" fill=\"none\" stroke=\"black\"/>\n",
       "<polygon fill=\"black\" points=\"341.5,-338.529 338,-328.529 334.5,-338.529 341.5,-338.529\" stroke=\"black\"/>\n",
       "</g>\n",
       "<!-- 140379995231456&#45;&gt;140379994745880 -->\n",
       "<g class=\"edge\" id=\"edge11\"><title>140379995231456-&gt;140379994745880</title>\n",
       "<path d=\"M180.102,-138.867C173.493,-131.758 166.286,-124.005 159.69,-116.909\" fill=\"none\" stroke=\"black\"/>\n",
       "<polygon fill=\"black\" points=\"177.651,-141.372 187.023,-146.313 182.778,-136.606 177.651,-141.372\" stroke=\"black\"/>\n",
       "<polygon fill=\"black\" points=\"162.202,-114.47 152.83,-109.529 157.075,-119.236 162.202,-114.47\" stroke=\"black\"/>\n",
       "</g>\n",
       "<!-- 140379995231456&#45;&gt;140379994810128 -->\n",
       "<g class=\"edge\" id=\"edge13\"><title>140379995231456-&gt;140379994810128</title>\n",
       "<path d=\"M218.735,-146.313C226.799,-137.505 236.759,-126.625 245.608,-116.958\" fill=\"none\" stroke=\"black\"/>\n",
       "<polygon fill=\"black\" points=\"248.239,-119.268 252.41,-109.529 243.076,-114.541 248.239,-119.268\" stroke=\"black\"/>\n",
       "</g>\n",
       "<!-- 140379995209624&#45;&gt;140379995231400 -->\n",
       "<g class=\"edge\" id=\"edge4\"><title>140379995209624-&gt;140379995231400</title>\n",
       "<path d=\"M305.664,-292.494C287.348,-282.861 264.238,-270.707 244.585,-260.37\" fill=\"none\" stroke=\"black\"/>\n",
       "<polygon fill=\"black\" points=\"246.02,-257.171 235.54,-255.614 242.761,-263.366 246.02,-257.171\" stroke=\"black\"/>\n",
       "</g>\n",
       "<!-- 140379995231568 -->\n",
       "<g class=\"node\" id=\"node12\"><title>140379995231568</title>\n",
       "<polygon fill=\"none\" points=\"153,-0.5 153,-36.5 251,-36.5 251,-0.5 153,-0.5\" stroke=\"black\"/>\n",
       "<text font-family=\"Times,serif\" font-size=\"14.00\" text-anchor=\"middle\" x=\"202\" y=\"-14.8\">output (Dense)</text>\n",
       "</g>\n",
       "<!-- 140379994745880&#45;&gt;140379995231568 -->\n",
       "<g class=\"edge\" id=\"edge14\"><title>140379994745880-&gt;140379995231568</title>\n",
       "<path d=\"M152.735,-73.3129C160.799,-64.5046 170.759,-53.625 179.608,-43.9584\" fill=\"none\" stroke=\"black\"/>\n",
       "<polygon fill=\"black\" points=\"182.239,-46.2681 186.41,-36.5288 177.076,-41.5413 182.239,-46.2681\" stroke=\"black\"/>\n",
       "</g>\n",
       "<!-- 140379994810128&#45;&gt;140379995231568 -->\n",
       "<g class=\"edge\" id=\"edge15\"><title>140379994810128-&gt;140379995231568</title>\n",
       "<path d=\"M252.023,-73.3129C243.835,-64.5046 233.722,-53.625 224.736,-43.9584\" fill=\"none\" stroke=\"black\"/>\n",
       "<polygon fill=\"black\" points=\"227.202,-41.4702 217.83,-36.5288 222.075,-46.2361 227.202,-41.4702\" stroke=\"black\"/>\n",
       "</g>\n",
       "</g>\n",
       "</svg>"
      ],
      "text/plain": [
       "<IPython.core.display.SVG object>"
      ]
     },
     "execution_count": 68,
     "metadata": {},
     "output_type": "execute_result"
    }
   ],
   "source": [
    "SVG(model_to_dot(model).create(prog='dot', format='svg'))"
   ]
  },
  {
   "cell_type": "code",
   "execution_count": 69,
   "metadata": {
    "collapsed": false
   },
   "outputs": [
    {
     "data": {
      "text/plain": [
       "(11, 4)"
      ]
     },
     "execution_count": 69,
     "metadata": {},
     "output_type": "execute_result"
    }
   ],
   "source": [
    "zeros = np.tile(np.zeros(n_fac), (len(xs[0]),1))\n",
    "zeros.shape"
   ]
  },
  {
   "cell_type": "code",
   "execution_count": 70,
   "metadata": {
    "collapsed": false
   },
   "outputs": [
    {
     "name": "stdout",
     "output_type": "stream",
     "text": [
      "Epoch 1/100\n",
      "11/11 [==============================] - 0s - loss: 6.4720 - output_loss_1: 3.2280 - output_loss_2: 3.2441     \n",
      "Epoch 2/100\n",
      "11/11 [==============================] - 0s - loss: 6.4090 - output_loss_1: 3.2124 - output_loss_2: 3.1967     \n",
      "Epoch 3/100\n",
      "11/11 [==============================] - 0s - loss: 6.3662 - output_loss_1: 3.2058 - output_loss_2: 3.1604     \n",
      "Epoch 4/100\n",
      "11/11 [==============================] - 0s - loss: 6.2948 - output_loss_1: 3.1980 - output_loss_2: 3.0969     \n",
      "Epoch 5/100\n",
      "11/11 [==============================] - 0s - loss: 6.1922 - output_loss_1: 3.1919 - output_loss_2: 3.0004     \n",
      "Epoch 6/100\n",
      "11/11 [==============================] - 0s - loss: 6.0686 - output_loss_1: 3.1993 - output_loss_2: 2.8693     \n",
      "Epoch 7/100\n",
      "11/11 [==============================] - 0s - loss: 5.9174 - output_loss_1: 3.2101 - output_loss_2: 2.7072     \n",
      "Epoch 8/100\n",
      "11/11 [==============================] - 0s - loss: 5.7986 - output_loss_1: 3.2030 - output_loss_2: 2.5956     \n",
      "Epoch 9/100\n",
      "11/11 [==============================] - 0s - loss: 5.7134 - output_loss_1: 3.1916 - output_loss_2: 2.5218     \n",
      "Epoch 10/100\n",
      "11/11 [==============================] - 0s - loss: 5.5961 - output_loss_1: 3.1529 - output_loss_2: 2.4432     \n",
      "Epoch 11/100\n",
      "11/11 [==============================] - 0s - loss: 5.4696 - output_loss_1: 3.0985 - output_loss_2: 2.3711     \n",
      "Epoch 12/100\n",
      "11/11 [==============================] - 0s - loss: 5.3280 - output_loss_1: 3.0350 - output_loss_2: 2.2930     \n",
      "Epoch 13/100\n",
      "11/11 [==============================] - 0s - loss: 5.1886 - output_loss_1: 2.9705 - output_loss_2: 2.2181     \n",
      "Epoch 14/100\n",
      "11/11 [==============================] - 0s - loss: 5.0639 - output_loss_1: 2.8947 - output_loss_2: 2.1692     \n",
      "Epoch 15/100\n",
      "11/11 [==============================] - 0s - loss: 4.9113 - output_loss_1: 2.7998 - output_loss_2: 2.1115     \n",
      "Epoch 16/100\n",
      "11/11 [==============================] - 0s - loss: 4.7276 - output_loss_1: 2.7189 - output_loss_2: 2.0086     \n",
      "Epoch 17/100\n",
      "11/11 [==============================] - 0s - loss: 4.4731 - output_loss_1: 2.5998 - output_loss_2: 1.8732     \n",
      "Epoch 18/100\n",
      "11/11 [==============================] - 0s - loss: 4.1912 - output_loss_1: 2.4881 - output_loss_2: 1.7031     \n",
      "Epoch 19/100\n",
      "11/11 [==============================] - 0s - loss: 4.0568 - output_loss_1: 2.4008 - output_loss_2: 1.6560     \n",
      "Epoch 20/100\n",
      "11/11 [==============================] - 0s - loss: 3.7675 - output_loss_1: 2.2872 - output_loss_2: 1.4804     \n",
      "Epoch 21/100\n",
      "11/11 [==============================] - 0s - loss: 3.4134 - output_loss_1: 2.1510 - output_loss_2: 1.2624     \n",
      "Epoch 22/100\n",
      "11/11 [==============================] - 0s - loss: 3.1953 - output_loss_1: 2.0406 - output_loss_2: 1.1547     \n",
      "Epoch 23/100\n",
      "11/11 [==============================] - 0s - loss: 2.9997 - output_loss_1: 1.9412 - output_loss_2: 1.0585     \n",
      "Epoch 24/100\n",
      "11/11 [==============================] - 0s - loss: 2.8148 - output_loss_1: 1.8388 - output_loss_2: 0.9760     \n",
      "Epoch 25/100\n",
      "11/11 [==============================] - 0s - loss: 2.5453 - output_loss_1: 1.7564 - output_loss_2: 0.7889     \n",
      "Epoch 26/100\n",
      "11/11 [==============================] - 0s - loss: 2.4087 - output_loss_1: 1.6661 - output_loss_2: 0.7426     \n",
      "Epoch 27/100\n",
      "11/11 [==============================] - 0s - loss: 2.2771 - output_loss_1: 1.5865 - output_loss_2: 0.6905     \n",
      "Epoch 28/100\n",
      "11/11 [==============================] - 0s - loss: 2.0323 - output_loss_1: 1.4936 - output_loss_2: 0.5388     \n",
      "Epoch 29/100\n",
      "11/11 [==============================] - 0s - loss: 1.8656 - output_loss_1: 1.4069 - output_loss_2: 0.4587     \n",
      "Epoch 30/100\n",
      "11/11 [==============================] - 0s - loss: 1.7932 - output_loss_1: 1.3328 - output_loss_2: 0.4604     \n",
      "Epoch 31/100\n",
      "11/11 [==============================] - 0s - loss: 1.6476 - output_loss_1: 1.2817 - output_loss_2: 0.3659     \n",
      "Epoch 32/100\n",
      "11/11 [==============================] - 0s - loss: 1.5173 - output_loss_1: 1.2209 - output_loss_2: 0.2964     \n",
      "Epoch 33/100\n",
      "11/11 [==============================] - 0s - loss: 1.4158 - output_loss_1: 1.1619 - output_loss_2: 0.2539     \n",
      "Epoch 34/100\n",
      "11/11 [==============================] - 0s - loss: 1.3146 - output_loss_1: 1.0934 - output_loss_2: 0.2212     \n",
      "Epoch 35/100\n",
      "11/11 [==============================] - 0s - loss: 1.3088 - output_loss_1: 1.0730 - output_loss_2: 0.2358     \n",
      "Epoch 36/100\n",
      "11/11 [==============================] - 0s - loss: 1.1902 - output_loss_1: 1.0116 - output_loss_2: 0.1786     \n",
      "Epoch 37/100\n",
      "11/11 [==============================] - 0s - loss: 1.1549 - output_loss_1: 0.9759 - output_loss_2: 0.1789     \n",
      "Epoch 38/100\n",
      "11/11 [==============================] - 0s - loss: 1.0734 - output_loss_1: 0.9297 - output_loss_2: 0.1436     \n",
      "Epoch 39/100\n",
      "11/11 [==============================] - 0s - loss: 1.0224 - output_loss_1: 0.8770 - output_loss_2: 0.1453     \n",
      "Epoch 40/100\n",
      "11/11 [==============================] - 0s - loss: 0.9646 - output_loss_1: 0.8405 - output_loss_2: 0.1241     \n",
      "Epoch 41/100\n",
      "11/11 [==============================] - 0s - loss: 0.8992 - output_loss_1: 0.8057 - output_loss_2: 0.0935     \n",
      "Epoch 42/100\n",
      "11/11 [==============================] - 0s - loss: 0.8764 - output_loss_1: 0.7737 - output_loss_2: 0.1028     \n",
      "Epoch 43/100\n",
      "11/11 [==============================] - 0s - loss: 0.8041 - output_loss_1: 0.7360 - output_loss_2: 0.0680     \n",
      "Epoch 44/100\n",
      "11/11 [==============================] - 0s - loss: 0.8217 - output_loss_1: 0.7291 - output_loss_2: 0.0925     \n",
      "Epoch 45/100\n",
      "11/11 [==============================] - 0s - loss: 0.7734 - output_loss_1: 0.6858 - output_loss_2: 0.0876     \n",
      "Epoch 46/100\n",
      "11/11 [==============================] - 0s - loss: 0.7347 - output_loss_1: 0.6793 - output_loss_2: 0.0554     \n",
      "Epoch 47/100\n",
      "11/11 [==============================] - 0s - loss: 0.7058 - output_loss_1: 0.6361 - output_loss_2: 0.0696     \n",
      "Epoch 48/100\n",
      "11/11 [==============================] - 0s - loss: 0.6725 - output_loss_1: 0.6239 - output_loss_2: 0.0486     \n",
      "Epoch 49/100\n",
      "11/11 [==============================] - 0s - loss: 0.6370 - output_loss_1: 0.5901 - output_loss_2: 0.0469     \n",
      "Epoch 50/100\n",
      "11/11 [==============================] - 0s - loss: 0.6083 - output_loss_1: 0.5652 - output_loss_2: 0.0430     \n",
      "Epoch 51/100\n",
      "11/11 [==============================] - 0s - loss: 0.5770 - output_loss_1: 0.5386 - output_loss_2: 0.0384     \n",
      "Epoch 52/100\n",
      "11/11 [==============================] - 0s - loss: 0.5645 - output_loss_1: 0.5255 - output_loss_2: 0.0390     \n",
      "Epoch 53/100\n",
      "11/11 [==============================] - 0s - loss: 0.5459 - output_loss_1: 0.5122 - output_loss_2: 0.0337     \n",
      "Epoch 54/100\n",
      "11/11 [==============================] - 0s - loss: 0.5229 - output_loss_1: 0.4877 - output_loss_2: 0.0352     \n",
      "Epoch 55/100\n",
      "11/11 [==============================] - 0s - loss: 0.5026 - output_loss_1: 0.4737 - output_loss_2: 0.0289     \n",
      "Epoch 56/100\n",
      "11/11 [==============================] - 0s - loss: 0.4894 - output_loss_1: 0.4618 - output_loss_2: 0.0276     \n",
      "Epoch 57/100\n",
      "11/11 [==============================] - 0s - loss: 0.4685 - output_loss_1: 0.4420 - output_loss_2: 0.0265     \n",
      "Epoch 58/100\n",
      "11/11 [==============================] - 0s - loss: 0.4516 - output_loss_1: 0.4280 - output_loss_2: 0.0236     \n",
      "Epoch 59/100\n",
      "11/11 [==============================] - 0s - loss: 0.4388 - output_loss_1: 0.4158 - output_loss_2: 0.0230     \n",
      "Epoch 60/100\n",
      "11/11 [==============================] - 0s - loss: 0.4193 - output_loss_1: 0.3974 - output_loss_2: 0.0219     \n",
      "Epoch 61/100\n",
      "11/11 [==============================] - 0s - loss: 0.4035 - output_loss_1: 0.3816 - output_loss_2: 0.0220     \n",
      "Epoch 62/100\n",
      "11/11 [==============================] - 0s - loss: 0.4105 - output_loss_1: 0.3861 - output_loss_2: 0.0244     \n",
      "Epoch 63/100\n",
      "11/11 [==============================] - 0s - loss: 0.3815 - output_loss_1: 0.3585 - output_loss_2: 0.0230     \n",
      "Epoch 64/100\n",
      "11/11 [==============================] - 0s - loss: 0.3639 - output_loss_1: 0.3488 - output_loss_2: 0.0152     \n",
      "Epoch 65/100\n",
      "11/11 [==============================] - 0s - loss: 0.3515 - output_loss_1: 0.3351 - output_loss_2: 0.0165     \n",
      "Epoch 66/100\n",
      "11/11 [==============================] - 0s - loss: 0.3377 - output_loss_1: 0.3230 - output_loss_2: 0.0147     \n",
      "Epoch 67/100\n",
      "11/11 [==============================] - 0s - loss: 0.3356 - output_loss_1: 0.3220 - output_loss_2: 0.0136     \n",
      "Epoch 68/100\n",
      "11/11 [==============================] - 0s - loss: 0.3242 - output_loss_1: 0.3107 - output_loss_2: 0.0136     \n",
      "Epoch 69/100\n",
      "11/11 [==============================] - 0s - loss: 0.3177 - output_loss_1: 0.3055 - output_loss_2: 0.0122     \n",
      "Epoch 70/100\n",
      "11/11 [==============================] - 0s - loss: 0.3082 - output_loss_1: 0.2959 - output_loss_2: 0.0123     \n",
      "Epoch 71/100\n",
      "11/11 [==============================] - 0s - loss: 0.3113 - output_loss_1: 0.2981 - output_loss_2: 0.0132     \n",
      "Epoch 72/100\n",
      "11/11 [==============================] - 0s - loss: 0.3000 - output_loss_1: 0.2896 - output_loss_2: 0.0104     \n",
      "Epoch 73/100\n",
      "11/11 [==============================] - 0s - loss: 0.2870 - output_loss_1: 0.2750 - output_loss_2: 0.0120     \n",
      "Epoch 74/100\n",
      "11/11 [==============================] - 0s - loss: 0.2842 - output_loss_1: 0.2753 - output_loss_2: 0.0089     \n",
      "Epoch 75/100\n",
      "11/11 [==============================] - 0s - loss: 0.2610 - output_loss_1: 0.2512 - output_loss_2: 0.0098     \n",
      "Epoch 76/100\n",
      "11/11 [==============================] - 0s - loss: 0.2656 - output_loss_1: 0.2567 - output_loss_2: 0.0088     \n",
      "Epoch 77/100\n",
      "11/11 [==============================] - 0s - loss: 0.2536 - output_loss_1: 0.2451 - output_loss_2: 0.0085     \n",
      "Epoch 78/100\n",
      "11/11 [==============================] - 0s - loss: 0.2457 - output_loss_1: 0.2375 - output_loss_2: 0.0082     \n",
      "Epoch 79/100\n",
      "11/11 [==============================] - 0s - loss: 0.2739 - output_loss_1: 0.2661 - output_loss_2: 0.0078     \n",
      "Epoch 80/100\n",
      "11/11 [==============================] - 0s - loss: 0.2674 - output_loss_1: 0.2598 - output_loss_2: 0.0076     \n",
      "Epoch 81/100\n",
      "11/11 [==============================] - 0s - loss: 0.2245 - output_loss_1: 0.2170 - output_loss_2: 0.0075     \n",
      "Epoch 82/100\n",
      "11/11 [==============================] - 0s - loss: 0.2264 - output_loss_1: 0.2196 - output_loss_2: 0.0068     \n",
      "Epoch 83/100\n",
      "11/11 [==============================] - 0s - loss: 0.2195 - output_loss_1: 0.2126 - output_loss_2: 0.0069     \n",
      "Epoch 84/100\n",
      "11/11 [==============================] - 0s - loss: 0.2102 - output_loss_1: 0.2039 - output_loss_2: 0.0063     \n",
      "Epoch 85/100\n",
      "11/11 [==============================] - 0s - loss: 0.2149 - output_loss_1: 0.2086 - output_loss_2: 0.0062     \n",
      "Epoch 86/100\n",
      "11/11 [==============================] - 0s - loss: 0.2251 - output_loss_1: 0.2190 - output_loss_2: 0.0061     \n",
      "Epoch 87/100\n",
      "11/11 [==============================] - 0s - loss: 0.2013 - output_loss_1: 0.1957 - output_loss_2: 0.0056     \n",
      "Epoch 88/100\n",
      "11/11 [==============================] - 0s - loss: 0.1931 - output_loss_1: 0.1874 - output_loss_2: 0.0057     \n",
      "Epoch 89/100\n",
      "11/11 [==============================] - 0s - loss: 0.1922 - output_loss_1: 0.1869 - output_loss_2: 0.0052     \n",
      "Epoch 90/100\n",
      "11/11 [==============================] - 0s - loss: 0.1700 - output_loss_1: 0.1650 - output_loss_2: 0.0050     \n",
      "Epoch 91/100\n",
      "11/11 [==============================] - 0s - loss: 0.1644 - output_loss_1: 0.1596 - output_loss_2: 0.0048     \n",
      "Epoch 92/100\n",
      "11/11 [==============================] - 0s - loss: 0.1642 - output_loss_1: 0.1593 - output_loss_2: 0.0050     \n",
      "Epoch 93/100\n",
      "11/11 [==============================] - 0s - loss: 0.1581 - output_loss_1: 0.1536 - output_loss_2: 0.0045     \n",
      "Epoch 94/100\n",
      "11/11 [==============================] - 0s - loss: 0.1500 - output_loss_1: 0.1457 - output_loss_2: 0.0043     \n",
      "Epoch 95/100\n",
      "11/11 [==============================] - 0s - loss: 0.1492 - output_loss_1: 0.1449 - output_loss_2: 0.0043     \n",
      "Epoch 96/100\n",
      "11/11 [==============================] - 0s - loss: 0.1464 - output_loss_1: 0.1421 - output_loss_2: 0.0043     \n",
      "Epoch 97/100\n",
      "11/11 [==============================] - 0s - loss: 0.1363 - output_loss_1: 0.1323 - output_loss_2: 0.0040     \n",
      "Epoch 98/100\n",
      "11/11 [==============================] - 0s - loss: 0.1294 - output_loss_1: 0.1257 - output_loss_2: 0.0037     \n",
      "Epoch 99/100\n",
      "11/11 [==============================] - 0s - loss: 0.1287 - output_loss_1: 0.1252 - output_loss_2: 0.0035     \n",
      "Epoch 100/100\n",
      "11/11 [==============================] - 0s - loss: 0.1212 - output_loss_1: 0.1176 - output_loss_2: 0.0036     \n"
     ]
    },
    {
     "data": {
      "text/plain": [
       "<keras.callbacks.History at 0x7facc34c9a20>"
      ]
     },
     "execution_count": 70,
     "metadata": {},
     "output_type": "execute_result"
    }
   ],
   "source": [
    "model.fit([zeros]+xs, ys, batch_size=1, nb_epoch=100)"
   ]
  },
  {
   "cell_type": "markdown",
   "metadata": {},
   "source": [
    "### Test model"
   ]
  },
  {
   "cell_type": "code",
   "execution_count": 71,
   "metadata": {
    "collapsed": true
   },
   "outputs": [],
   "source": [
    "def get_next(inp):\n",
    "    idxs = [corpora.token2id[c] for c in inp]\n",
    "    print(idxs)\n",
    "    arrs = [np.array(i)[np.newaxis] for i in idxs]\n",
    "    print(arrs)\n",
    "    \n",
    "    p = model.predict(arrs)\n",
    "    print(p.shape)\n",
    "    i_max1 = np.argmax(p)\n",
    "    p[0,i_max1] = 0\n",
    "    i_max2 = np.argmax(p)\n",
    "    p[0,i_max2] = 0\n",
    "    i_max3 = np.argmax(p)\n",
    "\n",
    "    \n",
    "    return corpora.id2token[i_max1], corpora.id2token[i_max2], corpora.id2token[i_max3]"
   ]
  },
  {
   "cell_type": "code",
   "execution_count": 72,
   "metadata": {
    "collapsed": true
   },
   "outputs": [],
   "source": [
    "def get_nexts(inp):\n",
    "    idxs = [corpora.token2id[c] for c in inp]\n",
    "    arrs = [np.array(i)[np.newaxis] for i in idxs]\n",
    "    p = model.predict([np.zeros(n_fac)[np.newaxis,:]] + arrs)\n",
    "    print(list(inp))\n",
    "    return [corpora.id2token[np.argmax(o)] for o in p]"
   ]
  },
  {
   "cell_type": "code",
   "execution_count": 73,
   "metadata": {
    "collapsed": false
   },
   "outputs": [
    {
     "name": "stdout",
     "output_type": "stream",
     "text": [
      "[1, 0]\n",
      "[array([1]), array([0])]\n"
     ]
    },
    {
     "ename": "Exception",
     "evalue": "Error when checking : the list of Numpy arrays that you are passing to your model is not the size the model expected. Expected to see 3 arrays but instead got the following list of 2 arrays: [array([1]), array([0])]...",
     "output_type": "error",
     "traceback": [
      "\u001b[0;31m---------------------------------------------------------------------------\u001b[0m",
      "\u001b[0;31mException\u001b[0m                                 Traceback (most recent call last)",
      "\u001b[0;32m<ipython-input-73-3489bd17a5e0>\u001b[0m in \u001b[0;36m<module>\u001b[0;34m()\u001b[0m\n\u001b[0;32m----> 1\u001b[0;31m \u001b[0mget_next\u001b[0m\u001b[0;34m(\u001b[0m\u001b[0;34m[\u001b[0m\u001b[0;34m'One'\u001b[0m\u001b[0;34m,\u001b[0m \u001b[0;34m'two'\u001b[0m\u001b[0;34m]\u001b[0m\u001b[0;34m)\u001b[0m\u001b[0;34m\u001b[0m\u001b[0m\n\u001b[0m",
      "\u001b[0;32m<ipython-input-71-05913ef8dabb>\u001b[0m in \u001b[0;36mget_next\u001b[0;34m(inp)\u001b[0m\n\u001b[1;32m      5\u001b[0m     \u001b[0mprint\u001b[0m\u001b[0;34m(\u001b[0m\u001b[0marrs\u001b[0m\u001b[0;34m)\u001b[0m\u001b[0;34m\u001b[0m\u001b[0m\n\u001b[1;32m      6\u001b[0m \u001b[0;34m\u001b[0m\u001b[0m\n\u001b[0;32m----> 7\u001b[0;31m     \u001b[0mp\u001b[0m \u001b[0;34m=\u001b[0m \u001b[0mmodel\u001b[0m\u001b[0;34m.\u001b[0m\u001b[0mpredict\u001b[0m\u001b[0;34m(\u001b[0m\u001b[0marrs\u001b[0m\u001b[0;34m)\u001b[0m\u001b[0;34m\u001b[0m\u001b[0m\n\u001b[0m\u001b[1;32m      8\u001b[0m     \u001b[0mprint\u001b[0m\u001b[0;34m(\u001b[0m\u001b[0mp\u001b[0m\u001b[0;34m.\u001b[0m\u001b[0mshape\u001b[0m\u001b[0;34m)\u001b[0m\u001b[0;34m\u001b[0m\u001b[0m\n\u001b[1;32m      9\u001b[0m     \u001b[0mi_max1\u001b[0m \u001b[0;34m=\u001b[0m \u001b[0mnp\u001b[0m\u001b[0;34m.\u001b[0m\u001b[0margmax\u001b[0m\u001b[0;34m(\u001b[0m\u001b[0mp\u001b[0m\u001b[0;34m)\u001b[0m\u001b[0;34m\u001b[0m\u001b[0m\n",
      "\u001b[0;32m/usr/local/lib/python3.5/dist-packages/keras/engine/training.py\u001b[0m in \u001b[0;36mpredict\u001b[0;34m(self, x, batch_size, verbose)\u001b[0m\n\u001b[1;32m   1159\u001b[0m         x = standardize_input_data(x, self.input_names,\n\u001b[1;32m   1160\u001b[0m                                    \u001b[0mself\u001b[0m\u001b[0;34m.\u001b[0m\u001b[0minternal_input_shapes\u001b[0m\u001b[0;34m,\u001b[0m\u001b[0;34m\u001b[0m\u001b[0m\n\u001b[0;32m-> 1161\u001b[0;31m                                    check_batch_dim=False)\n\u001b[0m\u001b[1;32m   1162\u001b[0m         \u001b[0;32mif\u001b[0m \u001b[0mself\u001b[0m\u001b[0;34m.\u001b[0m\u001b[0mstateful\u001b[0m\u001b[0;34m:\u001b[0m\u001b[0;34m\u001b[0m\u001b[0m\n\u001b[1;32m   1163\u001b[0m             \u001b[0;32mif\u001b[0m \u001b[0mx\u001b[0m\u001b[0;34m[\u001b[0m\u001b[0;36m0\u001b[0m\u001b[0;34m]\u001b[0m\u001b[0;34m.\u001b[0m\u001b[0mshape\u001b[0m\u001b[0;34m[\u001b[0m\u001b[0;36m0\u001b[0m\u001b[0;34m]\u001b[0m \u001b[0;34m>\u001b[0m \u001b[0mbatch_size\u001b[0m \u001b[0;32mand\u001b[0m \u001b[0mx\u001b[0m\u001b[0;34m[\u001b[0m\u001b[0;36m0\u001b[0m\u001b[0;34m]\u001b[0m\u001b[0;34m.\u001b[0m\u001b[0mshape\u001b[0m\u001b[0;34m[\u001b[0m\u001b[0;36m0\u001b[0m\u001b[0;34m]\u001b[0m \u001b[0;34m%\u001b[0m \u001b[0mbatch_size\u001b[0m \u001b[0;34m!=\u001b[0m \u001b[0;36m0\u001b[0m\u001b[0;34m:\u001b[0m\u001b[0;34m\u001b[0m\u001b[0m\n",
      "\u001b[0;32m/usr/local/lib/python3.5/dist-packages/keras/engine/training.py\u001b[0m in \u001b[0;36mstandardize_input_data\u001b[0;34m(data, names, shapes, check_batch_dim, exception_prefix)\u001b[0m\n\u001b[1;32m     49\u001b[0m                                 \u001b[0;34m'the following list of '\u001b[0m \u001b[0;34m+\u001b[0m \u001b[0mstr\u001b[0m\u001b[0;34m(\u001b[0m\u001b[0mlen\u001b[0m\u001b[0;34m(\u001b[0m\u001b[0mdata\u001b[0m\u001b[0;34m)\u001b[0m\u001b[0;34m)\u001b[0m \u001b[0;34m+\u001b[0m\u001b[0;34m\u001b[0m\u001b[0m\n\u001b[1;32m     50\u001b[0m                                 \u001b[0;34m' arrays: '\u001b[0m \u001b[0;34m+\u001b[0m \u001b[0mstr\u001b[0m\u001b[0;34m(\u001b[0m\u001b[0mdata\u001b[0m\u001b[0;34m)\u001b[0m\u001b[0;34m[\u001b[0m\u001b[0;34m:\u001b[0m\u001b[0;36m200\u001b[0m\u001b[0;34m]\u001b[0m \u001b[0;34m+\u001b[0m\u001b[0;34m\u001b[0m\u001b[0m\n\u001b[0;32m---> 51\u001b[0;31m                                 '...')\n\u001b[0m\u001b[1;32m     52\u001b[0m             \u001b[0;32melse\u001b[0m\u001b[0;34m:\u001b[0m\u001b[0;34m\u001b[0m\u001b[0m\n\u001b[1;32m     53\u001b[0m                 \u001b[0;32mif\u001b[0m \u001b[0mlen\u001b[0m\u001b[0;34m(\u001b[0m\u001b[0mnames\u001b[0m\u001b[0;34m)\u001b[0m \u001b[0;34m==\u001b[0m \u001b[0;36m1\u001b[0m\u001b[0;34m:\u001b[0m\u001b[0;34m\u001b[0m\u001b[0m\n",
      "\u001b[0;31mException\u001b[0m: Error when checking : the list of Numpy arrays that you are passing to your model is not the size the model expected. Expected to see 3 arrays but instead got the following list of 2 arrays: [array([1]), array([0])]..."
     ]
    }
   ],
   "source": [
    "get_next(['One', 'two'])"
   ]
  },
  {
   "cell_type": "code",
   "execution_count": null,
   "metadata": {
    "collapsed": true
   },
   "outputs": [],
   "source": []
  }
 ],
 "metadata": {
  "kernelspec": {
   "display_name": "Python 3",
   "language": "python",
   "name": "python3"
  },
  "language_info": {
   "codemirror_mode": {
    "name": "ipython",
    "version": 3
   },
   "file_extension": ".py",
   "mimetype": "text/x-python",
   "name": "python",
   "nbconvert_exporter": "python",
   "pygments_lexer": "ipython3",
   "version": "3.5.2"
  }
 },
 "nbformat": 4,
 "nbformat_minor": 1
}
