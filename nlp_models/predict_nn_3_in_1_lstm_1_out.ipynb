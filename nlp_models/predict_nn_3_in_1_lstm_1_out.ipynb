{
 "cells": [
  {
   "cell_type": "code",
   "execution_count": 8,
   "metadata": {
    "collapsed": false
   },
   "outputs": [
    {
     "name": "stderr",
     "output_type": "stream",
     "text": [
      "Using Theano backend.\n"
     ]
    }
   ],
   "source": [
    "from keras.models import model_from_json\n",
    "import nltk\n",
    "import gensim\n",
    "import numpy as np\n",
    "from ipywidgets import widgets "
   ]
  },
  {
   "cell_type": "markdown",
   "metadata": {},
   "source": [
    "### Parameters"
   ]
  },
  {
   "cell_type": "code",
   "execution_count": 9,
   "metadata": {
    "collapsed": true
   },
   "outputs": [],
   "source": [
    "MODEL_NAME = 'nn_3_in_1_lstm_1_out.json'\n",
    "\n",
    "#CORPORA_NAME = 'test.txt.corpora.dat'\n",
    "#MODEL_WEIGHT = 'test.txt.nn_3_in_1_lstm_1_out.weights.hdf5'\n",
    "\n",
    "CORPORA_NAME = 'en_US.blogs.txt.corpora.dat'\n",
    "MODEL_WEIGHT_1M = 'en_US.blogs.txt.nn_3_in_1_lstm_1_out.3.1000000.weights.hdf5' # 1M training samples\n",
    "MODEL_WEIGHT_5M = 'en_US.blogs.txt.nn_3_in_1_lstm_1_out.4.5000000.weights.hdf5'  # 5M training samples\n",
    "MODEL_WEIGHT_10M = 'en_US.blogs.txt.nn_3_in_1_lstm_1_out.weights-epoch-03-loss-4.70-acc-0.20.hdf5' # 10M training samples\n",
    "MODEL_WEIGHT_20M = 'en_US.blogs.txt.nn_3_in_1_lstm_1_out.start-10000000.weights-epoch-03-loss-4.60-acc-0.22.hdf5' # 20M training samples\n",
    "\n",
    "IN_SEQ_LENGTH = 3\n",
    "OUT_SEQ_LENGTH = 1"
   ]
  },
  {
   "cell_type": "markdown",
   "metadata": {},
   "source": [
    "### Load corpora"
   ]
  },
  {
   "cell_type": "code",
   "execution_count": 10,
   "metadata": {
    "collapsed": true
   },
   "outputs": [],
   "source": [
    "META_UNKNOWN = '<<<!UNK!>>>'\n",
    "META_EMPTY = '<<<!EMP!>>>'\n",
    "META_NUMBER = '<<<!NUM!>>>'"
   ]
  },
  {
   "cell_type": "code",
   "execution_count": 11,
   "metadata": {
    "collapsed": false
   },
   "outputs": [
    {
     "name": "stdout",
     "output_type": "stream",
     "text": [
      "Number of words in corpora: 20002\n"
     ]
    }
   ],
   "source": [
    "corpora = gensim.corpora.Dictionary.load('./data/'+CORPORA_NAME)\n",
    "vocab_size = len(corpora)\n",
    "print('Number of words in corpora: %d'%(vocab_size))\n",
    "tmp = list(corpora.items())\n",
    "del(tmp)"
   ]
  },
  {
   "cell_type": "markdown",
   "metadata": {},
   "source": [
    "### Load model and weights"
   ]
  },
  {
   "cell_type": "code",
   "execution_count": 20,
   "metadata": {
    "collapsed": true
   },
   "outputs": [],
   "source": [
    "model = None\n",
    "\n",
    "def load_model(weights):\n",
    "    global model\n",
    "    with open('./data/' + MODEL_NAME, mode='r') as f:\n",
    "        model = model_from_json(f.read())\n",
    "    model.load_weights('./data/'  + weights)"
   ]
  },
  {
   "cell_type": "markdown",
   "metadata": {},
   "source": [
    "### Test model"
   ]
  },
  {
   "cell_type": "code",
   "execution_count": 13,
   "metadata": {
    "collapsed": true
   },
   "outputs": [],
   "source": [
    "def get_last_token_ids(inp, seq_len):\n",
    "    \n",
    "    res = np.full(seq_len, corpora.token2id[META_EMPTY], dtype=int)\n",
    "      \n",
    "    raw_sents = nltk.tokenize.sent_tokenize(inp.lower())\n",
    "\n",
    "    id_tokens = []\n",
    "    \n",
    "    for s in raw_sents:\n",
    "        raw_tokens = nltk.tokenize.wordpunct_tokenize(s)\n",
    "       \n",
    "        for t in raw_tokens:\n",
    "            try:\n",
    "                tid = corpora.token2id[t]\n",
    "            except:\n",
    "                tid = corpora.token2id[META_UNKNOWN]\n",
    "            id_tokens.append(tid)\n",
    "            #print('%s -> %d'%(t, tid))\n",
    "\n",
    "    l = min(seq_len, len(id_tokens))\n",
    "    s = seq_len - l\n",
    "    #print(id_tokens)\n",
    "    #print(id_tokens[-l:])\n",
    "    \n",
    "    res[s:] = id_tokens[-l:]\n",
    "       \n",
    "    return res"
   ]
  },
  {
   "cell_type": "code",
   "execution_count": 14,
   "metadata": {
    "collapsed": false
   },
   "outputs": [],
   "source": [
    "def get_next_word(inp):\n",
    "    tids = get_last_token_ids(inp, IN_SEQ_LENGTH)\n",
    "    arrs = np.array(tids)[np.newaxis,:]\n",
    "    p = model.predict(arrs)[0]\n",
    "    #print(p)\n",
    "    \n",
    "    m0 = np.argmax(p); p0 = p[m0]; p[m0] = 0\n",
    "    m1 = np.argmax(p); p1 = p[m1]; p[m1] = 0\n",
    "    m2 = np.argmax(p); p2 = p[m2]; p[m2] = 0\n",
    "    m3 = np.argmax(p); p3 = p[m3]; p[m3] = 0\n",
    "    m4 = np.argmax(p); p4 = p[m4]; p[m4] = 0\n",
    "    m5 = np.argmax(p); p5 = p[m5]; p[m5] = 0\n",
    "    m6 = np.argmax(p); p6 = p[m6]; p[m6] = 0\n",
    "    \n",
    "    return [(p0, corpora.id2token[m0]),\n",
    "            (p1, corpora.id2token[m1]),\n",
    "            (p2, corpora.id2token[m2]),\n",
    "            (p3, corpora.id2token[m3]),\n",
    "            (p4, corpora.id2token[m4]),\n",
    "            (p5, corpora.id2token[m5]),\n",
    "            (p6, corpora.id2token[m6])]"
   ]
  },
  {
   "cell_type": "code",
   "execution_count": 15,
   "metadata": {
    "collapsed": true
   },
   "outputs": [],
   "source": [
    "next_words_beam = []\n",
    "\n",
    "def get_next_words_requesive(inp, seq_len, prob=1.0):\n",
    "        \n",
    "    if seq_len == 0 :\n",
    "        return\n",
    "    \n",
    "    pred = get_next_word(inp)\n",
    "    \n",
    "    for p in pred:\n",
    "        if len(inp) > 0: \n",
    "            s = inp + ' ' + p[1]\n",
    "        else:\n",
    "            s = p[1]\n",
    "        #print(s)\n",
    "        if seq_len > 1 :\n",
    "            get_next_words_requesive(s, seq_len-1, prob*p[0])\n",
    "        else:\n",
    "            #print( '%s %f'%(s, prob*p[1]) )\n",
    "            next_words_beam.append( (prob*p[0], s) )"
   ]
  },
  {
   "cell_type": "code",
   "execution_count": 16,
   "metadata": {
    "collapsed": false
   },
   "outputs": [],
   "source": [
    "def get_next_words(inp, words_to_predict, top=10):\n",
    "    \n",
    "    next_words_beam.clear()\n",
    "    \n",
    "    get_next_words_requesive(inp, words_to_predict)\n",
    "    \n",
    "    next_words_beam.sort(key=lambda x: x[0], reverse=True)\n",
    "    \n",
    "    return next_words_beam[:top]"
   ]
  },
  {
   "cell_type": "markdown",
   "metadata": {},
   "source": [
    "### Test cases"
   ]
  },
  {
   "cell_type": "code",
   "execution_count": 29,
   "metadata": {
    "collapsed": true
   },
   "outputs": [],
   "source": [
    "def print_next_words(inp, words_to_predict, top=10):\n",
    "    var = get_next_words(inp, words_to_predict, top)\n",
    "    \n",
    "    print(inp + ':')\n",
    "    for v in var:\n",
    "        print(v)"
   ]
  },
  {
   "cell_type": "code",
   "execution_count": 34,
   "metadata": {
    "collapsed": true
   },
   "outputs": [],
   "source": [
    "def run_test_cases(weights):\n",
    "    load_model(weights)\n",
    "    print_next_words('', 1)\n",
    "    print_next_words('', 2)\n",
    "    print_next_words('Hi', 1)\n",
    "    print_next_words('What do', 2)\n",
    "    print_next_words('this week I', 2)"
   ]
  },
  {
   "cell_type": "markdown",
   "metadata": {
    "collapsed": true
   },
   "source": [
    "### Run test cases"
   ]
  },
  {
   "cell_type": "code",
   "execution_count": 36,
   "metadata": {
    "collapsed": false
   },
   "outputs": [
    {
     "name": "stdout",
     "output_type": "stream",
     "text": [
      ":\n",
      "(0.13940274715423584, 'i')\n",
      "(0.07107437402009964, 'the')\n",
      "(0.046676371246576309, 'it')\n",
      "(0.031658142805099487, 'and')\n",
      "(0.024488970637321472, 'this')\n",
      "(0.022508643567562103, 'but')\n",
      "(0.021897658705711365, 'we')\n",
      ":\n",
      "(0.012725758562348588, \"i '\")\n",
      "(0.0093280714576638446, \"it '\")\n",
      "(0.0092455425771342803, 'i have')\n",
      "(0.0081878243198056921, 'this is')\n",
      "(0.0081202295937043978, 'i ’')\n",
      "(0.007741433969887801, 'i am')\n",
      "(0.006880082826056122, 'it ’')\n",
      "(0.0068554046504845645, 'it is')\n",
      "(0.0064491832820475214, 'it was')\n",
      "(0.0056063334160483258, 'i don')\n",
      "Hi:\n",
      "(0.12810064852237701, 'Hi everyone')\n",
      "(0.12010793387889862, 'Hi !')\n",
      "(0.094802573323249817, 'Hi ,')\n",
      "(0.054005932062864304, 'Hi it')\n",
      "(0.052542150020599365, 'Hi the')\n",
      "(0.036244608461856842, 'Hi you')\n",
      "(0.023914987221360207, 'Hi for')\n",
      "What do:\n",
      "(0.054811323741992268, 'What do you have')\n",
      "(0.032900612315368782, 'What do you know')\n",
      "(0.025432437904105765, 'What do you want')\n",
      "(0.021123467560435927, 'What do you see')\n",
      "(0.014198034420835781, 'What do i have')\n",
      "(0.01400316414932723, 'What do you are')\n",
      "(0.013726431387685478, 'What do you think')\n",
      "(0.0094555346146132369, 'What do you hear')\n",
      "(0.0083411472012550059, 'What do i get')\n",
      "(0.0062219615528437688, 'What do i say')\n",
      "this week I:\n",
      "(0.049479392915524611, \"this week I ' m\")\n",
      "(0.031567609863059065, \"this week I ' ll\")\n",
      "(0.021357108286341742, 'this week I ’ m')\n",
      "(0.018245606581909768, \"this week I ' d\")\n",
      "(0.01473639807535676, 'this week I ’ ll')\n",
      "(0.012305628496397936, \"this week I ' ve\")\n",
      "(0.011847936753047073, 'this week I have to')\n",
      "(0.010913884326462675, 'this week I am so')\n",
      "(0.010097251232099924, 'this week I had to')\n",
      "(0.009571486930139983, 'this week I ’ d')\n"
     ]
    }
   ],
   "source": [
    "run_test_cases(MODEL_WEIGHT_1M)"
   ]
  },
  {
   "cell_type": "code",
   "execution_count": 37,
   "metadata": {
    "collapsed": false
   },
   "outputs": [
    {
     "name": "stdout",
     "output_type": "stream",
     "text": [
      ":\n",
      "(0.13507360219955444, 'i')\n",
      "(0.07171204686164856, 'the')\n",
      "(0.044144440442323685, 'it')\n",
      "(0.028704248368740082, 'and')\n",
      "(0.023586263880133629, 'this')\n",
      "(0.023142430931329727, 'but')\n",
      "(0.023014085367321968, 'we')\n",
      ":\n",
      "(0.012147098318613381, \"i '\")\n",
      "(0.0099463143717977154, 'i ’')\n",
      "(0.0088157689885602353, 'it was')\n",
      "(0.0079136054076203166, 'i was')\n",
      "(0.0078452155595398199, \"it '\")\n",
      "(0.007791965758301822, 'this is')\n",
      "(0.0075279102646594875, 'it is')\n",
      "(0.0069070183151729303, 'i have')\n",
      "(0.0065189287421396624, 'i am')\n",
      "(0.006335929678655261, 'it ’')\n",
      "Hi:\n",
      "(0.2609286904335022, 'Hi everyone')\n",
      "(0.13318325579166412, 'Hi there')\n",
      "(0.080077745020389557, 'Hi ,')\n",
      "(0.046894118189811707, 'Hi everybody')\n",
      "(0.025618864223361015, 'Hi all')\n",
      "(0.025262799113988876, 'Hi friends')\n",
      "(0.019602682441473007, 'Hi girls')\n",
      "What do:\n",
      "(0.062955060069654678, 'What do you have')\n",
      "(0.046869745883043379, 'What do you think')\n",
      "(0.04005599855683073, 'What do you really')\n",
      "(0.035279480308652467, 'What do you know')\n",
      "(0.034403582593434123, 'What do you want')\n",
      "(0.033588090571583962, 'What do you see')\n",
      "(0.026183887447594145, 'What do you can')\n",
      "(0.010686122208101445, 'What do i think')\n",
      "(0.0095483829820464106, 'What do i really')\n",
      "(0.0079956908612359157, 'What do they really')\n",
      "this week I:\n",
      "(0.0087002088035409431, \"this week I ' s\")\n",
      "(0.0077656403382695416, 'this week I went to')\n",
      "(0.0071671900681252732, \"this week I ' ve\")\n",
      "(0.0065010783481664336, \"this week I ' m\")\n",
      "(0.0054733392492725685, \"this week I ' ll\")\n",
      "(0.004010751975904725, 'this week I was yolks')\n",
      "(0.0039727580373304094, \"this week I ' d\")\n",
      "(0.0037313164279345612, 'this week I went out')\n",
      "(0.0036713179332181767, 'this week I was preheated')\n",
      "(0.0035113498496363582, 'this week I made a')\n"
     ]
    }
   ],
   "source": [
    "run_test_cases(MODEL_WEIGHT_5M)"
   ]
  },
  {
   "cell_type": "code",
   "execution_count": 38,
   "metadata": {
    "collapsed": false
   },
   "outputs": [
    {
     "name": "stdout",
     "output_type": "stream",
     "text": [
      ":\n",
      "(0.11459830403327942, 'i')\n",
      "(0.061969183385372162, 'the')\n",
      "(0.043100703507661819, 'it')\n",
      "(0.030616007745265961, 'and')\n",
      "(0.030332930386066437, 'but')\n",
      "(0.022078005596995354, 'we')\n",
      "(0.020217198878526688, 'this')\n",
      ":\n",
      "(0.0070295590680283793, 'i have')\n",
      "(0.0069738208677774249, 'it is')\n",
      "(0.0068474870980202995, \"i '\")\n",
      "(0.006551913649257779, 'it was')\n",
      "(0.00609389225094914, 'this is')\n",
      "(0.0060626188695754868, 'i am')\n",
      "(0.0056759218183881077, 'it ’')\n",
      "(0.0052342204385173452, \"it '\")\n",
      "(0.0051041708036366762, 'i ’')\n",
      "(0.0049886636686967689, 'but i')\n",
      "Hi:\n",
      "(0.15030717849731445, 'Hi everyone')\n",
      "(0.12912140786647797, 'Hi readers')\n",
      "(0.082765072584152222, 'Hi there')\n",
      "(0.062626980245113373, 'Hi ,')\n",
      "(0.038216222077608109, 'Hi -')\n",
      "(0.037745315581560135, 'Hi !')\n",
      "(0.033834852278232574, 'Hi all')\n",
      "What do:\n",
      "(0.22502352050447705, 'What do you think')\n",
      "(0.087862486056573985, 'What do you do')\n",
      "(0.076162893950597166, 'What do you mean')\n",
      "(0.035002434447635844, 'What do you want')\n",
      "(0.028762933582406225, 'What do you guys')\n",
      "(0.027426616444133245, 'What do i do')\n",
      "(0.027170808169347138, 'What do you like')\n",
      "(0.024955992094551682, 'What do you know')\n",
      "(0.022111147560995192, 'What do we do')\n",
      "(0.019138988274577606, 'What do i mean')\n",
      "this week I:\n",
      "(0.060431667399676314, \"this week I ' ll\")\n",
      "(0.034318544983862331, \"this week I ' ve\")\n",
      "(0.033791374668855401, 'this week I have been')\n",
      "(0.031363445623305619, 'this week I have a')\n",
      "(0.03131218544647707, \"this week I ' m\")\n",
      "(0.027088703718292972, 'this week I will be')\n",
      "(0.026197097652366441, 'this week I ’ ll')\n",
      "(0.020022478486724005, 'this week I ’ ve')\n",
      "(0.014633131547390321, 'this week I had a')\n",
      "(0.014565691574474404, 'this week I ’ m')\n"
     ]
    }
   ],
   "source": [
    "run_test_cases(MODEL_WEIGHT_10M)"
   ]
  },
  {
   "cell_type": "code",
   "execution_count": 39,
   "metadata": {
    "collapsed": false
   },
   "outputs": [
    {
     "name": "stdout",
     "output_type": "stream",
     "text": [
      ":\n",
      "(0.018361009657382965, 'the')\n",
      "(0.017092021182179451, 'i')\n",
      "(0.0087438393384218216, 'it')\n",
      "(0.0054858271032571793, 'and')\n",
      "(0.0050167012959718704, 'a')\n",
      "(0.0042165094055235386, 'this')\n",
      "(0.0041746222414076328, 'in')\n",
      ":\n",
      "(0.0012691810995876796, \"it '\")\n",
      "(0.0011691764382460168, \"i '\")\n",
      "(0.0010671753182412771, 'i was')\n",
      "(0.0010643443033528377, 'it was')\n",
      "(0.0010042405745425073, 'in the')\n",
      "(0.00097995062343296524, 'it is')\n",
      "(0.00095021885145014917, 'it ’')\n",
      "(0.0009489200756838817, 'i am')\n",
      "(0.00089666646798108179, 'i have')\n",
      "(0.00089408345590946681, 'i ’')\n",
      "Hi:\n",
      "(0.29048067331314087, 'Hi everyone')\n",
      "(0.079488232731819153, 'Hi guys')\n",
      "(0.064141124486923218, 'Hi readers')\n",
      "(0.059681512415409088, 'Hi -')\n",
      "(0.05562620609998703, 'Hi ,')\n",
      "(0.016783943399786949, 'Hi !')\n",
      "(0.01605776883661747, 'Hi reverend')\n",
      "What do:\n",
      "(0.31630035661740052, 'What do you think')\n",
      "(0.040568585313280225, 'What do i know')\n",
      "(0.036355796617380642, 'What do you know')\n",
      "(0.031426119270950403, 'What do you do')\n",
      "(0.031321494042487741, 'What do i do')\n",
      "(0.023215818891018536, 'What do you want')\n",
      "(0.022899146094197853, 'What do you have')\n",
      "(0.021775354760158461, 'What do we do')\n",
      "(0.021394658920117937, 'What do you like')\n",
      "(0.016470769482171299, 'What do i have')\n",
      "this week I:\n",
      "(0.059631953033560059, \"this week I ' ve\")\n",
      "(0.043152094213599224, \"this week I ' m\")\n",
      "(0.030095840885300928, \"this week I ' ll\")\n",
      "(0.024148741533903673, 'this week I ’ ve')\n",
      "(0.015913147885124879, 'this week I ’ m')\n",
      "(0.015117656187956241, 'this week I have been')\n",
      "(0.012337963765918225, 'this week I will be')\n",
      "(0.01064861115042115, 'this week I ’ ll')\n",
      "(0.010406464032964635, 'this week I am going')\n",
      "(0.0084663380191259963, 'this week I had a')\n"
     ]
    }
   ],
   "source": [
    "run_test_cases(MODEL_WEIGHT_20M)"
   ]
  },
  {
   "cell_type": "code",
   "execution_count": null,
   "metadata": {
    "collapsed": true
   },
   "outputs": [],
   "source": []
  }
 ],
 "metadata": {
  "kernelspec": {
   "display_name": "Python 3",
   "language": "python",
   "name": "python3"
  },
  "language_info": {
   "codemirror_mode": {
    "name": "ipython",
    "version": 3
   },
   "file_extension": ".py",
   "mimetype": "text/x-python",
   "name": "python",
   "nbconvert_exporter": "python",
   "pygments_lexer": "ipython3",
   "version": "3.5.2"
  }
 },
 "nbformat": 4,
 "nbformat_minor": 1
}
