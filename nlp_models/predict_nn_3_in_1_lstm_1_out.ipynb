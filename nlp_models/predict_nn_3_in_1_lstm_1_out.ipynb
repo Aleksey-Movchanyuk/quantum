{
 "cells": [
  {
   "cell_type": "code",
   "execution_count": 7,
   "metadata": {
    "collapsed": false
   },
   "outputs": [],
   "source": [
    "from keras.models import model_from_json\n",
    "import nltk\n",
    "import gensim\n",
    "import numpy as np\n",
    "from ipywidgets import widgets "
   ]
  },
  {
   "cell_type": "markdown",
   "metadata": {},
   "source": [
    "### Parameters"
   ]
  },
  {
   "cell_type": "code",
   "execution_count": 17,
   "metadata": {
    "collapsed": true
   },
   "outputs": [],
   "source": [
    "MODEL_NAME = 'nn_3_in_1_lstm_1_out.json'\n",
    "\n",
    "#CORPORA_NAME = 'test.txt.corpora.dat'\n",
    "#MODEL_WEIGHT = 'test.txt.nn_3_in_1_lstm_1_out.weights.hdf5'\n",
    "\n",
    "CORPORA_NAME = 'en_US.blogs.txt.corpora.dat'\n",
    "#MODEL_WEIGHT = 'en_US.blogs.txt.nn_3_in_1_lstm_1_out.3.1000000.weights.hdf5'\n",
    "MODEL_WEIGHT = 'en_US.blogs.txt.nn_3_in_1_lstm_1_out.4.5000000.weights.hdf5'\n",
    "\n",
    "IN_SEQ_LENGTH = 3\n",
    "OUT_SEQ_LENGTH = 1"
   ]
  },
  {
   "cell_type": "markdown",
   "metadata": {},
   "source": [
    "### Load corpora"
   ]
  },
  {
   "cell_type": "code",
   "execution_count": 18,
   "metadata": {
    "collapsed": true
   },
   "outputs": [],
   "source": [
    "META_UNKNOWN = '<<<!UNK!>>>'\n",
    "META_EMPTY = '<<<!EMP!>>>'\n",
    "META_NUMBER = '<<<!NUM!>>>'"
   ]
  },
  {
   "cell_type": "code",
   "execution_count": 19,
   "metadata": {
    "collapsed": false
   },
   "outputs": [
    {
     "name": "stdout",
     "output_type": "stream",
     "text": [
      "Number of words in corpora: 20002\n"
     ]
    }
   ],
   "source": [
    "corpora = gensim.corpora.Dictionary.load('./data/'+CORPORA_NAME)\n",
    "vocab_size = len(corpora)\n",
    "print('Number of words in corpora: %d'%(vocab_size))\n",
    "tmp = list(corpora.items())\n",
    "del(tmp)"
   ]
  },
  {
   "cell_type": "markdown",
   "metadata": {},
   "source": [
    "### Load model and weights"
   ]
  },
  {
   "cell_type": "code",
   "execution_count": 20,
   "metadata": {
    "collapsed": false
   },
   "outputs": [],
   "source": [
    "with open('./data/' + MODEL_NAME, mode='r') as f:\n",
    "    model = model_from_json(f.read())"
   ]
  },
  {
   "cell_type": "code",
   "execution_count": 21,
   "metadata": {
    "collapsed": false
   },
   "outputs": [],
   "source": [
    "model.load_weights('./data/'  + MODEL_WEIGHT)"
   ]
  },
  {
   "cell_type": "code",
   "execution_count": 22,
   "metadata": {
    "collapsed": false
   },
   "outputs": [
    {
     "name": "stdout",
     "output_type": "stream",
     "text": [
      "____________________________________________________________________________________________________\n",
      "Layer (type)                     Output Shape          Param #     Connected to                     \n",
      "====================================================================================================\n",
      "embedding_2 (Embedding)          (None, 3, 64)         1280128     embedding_input_4[0][0]          \n",
      "____________________________________________________________________________________________________\n",
      "lstm_2 (LSTM)                    (None, 1024)          4460544     embedding_2[0][0]                \n",
      "____________________________________________________________________________________________________\n",
      "dense_2 (Dense)                  (None, 14)            20502050    lstm_2[0][0]                     \n",
      "====================================================================================================\n",
      "Total params: 26242722\n",
      "____________________________________________________________________________________________________\n"
     ]
    }
   ],
   "source": [
    "model.summary()"
   ]
  },
  {
   "cell_type": "markdown",
   "metadata": {},
   "source": [
    "### Test model"
   ]
  },
  {
   "cell_type": "code",
   "execution_count": 23,
   "metadata": {
    "collapsed": true
   },
   "outputs": [],
   "source": [
    "def get_last_token_ids(inp, seq_len):\n",
    "    \n",
    "    res = np.full(seq_len, corpora.token2id[META_EMPTY], dtype=int)\n",
    "      \n",
    "    raw_sents = nltk.tokenize.sent_tokenize(inp.lower())\n",
    "\n",
    "    id_tokens = []\n",
    "    \n",
    "    for s in raw_sents:\n",
    "        raw_tokens = nltk.tokenize.wordpunct_tokenize(s)\n",
    "       \n",
    "        for t in raw_tokens:\n",
    "            try:\n",
    "                tid = corpora.token2id[t]\n",
    "            except:\n",
    "                tid = corpora.token2id[META_UNKNOWN]\n",
    "            id_tokens.append(tid)\n",
    "            #print('%s -> %d'%(t, tid))\n",
    "\n",
    "    l = min(seq_len, len(id_tokens))\n",
    "    s = seq_len - l\n",
    "    #print(id_tokens)\n",
    "    #print(id_tokens[-l:])\n",
    "    \n",
    "    res[s:] = id_tokens[-l:]\n",
    "       \n",
    "    return res"
   ]
  },
  {
   "cell_type": "code",
   "execution_count": 24,
   "metadata": {
    "collapsed": false
   },
   "outputs": [],
   "source": [
    "def get_next_word(inp):\n",
    "    tids = get_last_token_ids(inp, IN_SEQ_LENGTH)\n",
    "    arrs = np.array(tids)[np.newaxis,:]\n",
    "    p = model.predict(arrs)[0]\n",
    "    #print(p)\n",
    "    \n",
    "    m0 = np.argmax(p); p0 = p[m0]; p[m0] = 0\n",
    "    m1 = np.argmax(p); p1 = p[m1]; p[m1] = 0\n",
    "    m2 = np.argmax(p); p2 = p[m2]; p[m2] = 0\n",
    "    m3 = np.argmax(p); p3 = p[m3]; p[m3] = 0\n",
    "    m4 = np.argmax(p); p4 = p[m4]; p[m4] = 0\n",
    "    m5 = np.argmax(p); p5 = p[m5]; p[m5] = 0\n",
    "    m6 = np.argmax(p); p6 = p[m6]; p[m6] = 0\n",
    "    \n",
    "    return [(p0, corpora.id2token[m0]),\n",
    "            (p1, corpora.id2token[m1]),\n",
    "            (p2, corpora.id2token[m2]),\n",
    "            (p3, corpora.id2token[m3]),\n",
    "            (p4, corpora.id2token[m4]),\n",
    "            (p5, corpora.id2token[m5]),\n",
    "            (p6, corpora.id2token[m6])]"
   ]
  },
  {
   "cell_type": "code",
   "execution_count": 25,
   "metadata": {
    "collapsed": true
   },
   "outputs": [],
   "source": [
    "next_words_beam = []\n",
    "\n",
    "def get_next_words_requesive(inp, seq_len, prob=1.0):\n",
    "        \n",
    "    if seq_len == 0 :\n",
    "        return\n",
    "    \n",
    "    pred = get_next_word(inp)\n",
    "    \n",
    "    for p in pred:\n",
    "        if len(inp) > 0: \n",
    "            s = inp + ' ' + p[1]\n",
    "        else:\n",
    "            s = p[1]\n",
    "        #print(s)\n",
    "        if seq_len > 1 :\n",
    "            get_next_words_requesive(s, seq_len-1, prob*p[0])\n",
    "        else:\n",
    "            #print( '%s %f'%(s, prob*p[1]) )\n",
    "            next_words_beam.append( (prob*p[0], s) )"
   ]
  },
  {
   "cell_type": "code",
   "execution_count": 26,
   "metadata": {
    "collapsed": false
   },
   "outputs": [],
   "source": [
    "def get_next_words(inp, words_to_predict, top=10):\n",
    "    \n",
    "    next_words_beam.clear()\n",
    "    \n",
    "    get_next_words_requesive(inp, words_to_predict)\n",
    "    \n",
    "    next_words_beam.sort(key=lambda x: x[0], reverse=True)\n",
    "    \n",
    "    return next_words_beam[:top]"
   ]
  },
  {
   "cell_type": "markdown",
   "metadata": {},
   "source": [
    "### Test cases"
   ]
  },
  {
   "cell_type": "code",
   "execution_count": 27,
   "metadata": {
    "collapsed": false
   },
   "outputs": [
    {
     "data": {
      "text/plain": [
       "[(0.1350736, 'i'),\n",
       " (0.071712047, 'the'),\n",
       " (0.04414444, 'it'),\n",
       " (0.028704248, 'and'),\n",
       " (0.023586264, 'this'),\n",
       " (0.023142431, 'but'),\n",
       " (0.023014085, 'we')]"
      ]
     },
     "execution_count": 27,
     "metadata": {},
     "output_type": "execute_result"
    }
   ],
   "source": [
    "get_next_word('')"
   ]
  },
  {
   "cell_type": "code",
   "execution_count": 28,
   "metadata": {
    "collapsed": false
   },
   "outputs": [
    {
     "data": {
      "text/plain": [
       "[(0.2609286904335022, 'Hi everyone'),\n",
       " (0.13318325579166412, 'Hi there'),\n",
       " (0.080077745020389557, 'Hi ,'),\n",
       " (0.046894118189811707, 'Hi everybody'),\n",
       " (0.025618864223361015, 'Hi all'),\n",
       " (0.025262799113988876, 'Hi friends'),\n",
       " (0.019602682441473007, 'Hi girls')]"
      ]
     },
     "execution_count": 28,
     "metadata": {},
     "output_type": "execute_result"
    }
   ],
   "source": [
    "get_next_words('Hi', 1)"
   ]
  },
  {
   "cell_type": "code",
   "execution_count": 29,
   "metadata": {
    "collapsed": false
   },
   "outputs": [
    {
     "data": {
      "text/plain": [
       "[(0.012147098318613381, \"i '\"),\n",
       " (0.0099463143717977154, 'i ’'),\n",
       " (0.0088157689885602353, 'it was'),\n",
       " (0.0079136054076203166, 'i was'),\n",
       " (0.0078452155595398199, \"it '\"),\n",
       " (0.007791965758301822, 'this is'),\n",
       " (0.0075279102646594875, 'it is'),\n",
       " (0.0069070183151729303, 'i have'),\n",
       " (0.0065189287421396624, 'i am'),\n",
       " (0.006335929678655261, 'it ’')]"
      ]
     },
     "execution_count": 29,
     "metadata": {},
     "output_type": "execute_result"
    }
   ],
   "source": [
    "get_next_words('', 2)"
   ]
  },
  {
   "cell_type": "code",
   "execution_count": 30,
   "metadata": {
    "collapsed": false
   },
   "outputs": [
    {
     "data": {
      "text/plain": [
       "[(0.062955060069654678, 'What do you have'),\n",
       " (0.046869745883043379, 'What do you think'),\n",
       " (0.04005599855683073, 'What do you really'),\n",
       " (0.035279480308652467, 'What do you know'),\n",
       " (0.034403582593434123, 'What do you want'),\n",
       " (0.033588090571583962, 'What do you see'),\n",
       " (0.026183887447594145, 'What do you can'),\n",
       " (0.010686122208101445, 'What do i think'),\n",
       " (0.0095483829820464106, 'What do i really'),\n",
       " (0.0079956908612359157, 'What do they really')]"
      ]
     },
     "execution_count": 30,
     "metadata": {},
     "output_type": "execute_result"
    }
   ],
   "source": [
    "get_next_words('What do', 2)"
   ]
  },
  {
   "cell_type": "code",
   "execution_count": null,
   "metadata": {
    "collapsed": true
   },
   "outputs": [],
   "source": []
  }
 ],
 "metadata": {
  "kernelspec": {
   "display_name": "Python 3",
   "language": "python",
   "name": "python3"
  },
  "language_info": {
   "codemirror_mode": {
    "name": "ipython",
    "version": 3
   },
   "file_extension": ".py",
   "mimetype": "text/x-python",
   "name": "python",
   "nbconvert_exporter": "python",
   "pygments_lexer": "ipython3",
   "version": "3.5.2"
  }
 },
 "nbformat": 4,
 "nbformat_minor": 1
}
