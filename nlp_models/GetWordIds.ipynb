{
 "cells": [
  {
   "cell_type": "code",
   "execution_count": 75,
   "metadata": {
    "collapsed": true
   },
   "outputs": [],
   "source": [
    "import nltk\n",
    "import gensim\n",
    "import numpy as np\n",
    "import os\n",
    "import json\n",
    "\n",
    "%matplotlib inline\n",
    "import matplotlib.pyplot as plt\n",
    "import seaborn"
   ]
  },
  {
   "cell_type": "markdown",
   "metadata": {},
   "source": [
    "### Helper function to convert raw text to word ids representation"
   ]
  },
  {
   "cell_type": "code",
   "execution_count": 76,
   "metadata": {
    "collapsed": true
   },
   "outputs": [],
   "source": [
    "def convert_text_to_word_ids(raw_text):\n",
    "    d = gensim.corpora.Dictionary()\n",
    "    \n",
    "    if os.path.exists('./data/corpora.txt'):\n",
    "        d.load_from_text('./data/corpora.txt')\n",
    "    \n",
    "    sents = nltk.tokenize.sent_tokenize(raw_text)\n",
    "    \n",
    "    res = list()\n",
    "    \n",
    "    for s in sents:\n",
    "        words = nltk.tokenize.wordpunct_tokenize(s)\n",
    "        tmp = d.doc2bow(words, allow_update=True)\n",
    "        tmp.append( (-1, 1) ) # -1 here is end of sequence meta id\n",
    "        ids = [t[0] for t in tmp]\n",
    "        res.append(ids)\n",
    "\n",
    "    d.save_as_text('./data/corpora.txt')\n",
    "    \n",
    "    return res"
   ]
  },
  {
   "cell_type": "code",
   "execution_count": 82,
   "metadata": {
    "collapsed": false
   },
   "outputs": [],
   "source": [
    "def get_sentence_lengths(ids_text):\n",
    "    l = []    \n",
    "    for s in ids_text:\n",
    "        l.append(len(s)-1)\n",
    "    return np.array(l)"
   ]
  },
  {
   "cell_type": "markdown",
   "metadata": {},
   "source": [
    "### For each file in raw_texts folder get a word ids representation and build a carpora"
   ]
  },
  {
   "cell_type": "code",
   "execution_count": 15,
   "metadata": {
    "collapsed": false
   },
   "outputs": [],
   "source": [
    "files = os.listdir('./raw_texts/')"
   ]
  },
  {
   "cell_type": "code",
   "execution_count": 88,
   "metadata": {
    "collapsed": false
   },
   "outputs": [
    {
     "name": "stdout",
     "output_type": "stream",
     "text": [
      "Processing: wonderland.txt\n",
      "Sentencies: 977\n",
      "Mean: 27.8\n",
      "Deviation: 19.2\n"
     ]
    },
    {
     "data": {
      "image/png": "[encoded data removed]",
      "text/plain": [
       "<matplotlib.figure.Figure at 0x7f87aebb4908>"
      ]
     },
     "metadata": {},
     "output_type": "display_data"
    },
    {
     "name": "stdout",
     "output_type": "stream",
     "text": [
      "Processing: nietzsche.txt\n",
      "Sentencies: 3163\n",
      "Mean: 28.7\n",
      "Deviation: 22.9\n"
     ]
    },
    {
     "data": {
      "image/png": "[encoded data removed]",
      "text/plain": [
       "<matplotlib.figure.Figure at 0x7f87ad1b0cc0>"
      ]
     },
     "metadata": {},
     "output_type": "display_data"
    }
   ],
   "source": [
    "for f in files:\n",
    "    print('Processing: ' + f)\n",
    "    raw_text = open('./raw_texts/' + f).read()\n",
    "    r = convert_text_to_word_ids(raw_text)\n",
    "    d = get_sentence_lengths(r)\n",
    "    print('Sentencies: {}'.format(len(r)))\n",
    "    print('Mean: %.1f'%(np.mean(d)))\n",
    "    print('Deviation: %.1f'%(np.std(d)))\n",
    "    json_file = open('./data/' + f + '.json', 'w')\n",
    "    json.dump(r, json_file)\n",
    "    seaborn.distplot(d, kde=False)\n",
    "    plt.show()"
   ]
  },
  {
   "cell_type": "markdown",
   "metadata": {},
   "source": [
    "### Corpora info"
   ]
  },
  {
   "cell_type": "code",
   "execution_count": 91,
   "metadata": {
    "collapsed": false
   },
   "outputs": [],
   "source": [
    "d = gensim.corpora.Dictionary().load_from_text('./data/corpora.txt')"
   ]
  },
  {
   "cell_type": "code",
   "execution_count": 97,
   "metadata": {
    "collapsed": false
   },
   "outputs": [
    {
     "name": "stdout",
     "output_type": "stream",
     "text": [
      "Number of words in corpora: 11661\n"
     ]
    }
   ],
   "source": [
    "print('Number of words in corpora: %d'%(len(d)))"
   ]
  },
  {
   "cell_type": "code",
   "execution_count": null,
   "metadata": {
    "collapsed": true
   },
   "outputs": [],
   "source": []
  }
 ],
 "metadata": {
  "kernelspec": {
   "display_name": "Python 3",
   "language": "python",
   "name": "python3"
  },
  "language_info": {
   "codemirror_mode": {
    "name": "ipython",
    "version": 3
   },
   "file_extension": ".py",
   "mimetype": "text/x-python",
   "name": "python",
   "nbconvert_exporter": "python",
   "pygments_lexer": "ipython3",
   "version": "3.5.2"
  }
 },
 "nbformat": 4,
 "nbformat_minor": 1
}
