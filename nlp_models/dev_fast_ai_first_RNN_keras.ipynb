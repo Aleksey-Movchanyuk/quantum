{
 "cells": [
  {
   "cell_type": "code",
   "execution_count": 77,
   "metadata": {
    "collapsed": false
   },
   "outputs": [],
   "source": [
    "import numpy as np\n",
    "import gensim\n",
    "from keras.models import Sequential, Model\n",
    "from keras.layers import Dense, LSTM, Input, Embedding, Flatten, merge, SimpleRNN\n",
    "from keras.optimizers import Adam\n",
    "from keras.utils import np_utils\n",
    "from IPython.display import SVG\n",
    "from keras.utils.visualize_util import plot\n",
    "from keras.utils.visualize_util import model_to_dot\n",
    "from keras.preprocessing.sequence import pad_sequences\n",
    "from keras.callbacks import ModelCheckpoint\n",
    "import pickle"
   ]
  },
  {
   "cell_type": "code",
   "execution_count": 78,
   "metadata": {
    "collapsed": false
   },
   "outputs": [
    {
     "name": "stdout",
     "output_type": "stream",
     "text": [
      "Number of words in corpora: 26\n"
     ]
    }
   ],
   "source": [
    "corpora = gensim.corpora.Dictionary.load('./data/corpora.dat')\n",
    "vocab_size = len(corpora)\n",
    "print('Number of words in corpora: %d'%(vocab_size))"
   ]
  },
  {
   "cell_type": "code",
   "execution_count": 79,
   "metadata": {
    "collapsed": true
   },
   "outputs": [],
   "source": [
    "tmp = list(corpora.items())"
   ]
  },
  {
   "cell_type": "code",
   "execution_count": 80,
   "metadata": {
    "collapsed": true
   },
   "outputs": [],
   "source": [
    "#the_filename = './data/wonderland.txt.dat'\n",
    "the_filename = './data/test.txt.dat'\n",
    "with open(the_filename, 'rb') as f:\n",
    "    text = pickle.load(f)"
   ]
  },
  {
   "cell_type": "markdown",
   "metadata": {},
   "source": [
    "### Generate words patterns - 2 words model"
   ]
  },
  {
   "cell_type": "code",
   "execution_count": 81,
   "metadata": {
    "collapsed": true
   },
   "outputs": [],
   "source": [
    "cs = 2"
   ]
  },
  {
   "cell_type": "code",
   "execution_count": 82,
   "metadata": {
    "collapsed": true
   },
   "outputs": [],
   "source": [
    "c_in_dat = [[text[i+n] for i in range(0, len(text)-cs, cs)]\n",
    "            for n in range(cs)]"
   ]
  },
  {
   "cell_type": "code",
   "execution_count": 83,
   "metadata": {
    "collapsed": true
   },
   "outputs": [],
   "source": [
    "c_out_dat = [text[i+cs] for i in range(0, len(text)-cs, cs)]"
   ]
  },
  {
   "cell_type": "code",
   "execution_count": 84,
   "metadata": {
    "collapsed": true
   },
   "outputs": [],
   "source": [
    "xs = [np.stack(c[:-2]) for c in c_in_dat]"
   ]
  },
  {
   "cell_type": "code",
   "execution_count": 85,
   "metadata": {
    "collapsed": false
   },
   "outputs": [
    {
     "data": {
      "text/plain": [
       "(2, (12,))"
      ]
     },
     "execution_count": 85,
     "metadata": {},
     "output_type": "execute_result"
    }
   ],
   "source": [
    "len(xs), xs[0].shape"
   ]
  },
  {
   "cell_type": "code",
   "execution_count": 86,
   "metadata": {
    "collapsed": true
   },
   "outputs": [],
   "source": [
    "y = np.stack(c_out_dat[:-2])"
   ]
  },
  {
   "cell_type": "code",
   "execution_count": 87,
   "metadata": {
    "collapsed": false
   },
   "outputs": [
    {
     "data": {
      "text/plain": [
       "[array([2, 4]), array([0, 8])]"
      ]
     },
     "execution_count": 87,
     "metadata": {},
     "output_type": "execute_result"
    }
   ],
   "source": [
    "[xs[n][:cs] for n in range(cs)]"
   ]
  },
  {
   "cell_type": "code",
   "execution_count": 88,
   "metadata": {
    "collapsed": false
   },
   "outputs": [
    {
     "data": {
      "text/plain": [
       "array([4, 3])"
      ]
     },
     "execution_count": 88,
     "metadata": {},
     "output_type": "execute_result"
    }
   ],
   "source": [
    "y[:cs]"
   ]
  },
  {
   "cell_type": "code",
   "execution_count": 89,
   "metadata": {
    "collapsed": true
   },
   "outputs": [],
   "source": [
    "n_hidden=256\n",
    "n_fac=4"
   ]
  },
  {
   "cell_type": "code",
   "execution_count": 90,
   "metadata": {
    "collapsed": false
   },
   "outputs": [],
   "source": [
    "model=Sequential([\n",
    "        Embedding(vocab_size, n_fac, input_length=cs),\n",
    "        SimpleRNN(n_hidden, activation='relu', inner_init='identity'),\n",
    "        Dense(vocab_size, activation='softmax')\n",
    "    ])"
   ]
  },
  {
   "cell_type": "code",
   "execution_count": 91,
   "metadata": {
    "collapsed": true
   },
   "outputs": [],
   "source": [
    "model.compile(loss='sparse_categorical_crossentropy', optimizer=Adam())"
   ]
  },
  {
   "cell_type": "code",
   "execution_count": 92,
   "metadata": {
    "collapsed": false
   },
   "outputs": [
    {
     "name": "stdout",
     "output_type": "stream",
     "text": [
      "____________________________________________________________________________________________________\n",
      "Layer (type)                     Output Shape          Param #     Connected to                     \n",
      "====================================================================================================\n",
      "embedding_6 (Embedding)          (None, 2, 4)          104         embedding_input_5[0][0]          \n",
      "____________________________________________________________________________________________________\n",
      "simplernn_5 (SimpleRNN)          (None, 256)           66816       embedding_6[0][0]                \n",
      "____________________________________________________________________________________________________\n",
      "dense_5 (Dense)                  (None, 26)            6682        simplernn_5[0][0]                \n",
      "====================================================================================================\n",
      "Total params: 73602\n",
      "____________________________________________________________________________________________________\n"
     ]
    }
   ],
   "source": [
    "model.summary()"
   ]
  },
  {
   "cell_type": "code",
   "execution_count": 93,
   "metadata": {
    "collapsed": false
   },
   "outputs": [
    {
     "data": {
      "image/svg+xml": [
       "<svg height=\"264pt\" viewBox=\"0.00 0.00 206.00 264.00\" width=\"206pt\" xmlns=\"http://www.w3.org/2000/svg\" xmlns:xlink=\"http://www.w3.org/1999/xlink\">\n",
       "<g class=\"graph\" id=\"graph0\" transform=\"scale(1 1) rotate(0) translate(4 260)\">\n",
       "<title>G</title>\n",
       "<polygon fill=\"white\" points=\"-4,4 -4,-260 202,-260 202,4 -4,4\" stroke=\"none\"/>\n",
       "<!-- 140615520386800 -->\n",
       "<g class=\"node\" id=\"node1\"><title>140615520386800</title>\n",
       "<polygon fill=\"none\" points=\"0,-219.5 0,-255.5 198,-255.5 198,-219.5 0,-219.5\" stroke=\"black\"/>\n",
       "<text font-family=\"Times,serif\" font-size=\"14.00\" text-anchor=\"middle\" x=\"99\" y=\"-233.8\">embedding_input_5 (InputLayer)</text>\n",
       "</g>\n",
       "<!-- 140615520386632 -->\n",
       "<g class=\"node\" id=\"node2\"><title>140615520386632</title>\n",
       "<polygon fill=\"none\" points=\"15.5,-146.5 15.5,-182.5 182.5,-182.5 182.5,-146.5 15.5,-146.5\" stroke=\"black\"/>\n",
       "<text font-family=\"Times,serif\" font-size=\"14.00\" text-anchor=\"middle\" x=\"99\" y=\"-160.8\">embedding_6 (Embedding)</text>\n",
       "</g>\n",
       "<!-- 140615520386800&#45;&gt;140615520386632 -->\n",
       "<g class=\"edge\" id=\"edge1\"><title>140615520386800-&gt;140615520386632</title>\n",
       "<path d=\"M99,-219.313C99,-211.289 99,-201.547 99,-192.569\" fill=\"none\" stroke=\"black\"/>\n",
       "<polygon fill=\"black\" points=\"102.5,-192.529 99,-182.529 95.5001,-192.529 102.5,-192.529\" stroke=\"black\"/>\n",
       "</g>\n",
       "<!-- 140615520385736 -->\n",
       "<g class=\"node\" id=\"node3\"><title>140615520385736</title>\n",
       "<polygon fill=\"none\" points=\"16.5,-73.5 16.5,-109.5 181.5,-109.5 181.5,-73.5 16.5,-73.5\" stroke=\"black\"/>\n",
       "<text font-family=\"Times,serif\" font-size=\"14.00\" text-anchor=\"middle\" x=\"99\" y=\"-87.8\">simplernn_5 (SimpleRNN)</text>\n",
       "</g>\n",
       "<!-- 140615520386632&#45;&gt;140615520385736 -->\n",
       "<g class=\"edge\" id=\"edge2\"><title>140615520386632-&gt;140615520385736</title>\n",
       "<path d=\"M99,-146.313C99,-138.289 99,-128.547 99,-119.569\" fill=\"none\" stroke=\"black\"/>\n",
       "<polygon fill=\"black\" points=\"102.5,-119.529 99,-109.529 95.5001,-119.529 102.5,-119.529\" stroke=\"black\"/>\n",
       "</g>\n",
       "<!-- 140615520383440 -->\n",
       "<g class=\"node\" id=\"node4\"><title>140615520383440</title>\n",
       "<polygon fill=\"none\" points=\"45.5,-0.5 45.5,-36.5 152.5,-36.5 152.5,-0.5 45.5,-0.5\" stroke=\"black\"/>\n",
       "<text font-family=\"Times,serif\" font-size=\"14.00\" text-anchor=\"middle\" x=\"99\" y=\"-14.8\">dense_5 (Dense)</text>\n",
       "</g>\n",
       "<!-- 140615520385736&#45;&gt;140615520383440 -->\n",
       "<g class=\"edge\" id=\"edge3\"><title>140615520385736-&gt;140615520383440</title>\n",
       "<path d=\"M99,-73.3129C99,-65.2895 99,-55.5475 99,-46.5691\" fill=\"none\" stroke=\"black\"/>\n",
       "<polygon fill=\"black\" points=\"102.5,-46.5288 99,-36.5288 95.5001,-46.5289 102.5,-46.5288\" stroke=\"black\"/>\n",
       "</g>\n",
       "</g>\n",
       "</svg>"
      ],
      "text/plain": [
       "<IPython.core.display.SVG object>"
      ]
     },
     "execution_count": 93,
     "metadata": {},
     "output_type": "execute_result"
    }
   ],
   "source": [
    "SVG(model_to_dot(model).create(prog='dot', format='svg'))"
   ]
  },
  {
   "cell_type": "code",
   "execution_count": 94,
   "metadata": {
    "collapsed": false
   },
   "outputs": [
    {
     "name": "stdout",
     "output_type": "stream",
     "text": [
      "Epoch 1/100\n",
      "12/12 [==============================] - 0s - loss: 3.2593     \n",
      "Epoch 2/100\n",
      "12/12 [==============================] - 0s - loss: 3.2069     \n",
      "Epoch 3/100\n",
      "12/12 [==============================] - 0s - loss: 3.1392     \n",
      "Epoch 4/100\n",
      "12/12 [==============================] - 0s - loss: 2.9994     \n",
      "Epoch 5/100\n",
      "12/12 [==============================] - 0s - loss: 2.7832     \n",
      "Epoch 6/100\n",
      "12/12 [==============================] - 0s - loss: 2.5002     \n",
      "Epoch 7/100\n",
      "12/12 [==============================] - 0s - loss: 2.3413     \n",
      "Epoch 8/100\n",
      "12/12 [==============================] - 0s - loss: 2.2143     \n",
      "Epoch 9/100\n",
      "12/12 [==============================] - 0s - loss: 2.0971     \n",
      "Epoch 10/100\n",
      "12/12 [==============================] - 0s - loss: 1.9562     \n",
      "Epoch 11/100\n",
      "12/12 [==============================] - 0s - loss: 1.7968     \n",
      "Epoch 12/100\n",
      "12/12 [==============================] - 0s - loss: 1.6804     \n",
      "Epoch 13/100\n",
      "12/12 [==============================] - 0s - loss: 1.4642     \n",
      "Epoch 14/100\n",
      "12/12 [==============================] - 0s - loss: 1.2829     \n",
      "Epoch 15/100\n",
      "12/12 [==============================] - 0s - loss: 1.1118     \n",
      "Epoch 16/100\n",
      "12/12 [==============================] - 0s - loss: 0.9547     \n",
      "Epoch 17/100\n",
      "12/12 [==============================] - 0s - loss: 0.8126     \n",
      "Epoch 18/100\n",
      "12/12 [==============================] - 0s - loss: 0.6508     \n",
      "Epoch 19/100\n",
      "12/12 [==============================] - 0s - loss: 0.5255     \n",
      "Epoch 20/100\n",
      "12/12 [==============================] - 0s - loss: 0.4258     \n",
      "Epoch 21/100\n",
      "12/12 [==============================] - 0s - loss: 0.3555     \n",
      "Epoch 22/100\n",
      "12/12 [==============================] - 0s - loss: 0.2825     \n",
      "Epoch 23/100\n",
      "12/12 [==============================] - 0s - loss: 0.2417     \n",
      "Epoch 24/100\n",
      "12/12 [==============================] - 0s - loss: 0.2018     \n",
      "Epoch 25/100\n",
      "12/12 [==============================] - 0s - loss: 0.1606     \n",
      "Epoch 26/100\n",
      "12/12 [==============================] - 0s - loss: 0.1413     \n",
      "Epoch 27/100\n",
      "12/12 [==============================] - 0s - loss: 0.1256     \n",
      "Epoch 28/100\n",
      "12/12 [==============================] - 0s - loss: 0.1041     \n",
      "Epoch 29/100\n",
      "12/12 [==============================] - 0s - loss: 0.0957     \n",
      "Epoch 30/100\n",
      "12/12 [==============================] - 0s - loss: 0.0823     \n",
      "Epoch 31/100\n",
      "12/12 [==============================] - 0s - loss: 0.0735     \n",
      "Epoch 32/100\n",
      "12/12 [==============================] - 0s - loss: 0.0694     \n",
      "Epoch 33/100\n",
      "12/12 [==============================] - 0s - loss: 0.0562     \n",
      "Epoch 34/100\n",
      "12/12 [==============================] - 0s - loss: 0.0547     \n",
      "Epoch 35/100\n",
      "12/12 [==============================] - 0s - loss: 0.0505     \n",
      "Epoch 36/100\n",
      "12/12 [==============================] - 0s - loss: 0.0429     \n",
      "Epoch 37/100\n",
      "12/12 [==============================] - 0s - loss: 0.0389     \n",
      "Epoch 38/100\n",
      "12/12 [==============================] - 0s - loss: 0.0368     \n",
      "Epoch 39/100\n",
      "12/12 [==============================] - 0s - loss: 0.0328     \n",
      "Epoch 40/100\n",
      "12/12 [==============================] - 0s - loss: 0.0307     \n",
      "Epoch 41/100\n",
      "12/12 [==============================] - 0s - loss: 0.0289     \n",
      "Epoch 42/100\n",
      "12/12 [==============================] - 0s - loss: 0.0268     \n",
      "Epoch 43/100\n",
      "12/12 [==============================] - 0s - loss: 0.0250     \n",
      "Epoch 44/100\n",
      "12/12 [==============================] - 0s - loss: 0.0245     \n",
      "Epoch 45/100\n",
      "12/12 [==============================] - 0s - loss: 0.0218     \n",
      "Epoch 46/100\n",
      "12/12 [==============================] - 0s - loss: 0.0195     \n",
      "Epoch 47/100\n",
      "12/12 [==============================] - 0s - loss: 0.0186     \n",
      "Epoch 48/100\n",
      "12/12 [==============================] - 0s - loss: 0.0174     \n",
      "Epoch 49/100\n",
      "12/12 [==============================] - 0s - loss: 0.0165     \n",
      "Epoch 50/100\n",
      "12/12 [==============================] - 0s - loss: 0.0155     \n",
      "Epoch 51/100\n",
      "12/12 [==============================] - 0s - loss: 0.0144     \n",
      "Epoch 52/100\n",
      "12/12 [==============================] - 0s - loss: 0.0136     \n",
      "Epoch 53/100\n",
      "12/12 [==============================] - 0s - loss: 0.0130     \n",
      "Epoch 54/100\n",
      "12/12 [==============================] - 0s - loss: 0.0122     \n",
      "Epoch 55/100\n",
      "12/12 [==============================] - 0s - loss: 0.0117     \n",
      "Epoch 56/100\n",
      "12/12 [==============================] - 0s - loss: 0.0112     \n",
      "Epoch 57/100\n",
      "12/12 [==============================] - 0s - loss: 0.0109     \n",
      "Epoch 58/100\n",
      "12/12 [==============================] - 0s - loss: 0.0098     \n",
      "Epoch 59/100\n",
      "12/12 [==============================] - 0s - loss: 0.0099     \n",
      "Epoch 60/100\n",
      "12/12 [==============================] - 0s - loss: 0.0094     \n",
      "Epoch 61/100\n",
      "12/12 [==============================] - 0s - loss: 0.0085     \n",
      "Epoch 62/100\n",
      "12/12 [==============================] - 0s - loss: 0.0082     \n",
      "Epoch 63/100\n",
      "12/12 [==============================] - 0s - loss: 0.0078     \n",
      "Epoch 64/100\n",
      "12/12 [==============================] - 0s - loss: 0.0075     \n",
      "Epoch 65/100\n",
      "12/12 [==============================] - 0s - loss: 0.0070     \n",
      "Epoch 66/100\n",
      "12/12 [==============================] - 0s - loss: 0.0068     \n",
      "Epoch 67/100\n",
      "12/12 [==============================] - 0s - loss: 0.0066     \n",
      "Epoch 68/100\n",
      "12/12 [==============================] - 0s - loss: 0.0062     \n",
      "Epoch 69/100\n",
      "12/12 [==============================] - 0s - loss: 0.0060     \n",
      "Epoch 70/100\n",
      "12/12 [==============================] - 0s - loss: 0.0057     \n",
      "Epoch 71/100\n",
      "12/12 [==============================] - 0s - loss: 0.0055     \n",
      "Epoch 72/100\n",
      "12/12 [==============================] - 0s - loss: 0.0055     \n",
      "Epoch 73/100\n",
      "12/12 [==============================] - 0s - loss: 0.0053     \n",
      "Epoch 74/100\n",
      "12/12 [==============================] - 0s - loss: 0.0050     \n",
      "Epoch 75/100\n",
      "12/12 [==============================] - 0s - loss: 0.0049     \n",
      "Epoch 76/100\n",
      "12/12 [==============================] - 0s - loss: 0.0045     \n",
      "Epoch 77/100\n",
      "12/12 [==============================] - 0s - loss: 0.0044     \n",
      "Epoch 78/100\n",
      "12/12 [==============================] - 0s - loss: 0.0042     \n",
      "Epoch 79/100\n",
      "12/12 [==============================] - 0s - loss: 0.0042     \n",
      "Epoch 80/100\n",
      "12/12 [==============================] - 0s - loss: 0.0040     \n",
      "Epoch 81/100\n",
      "12/12 [==============================] - 0s - loss: 0.0038     \n",
      "Epoch 82/100\n",
      "12/12 [==============================] - 0s - loss: 0.0038     \n",
      "Epoch 83/100\n",
      "12/12 [==============================] - 0s - loss: 0.0036     \n",
      "Epoch 84/100\n",
      "12/12 [==============================] - 0s - loss: 0.0035     \n",
      "Epoch 85/100\n",
      "12/12 [==============================] - 0s - loss: 0.0034     \n",
      "Epoch 86/100\n",
      "12/12 [==============================] - 0s - loss: 0.0033     \n",
      "Epoch 87/100\n",
      "12/12 [==============================] - 0s - loss: 0.0032     \n",
      "Epoch 88/100\n",
      "12/12 [==============================] - 0s - loss: 0.0031     \n",
      "Epoch 89/100\n",
      "12/12 [==============================] - 0s - loss: 0.0030     \n",
      "Epoch 90/100\n",
      "12/12 [==============================] - 0s - loss: 0.0029     \n",
      "Epoch 91/100\n",
      "12/12 [==============================] - 0s - loss: 0.0029     \n",
      "Epoch 92/100\n",
      "12/12 [==============================] - 0s - loss: 0.0027     \n",
      "Epoch 93/100\n",
      "12/12 [==============================] - 0s - loss: 0.0026     \n",
      "Epoch 94/100\n",
      "12/12 [==============================] - 0s - loss: 0.0026     \n",
      "Epoch 95/100\n",
      "12/12 [==============================] - 0s - loss: 0.0025     \n",
      "Epoch 96/100\n",
      "12/12 [==============================] - 0s - loss: 0.0024     \n",
      "Epoch 97/100\n",
      "12/12 [==============================] - 0s - loss: 0.0024     \n",
      "Epoch 98/100\n",
      "12/12 [==============================] - 0s - loss: 0.0023     \n",
      "Epoch 99/100\n",
      "12/12 [==============================] - 0s - loss: 0.0022     \n",
      "Epoch 100/100\n",
      "12/12 [==============================] - 0s - loss: 0.0022     \n"
     ]
    },
    {
     "data": {
      "text/plain": [
       "<keras.callbacks.History at 0x7fe398c7d390>"
      ]
     },
     "execution_count": 94,
     "metadata": {},
     "output_type": "execute_result"
    }
   ],
   "source": [
    "model.fit(np.stack(xs,1), y, batch_size=1, nb_epoch=100)"
   ]
  },
  {
   "cell_type": "code",
   "execution_count": 95,
   "metadata": {
    "collapsed": true
   },
   "outputs": [],
   "source": [
    "model.save('./models/dev_fast_ai_first_RNN_keras.h5')"
   ]
  },
  {
   "cell_type": "markdown",
   "metadata": {},
   "source": [
    "### Test model"
   ]
  },
  {
   "cell_type": "code",
   "execution_count": 96,
   "metadata": {
    "collapsed": true
   },
   "outputs": [],
   "source": [
    "def get_next_keras(inp):\n",
    "    idxs = [corpora.token2id[c] for c in inp]\n",
    "    arrs = np.array(idxs)[np.newaxis,:]\n",
    "    p = model.predict(arrs)[0]\n",
    "    return corpora.id2token[np.argmax(p)]"
   ]
  },
  {
   "cell_type": "code",
   "execution_count": 97,
   "metadata": {
    "collapsed": false
   },
   "outputs": [
    {
     "data": {
      "text/plain": [
       "'three'"
      ]
     },
     "execution_count": 97,
     "metadata": {},
     "output_type": "execute_result"
    }
   ],
   "source": [
    "get_next_keras(['One', 'two'])"
   ]
  }
 ],
 "metadata": {
  "kernelspec": {
   "display_name": "Python 3",
   "language": "python",
   "name": "python3"
  },
  "language_info": {
   "codemirror_mode": {
    "name": "ipython",
    "version": 3
   },
   "file_extension": ".py",
   "mimetype": "text/x-python",
   "name": "python",
   "nbconvert_exporter": "python",
   "pygments_lexer": "ipython3",
   "version": "3.5.2"
  }
 },
 "nbformat": 4,
 "nbformat_minor": 1
}
